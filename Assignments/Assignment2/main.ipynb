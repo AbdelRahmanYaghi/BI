{
 "cells": [
  {
   "cell_type": "markdown",
   "metadata": {},
   "source": [
    "CHeck \"LaRosa Machine Shop\" problem, location-like problem.\n",
    "\n",
    "Minimize sqrt((x-1)^2 + (y-2)^2) + sqrt((x-n)^2 + (y-4)^2) + ... \n",
    "\n",
    "Optimal answer = (2.230, 3.349)\n",
    "\n",
    "Part A: Solve LaRosa with derivation. (answer should be (2.230, 3.349))\n",
    "\n",
    "Part B: Solve LaRosa as binary Linear Problem: Do it by splitting the 6x6 into 36 grids, and calculating the distances for each one of the points prior to giving it to the model.\n",
    "      \n",
    "for example, (0.5, 0.5) = 12, (1.5, 0.5) = 10, (2.5, 0.5) = 7, etc.. , and then its a binary problem.  "
   ]
  },
  {
   "cell_type": "markdown",
   "metadata": {},
   "source": [
    "Let us consider the case of LaRosa Machine Shop (LMS). LMS is studying where to locate\n",
    "its tool bin facility on the shop floor. The locations of the five production stations appear in\n",
    "Figure 14.9. In an attempt to be fair to the workers in each of the production stations, man-\n",
    "agement has decided to try to find the position of the tool bin that would minimize the sum\n",
    "of the distances from the tool bin to the five production stations. We define the following\n",
    "decision variables:\n",
    "\n",
    "X = horizontal location of the tool bin\n",
    "\n",
    "Y = vertical location of the tool bin"
   ]
  },
  {
   "cell_type": "markdown",
   "metadata": {},
   "source": [
    "<h4>Important Note</h4>\n",
    "<p>The fast and optimzied solution I showed you is in the last cells. It was in Numpy but I changed it based on your request to DoCplex. Its still fast and accurate</p>"
   ]
  },
  {
   "cell_type": "markdown",
   "metadata": {},
   "source": [
    "### Solve with derivation"
   ]
  },
  {
   "cell_type": "code",
   "execution_count": 7,
   "metadata": {},
   "outputs": [
    {
     "name": "stdout",
     "output_type": "stream",
     "text": [
      "2.3\n",
      "3.4\n"
     ]
    }
   ],
   "source": [
    "from sympy import Symbol\n",
    "from sympy.solvers import solve\n",
    "import numpy as np\n",
    "\n",
    "Stations = [\"Fabrication\",\"Paint\",\"Subassembly 1\",\"Subassembly 2\",\"Assembly\"]\n",
    "x_coords = [1,1,2.5,3,4]\n",
    "y_coords = [4,2,2  ,5,4]\n",
    "\n",
    "# Solve => Minimize the sum of distances\n",
    "# Euclidian Distance = sqrt(a^2-b^2)\n",
    "# TRIED USING EUCLIDIAN DISTANCE, BUT THE DERIVATES BECOMES TOO COMPLEX TO SOLVE.\n",
    "# HENCE, I SWITCHED TO MANHATTEN DISTANCE. \n",
    "# Manhatten Distance = |a-b|\n",
    "# BUT EVEN THIS DIDN'T WORK BECAUSE SYMPY DOESN'T KNOW HOW TO DERIVE abs\n",
    "# HENCE, I FINALLY CREATED MY NEW VERY OWN EQUATION CALLED:\n",
    "# Clidian distance = a^2-b^2\n",
    "# WHICH IS JUST EUCLIDIAN DISTANCE BUT WITHOUT THE SQRT.\n",
    "\n",
    "distance = lambda x, y: ((x[0] - y[0])**2 + (x[1] - y[1])**2)\n",
    "\n",
    "X = Symbol('X')\n",
    "Y = Symbol('Y')\n",
    "\n",
    "value = 0\n",
    "for x_coord, y_coord in zip(x_coords, y_coords):\n",
    "    value += distance((X, Y), (x_coord, y_coord))\n",
    "\n",
    "\n",
    "diffed_X = value.diff(X)\n",
    "diffed_Y = value.diff(Y)\n",
    "\n",
    "print(float(solve(diffed_X, X)[0]))\n",
    "print(float(solve(diffed_Y, Y)[0]))"
   ]
  },
  {
   "cell_type": "code",
   "execution_count": 8,
   "metadata": {},
   "outputs": [
    {
     "data": {
      "text/plain": [
       "<matplotlib.collections.PathCollection at 0x71e3d4e15840>"
      ]
     },
     "execution_count": 8,
     "metadata": {},
     "output_type": "execute_result"
    },
    {
     "data": {
      "image/png": "[encoded data removed]",
      "text/plain": [
       "<Figure size 640x480 with 1 Axes>"
      ]
     },
     "metadata": {},
     "output_type": "display_data"
    }
   ],
   "source": [
    "import matplotlib.pyplot as plt\n",
    "\n",
    "plt.scatter(x_coords, y_coords)\n",
    "plt.scatter(float(solve(diffed_X, X)[0]), float(solve(diffed_Y, Y)[0]))"
   ]
  },
  {
   "cell_type": "markdown",
   "metadata": {},
   "source": [
    "### Solve as Integer Optimization "
   ]
  },
  {
   "cell_type": "code",
   "execution_count": 9,
   "metadata": {},
   "outputs": [
    {
     "name": "stderr",
     "output_type": "stream",
     "text": [
      "100%|██████████| 30/30 [00:00<00:00, 30124.28it/s]\n"
     ]
    },
    {
     "data": {
      "text/plain": [
       "<matplotlib.collections.PathCollection at 0x71e3d61a2200>"
      ]
     },
     "execution_count": 9,
     "metadata": {},
     "output_type": "execute_result"
    },
    {
     "data": {
      "image/png": "[encoded data removed]",
      "text/plain": [
       "<Figure size 640x480 with 1 Axes>"
      ]
     },
     "metadata": {},
     "output_type": "display_data"
    }
   ],
   "source": [
    "import numpy as np\n",
    "from tqdm import tqdm \n",
    "\n",
    "Stations = [\"Fabrication\",\"Paint\",\"Subassembly 1\",\"Subassembly 2\",\"Assembly\"]\n",
    "x_coords = [1,1,2.5,3,4]\n",
    "y_coords = [4,2,2  ,5,4]\n",
    "\n",
    "# WHATEVER YOU DO, DO NOT MAKE THIS LARGER THAN 1000. IT BROKE MY PC. PLEASE DONT\n",
    "# ALSO, IF VALUE IS LARGER THAN 200. COMMENT THE LAST LINE IN THIS CELL.\n",
    "# ALSO ALSO, IF THE VALUE IS LARGER THAN 5O. DO NOT SOLVE IT USING DOCPLEX.\n",
    "expansion = 10 # Higher values mean more accurate output, but more computationally expensive\n",
    "# TRIED RASING THE EXPANSION TO 500, AND GOT THE MOST CORRECT ANSWER WHICH IS:\n",
    "# (2.229, 3.349) with a distance of 8.3006 units\n",
    "\n",
    "count_x_possible = int(max(x_coords)) - int(min(x_coords))\n",
    "count_y_possible = int(max(y_coords)) - int(min(y_coords))\n",
    "\n",
    "plt.scatter(x_coords, y_coords)\n",
    "\n",
    "possibles_places_X= []\n",
    "possibles_places_Y= []\n",
    "possibles_places = []\n",
    "\n",
    "for x_indx in tqdm(range(int(count_x_possible*expansion))):\n",
    "    for y_indx in range(int(count_y_possible*expansion)):\n",
    "\n",
    "        x_possible_coord = min(x_coords) + (x_indx +  0.5) / expansion\n",
    "        y_possible_coord = min(y_coords) + (y_indx +  0.5) / expansion\n",
    "\n",
    "        possibles_places_X.append(x_possible_coord)\n",
    "        possibles_places_Y.append(y_possible_coord)\n",
    "        possibles_places.append((x_possible_coord, y_possible_coord))\n",
    "\n",
    "plt.scatter(possibles_places_X, possibles_places_Y, alpha=0.4)"
   ]
  },
  {
   "cell_type": "code",
   "execution_count": 10,
   "metadata": {},
   "outputs": [
    {
     "name": "stderr",
     "output_type": "stream",
     "text": [
      "100%|██████████| 900/900 [00:00<00:00, 122073.33it/s]"
     ]
    },
    {
     "name": "stdout",
     "output_type": "stream",
     "text": [
      "900\n"
     ]
    },
    {
     "name": "stderr",
     "output_type": "stream",
     "text": [
      "\n"
     ]
    }
   ],
   "source": [
    "euclidian_distance = lambda x, y: ((x[0] - y[0])**2 + (x[1] - y[1])**2)**0.5\n",
    "distances = []\n",
    "\n",
    "for x_possible_coord, y_possible_coord in tqdm(possibles_places):\n",
    "    point_distance = []\n",
    "    for x_coord, y_coord in zip(x_coords, y_coords):\n",
    "        point_distance.append(euclidian_distance((x_possible_coord, y_possible_coord),\n",
    "                                                    (x_coord, y_coord)))\n",
    "\n",
    "    distances.append(point_distance)\n",
    "\n",
    "distances = np.array(distances)\n",
    "print(len(possibles_places))"
   ]
  },
  {
   "cell_type": "markdown",
   "metadata": {},
   "source": [
    "#### Solve with NumPy (Ignore)"
   ]
  },
  {
   "cell_type": "code",
   "execution_count": 11,
   "metadata": {},
   "outputs": [
    {
     "name": "stdout",
     "output_type": "stream",
     "text": [
      "Distance: 8.300962617731178\n",
      "Coords:\t (2.25, 3.35)\n"
     ]
    },
    {
     "data": {
      "text/plain": [
       "<matplotlib.collections.PathCollection at 0x71e3d4e52560>"
      ]
     },
     "execution_count": 11,
     "metadata": {},
     "output_type": "execute_result"
    },
    {
     "data": {
      "image/png": "[encoded data removed]",
      "text/plain": [
       "<Figure size 640x480 with 1 Axes>"
      ]
     },
     "metadata": {},
     "output_type": "display_data"
    }
   ],
   "source": [
    "print('Distance:', distances[distances.sum(1).argmin()].sum())\n",
    "print('Coords:\\t', possibles_places[distances.sum(1).argmin()])\n",
    "\n",
    "plt.scatter(x_coords, y_coords)\n",
    "x_temp_solution, y_temp_solution = possibles_places[distances.sum(1).argmin()]\n",
    "plt.scatter(x_temp_solution, y_temp_solution)"
   ]
  },
  {
   "cell_type": "markdown",
   "metadata": {},
   "source": [
    "#### Solve with DoCplex"
   ]
  },
  {
   "cell_type": "code",
   "execution_count": 12,
   "metadata": {},
   "outputs": [],
   "source": [
    "from docplex.mp.model import Model\n",
    "from tqdm import tqdm\n",
    "\n",
    "m = Model()\n",
    "\n",
    "X_stations = m.binary_var_list(possibles_places)\n",
    "\n",
    "m.add_constraint(sum(X_stations)  >= 1)\n",
    "\n",
    "m.minimize(sum([X_stations[i]*sum(distances[i]) for i in range(len(X_stations))]))"
   ]
  },
  {
   "cell_type": "code",
   "execution_count": 13,
   "metadata": {},
   "outputs": [
    {
     "name": "stdout",
     "output_type": "stream",
     "text": [
      "Version identifier: 22.1.1.0 | 2023-02-11 | 22d6266e5\n",
      "CPXPARAM_Read_DataCheck                          1\n",
      "Found incumbent of value 8633.214624 after 0.00 sec. (0.04 ticks)\n",
      "Tried aggregator 1 time.\n",
      "MIP Presolve eliminated 1 rows and 900 columns.\n",
      "All rows and columns eliminated.\n",
      "Presolve time = 0.01 sec. (0.34 ticks)\n",
      "\n",
      "Root node processing (before b&c):\n",
      "  Real time             =    0.02 sec. (0.41 ticks)\n",
      "Parallel b&c, 4 threads:\n",
      "  Real time             =    0.00 sec. (0.00 ticks)\n",
      "  Sync time (average)   =    0.00 sec.\n",
      "  Wait time (average)   =    0.00 sec.\n",
      "                          ------------\n",
      "Total (root+branch&cut) =    0.02 sec. (0.41 ticks)\n"
     ]
    }
   ],
   "source": [
    "solution = m.solve(log_output = True)"
   ]
  },
  {
   "cell_type": "code",
   "execution_count": 14,
   "metadata": {},
   "outputs": [
    {
     "name": "stdout",
     "output_type": "stream",
     "text": [
      "solution for: docplex_model1\n",
      "objective: 8.30096\n",
      "status: OPTIMAL_SOLUTION(2)\n",
      "(2.25, 3.35)=1\n",
      "\n"
     ]
    },
    {
     "data": {
      "text/plain": [
       "<matplotlib.collections.PathCollection at 0x71e3d401b970>"
      ]
     },
     "execution_count": 14,
     "metadata": {},
     "output_type": "execute_result"
    },
    {
     "data": {
      "image/png": "[encoded data removed]",
      "text/plain": [
       "<Figure size 640x480 with 1 Axes>"
      ]
     },
     "metadata": {},
     "output_type": "display_data"
    }
   ],
   "source": [
    "print(solution)\n",
    "plt.scatter(x_coords, y_coords)\n",
    "plt.scatter(2.25, 3.35)"
   ]
  },
  {
   "cell_type": "markdown",
   "metadata": {},
   "source": [
    "### Most accurate and Fastest solution (Personal)"
   ]
  },
  {
   "cell_type": "code",
   "execution_count": 31,
   "metadata": {},
   "outputs": [
    {
     "name": "stderr",
     "output_type": "stream",
     "text": [
      "100%|██████████| 1000/1000 [00:19<00:00, 52.42it/s]\n"
     ]
    },
    {
     "data": {
      "image/png": "[encoded data removed]",
      "text/plain": [
       "<Figure size 640x480 with 1 Axes>"
      ]
     },
     "metadata": {},
     "output_type": "display_data"
    }
   ],
   "source": [
    "import numpy as np\n",
    "from tqdm import tqdm \n",
    "import matplotlib.pyplot as plt\n",
    "import json\n",
    "\n",
    "def solve_accurate(x_coords, y_coords, expansion, epochs, draw_plot =False, alpha = 0.2):\n",
    "\n",
    "    min_pos_x, max_pos_x = min(x_coords), max(x_coords)\n",
    "    min_pos_y, max_pos_y = min(y_coords), max(y_coords)\n",
    "\n",
    "    if draw_plot:\n",
    "        plt.scatter(x_coords, y_coords)\n",
    "\n",
    "    distances_loss = []\n",
    "\n",
    "    for epoch_num in tqdm(range(epochs)):\n",
    "\n",
    "        possibles_places_X= []\n",
    "        possibles_places_Y= []\n",
    "        possibles_places = []\n",
    "\n",
    "        for x_indx in np.arange(min_pos_x, max_pos_x, 1/(expansion*(epoch_num+1))):\n",
    "            for y_indx in np.arange(min_pos_y, max_pos_y, 1/(expansion*(epoch_num+1))):\n",
    "\n",
    "                x_possible_coord = (x_indx)\n",
    "                y_possible_coord = (y_indx)\n",
    "\n",
    "                possibles_places_X.append(x_possible_coord)\n",
    "                possibles_places_Y.append(y_possible_coord)\n",
    "                possibles_places.append((x_possible_coord, y_possible_coord))\n",
    "\n",
    "        if draw_plot:\n",
    "            plt.scatter(possibles_places_X, possibles_places_Y, alpha = alpha)\n",
    "\n",
    "        euclidian_distance = lambda x, y: ((x[0] - y[0])**2 + (x[1] - y[1])**2)**0.5\n",
    "        distances = []\n",
    "\n",
    "        for x_possible_coord, y_possible_coord in possibles_places:\n",
    "            point_distance = []\n",
    "            for x_coord, y_coord in zip(x_coords, y_coords):\n",
    "                point_distance.append(euclidian_distance((x_possible_coord, y_possible_coord),\n",
    "                                                            (x_coord, y_coord)))\n",
    "\n",
    "            distances.append(point_distance)\n",
    "\n",
    "        distances = np.array(distances)\n",
    "\n",
    "        m = Model()\n",
    "\n",
    "        X_stations = m.binary_var_list(possibles_places)\n",
    "\n",
    "        m.add_constraint(sum(X_stations)  >= 1)\n",
    "\n",
    "        m.minimize(sum([X_stations[i]*sum(distances[i]) for i in range(len(X_stations))]))\n",
    "        \n",
    "        solution = m.solve(log_output = False)\n",
    "\n",
    "        best_index = (json.loads(solution.export_as_json_string())['CPLEXSolution']['variables'][0][\"index\"])\n",
    "\n",
    "        x_temp_solution, y_temp_solution = possibles_places[int(best_index)]\n",
    "\n",
    "        min_pos_x = x_temp_solution-(1/(epoch_num+1))\n",
    "        min_pos_y = y_temp_solution-(1/(epoch_num+1))\n",
    "\n",
    "        max_pos_x = x_temp_solution+(1/(epoch_num+1))\n",
    "        max_pos_y = y_temp_solution+(1/(epoch_num+1))\n",
    "\n",
    "    return possibles_places[distances.sum(1).argmin()], distances_loss, 1/(expansion*(epoch_num+1))\n",
    "\n",
    "\n",
    "Stations = [\"Fabrication\",\"Paint\",\"Subassembly 1\",\"Subassembly 2\",\"Assembly\"]\n",
    "x_coords = [1,1,2.5,3,4]\n",
    "y_coords = [4,2,2  ,5,4]\n",
    "\n",
    "expansion = 12\n",
    "\n",
    "solution_coords, loss, last_step_size = solve_accurate(x_coords, y_coords, 1.5, 1000, True, 0.2)"
   ]
  },
  {
   "cell_type": "code",
   "execution_count": 33,
   "metadata": {},
   "outputs": [
    {
     "data": {
      "text/plain": [
       "(2.229650636905417, 3.348835650450712)"
      ]
     },
     "execution_count": 33,
     "metadata": {},
     "output_type": "execute_result"
    }
   ],
   "source": [
    "solution_coords"
   ]
  }
 ],
 "metadata": {
  "kernelspec": {
   "display_name": "venv",
   "language": "python",
   "name": "python3"
  },
  "language_info": {
   "codemirror_mode": {
    "name": "ipython",
    "version": 3
   },
   "file_extension": ".py",
   "mimetype": "text/x-python",
   "name": "python",
   "nbconvert_exporter": "python",
   "pygments_lexer": "ipython3",
   "version": "3.10.12"
  }
 },
 "nbformat": 4,
 "nbformat_minor": 2
}
