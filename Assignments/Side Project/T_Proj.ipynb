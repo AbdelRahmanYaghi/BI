{
 "cells": [
  {
   "cell_type": "markdown",
   "metadata": {},
   "source": [
    "write the cplex code for this,\n",
    "\n",
    "fill an n x n matrix W with random numbers,\n",
    "\n",
    "define two variable matrices, A and B, with one being n x r • r x n,\n",
    "\n",
    "optimize for the best r and entries in A and B such that their product contains an approximation of W using some arbitrary loss"
   ]
  },
  {
   "cell_type": "code",
   "execution_count": 1,
   "metadata": {},
   "outputs": [],
   "source": [
    "import numpy as np\n",
    "from docplex.cp.model import CpoModel as Model\n",
    "from docplex.cp.parameters import CpoParameters\n",
    "\n",
    "n = 32\n",
    "r = 8\n"
   ]
  },
  {
   "cell_type": "code",
   "execution_count": 2,
   "metadata": {},
   "outputs": [
    {
     "data": {
      "text/plain": [
       "<docplex.cp.expression.CpoFunctionCall at 0x7c6ebcb8da00>"
      ]
     },
     "execution_count": 2,
     "metadata": {},
     "output_type": "execute_result"
    }
   ],
   "source": [
    "np.random.seed(0)\n",
    "\n",
    "# myparams = CpoParameters()\n",
    "m = Model()\n",
    "\n",
    "W = np.random.rand(n, n).round(6)\n",
    "\n",
    "A = np.array(m.integer_var_list(r*n, 0, 1000))\n",
    "B = np.array(m.integer_var_list(n*r, 0, 1000))\n",
    "\n",
    "for i in range(n*r):\n",
    "    m.add_constraint(A[i] * B[i] <= 1_000_000)\n",
    "    m.add_constraint(A[i] * B[i] >= 0)\n",
    "\n",
    "\n",
    "A_float = np.array([a/1000 for a in A]).reshape(n, r)\n",
    "B_float = np.array([b/1000 for b in B]).reshape(r, n)\n",
    "\n",
    "distance = (( (A_float @ B_float) - (W) )**2).sum()\n",
    "\n",
    "m.minimize(distance)"
   ]
  },
  {
   "cell_type": "code",
   "execution_count": 3,
   "metadata": {},
   "outputs": [
    {
     "ename": "CpoSolverException",
     "evalue": "Solver error: Problem size limit exceeded.\nCP Optimizer Community Edition solves problems with search spaces up to 2^1000.\nUnrestricted version options (including academia) at https://ibm.co/2s0wqSa\n",
     "output_type": "error",
     "traceback": [
      "\u001b[0;31m---------------------------------------------------------------------------\u001b[0m",
      "\u001b[0;31mCpoSolverException\u001b[0m                        Traceback (most recent call last)",
      "Cell \u001b[0;32mIn[3], line 1\u001b[0m\n\u001b[0;32m----> 1\u001b[0m solution \u001b[38;5;241m=\u001b[39m \u001b[43mm\u001b[49m\u001b[38;5;241;43m.\u001b[39;49m\u001b[43msolve\u001b[49m\u001b[43m(\u001b[49m\u001b[43mlog_output\u001b[49m\u001b[38;5;241;43m=\u001b[39;49m\u001b[38;5;28;43;01mTrue\u001b[39;49;00m\u001b[43m,\u001b[49m\u001b[43m \u001b[49m\u001b[43mTimeLimit\u001b[49m\u001b[38;5;241;43m=\u001b[39;49m\u001b[38;5;241;43m1200\u001b[39;49m\u001b[43m)\u001b[49m \n\u001b[1;32m      2\u001b[0m \u001b[38;5;66;03m# 0.3136016\u001b[39;00m\n",
      "File \u001b[0;32m~/GithubRepos/BI/venv/lib/python3.10/site-packages/docplex/cp/model.py:1289\u001b[0m, in \u001b[0;36mCpoModel.solve\u001b[0;34m(self, **kwargs)\u001b[0m\n\u001b[1;32m   1246\u001b[0m \u001b[38;5;250m\u001b[39m\u001b[38;5;124;03m\"\"\" Solves the model.\u001b[39;00m\n\u001b[1;32m   1247\u001b[0m \n\u001b[1;32m   1248\u001b[0m \u001b[38;5;124;03mThis method solves the model using the appropriate :class:`~docplex.cp.solver.solver.CpoSolver`\u001b[39;00m\n\u001b[0;32m   (...)\u001b[0m\n\u001b[1;32m   1286\u001b[0m \u001b[38;5;124;03m    :class:`~docplex.cp.utils.CpoException`: (or derived) if error.\u001b[39;00m\n\u001b[1;32m   1287\u001b[0m \u001b[38;5;124;03m\"\"\"\u001b[39;00m\n\u001b[1;32m   1288\u001b[0m solver \u001b[38;5;241m=\u001b[39m \u001b[38;5;28mself\u001b[39m\u001b[38;5;241m.\u001b[39mcreate_solver(\u001b[38;5;241m*\u001b[39m\u001b[38;5;241m*\u001b[39mkwargs)\n\u001b[0;32m-> 1289\u001b[0m msol \u001b[38;5;241m=\u001b[39m \u001b[43msolver\u001b[49m\u001b[38;5;241;43m.\u001b[39;49m\u001b[43msolve\u001b[49m\u001b[43m(\u001b[49m\u001b[43m)\u001b[49m\n\u001b[1;32m   1290\u001b[0m solver\u001b[38;5;241m.\u001b[39mend()\n\u001b[1;32m   1291\u001b[0m \u001b[38;5;28;01mreturn\u001b[39;00m msol\n",
      "File \u001b[0;32m~/GithubRepos/BI/venv/lib/python3.10/site-packages/docplex/cp/solver/solver.py:708\u001b[0m, in \u001b[0;36mCpoSolver.solve\u001b[0;34m(self)\u001b[0m\n\u001b[1;32m    706\u001b[0m     \u001b[38;5;28;01mif\u001b[39;00m \u001b[38;5;28mself\u001b[39m\u001b[38;5;241m.\u001b[39mcontext\u001b[38;5;241m.\u001b[39mlog_exceptions:\n\u001b[1;32m    707\u001b[0m         traceback\u001b[38;5;241m.\u001b[39mprint_exc()\n\u001b[0;32m--> 708\u001b[0m     \u001b[38;5;28;01mraise\u001b[39;00m e\n\u001b[1;32m    709\u001b[0m \u001b[38;5;28mself\u001b[39m\u001b[38;5;241m.\u001b[39m_set_status(STATUS_IDLE)\n\u001b[1;32m    710\u001b[0m stime \u001b[38;5;241m=\u001b[39m time\u001b[38;5;241m.\u001b[39mtime() \u001b[38;5;241m-\u001b[39m stime\n",
      "File \u001b[0;32m~/GithubRepos/BI/venv/lib/python3.10/site-packages/docplex/cp/solver/solver.py:701\u001b[0m, in \u001b[0;36mCpoSolver.solve\u001b[0;34m(self)\u001b[0m\n\u001b[1;32m    699\u001b[0m stime \u001b[38;5;241m=\u001b[39m time\u001b[38;5;241m.\u001b[39mtime()\n\u001b[1;32m    700\u001b[0m \u001b[38;5;28;01mtry\u001b[39;00m:\n\u001b[0;32m--> 701\u001b[0m     msol \u001b[38;5;241m=\u001b[39m \u001b[38;5;28;43mself\u001b[39;49m\u001b[38;5;241;43m.\u001b[39;49m\u001b[43magent\u001b[49m\u001b[38;5;241;43m.\u001b[39;49m\u001b[43msolve\u001b[49m\u001b[43m(\u001b[49m\u001b[43m)\u001b[49m\n\u001b[1;32m    702\u001b[0m \u001b[38;5;28;01mexcept\u001b[39;00m \u001b[38;5;167;01mException\u001b[39;00m \u001b[38;5;28;01mas\u001b[39;00m e:\n\u001b[1;32m    703\u001b[0m     \u001b[38;5;66;03m# Check if aborted in the mean time\u001b[39;00m\n\u001b[1;32m    704\u001b[0m     \u001b[38;5;28;01mif\u001b[39;00m \u001b[38;5;28mself\u001b[39m\u001b[38;5;241m.\u001b[39m_check_status_aborted():\n",
      "File \u001b[0;32m~/GithubRepos/BI/venv/lib/python3.10/site-packages/docplex/cp/solver/solver_local.py:213\u001b[0m, in \u001b[0;36mCpoSolverLocal.solve\u001b[0;34m(self)\u001b[0m\n\u001b[1;32m    210\u001b[0m \u001b[38;5;28mself\u001b[39m\u001b[38;5;241m.\u001b[39m_write_message(CMD_SOLVE_MODEL)\n\u001b[1;32m    212\u001b[0m \u001b[38;5;66;03m# Wait JSON result\u001b[39;00m\n\u001b[0;32m--> 213\u001b[0m jsol \u001b[38;5;241m=\u001b[39m \u001b[38;5;28;43mself\u001b[39;49m\u001b[38;5;241;43m.\u001b[39;49m\u001b[43m_wait_json_result\u001b[49m\u001b[43m(\u001b[49m\u001b[43mEVT_SOLVE_RESULT\u001b[49m\u001b[43m)\u001b[49m\n\u001b[1;32m    215\u001b[0m \u001b[38;5;66;03m# Build result object\u001b[39;00m\n\u001b[1;32m    216\u001b[0m \u001b[38;5;28;01mreturn\u001b[39;00m \u001b[38;5;28mself\u001b[39m\u001b[38;5;241m.\u001b[39m_create_result_object(CpoSolveResult, jsol)\n",
      "File \u001b[0;32m~/GithubRepos/BI/venv/lib/python3.10/site-packages/docplex/cp/solver/solver_local.py:572\u001b[0m, in \u001b[0;36mCpoSolverLocal._wait_json_result\u001b[0;34m(self, evt)\u001b[0m\n\u001b[1;32m    564\u001b[0m \u001b[38;5;250m\u001b[39m\u001b[38;5;124;03m\"\"\" Wait for a JSON result while forwarding logs if any.\u001b[39;00m\n\u001b[1;32m    565\u001b[0m \u001b[38;5;124;03mArgs:\u001b[39;00m\n\u001b[1;32m    566\u001b[0m \u001b[38;5;124;03m    evt: Event to wait for\u001b[39;00m\n\u001b[1;32m    567\u001b[0m \u001b[38;5;124;03mReturns:\u001b[39;00m\n\u001b[1;32m    568\u001b[0m \u001b[38;5;124;03m    JSON solution string, decoded from UTF8\u001b[39;00m\n\u001b[1;32m    569\u001b[0m \u001b[38;5;124;03m\"\"\"\u001b[39;00m\n\u001b[1;32m    571\u001b[0m \u001b[38;5;66;03m# Wait JSON result\u001b[39;00m\n\u001b[0;32m--> 572\u001b[0m data \u001b[38;5;241m=\u001b[39m \u001b[38;5;28;43mself\u001b[39;49m\u001b[38;5;241;43m.\u001b[39;49m\u001b[43m_wait_event\u001b[49m\u001b[43m(\u001b[49m\u001b[43mevt\u001b[49m\u001b[43m)\u001b[49m\n\u001b[1;32m    574\u001b[0m \u001b[38;5;66;03m# Store last json result\u001b[39;00m\n\u001b[1;32m    575\u001b[0m \u001b[38;5;28mself\u001b[39m\u001b[38;5;241m.\u001b[39m_set_last_json_result_string(data)\n",
      "File \u001b[0;32m~/GithubRepos/BI/venv/lib/python3.10/site-packages/docplex/cp/solver/solver_local.py:529\u001b[0m, in \u001b[0;36mCpoSolverLocal._wait_event\u001b[0;34m(self, xevt)\u001b[0m\n\u001b[1;32m    527\u001b[0m         data \u001b[38;5;241m+\u001b[39m\u001b[38;5;241m=\u001b[39m \u001b[38;5;124m\"\u001b[39m\u001b[38;5;124m (\u001b[39m\u001b[38;5;124m\"\u001b[39m \u001b[38;5;241m+\u001b[39m firsterror \u001b[38;5;241m+\u001b[39m \u001b[38;5;124m\"\u001b[39m\u001b[38;5;124m)\u001b[39m\u001b[38;5;124m\"\u001b[39m\n\u001b[1;32m    528\u001b[0m     \u001b[38;5;28mself\u001b[39m\u001b[38;5;241m.\u001b[39mend()\n\u001b[0;32m--> 529\u001b[0m     \u001b[38;5;28;01mraise\u001b[39;00m CpoSolverException(\u001b[38;5;124m\"\u001b[39m\u001b[38;5;124mSolver error: \u001b[39m\u001b[38;5;124m\"\u001b[39m \u001b[38;5;241m+\u001b[39m data)\n\u001b[1;32m    531\u001b[0m \u001b[38;5;28;01melse\u001b[39;00m:\n\u001b[1;32m    532\u001b[0m     \u001b[38;5;28mself\u001b[39m\u001b[38;5;241m.\u001b[39mend()\n",
      "\u001b[0;31mCpoSolverException\u001b[0m: Solver error: Problem size limit exceeded.\nCP Optimizer Community Edition solves problems with search spaces up to 2^1000.\nUnrestricted version options (including academia) at https://ibm.co/2s0wqSa\n"
     ]
    }
   ],
   "source": [
    "solution = m.solve(log_output=True, TimeLimit=1200) \n",
    "# 0.3136016"
   ]
  },
  {
   "cell_type": "code",
   "execution_count": null,
   "metadata": {},
   "outputs": [],
   "source": [
    "A_solution = []\n",
    "B_solution = []\n",
    "\n",
    "for i in range(n*r):\n",
    "    A_solution.append(solution[A.tolist()[i]] / 1000)\n",
    "    B_solution.append(solution[B.tolist()[i]] / 1000)"
   ]
  },
  {
   "cell_type": "code",
   "execution_count": null,
   "metadata": {},
   "outputs": [],
   "source": [
    "W_hat = np.array(A_solution).reshape(n, r) @ np.array(B_solution).reshape(r, n)"
   ]
  },
  {
   "cell_type": "code",
   "execution_count": 4,
   "metadata": {},
   "outputs": [
    {
     "ename": "NameError",
     "evalue": "name 'W_hat' is not defined",
     "output_type": "error",
     "traceback": [
      "\u001b[0;31m---------------------------------------------------------------------------\u001b[0m",
      "\u001b[0;31mNameError\u001b[0m                                 Traceback (most recent call last)",
      "Cell \u001b[0;32mIn[4], line 1\u001b[0m\n\u001b[0;32m----> 1\u001b[0m ((\u001b[43mW_hat\u001b[49m \u001b[38;5;241m-\u001b[39m W)\u001b[38;5;241m*\u001b[39m\u001b[38;5;241m*\u001b[39m\u001b[38;5;241m2\u001b[39m)\u001b[38;5;241m.\u001b[39msum()\n",
      "\u001b[0;31mNameError\u001b[0m: name 'W_hat' is not defined"
     ]
    }
   ],
   "source": [
    "\n",
    "((W_hat - W)**2).sum()\n"
   ]
  },
  {
   "cell_type": "code",
   "execution_count": 5,
   "metadata": {},
   "outputs": [
    {
     "ename": "NameError",
     "evalue": "name 'W_hat' is not defined",
     "output_type": "error",
     "traceback": [
      "\u001b[0;31m---------------------------------------------------------------------------\u001b[0m",
      "\u001b[0;31mNameError\u001b[0m                                 Traceback (most recent call last)",
      "Cell \u001b[0;32mIn[5], line 1\u001b[0m\n\u001b[0;32m----> 1\u001b[0m \u001b[43mW_hat\u001b[49m\n",
      "\u001b[0;31mNameError\u001b[0m: name 'W_hat' is not defined"
     ]
    }
   ],
   "source": [
    "W_hat"
   ]
  },
  {
   "cell_type": "code",
   "execution_count": 6,
   "metadata": {},
   "outputs": [
    {
     "data": {
      "text/plain": [
       "array([[0.548814, 0.715189, 0.602763, ..., 0.414662, 0.264556, 0.774234],\n",
       "       [0.45615 , 0.568434, 0.01879 , ..., 0.110375, 0.65633 , 0.138183],\n",
       "       [0.196582, 0.368725, 0.820993, ..., 0.716327, 0.289406, 0.183191],\n",
       "       ...,\n",
       "       [0.77311 , 0.21687 , 0.90315 , ..., 0.522176, 0.853606, 0.889448],\n",
       "       [0.220104, 0.622894, 0.111496, ..., 0.771225, 0.012171, 0.32283 ],\n",
       "       [0.229567, 0.506863, 0.736853, ..., 0.6205  , 0.639622, 0.94854 ]])"
      ]
     },
     "execution_count": 6,
     "metadata": {},
     "output_type": "execute_result"
    }
   ],
   "source": [
    "W"
   ]
  },
  {
   "attachments": {},
   "cell_type": "markdown",
   "metadata": {},
   "source": [
    "#### Alternate Solution"
   ]
  },
  {
   "cell_type": "code",
   "execution_count": 7,
   "metadata": {},
   "outputs": [
    {
     "name": "stderr",
     "output_type": "stream",
     "text": [
      "  0%|          | 0/100000 [00:00<?, ?it/s]"
     ]
    },
    {
     "name": "stderr",
     "output_type": "stream",
     "text": [
      "  0%|          | 10/100000 [00:00<17:26, 95.52it/s]"
     ]
    },
    {
     "name": "stdout",
     "output_type": "stream",
     "text": [
      "Reached Epoch 0 with distance 219436.14687874622\n"
     ]
    },
    {
     "name": "stderr",
     "output_type": "stream",
     "text": [
      "  1%|          | 1065/100000 [00:05<05:52, 280.53it/s]"
     ]
    },
    {
     "name": "stdout",
     "output_type": "stream",
     "text": [
      "Reached Epoch 1000 with distance 202300.94270223484\n"
     ]
    },
    {
     "name": "stderr",
     "output_type": "stream",
     "text": [
      "  2%|▏         | 2049/100000 [00:08<04:57, 329.72it/s]"
     ]
    },
    {
     "name": "stdout",
     "output_type": "stream",
     "text": [
      "Reached Epoch 2000 with distance 186640.92969938318\n"
     ]
    },
    {
     "name": "stderr",
     "output_type": "stream",
     "text": [
      "  3%|▎         | 3052/100000 [00:12<05:39, 285.73it/s]"
     ]
    },
    {
     "name": "stdout",
     "output_type": "stream",
     "text": [
      "Reached Epoch 3000 with distance 171953.7845573629\n"
     ]
    },
    {
     "name": "stderr",
     "output_type": "stream",
     "text": [
      "  4%|▍         | 4054/100000 [00:15<04:56, 323.29it/s]"
     ]
    },
    {
     "name": "stdout",
     "output_type": "stream",
     "text": [
      "Reached Epoch 4000 with distance 158211.3762179222\n"
     ]
    },
    {
     "name": "stderr",
     "output_type": "stream",
     "text": [
      "  5%|▌         | 5045/100000 [00:18<04:51, 325.73it/s]"
     ]
    },
    {
     "name": "stdout",
     "output_type": "stream",
     "text": [
      "Reached Epoch 5000 with distance 145437.00283739477\n"
     ]
    },
    {
     "name": "stderr",
     "output_type": "stream",
     "text": [
      "  6%|▌         | 6034/100000 [00:21<04:53, 319.89it/s]"
     ]
    },
    {
     "name": "stdout",
     "output_type": "stream",
     "text": [
      "Reached Epoch 6000 with distance 133476.97662031496\n"
     ]
    },
    {
     "name": "stderr",
     "output_type": "stream",
     "text": [
      "  7%|▋         | 7023/100000 [00:25<07:13, 214.46it/s]"
     ]
    },
    {
     "name": "stdout",
     "output_type": "stream",
     "text": [
      "Reached Epoch 7000 with distance 122325.74518069463\n"
     ]
    },
    {
     "name": "stderr",
     "output_type": "stream",
     "text": [
      "  8%|▊         | 7959/100000 [00:29<05:38, 271.85it/s]\n"
     ]
    },
    {
     "ename": "KeyboardInterrupt",
     "evalue": "",
     "output_type": "error",
     "traceback": [
      "\u001b[0;31m---------------------------------------------------------------------------\u001b[0m",
      "\u001b[0;31mKeyboardInterrupt\u001b[0m                         Traceback (most recent call last)",
      "Cell \u001b[0;32mIn[7], line 39\u001b[0m\n\u001b[1;32m     36\u001b[0m best_index \u001b[38;5;241m=\u001b[39m np\u001b[38;5;241m.\u001b[39margmin(distances)\n\u001b[1;32m     38\u001b[0m A_ \u001b[38;5;241m=\u001b[39m [((np\u001b[38;5;241m.\u001b[39mrandom\u001b[38;5;241m.\u001b[39mrand(n, r)\u001b[38;5;241m-\u001b[39m\u001b[38;5;241m0.5\u001b[39m) \u001b[38;5;241m*\u001b[39m learning_rate) \u001b[38;5;241m+\u001b[39m A[best_index] \u001b[38;5;28;01mfor\u001b[39;00m _ \u001b[38;5;129;01min\u001b[39;00m \u001b[38;5;28mrange\u001b[39m(Dupe_count)]\n\u001b[0;32m---> 39\u001b[0m B_ \u001b[38;5;241m=\u001b[39m [((np\u001b[38;5;241m.\u001b[39mrandom\u001b[38;5;241m.\u001b[39mrand(r, n)\u001b[38;5;241m-\u001b[39m\u001b[38;5;241m0.5\u001b[39m) \u001b[38;5;241m*\u001b[39m learning_rate) \u001b[38;5;241m+\u001b[39m B[best_index] \u001b[38;5;28;01mfor\u001b[39;00m _ \u001b[38;5;129;01min\u001b[39;00m \u001b[38;5;28mrange\u001b[39m(Dupe_count)]\n\u001b[1;32m     41\u001b[0m \u001b[38;5;66;03m# print(A_)\u001b[39;00m\n\u001b[1;32m     43\u001b[0m A \u001b[38;5;241m=\u001b[39m A_\n",
      "Cell \u001b[0;32mIn[7], line 39\u001b[0m, in \u001b[0;36m<listcomp>\u001b[0;34m(.0)\u001b[0m\n\u001b[1;32m     36\u001b[0m best_index \u001b[38;5;241m=\u001b[39m np\u001b[38;5;241m.\u001b[39margmin(distances)\n\u001b[1;32m     38\u001b[0m A_ \u001b[38;5;241m=\u001b[39m [((np\u001b[38;5;241m.\u001b[39mrandom\u001b[38;5;241m.\u001b[39mrand(n, r)\u001b[38;5;241m-\u001b[39m\u001b[38;5;241m0.5\u001b[39m) \u001b[38;5;241m*\u001b[39m learning_rate) \u001b[38;5;241m+\u001b[39m A[best_index] \u001b[38;5;28;01mfor\u001b[39;00m _ \u001b[38;5;129;01min\u001b[39;00m \u001b[38;5;28mrange\u001b[39m(Dupe_count)]\n\u001b[0;32m---> 39\u001b[0m B_ \u001b[38;5;241m=\u001b[39m [((\u001b[43mnp\u001b[49m\u001b[38;5;241;43m.\u001b[39;49m\u001b[43mrandom\u001b[49m\u001b[38;5;241;43m.\u001b[39;49m\u001b[43mrand\u001b[49m\u001b[43m(\u001b[49m\u001b[43mr\u001b[49m\u001b[43m,\u001b[49m\u001b[43m \u001b[49m\u001b[43mn\u001b[49m\u001b[43m)\u001b[49m\u001b[38;5;241m-\u001b[39m\u001b[38;5;241m0.5\u001b[39m) \u001b[38;5;241m*\u001b[39m learning_rate) \u001b[38;5;241m+\u001b[39m B[best_index] \u001b[38;5;28;01mfor\u001b[39;00m _ \u001b[38;5;129;01min\u001b[39;00m \u001b[38;5;28mrange\u001b[39m(Dupe_count)]\n\u001b[1;32m     41\u001b[0m \u001b[38;5;66;03m# print(A_)\u001b[39;00m\n\u001b[1;32m     43\u001b[0m A \u001b[38;5;241m=\u001b[39m A_\n",
      "\u001b[0;31mKeyboardInterrupt\u001b[0m: "
     ]
    }
   ],
   "source": [
    "np.random.seed(0)\n",
    "from tqdm import tqdm\n",
    "\n",
    "n = 64\n",
    "r = 32\n",
    "# myparams = CpoParameters()\n",
    "m = Model()\n",
    "\n",
    "W = np.random.rand(n, n)\n",
    "Dupe_count = 32\n",
    "learning_rate = 0.001\n",
    "EPOCHS = 100000\n",
    "\n",
    "all_best_distances = [10e8]\n",
    "\n",
    "A = [np.random.rand(n, r) for _ in range(Dupe_count)]\n",
    "B = [np.random.rand(r, n) for _ in range(Dupe_count)]\n",
    "\n",
    "for i in tqdm(range(EPOCHS)):\n",
    "\n",
    "    possibles = []\n",
    "\n",
    "    for a, b in zip(A, B):\n",
    "        possibles.append(a@b)\n",
    "\n",
    "    distances =[]\n",
    "    for idx, poss in enumerate(possibles):\n",
    "        distances.append(( ((poss) - (W) )**2).sum())\n",
    "\n",
    "\n",
    "    if np.min(distances) >= np.min(all_best_distances):\n",
    "        continue\n",
    "\n",
    "    all_best_distances.append(np.min(distances))\n",
    "\n",
    "    best_index = np.argmin(distances)\n",
    "\n",
    "    A_ = [((np.random.rand(n, r)-0.5) * learning_rate) + A[best_index] for _ in range(Dupe_count)]\n",
    "    B_ = [((np.random.rand(r, n)-0.5) * learning_rate) + B[best_index] for _ in range(Dupe_count)]\n",
    "\n",
    "    # print(A_)\n",
    "\n",
    "    A = A_\n",
    "    B = B_\n",
    "\n",
    "    lowest_distance = np.min(distances)\n",
    "\n",
    "    if i % 1000 == 0:\n",
    "        print(f'Reached Epoch {i} with distance {lowest_distance}')\n",
    "        learning_rate -= 0.00001"
   ]
  },
  {
   "cell_type": "code",
   "execution_count": 34,
   "metadata": {},
   "outputs": [
    {
     "data": {
      "text/plain": [
       "[<matplotlib.lines.Line2D at 0x7ac35f12dd50>]"
      ]
     },
     "execution_count": 34,
     "metadata": {},
     "output_type": "execute_result"
    },
    {
     "data": {
      "image/png": "[encoded data removed]",
      "text/plain": [
       "<Figure size 640x480 with 1 Axes>"
      ]
     },
     "metadata": {},
     "output_type": "display_data"
    }
   ],
   "source": [
    "import matplotlib.pyplot as plt\n",
    "plt.plot(all_best_distances[1:])"
   ]
  },
  {
   "cell_type": "code",
   "execution_count": 35,
   "metadata": {},
   "outputs": [
    {
     "data": {
      "text/plain": [
       "205.49650823550252"
      ]
     },
     "execution_count": 35,
     "metadata": {},
     "output_type": "execute_result"
    }
   ],
   "source": [
    "all_best_distances[-1]"
   ]
  },
  {
   "cell_type": "code",
   "execution_count": 36,
   "metadata": {},
   "outputs": [
    {
     "data": {
      "text/plain": [
       "array([[0.5488135 , 0.71518937, 0.60276338, 0.54488318, 0.4236548 ,\n",
       "        0.64589411, 0.43758721, 0.891773  , 0.96366276, 0.38344152,\n",
       "        0.79172504, 0.52889492, 0.56804456, 0.92559664, 0.07103606,\n",
       "        0.0871293 , 0.0202184 , 0.83261985, 0.77815675, 0.87001215,\n",
       "        0.97861834, 0.79915856, 0.46147936, 0.78052918, 0.11827443,\n",
       "        0.63992102, 0.14335329, 0.94466892, 0.52184832, 0.41466194,\n",
       "        0.26455561, 0.77423369, 0.45615033, 0.56843395, 0.0187898 ,\n",
       "        0.6176355 , 0.61209572, 0.616934  , 0.94374808, 0.6818203 ,\n",
       "        0.3595079 , 0.43703195, 0.6976312 , 0.06022547, 0.66676672,\n",
       "        0.67063787, 0.21038256, 0.1289263 , 0.31542835, 0.36371077,\n",
       "        0.57019677, 0.43860151, 0.98837384, 0.10204481, 0.20887676,\n",
       "        0.16130952, 0.65310833, 0.2532916 , 0.46631077, 0.24442559,\n",
       "        0.15896958, 0.11037514, 0.65632959, 0.13818295]])"
      ]
     },
     "execution_count": 36,
     "metadata": {},
     "output_type": "execute_result"
    }
   ],
   "source": [
    "W[:1]"
   ]
  },
  {
   "cell_type": "code",
   "execution_count": 37,
   "metadata": {},
   "outputs": [
    {
     "data": {
      "text/plain": [
       "array([[0.44256429, 0.53827876, 0.47480137, 0.61519475, 0.58260742,\n",
       "        0.56843893, 0.45556814, 0.64610971, 0.77281468, 0.39536792,\n",
       "        0.51052557, 0.41572843, 0.5553761 , 0.83698542, 0.16370298,\n",
       "        0.44696992, 0.21374778, 0.74687941, 0.34679602, 0.58910765,\n",
       "        0.56707936, 0.50925248, 0.50661505, 0.66326411, 0.05034912,\n",
       "        0.71679844, 0.41421399, 0.52798474, 0.75863155, 0.57991776,\n",
       "        0.30463705, 0.56892616, 0.44259512, 0.41057791, 0.32003543,\n",
       "        0.46886895, 0.4089395 , 0.46595273, 0.66987709, 0.53688839,\n",
       "        0.49296935, 0.64164668, 0.65569185, 0.35627781, 0.48744864,\n",
       "        0.52200075, 0.54076961, 0.18914343, 0.51702804, 0.41517277,\n",
       "        0.39479315, 0.55722324, 0.85716223, 0.18230271, 0.3141962 ,\n",
       "        0.06932318, 0.68103497, 0.41798767, 0.63270966, 0.80774156,\n",
       "        0.32853918, 0.54547272, 0.91917801, 0.37671129]])"
      ]
     },
     "execution_count": 37,
     "metadata": {},
     "output_type": "execute_result"
    }
   ],
   "source": [
    "(A[best_index] @ B[best_index])[:1]"
   ]
  },
  {
   "cell_type": "code",
   "execution_count": null,
   "metadata": {},
   "outputs": [],
   "source": [
    "np.random.seed(0)\n",
    "from tqdm import tqdm\n",
    "\n",
    "n = 64\n",
    "r = 32\n",
    "# myparams = CpoParameters()\n",
    "m = Model()\n",
    "\n",
    "W = np.random.rand(n, n)\n",
    "Dupe_count = 32\n",
    "learning_rate = 0.001\n",
    "EPOCHS = 100000\n",
    "\n",
    "all_best_distances = [10e8]\n",
    "\n",
    "A = [np.random.rand(n, r) for _ in range(Dupe_count)]\n",
    "B = [np.random.rand(r, n) for _ in range(Dupe_count)]\n",
    "\n",
    "for i in tqdm(range(EPOCHS)):\n",
    "\n",
    "    possibles = []\n",
    "\n",
    "    for a, b in zip(A, B):\n",
    "        possibles.append(a@b)\n",
    "\n",
    "    distances =[]\n",
    "    for idx, poss in enumerate(possibles):\n",
    "        distances.append(( ((poss) - (W) )**2).sum())\n",
    "\n",
    "\n",
    "    if np.min(distances) >= np.min(all_best_distances):\n",
    "        continue\n",
    "\n",
    "    all_best_distances.append(np.min(distances))\n",
    "\n",
    "    best_index = np.argmin(distances)\n",
    "\n",
    "    A_ = [((np.random.rand(n, r)-0.5) * learning_rate) + A[best_index] for _ in range(Dupe_count)]\n",
    "    B_ = [((np.random.rand(r, n)-0.5) * learning_rate) + B[best_index] for _ in range(Dupe_count)]\n",
    "\n",
    "    # print(A_)\n",
    "\n",
    "    A = A_\n",
    "    B = B_\n",
    "\n",
    "    lowest_distance = np.min(distances)\n",
    "\n",
    "    if i % 1000 == 0:\n",
    "        print(f'Reached Epoch {i} with distance {lowest_distance}')\n",
    "        learning_rate -= 0.00001"
   ]
  }
 ],
 "metadata": {
  "kernelspec": {
   "display_name": "venv",
   "language": "python",
   "name": "python3"
  },
  "language_info": {
   "codemirror_mode": {
    "name": "ipython",
    "version": 3
   },
   "file_extension": ".py",
   "mimetype": "text/x-python",
   "name": "python",
   "nbconvert_exporter": "python",
   "pygments_lexer": "ipython3",
   "version": "3.10.12"
  },
  "vscode": {
   "interpreter": {
    "hash": "9682219fa65ec76ab0a712f3cc506ba5eb9451d445ad0b772c7739d17e7a6e46"
   }
  }
 },
 "nbformat": 4,
 "nbformat_minor": 2
}
