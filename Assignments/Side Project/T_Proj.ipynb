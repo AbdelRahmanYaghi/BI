{
 "cells": [
  {
   "cell_type": "markdown",
   "metadata": {},
   "source": [
    "write the cplex code for this,\n",
    "\n",
    "fill an n x n matrix W with random numbers,\n",
    "\n",
    "define two variable matrices, A and B, with one being n x r • r x n,\n",
    "\n",
    "optimize for the best r and entries in A and B such that their product contains an approximation of W using some arbitrary loss"
   ]
  },
  {
   "cell_type": "code",
   "execution_count": 208,
   "metadata": {},
   "outputs": [],
   "source": [
    "import numpy as np\n",
    "from docplex.cp.model import CpoModel as Model\n",
    "from docplex.cp.parameters import CpoParameters\n",
    "\n",
    "n = 64\n",
    "r = 4"
   ]
  },
  {
   "cell_type": "code",
   "execution_count": 209,
   "metadata": {},
   "outputs": [
    {
     "data": {
      "text/plain": [
       "<docplex.cp.expression.CpoFunctionCall at 0x70c460fcc740>"
      ]
     },
     "execution_count": 209,
     "metadata": {},
     "output_type": "execute_result"
    }
   ],
   "source": [
    "np.random.seed(0)\n",
    "\n",
    "# myparams = CpoParameters()\n",
    "m = Model()\n",
    "\n",
    "W = np.random.rand(n, n).round(6)\n",
    "\n",
    "A = np.array(m.integer_var_list(r*n, 0, 1000))\n",
    "B = np.array(m.integer_var_list(n*r, 0, 1000))\n",
    "\n",
    "for i in range(n*r):\n",
    "    m.add_constraint(A[i] * B[i] <= 1_000_000)\n",
    "    m.add_constraint(A[i] * B[i] >= 0)\n",
    "\n",
    "\n",
    "A_float = np.array([a/1000 for a in A]).reshape(n, r)\n",
    "B_float = np.array([b/1000 for b in B]).reshape(r, n)\n",
    "\n",
    "distance = (( (A_float @ B_float) - (W) )**2).sum()\n",
    "\n",
    "m.minimize(distance)"
   ]
  },
  {
   "cell_type": "code",
   "execution_count": 210,
   "metadata": {},
   "outputs": [
    {
     "ename": "CpoSolverException",
     "evalue": "Solver error: Problem size limit exceeded.\nCP Optimizer Community Edition solves problems with search spaces up to 2^1000.\nUnrestricted version options (including academia) at https://ibm.co/2s0wqSa\n",
     "output_type": "error",
     "traceback": [
      "\u001b[0;31m---------------------------------------------------------------------------\u001b[0m",
      "\u001b[0;31mCpoSolverException\u001b[0m                        Traceback (most recent call last)",
      "Cell \u001b[0;32mIn[210], line 1\u001b[0m\n\u001b[0;32m----> 1\u001b[0m solution \u001b[38;5;241m=\u001b[39m \u001b[43mm\u001b[49m\u001b[38;5;241;43m.\u001b[39;49m\u001b[43msolve\u001b[49m\u001b[43m(\u001b[49m\u001b[43mlog_output\u001b[49m\u001b[38;5;241;43m=\u001b[39;49m\u001b[38;5;28;43;01mTrue\u001b[39;49;00m\u001b[43m,\u001b[49m\u001b[43m \u001b[49m\u001b[43mTimeLimit\u001b[49m\u001b[38;5;241;43m=\u001b[39;49m\u001b[38;5;241;43m300\u001b[39;49m\u001b[43m)\u001b[49m \n\u001b[1;32m      2\u001b[0m \u001b[38;5;66;03m# 0.3136016\u001b[39;00m\n",
      "File \u001b[0;32m~/GithubRepos/BI/venv/lib/python3.10/site-packages/docplex/cp/model.py:1289\u001b[0m, in \u001b[0;36mCpoModel.solve\u001b[0;34m(self, **kwargs)\u001b[0m\n\u001b[1;32m   1246\u001b[0m \u001b[38;5;250m\u001b[39m\u001b[38;5;124;03m\"\"\" Solves the model.\u001b[39;00m\n\u001b[1;32m   1247\u001b[0m \n\u001b[1;32m   1248\u001b[0m \u001b[38;5;124;03mThis method solves the model using the appropriate :class:`~docplex.cp.solver.solver.CpoSolver`\u001b[39;00m\n\u001b[0;32m   (...)\u001b[0m\n\u001b[1;32m   1286\u001b[0m \u001b[38;5;124;03m    :class:`~docplex.cp.utils.CpoException`: (or derived) if error.\u001b[39;00m\n\u001b[1;32m   1287\u001b[0m \u001b[38;5;124;03m\"\"\"\u001b[39;00m\n\u001b[1;32m   1288\u001b[0m solver \u001b[38;5;241m=\u001b[39m \u001b[38;5;28mself\u001b[39m\u001b[38;5;241m.\u001b[39mcreate_solver(\u001b[38;5;241m*\u001b[39m\u001b[38;5;241m*\u001b[39mkwargs)\n\u001b[0;32m-> 1289\u001b[0m msol \u001b[38;5;241m=\u001b[39m \u001b[43msolver\u001b[49m\u001b[38;5;241;43m.\u001b[39;49m\u001b[43msolve\u001b[49m\u001b[43m(\u001b[49m\u001b[43m)\u001b[49m\n\u001b[1;32m   1290\u001b[0m solver\u001b[38;5;241m.\u001b[39mend()\n\u001b[1;32m   1291\u001b[0m \u001b[38;5;28;01mreturn\u001b[39;00m msol\n",
      "File \u001b[0;32m~/GithubRepos/BI/venv/lib/python3.10/site-packages/docplex/cp/solver/solver.py:708\u001b[0m, in \u001b[0;36mCpoSolver.solve\u001b[0;34m(self)\u001b[0m\n\u001b[1;32m    706\u001b[0m     \u001b[38;5;28;01mif\u001b[39;00m \u001b[38;5;28mself\u001b[39m\u001b[38;5;241m.\u001b[39mcontext\u001b[38;5;241m.\u001b[39mlog_exceptions:\n\u001b[1;32m    707\u001b[0m         traceback\u001b[38;5;241m.\u001b[39mprint_exc()\n\u001b[0;32m--> 708\u001b[0m     \u001b[38;5;28;01mraise\u001b[39;00m e\n\u001b[1;32m    709\u001b[0m \u001b[38;5;28mself\u001b[39m\u001b[38;5;241m.\u001b[39m_set_status(STATUS_IDLE)\n\u001b[1;32m    710\u001b[0m stime \u001b[38;5;241m=\u001b[39m time\u001b[38;5;241m.\u001b[39mtime() \u001b[38;5;241m-\u001b[39m stime\n",
      "File \u001b[0;32m~/GithubRepos/BI/venv/lib/python3.10/site-packages/docplex/cp/solver/solver.py:701\u001b[0m, in \u001b[0;36mCpoSolver.solve\u001b[0;34m(self)\u001b[0m\n\u001b[1;32m    699\u001b[0m stime \u001b[38;5;241m=\u001b[39m time\u001b[38;5;241m.\u001b[39mtime()\n\u001b[1;32m    700\u001b[0m \u001b[38;5;28;01mtry\u001b[39;00m:\n\u001b[0;32m--> 701\u001b[0m     msol \u001b[38;5;241m=\u001b[39m \u001b[38;5;28;43mself\u001b[39;49m\u001b[38;5;241;43m.\u001b[39;49m\u001b[43magent\u001b[49m\u001b[38;5;241;43m.\u001b[39;49m\u001b[43msolve\u001b[49m\u001b[43m(\u001b[49m\u001b[43m)\u001b[49m\n\u001b[1;32m    702\u001b[0m \u001b[38;5;28;01mexcept\u001b[39;00m \u001b[38;5;167;01mException\u001b[39;00m \u001b[38;5;28;01mas\u001b[39;00m e:\n\u001b[1;32m    703\u001b[0m     \u001b[38;5;66;03m# Check if aborted in the mean time\u001b[39;00m\n\u001b[1;32m    704\u001b[0m     \u001b[38;5;28;01mif\u001b[39;00m \u001b[38;5;28mself\u001b[39m\u001b[38;5;241m.\u001b[39m_check_status_aborted():\n",
      "File \u001b[0;32m~/GithubRepos/BI/venv/lib/python3.10/site-packages/docplex/cp/solver/solver_local.py:213\u001b[0m, in \u001b[0;36mCpoSolverLocal.solve\u001b[0;34m(self)\u001b[0m\n\u001b[1;32m    210\u001b[0m \u001b[38;5;28mself\u001b[39m\u001b[38;5;241m.\u001b[39m_write_message(CMD_SOLVE_MODEL)\n\u001b[1;32m    212\u001b[0m \u001b[38;5;66;03m# Wait JSON result\u001b[39;00m\n\u001b[0;32m--> 213\u001b[0m jsol \u001b[38;5;241m=\u001b[39m \u001b[38;5;28;43mself\u001b[39;49m\u001b[38;5;241;43m.\u001b[39;49m\u001b[43m_wait_json_result\u001b[49m\u001b[43m(\u001b[49m\u001b[43mEVT_SOLVE_RESULT\u001b[49m\u001b[43m)\u001b[49m\n\u001b[1;32m    215\u001b[0m \u001b[38;5;66;03m# Build result object\u001b[39;00m\n\u001b[1;32m    216\u001b[0m \u001b[38;5;28;01mreturn\u001b[39;00m \u001b[38;5;28mself\u001b[39m\u001b[38;5;241m.\u001b[39m_create_result_object(CpoSolveResult, jsol)\n",
      "File \u001b[0;32m~/GithubRepos/BI/venv/lib/python3.10/site-packages/docplex/cp/solver/solver_local.py:572\u001b[0m, in \u001b[0;36mCpoSolverLocal._wait_json_result\u001b[0;34m(self, evt)\u001b[0m\n\u001b[1;32m    564\u001b[0m \u001b[38;5;250m\u001b[39m\u001b[38;5;124;03m\"\"\" Wait for a JSON result while forwarding logs if any.\u001b[39;00m\n\u001b[1;32m    565\u001b[0m \u001b[38;5;124;03mArgs:\u001b[39;00m\n\u001b[1;32m    566\u001b[0m \u001b[38;5;124;03m    evt: Event to wait for\u001b[39;00m\n\u001b[1;32m    567\u001b[0m \u001b[38;5;124;03mReturns:\u001b[39;00m\n\u001b[1;32m    568\u001b[0m \u001b[38;5;124;03m    JSON solution string, decoded from UTF8\u001b[39;00m\n\u001b[1;32m    569\u001b[0m \u001b[38;5;124;03m\"\"\"\u001b[39;00m\n\u001b[1;32m    571\u001b[0m \u001b[38;5;66;03m# Wait JSON result\u001b[39;00m\n\u001b[0;32m--> 572\u001b[0m data \u001b[38;5;241m=\u001b[39m \u001b[38;5;28;43mself\u001b[39;49m\u001b[38;5;241;43m.\u001b[39;49m\u001b[43m_wait_event\u001b[49m\u001b[43m(\u001b[49m\u001b[43mevt\u001b[49m\u001b[43m)\u001b[49m\n\u001b[1;32m    574\u001b[0m \u001b[38;5;66;03m# Store last json result\u001b[39;00m\n\u001b[1;32m    575\u001b[0m \u001b[38;5;28mself\u001b[39m\u001b[38;5;241m.\u001b[39m_set_last_json_result_string(data)\n",
      "File \u001b[0;32m~/GithubRepos/BI/venv/lib/python3.10/site-packages/docplex/cp/solver/solver_local.py:529\u001b[0m, in \u001b[0;36mCpoSolverLocal._wait_event\u001b[0;34m(self, xevt)\u001b[0m\n\u001b[1;32m    527\u001b[0m         data \u001b[38;5;241m+\u001b[39m\u001b[38;5;241m=\u001b[39m \u001b[38;5;124m\"\u001b[39m\u001b[38;5;124m (\u001b[39m\u001b[38;5;124m\"\u001b[39m \u001b[38;5;241m+\u001b[39m firsterror \u001b[38;5;241m+\u001b[39m \u001b[38;5;124m\"\u001b[39m\u001b[38;5;124m)\u001b[39m\u001b[38;5;124m\"\u001b[39m\n\u001b[1;32m    528\u001b[0m     \u001b[38;5;28mself\u001b[39m\u001b[38;5;241m.\u001b[39mend()\n\u001b[0;32m--> 529\u001b[0m     \u001b[38;5;28;01mraise\u001b[39;00m CpoSolverException(\u001b[38;5;124m\"\u001b[39m\u001b[38;5;124mSolver error: \u001b[39m\u001b[38;5;124m\"\u001b[39m \u001b[38;5;241m+\u001b[39m data)\n\u001b[1;32m    531\u001b[0m \u001b[38;5;28;01melse\u001b[39;00m:\n\u001b[1;32m    532\u001b[0m     \u001b[38;5;28mself\u001b[39m\u001b[38;5;241m.\u001b[39mend()\n",
      "\u001b[0;31mCpoSolverException\u001b[0m: Solver error: Problem size limit exceeded.\nCP Optimizer Community Edition solves problems with search spaces up to 2^1000.\nUnrestricted version options (including academia) at https://ibm.co/2s0wqSa\n"
     ]
    }
   ],
   "source": [
    "solution = m.solve(log_output=True, TimeLimit=300) \n",
    "# 0.3136016"
   ]
  },
  {
   "cell_type": "code",
   "execution_count": null,
   "metadata": {},
   "outputs": [],
   "source": [
    "A_solution = []\n",
    "B_solution = []\n",
    "\n",
    "for i in range(n*r):\n",
    "    A_solution.append(solution[A.tolist()[i]] / 100)\n",
    "    B_solution.append(solution[B.tolist()[i]] / 100)"
   ]
  },
  {
   "cell_type": "code",
   "execution_count": null,
   "metadata": {},
   "outputs": [],
   "source": [
    "W_hat = np.array(A_solution).reshape(n, r) @ np.array(B_solution).reshape(r, n)"
   ]
  },
  {
   "cell_type": "code",
   "execution_count": 199,
   "metadata": {},
   "outputs": [
    {
     "data": {
      "text/plain": [
       "0.6076362299999999"
      ]
     },
     "execution_count": 199,
     "metadata": {},
     "output_type": "execute_result"
    }
   ],
   "source": [
    "\n",
    "((W_hat - W)**2).sum()\n"
   ]
  },
  {
   "cell_type": "code",
   "execution_count": 200,
   "metadata": {},
   "outputs": [
    {
     "data": {
      "text/plain": [
       "array([[0.527 , 0.6544, 0.4704, 0.676 , 0.4647, 0.7898, 0.4788, 0.7174],\n",
       "       [0.8839, 0.4538, 0.9143, 0.3418, 0.5273, 0.9126, 0.1436, 0.1769],\n",
       "       [0.1558, 0.8351, 0.6636, 0.9116, 1.0431, 0.7317, 0.3552, 0.8078],\n",
       "       [0.    , 0.6423, 0.2063, 0.7481, 0.5312, 0.5058, 0.3758, 0.8193],\n",
       "       [0.4802, 0.6141, 0.1996, 0.678 , 0.4901, 0.4359, 0.904 , 0.7602],\n",
       "       [0.4808, 0.3643, 0.7013, 0.3063, 0.6266, 0.542 , 0.1106, 0.1183],\n",
       "       [0.2183, 0.38  , 0.616 , 0.3739, 0.9588, 0.2001, 0.2938, 0.1118],\n",
       "       [0.6714, 0.2216, 0.2961, 0.1753, 0.2896, 0.2227, 0.645 , 0.1271]])"
      ]
     },
     "execution_count": 200,
     "metadata": {},
     "output_type": "execute_result"
    }
   ],
   "source": [
    "W_hat"
   ]
  },
  {
   "cell_type": "code",
   "execution_count": 201,
   "metadata": {},
   "outputs": [
    {
     "data": {
      "text/plain": [
       "array([[0.5488, 0.7152, 0.6028, 0.5449, 0.4237, 0.6459, 0.4376, 0.8918],\n",
       "       [0.9637, 0.3834, 0.7917, 0.5289, 0.568 , 0.9256, 0.071 , 0.0871],\n",
       "       [0.0202, 0.8326, 0.7782, 0.87  , 0.9786, 0.7992, 0.4615, 0.7805],\n",
       "       [0.1183, 0.6399, 0.1434, 0.9447, 0.5218, 0.4147, 0.2646, 0.7742],\n",
       "       [0.4562, 0.5684, 0.0188, 0.6176, 0.6121, 0.6169, 0.9437, 0.6818],\n",
       "       [0.3595, 0.437 , 0.6976, 0.0602, 0.6668, 0.6706, 0.2104, 0.1289],\n",
       "       [0.3154, 0.3637, 0.5702, 0.4386, 0.9884, 0.102 , 0.2089, 0.1613],\n",
       "       [0.6531, 0.2533, 0.4663, 0.2444, 0.159 , 0.1104, 0.6563, 0.1382]])"
      ]
     },
     "execution_count": 201,
     "metadata": {},
     "output_type": "execute_result"
    }
   ],
   "source": [
    "W"
   ]
  }
 ],
 "metadata": {
  "kernelspec": {
   "display_name": "venv",
   "language": "python",
   "name": "python3"
  },
  "language_info": {
   "codemirror_mode": {
    "name": "ipython",
    "version": 3
   },
   "file_extension": ".py",
   "mimetype": "text/x-python",
   "name": "python",
   "nbconvert_exporter": "python",
   "pygments_lexer": "ipython3",
   "version": "3.10.12"
  }
 },
 "nbformat": 4,
 "nbformat_minor": 2
}
