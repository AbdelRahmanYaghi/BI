{
 "cells": [
  {
   "cell_type": "markdown",
   "metadata": {},
   "source": [
    "write the cplex code for this,\n",
    "\n",
    "fill an n x n matrix W with random numbers,\n",
    "\n",
    "define two variable matrices, A and B, with one being n x r • r x n,\n",
    "\n",
    "optimize for the best r and entries in A and B such that their product contains an approximation of W using some arbitrary loss"
   ]
  },
  {
   "cell_type": "code",
   "execution_count": 30,
   "metadata": {},
   "outputs": [],
   "source": [
    "import numpy as np\n",
    "from docplex.cp.model import CpoModel as Model\n",
    "\n",
    "n = 8\n",
    "r = 2"
   ]
  },
  {
   "cell_type": "code",
   "execution_count": 31,
   "metadata": {},
   "outputs": [
    {
     "data": {
      "text/plain": [
       "<docplex.cp.expression.CpoFunctionCall at 0x727786a53800>"
      ]
     },
     "execution_count": 31,
     "metadata": {},
     "output_type": "execute_result"
    }
   ],
   "source": [
    "np.random.seed(0)\n",
    "\n",
    "m = Model()\n",
    "\n",
    "W = np.random.randint(0, 100, (n, n))\n",
    "\n",
    "A = np.array([m.integer_var_list(r) for _ in range(n)])\n",
    "B = np.array([m.integer_var_list(n) for _ in range(r)])\n",
    "\n",
    "distance = ((np.dot(A, B) - W) ** 2).sum()\n",
    "\n",
    "m.minimize(distance)"
   ]
  },
  {
   "cell_type": "code",
   "execution_count": 32,
   "metadata": {},
   "outputs": [
    {
     "ename": "CpoSolverException",
     "evalue": "Solver error: Problem size limit exceeded.\nCP Optimizer Community Edition solves problems with search spaces up to 2^1000.\nUnrestricted version options (including academia) at https://ibm.co/2s0wqSa\n",
     "output_type": "error",
     "traceback": [
      "\u001b[0;31m---------------------------------------------------------------------------\u001b[0m",
      "\u001b[0;31mCpoSolverException\u001b[0m                        Traceback (most recent call last)",
      "Cell \u001b[0;32mIn[32], line 1\u001b[0m\n\u001b[0;32m----> 1\u001b[0m solution \u001b[38;5;241m=\u001b[39m \u001b[43mm\u001b[49m\u001b[38;5;241;43m.\u001b[39;49m\u001b[43msolve\u001b[49m\u001b[43m(\u001b[49m\u001b[43mlog_output\u001b[49m\u001b[38;5;241;43m=\u001b[39;49m\u001b[38;5;28;43;01mTrue\u001b[39;49;00m\u001b[43m)\u001b[49m \n",
      "File \u001b[0;32m~/GithubRepos/BI/venv/lib/python3.10/site-packages/docplex/cp/model.py:1289\u001b[0m, in \u001b[0;36mCpoModel.solve\u001b[0;34m(self, **kwargs)\u001b[0m\n\u001b[1;32m   1246\u001b[0m \u001b[38;5;250m\u001b[39m\u001b[38;5;124;03m\"\"\" Solves the model.\u001b[39;00m\n\u001b[1;32m   1247\u001b[0m \n\u001b[1;32m   1248\u001b[0m \u001b[38;5;124;03mThis method solves the model using the appropriate :class:`~docplex.cp.solver.solver.CpoSolver`\u001b[39;00m\n\u001b[0;32m   (...)\u001b[0m\n\u001b[1;32m   1286\u001b[0m \u001b[38;5;124;03m    :class:`~docplex.cp.utils.CpoException`: (or derived) if error.\u001b[39;00m\n\u001b[1;32m   1287\u001b[0m \u001b[38;5;124;03m\"\"\"\u001b[39;00m\n\u001b[1;32m   1288\u001b[0m solver \u001b[38;5;241m=\u001b[39m \u001b[38;5;28mself\u001b[39m\u001b[38;5;241m.\u001b[39mcreate_solver(\u001b[38;5;241m*\u001b[39m\u001b[38;5;241m*\u001b[39mkwargs)\n\u001b[0;32m-> 1289\u001b[0m msol \u001b[38;5;241m=\u001b[39m \u001b[43msolver\u001b[49m\u001b[38;5;241;43m.\u001b[39;49m\u001b[43msolve\u001b[49m\u001b[43m(\u001b[49m\u001b[43m)\u001b[49m\n\u001b[1;32m   1290\u001b[0m solver\u001b[38;5;241m.\u001b[39mend()\n\u001b[1;32m   1291\u001b[0m \u001b[38;5;28;01mreturn\u001b[39;00m msol\n",
      "File \u001b[0;32m~/GithubRepos/BI/venv/lib/python3.10/site-packages/docplex/cp/solver/solver.py:708\u001b[0m, in \u001b[0;36mCpoSolver.solve\u001b[0;34m(self)\u001b[0m\n\u001b[1;32m    706\u001b[0m     \u001b[38;5;28;01mif\u001b[39;00m \u001b[38;5;28mself\u001b[39m\u001b[38;5;241m.\u001b[39mcontext\u001b[38;5;241m.\u001b[39mlog_exceptions:\n\u001b[1;32m    707\u001b[0m         traceback\u001b[38;5;241m.\u001b[39mprint_exc()\n\u001b[0;32m--> 708\u001b[0m     \u001b[38;5;28;01mraise\u001b[39;00m e\n\u001b[1;32m    709\u001b[0m \u001b[38;5;28mself\u001b[39m\u001b[38;5;241m.\u001b[39m_set_status(STATUS_IDLE)\n\u001b[1;32m    710\u001b[0m stime \u001b[38;5;241m=\u001b[39m time\u001b[38;5;241m.\u001b[39mtime() \u001b[38;5;241m-\u001b[39m stime\n",
      "File \u001b[0;32m~/GithubRepos/BI/venv/lib/python3.10/site-packages/docplex/cp/solver/solver.py:701\u001b[0m, in \u001b[0;36mCpoSolver.solve\u001b[0;34m(self)\u001b[0m\n\u001b[1;32m    699\u001b[0m stime \u001b[38;5;241m=\u001b[39m time\u001b[38;5;241m.\u001b[39mtime()\n\u001b[1;32m    700\u001b[0m \u001b[38;5;28;01mtry\u001b[39;00m:\n\u001b[0;32m--> 701\u001b[0m     msol \u001b[38;5;241m=\u001b[39m \u001b[38;5;28;43mself\u001b[39;49m\u001b[38;5;241;43m.\u001b[39;49m\u001b[43magent\u001b[49m\u001b[38;5;241;43m.\u001b[39;49m\u001b[43msolve\u001b[49m\u001b[43m(\u001b[49m\u001b[43m)\u001b[49m\n\u001b[1;32m    702\u001b[0m \u001b[38;5;28;01mexcept\u001b[39;00m \u001b[38;5;167;01mException\u001b[39;00m \u001b[38;5;28;01mas\u001b[39;00m e:\n\u001b[1;32m    703\u001b[0m     \u001b[38;5;66;03m# Check if aborted in the mean time\u001b[39;00m\n\u001b[1;32m    704\u001b[0m     \u001b[38;5;28;01mif\u001b[39;00m \u001b[38;5;28mself\u001b[39m\u001b[38;5;241m.\u001b[39m_check_status_aborted():\n",
      "File \u001b[0;32m~/GithubRepos/BI/venv/lib/python3.10/site-packages/docplex/cp/solver/solver_local.py:213\u001b[0m, in \u001b[0;36mCpoSolverLocal.solve\u001b[0;34m(self)\u001b[0m\n\u001b[1;32m    210\u001b[0m \u001b[38;5;28mself\u001b[39m\u001b[38;5;241m.\u001b[39m_write_message(CMD_SOLVE_MODEL)\n\u001b[1;32m    212\u001b[0m \u001b[38;5;66;03m# Wait JSON result\u001b[39;00m\n\u001b[0;32m--> 213\u001b[0m jsol \u001b[38;5;241m=\u001b[39m \u001b[38;5;28;43mself\u001b[39;49m\u001b[38;5;241;43m.\u001b[39;49m\u001b[43m_wait_json_result\u001b[49m\u001b[43m(\u001b[49m\u001b[43mEVT_SOLVE_RESULT\u001b[49m\u001b[43m)\u001b[49m\n\u001b[1;32m    215\u001b[0m \u001b[38;5;66;03m# Build result object\u001b[39;00m\n\u001b[1;32m    216\u001b[0m \u001b[38;5;28;01mreturn\u001b[39;00m \u001b[38;5;28mself\u001b[39m\u001b[38;5;241m.\u001b[39m_create_result_object(CpoSolveResult, jsol)\n",
      "File \u001b[0;32m~/GithubRepos/BI/venv/lib/python3.10/site-packages/docplex/cp/solver/solver_local.py:572\u001b[0m, in \u001b[0;36mCpoSolverLocal._wait_json_result\u001b[0;34m(self, evt)\u001b[0m\n\u001b[1;32m    564\u001b[0m \u001b[38;5;250m\u001b[39m\u001b[38;5;124;03m\"\"\" Wait for a JSON result while forwarding logs if any.\u001b[39;00m\n\u001b[1;32m    565\u001b[0m \u001b[38;5;124;03mArgs:\u001b[39;00m\n\u001b[1;32m    566\u001b[0m \u001b[38;5;124;03m    evt: Event to wait for\u001b[39;00m\n\u001b[1;32m    567\u001b[0m \u001b[38;5;124;03mReturns:\u001b[39;00m\n\u001b[1;32m    568\u001b[0m \u001b[38;5;124;03m    JSON solution string, decoded from UTF8\u001b[39;00m\n\u001b[1;32m    569\u001b[0m \u001b[38;5;124;03m\"\"\"\u001b[39;00m\n\u001b[1;32m    571\u001b[0m \u001b[38;5;66;03m# Wait JSON result\u001b[39;00m\n\u001b[0;32m--> 572\u001b[0m data \u001b[38;5;241m=\u001b[39m \u001b[38;5;28;43mself\u001b[39;49m\u001b[38;5;241;43m.\u001b[39;49m\u001b[43m_wait_event\u001b[49m\u001b[43m(\u001b[49m\u001b[43mevt\u001b[49m\u001b[43m)\u001b[49m\n\u001b[1;32m    574\u001b[0m \u001b[38;5;66;03m# Store last json result\u001b[39;00m\n\u001b[1;32m    575\u001b[0m \u001b[38;5;28mself\u001b[39m\u001b[38;5;241m.\u001b[39m_set_last_json_result_string(data)\n",
      "File \u001b[0;32m~/GithubRepos/BI/venv/lib/python3.10/site-packages/docplex/cp/solver/solver_local.py:529\u001b[0m, in \u001b[0;36mCpoSolverLocal._wait_event\u001b[0;34m(self, xevt)\u001b[0m\n\u001b[1;32m    527\u001b[0m         data \u001b[38;5;241m+\u001b[39m\u001b[38;5;241m=\u001b[39m \u001b[38;5;124m\"\u001b[39m\u001b[38;5;124m (\u001b[39m\u001b[38;5;124m\"\u001b[39m \u001b[38;5;241m+\u001b[39m firsterror \u001b[38;5;241m+\u001b[39m \u001b[38;5;124m\"\u001b[39m\u001b[38;5;124m)\u001b[39m\u001b[38;5;124m\"\u001b[39m\n\u001b[1;32m    528\u001b[0m     \u001b[38;5;28mself\u001b[39m\u001b[38;5;241m.\u001b[39mend()\n\u001b[0;32m--> 529\u001b[0m     \u001b[38;5;28;01mraise\u001b[39;00m CpoSolverException(\u001b[38;5;124m\"\u001b[39m\u001b[38;5;124mSolver error: \u001b[39m\u001b[38;5;124m\"\u001b[39m \u001b[38;5;241m+\u001b[39m data)\n\u001b[1;32m    531\u001b[0m \u001b[38;5;28;01melse\u001b[39;00m:\n\u001b[1;32m    532\u001b[0m     \u001b[38;5;28mself\u001b[39m\u001b[38;5;241m.\u001b[39mend()\n",
      "\u001b[0;31mCpoSolverException\u001b[0m: Solver error: Problem size limit exceeded.\nCP Optimizer Community Edition solves problems with search spaces up to 2^1000.\nUnrestricted version options (including academia) at https://ibm.co/2s0wqSa\n"
     ]
    }
   ],
   "source": [
    "solution = m.solve(log_output=True) "
   ]
  },
  {
   "cell_type": "code",
   "execution_count": 29,
   "metadata": {},
   "outputs": [
    {
     "name": "stdout",
     "output_type": "stream",
     "text": [
      "(model: 1279963785, solve: Optimal, search: SearchCompleted, solution: (objs: (0,), gaps: (0,)))\n"
     ]
    }
   ],
   "source": [
    "print(solution)\n"
   ]
  }
 ],
 "metadata": {
  "kernelspec": {
   "display_name": "venv",
   "language": "python",
   "name": "python3"
  },
  "language_info": {
   "codemirror_mode": {
    "name": "ipython",
    "version": 3
   },
   "file_extension": ".py",
   "mimetype": "text/x-python",
   "name": "python",
   "nbconvert_exporter": "python",
   "pygments_lexer": "ipython3",
   "version": "3.10.12"
  }
 },
 "nbformat": 4,
 "nbformat_minor": 2
}
