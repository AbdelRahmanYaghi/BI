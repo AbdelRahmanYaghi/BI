{
 "cells": [
  {
   "attachments": {},
   "cell_type": "markdown",
   "metadata": {},
   "source": [
    "IMPORTANT: Hellish Question\n",
    "\n",
    "The long-range planning department for the Ohio Trust Company is considering expanding\n",
    "its operation into a 20-county region in northeastern Ohio (Figure 13.10). Currently, Ohio\n",
    "Trust does not have a principal place of business in any of the 20 counties. According to the\n",
    "banking laws in Ohio, if a bank establishes a principal place of business (PPB) in any county,\n",
    "branch banks can be established in that county and in any of the adjacent counties. However,\n",
    "to establish a new principal place of business, Ohio Trust must either obtain approval for a\n",
    "new bank from the state’s superintendent of banks or purchase an existing bank."
   ]
  },
  {
   "attachments": {},
   "cell_type": "markdown",
   "metadata": {},
   "source": [
    "#### Sets and Indicies\n",
    "\n",
    "$\\mathcal{L}$: All banks locations <br>\n",
    "$l, l \\in \\mathcal{L}$: An index represesnting a bank location\n",
    "\n",
    "#### Data\n",
    "\n",
    "$Idk$    $lol$\n"
   ]
  },
  {
   "cell_type": "code",
   "execution_count": null,
   "metadata": {},
   "outputs": [],
   "source": []
  }
 ],
 "metadata": {
  "kernelspec": {
   "display_name": "venv",
   "language": "python",
   "name": "python3"
  },
  "language_info": {
   "name": "python",
   "version": "3.10.10"
  },
  "vscode": {
   "interpreter": {
    "hash": "9682219fa65ec76ab0a712f3cc506ba5eb9451d445ad0b772c7739d17e7a6e46"
   }
  }
 },
 "nbformat": 4,
 "nbformat_minor": 2
}
