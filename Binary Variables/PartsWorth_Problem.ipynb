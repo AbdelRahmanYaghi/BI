{
 "cells": [
  {
   "cell_type": "markdown",
   "metadata": {},
   "source": []
  },
  {
   "cell_type": "markdown",
   "metadata": {},
   "source": [
    "We represent the problem by \n",
    "[\n",
    "   [0, 0, 0, 0], # Thin Crust,   Mozerella Cheese,  Smooth Sauce, Mild Sausage\n",
    "   [0, 0, 0, 0], # Thick Crust,  Mixed Cheese,      Chunky Sauce, Medium Sausage\n",
    "   [-, -, -, 0]  # -          ,  -               ,  -           , Hot Sausage\n",
    "]\n",
    "\n",
    "How to know if customer 1 will buy put pizza?\n",
    " 11L_{11} + 2L_{21} + 6L_{12} + ... >= 51\n",
    " \n",
    " 1 is already enforced, because it is trying to maximize.\n",
    " 0 Needs to be enforced. \n",
    "\n",
    " 11L_{11} + 2L_{21} + 6L_{12} + ... >= (51 * Y_1) + 1\n",
    "\n",
    "\n",
    "\n"
   ]
  }
 ],
 "metadata": {
  "language_info": {
   "name": "python"
  }
 },
 "nbformat": 4,
 "nbformat_minor": 2
}
