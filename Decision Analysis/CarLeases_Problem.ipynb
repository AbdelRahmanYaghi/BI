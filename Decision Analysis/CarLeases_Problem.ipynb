{
 "cells": [
  {
   "cell_type": "markdown",
   "metadata": {},
   "source": [
    "Amy Lloyd is interested in leasing a new Honda and has contacted three\n",
    "automobile dealers for pricing information. Each dealer offered Amy a closed-end\n",
    "36-month lease with no down payment due at the time of signing. Each lease includes a\n",
    "monthly charge and a mileage allowance. Additional miles receive a surcharge on a per-\n",
    "mile basis. The monthly lease cost, the mileage allowance, and the cost for additional\n",
    "miles are as follows:\n",
    "\n",
    "\n",
    "<table>\n",
    "    <tr>\n",
    "        <th>Dealer</th>\n",
    "        <th>Monthly Cost</th>\n",
    "        <th>Mileage Allowance</th>\n",
    "        <th>Cost per Additional Mile</th>\n",
    "    </tr>\n",
    "    <tr>\n",
    "        <td>Hepburn Honda</td>\n",
    "        <td>$299</td>\n",
    "        <td>36,000</td>\n",
    "        <td>$0.15</td>\n",
    "    </tr>\n",
    "    <tr>\n",
    "        <td>Midtown Motors</td>\n",
    "        <td>$310</td>\n",
    "        <td>45,000</td>\n",
    "        <td>$0.20</td>\n",
    "    </tr>\n",
    "    <tr>\n",
    "        <td>Hopkins Automotive</td>\n",
    "        <td>$325</td>\n",
    "        <td>54,000</td>\n",
    "        <td>$0.15</td>\n",
    "    </tr>\n",
    "</table>\n",
    "\n",
    "\n",
    "Amy decided to choose the lease option that will minimize her total 36-month cost. The difficulty is that Amy is not sure how many miles she will drive over the next three years. For purposes of this decision, she believes it is reasonable to assume that she will drive 12,000 miles per year, 15,000 miles per year, or 18,000 miles per year. With this assumption Amy estimated her total costs for the three lease options. For example, she figures that the Hepburn Honda lease will cost her <br> <br>\n",
    "$36($299) + $0.15(36,000 - 36,000) = $10,764$ if she drives 12,000 miles per year, <br>\n",
    "$36($299) + $0.15(45,000 - 36,000) = $12,114$ if she drives 15,000 miles per year, <br>\n",
    "$36($299) + $0.15(54,000 - 36,000) = $13,464$ if she drives 18,000 miles per year. <br>\n",
    "\n",
    "\n",
    "a. What is the decision, and what is the chance event? <br>\n",
    "b. Construct a payoff table for Amy’s problem. <br>\n",
    "c. If Amy has no idea which of the three mileage assumptions is most appropriate, what is the recommended decision (leasing option) using the optimistic, conservative, and minimax regret approaches? <br>\n",
    "d. Suppose that the probabilities that Amy drives 12,000, 15,000, and 18,000 miles per year are 0.5, 0.4, and 0.1, respectively. What option should Amy choose using the expected value approach? <br>\n",
    "e. Develop a risk profile for the decision selected in part (d). What is the most likely cost, and what is its probability?<br>\n",
    "f. Suppose that, after further consideration, Amy concludes that the probabilities\n",
    "that she will drive 12,000, 15,000, and 18,000 miles per year are 0.3, 0.4, and 0.3,\n",
    "respectively. What decision should Amy make using the expected value approach?\n",
    "\n"
   ]
  },
  {
   "cell_type": "code",
   "execution_count": 8,
   "metadata": {},
   "outputs": [
    {
     "name": "stdout",
     "output_type": "stream",
     "text": [
      "11160.0\n",
      "11160.0\n",
      "12960.0\n",
      "11700.0\n",
      "11700.0\n",
      "11700.0\n"
     ]
    }
   ],
   "source": [
    "##### B ######\n",
    "print((36 * 310) + (0.2 * (max(0, ((3 * 12_000) - 45_000)))))\n",
    "print((36 * 310) + (0.2 * (max(0, ((3 * 15_000) - 45_000)))))\n",
    "print((36 * 310) + (0.2 * (max(0, ((3 * 18_000) - 45_000)))))\n",
    "# ---------------\n",
    "print((36 * 325) + (0.15 * (max(0, ((3 * 12_000) - 54_000)))))\n",
    "print((36 * 325) + (0.15 * (max(0, ((3 * 15_000) - 54_000)))))\n",
    "print((36 * 325) + (0.15 * (max(0, ((3 * 18_000) - 54_000)))))"
   ]
  },
  {
   "cell_type": "markdown",
   "metadata": {},
   "source": [
    "#### Solution:\n",
    "a. Chance event is How many miles Amy will drive. <br>\n",
    "______\n",
    "b. \n",
    "<table>\n",
    "    <tr>\n",
    "        <th>Dealer</th>\n",
    "        <th>Cost of 12000 miles</th>\n",
    "        <th>Cost of 15000 miles</th>\n",
    "        <th>Cost of 18000 miles</th>\n",
    "    </tr>\n",
    "    <tr>\n",
    "        <td>Hepburn Honda</td>\n",
    "        <td>10,764</td>\n",
    "        <td>12,114</td>\n",
    "        <td>13,464</td>\n",
    "    </tr>\n",
    "    <tr>\n",
    "        <td>Midtown Motors</td>\n",
    "        <td>11,160</td>\n",
    "        <td>11,160</td>\n",
    "        <td>12,960</td>\n",
    "    </tr>\n",
    "    <tr>\n",
    "        <td>Hopkins Automotive</td>\n",
    "        <td>11,700</td>\n",
    "        <td>11,700</td>\n",
    "        <td>11,700</td>\n",
    "    </tr>\n",
    "</table>"
   ]
  },
  {
   "cell_type": "markdown",
   "metadata": {},
   "source": [
    "_____________\n",
    "c.<br>\n",
    "Optimistic (12,000 miles): Hepburn Honda - 10,764 <br>\n",
    "Conservative (18,000 miles): Hopkins Automotive - 11,700 <br>\n",
    "Minimax: \n",
    "\n",
    "<table>\n",
    "    <tr>\n",
    "        <th>Dealer</th>\n",
    "        <th>Cost of 12000 miles</th>\n",
    "        <th>Cost of 15000 miles</th>\n",
    "        <th>Cost of 18000 miles</th>\n",
    "    </tr>\n",
    "    <tr>\n",
    "        <td>Hepburn Honda</td>\n",
    "        <td>0</td>\n",
    "        <td>954</td>\n",
    "        <td>1260</td>\n",
    "    </tr>\n",
    "    <tr>\n",
    "        <td>Midtown Motors</td>\n",
    "        <td>396</td>\n",
    "        <td>0</td>\n",
    "        <td>1764</td>\n",
    "    </tr>\n",
    "    <tr>\n",
    "        <td>Hopkins Automotive</td>\n",
    "        <td>936</td>\n",
    "        <td>540</td>\n",
    "        <td>0</td>\n",
    "    </tr>\n",
    "</table>\n",
    "\n",
    "Meaning Hopkins Automotive is the best option with 1476."
   ]
  },
  {
   "cell_type": "markdown",
   "metadata": {},
   "source": [
    "_______________\n",
    "d. <br>\n",
    "Hupburn = $0.5(10746) + 0.4(12114) + 0.1(13464) = 11565$ <br>\n",
    "Midtown = $0.5(11160) + 0.4(11160) + 0.1(12960) = 11340$ <br>\n",
    "Hopkins = $0.5(11700) + 0.4(11700) + 0.1(11700) = 11700$ <br>\n",
    "\n",
    "meaning Midtown motors would be the best choice"
   ]
  },
  {
   "cell_type": "markdown",
   "metadata": {},
   "source": [
    "____________\n",
    "e. <br><br>\n",
    "<img src = \"ImagesForSolutions/RiskCarLease.png\">\n",
    "\n",
    "11,160 would be the likely with 50%.\n"
   ]
  },
  {
   "cell_type": "markdown",
   "metadata": {},
   "source": [
    "f. Decide on something Amy"
   ]
  }
 ],
 "metadata": {
  "kernelspec": {
   "display_name": "Python 3",
   "language": "python",
   "name": "python3"
  },
  "language_info": {
   "codemirror_mode": {
    "name": "ipython",
    "version": 3
   },
   "file_extension": ".py",
   "mimetype": "text/x-python",
   "name": "python",
   "nbconvert_exporter": "python",
   "pygments_lexer": "ipython3",
   "version": "3.10.12"
  }
 },
 "nbformat": 4,
 "nbformat_minor": 2
}
