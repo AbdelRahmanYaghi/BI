{
 "cells": [
  {
   "cell_type": "markdown",
   "metadata": {},
   "source": [
    "Southland Corporation’s decision to produce a new line of recreational products resulted in the need to construct either a small plant or a large plant. The best selection of plant size depends on how the marketplace reacts to the new product line. <br>\n",
    "To conduct an analysis, marketing management has decided to view the possible long-run\n",
    "demand as low, medium, or high. The following payoff table shows the projected profit in\n",
    "millions of dollars:\n",
    "\n",
    "<table>\n",
    "    <tr>\n",
    "        <th>Plan Size</th>\n",
    "        <th>Low</th>\n",
    "        <th>Medium</th>\n",
    "        <th>High</th>\n",
    "    </tr>\n",
    "    <tr>\n",
    "        <td>Small</td>\n",
    "        <td>150</td>\n",
    "        <td>200</td>\n",
    "        <td>200</td>\n",
    "    </tr>\n",
    "    <tr>\n",
    "        <td>Large</td>\n",
    "        <td>50</td>\n",
    "        <td>200</td>\n",
    "        <td>500</td>\n",
    "    </tr>\n",
    "</table>\n",
    "\n",
    "a. What is the decision to be made, and what is the chance event for Southland’s problem? <br>\n",
    "b. Construct a decision tree. <br>\n",
    "c. Recommend a decision based on the use of the optimistic, conservative, and mini-max regret approaches. <br>"
   ]
  },
  {
   "cell_type": "markdown",
   "metadata": {},
   "source": [
    "#### Solution\n",
    "\n",
    "a. Chance events are the Demands, which are [Low, Medium, High] <br>\n",
    "_____\n",
    "b. <br><img src=\"ImagesForSolutions/PlantSizeTree.png\" style=\"transform: scale(0.75);\"><br>\n",
    "_____\n",
    "c. <br>\n",
    "Optimistic: 500M <br>\n",
    "Conservative: 150M <br>\n",
    "mini-max: \n",
    "\n",
    "\n",
    "<table>\n",
    "    <tr>\n",
    "        <th>Plan Size</th>\n",
    "        <th>Low</th>\n",
    "        <th>Medium</th>\n",
    "        <th>High</th>\n",
    "    </tr>\n",
    "    <tr>\n",
    "        <td>Small</td>\n",
    "        <td>0</td>\n",
    "        <td>0</td>\n",
    "        <td>300</td>\n",
    "    </tr>\n",
    "    <tr>\n",
    "        <td>Large</td>\n",
    "        <td>100</td>\n",
    "        <td>0</td>\n",
    "        <td>0</td>\n",
    "    </tr>\n",
    "</table>\n",
    "\n",
    "Meaning that 100M."
   ]
  },
  {
   "cell_type": "markdown",
   "metadata": {},
   "source": [
    "\n"
   ]
  }
 ],
 "metadata": {
  "language_info": {
   "name": "python"
  }
 },
 "nbformat": 4,
 "nbformat_minor": 2
}
