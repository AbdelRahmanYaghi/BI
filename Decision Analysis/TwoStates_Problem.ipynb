{
 "cells": [
  {
   "cell_type": "markdown",
   "metadata": {},
   "source": [
    "The following payoff table shows the profit for a decision problem with two states of nature and two decision alternatives:\n",
    "\n",
    "<table>\n",
    "    <tr>\n",
    "        <th>Decision Alternative</th>\n",
    "        <th>s1</th>\n",
    "        <th>s2</th>\n",
    "    </tr>\n",
    "    <tr>\n",
    "        <td>d1</td>\n",
    "        <td>10</td>\n",
    "        <td>1</td>\n",
    "    </tr>\n",
    "    <tr>\n",
    "        <td>d2</td>\n",
    "        <td>4</td>\n",
    "        <td>3</td>\n",
    "    </tr>\n",
    "</table>\n",
    "\n",
    "a. Suppose P(s1) = 0.2 and P(s2) = 0.8. What is the best decision using the expected value approach? <br><br>\n",
    "b. Perform sensitivity analysis on the payoffs for decision alternative d1. Assume that the probabilities are as given in part (a), and find the range of payoffs under states of nature s1 and s2 that will keep the solution found in part (a) optimal. Is the solution more sensitive to the payoff under state of nature s1 or s2 ?"
   ]
  },
  {
   "cell_type": "markdown",
   "metadata": {},
   "source": [
    "#### Solution"
   ]
  },
  {
   "cell_type": "markdown",
   "metadata": {},
   "source": [
    "a.\n",
    "<table>\n",
    "    <tr>\n",
    "        <th>Decision Alternative</th>\n",
    "        <th>s1</th>\n",
    "        <th>s2</th>\n",
    "    </tr>\n",
    "    <tr>\n",
    "        <td>d1</td>\n",
    "        <td>2</td>\n",
    "        <td>0.8</td>\n",
    "    </tr>\n",
    "    <tr>\n",
    "        <td>d2</td>\n",
    "        <td>0.8</td>\n",
    "        <td>2.4</td>\n",
    "    </tr>\n",
    "</table>\n",
    "\n",
    "Decision 2 is better, at 3.2 profit\n",
    "\n",
    "____________\n",
    "\n",
    "b. idk if we took that"
   ]
  }
 ],
 "metadata": {
  "language_info": {
   "name": "python"
  }
 },
 "nbformat": 4,
 "nbformat_minor": 2
}
