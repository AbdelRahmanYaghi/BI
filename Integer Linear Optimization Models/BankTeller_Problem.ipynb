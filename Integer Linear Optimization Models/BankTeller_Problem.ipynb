{
 "cells": [
  {
   "attachments": {},
   "cell_type": "markdown",
   "metadata": {},
   "source": [
    "The Northside Bank is working to develop an efficient work\n",
    "schedule for full-time and part-time tellers. The schedule must provide for efficient\n",
    "operation of the bank, including adequate customer service, employee breaks, and so\n",
    "on. On Fridays, the bank is open from 9:00 a.m. to 7:00 p.m. The number of tellers\n",
    "necessary to provide adequate customer service during each hour of operation is summarized as follows:\n",
    "\n",
    "<table>\n",
    "  <thead>\n",
    "    <tr>\n",
    "      <th>Time</th>\n",
    "      <th>No. of Tellers</th>\n",
    "    </tr>\n",
    "  </thead>\n",
    "  <tbody>\n",
    "    <tr>\n",
    "      <td>9:00 a.m. – 10:00 a.m.</td>\n",
    "      <td>6</td>\n",
    "    </tr>\n",
    "    <tr>\n",
    "      <td>10:00 a.m. – 11:00 a.m.</td>\n",
    "      <td>4</td>\n",
    "    </tr>\n",
    "    <tr>\n",
    "      <td>11:00 a.m. – Noon</td>\n",
    "      <td>8</td>\n",
    "    </tr>\n",
    "    <tr>\n",
    "      <td>Noon – 1:00 p.m.</td>\n",
    "      <td>10</td>\n",
    "    </tr>\n",
    "    <tr>\n",
    "      <td>1:00 p.m. – 2:00 p.m.</td>\n",
    "      <td>9</td>\n",
    "    </tr>\n",
    "    <tr>\n",
    "      <td>2:00 p.m. – 3:00 p.m.</td>\n",
    "      <td>6</td>\n",
    "    </tr>\n",
    "    <tr>\n",
    "      <td>3:00 p.m. – 4:00 p.m.</td>\n",
    "      <td>4</td>\n",
    "    </tr>\n",
    "    <tr>\n",
    "      <td>4:00 p.m. – 5:00 p.m.</td>\n",
    "      <td>7</td>\n",
    "    </tr>\n",
    "    <tr>\n",
    "      <td>5:00 p.m. – 6:00 p.m.</td>\n",
    "      <td>6</td>\n",
    "    </tr>\n",
    "    <tr>\n",
    "      <td>6:00 p.m. – 7:00 p.m.</td>\n",
    "      <td>6</td>\n",
    "    </tr>\n",
    "  </tbody>\n",
    "</table>\n",
    "\n",
    "Each full-time employee starts on the hour and works a 4-hour shift, followed by a\n",
    "1-hour break and then a 3-hour shift. Part-time employees work one 4-hour shift beginning on the hour. Considering salary and fringe benefits, full-time employees cost the\n",
    "bank $15 per hour ($105 a day), and part-time employees cost the bank $8 per hour\n",
    "($32 per day).\n",
    "\n",
    "Formulate an integer programming model that can be used to develop a schedule\n",
    "that will satisfy customer service needs at a minimum employee cost.\n"
   ]
  },
  {
   "attachments": {},
   "cell_type": "markdown",
   "metadata": {},
   "source": [
    "# UNSOLVED"
   ]
  },
  {
   "attachments": {},
   "cell_type": "markdown",
   "metadata": {},
   "source": [
    "#### Sets and Indicies\n",
    "\n",
    "$\\mathcal{T}$: A set of working times per day. where each element is represented as $t$. |$\\mathcal{T}$| = $\\textbf{T}$ <br>\n",
    "\n",
    "#### Data\n",
    "$N$: Column Vector of the Number of tellers required per hour, where each element is represented as $n_t, t\\in\\mathcal{T}$. <br>\n",
    "$f$: A number that represents the pay per hour for $\\textbf{Full time}$ employees <br>\n",
    "$p$: A number that represents the pay per hour for $\\textbf{Part time}$ employees <br>\n",
    "\n",
    "#### Decision Variable\n",
    "\n",
    "$W$: A column vector representing the hours being worked for each time $\\in \\mathcal{T}$. Where each element is represented as $w_t$\n",
    "\n",
    "$x$: Number of $\\textbf{Full time}$ employees <br>\n",
    "$y$: Number of $\\textbf{Part time}$ employees <br>\n",
    "\n",
    "#### Function\n",
    "\n",
    "\\begin{align*}\n",
    "\\ {\\mathrm{minimize }} \\; {xf + yp} \\\\\n",
    "\\ \\text{subject to} \\\\\n",
    "\\ \n",
    "\\end{align*}"
   ]
  },
  {
   "cell_type": "code",
   "execution_count": null,
   "metadata": {},
   "outputs": [],
   "source": []
  }
 ],
 "metadata": {
  "kernelspec": {
   "display_name": "venv",
   "language": "python",
   "name": "python3"
  },
  "language_info": {
   "name": "python",
   "version": "3.10.10"
  },
  "orig_nbformat": 4,
  "vscode": {
   "interpreter": {
    "hash": "9682219fa65ec76ab0a712f3cc506ba5eb9451d445ad0b772c7739d17e7a6e46"
   }
  }
 },
 "nbformat": 4,
 "nbformat_minor": 2
}
