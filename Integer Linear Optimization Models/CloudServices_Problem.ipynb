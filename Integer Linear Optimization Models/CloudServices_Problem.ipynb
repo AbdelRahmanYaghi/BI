{
 "cells": [
  {
   "attachments": {},
   "cell_type": "markdown",
   "metadata": {},
   "source": [
    "Galaxy Cloud Services operates several data\n",
    "centers across the United States containing servers that store and process the data on\n",
    "the Internet. Suppose that Galaxy Cloud Services currently has five outdated data centers: one each in Michigan, Ohio, and California and two in New York. Management\n",
    "is considering increasing the capacity of these data centers to keep up with increasing\n",
    "demand. Each data center contains servers that are dedicated to Secure data and to \n",
    "Super Secure data. The cost to update each data center and the resulting increase in\n",
    "server capacity for each type of server are as follows:\n",
    "\n",
    "<table border=\"1\">\n",
    "  <tr>\n",
    "    <th>Data Center</th>\n",
    "    <th>Cost ($ millions)</th>\n",
    "    <th>Secure Servers</th>\n",
    "    <th>Super Secure Servers</th>\n",
    "  </tr>\n",
    "  <tr>\n",
    "    <td>Michigan</td>\n",
    "    <td>2.5</td>\n",
    "    <td>50</td>\n",
    "    <td>30</td>\n",
    "  </tr>\n",
    "  <tr>\n",
    "    <td>New York 1</td>\n",
    "    <td>1</td>\n",
    "    <td>80</td>\n",
    "    <td>40</td>\n",
    "  </tr>\n",
    "  <tr>\n",
    "    <td>New York 2</td>\n",
    "    <td>3.5</td>\n",
    "    <td>40</td>\n",
    "    <td>80</td>\n",
    "  </tr>\n",
    "  <tr>\n",
    "    <td>Ohio</td>\n",
    "    <td>4.0</td>\n",
    "    <td>90</td>\n",
    "    <td>60</td>\n",
    "  </tr>\n",
    "  <tr>\n",
    "    <td>California</td>\n",
    "    <td>2.0</td>\n",
    "    <td>20</td>\n",
    "    <td>30</td>\n",
    "  </tr>\n",
    "</table>\n",
    "\n",
    "The projected needs are for a total increase in capacity of 90 Secure servers and 90\n",
    "Super Secure servers. Management wants to determine which data centers to update\n",
    "to meet projected needs and, at the same time, minimize the total cost of the added\n",
    "capacity.\n",
    "Formulate a binary integer programming model that could be used to determine the\n",
    "optimal solution to the capacity increase question facing management."
   ]
  },
  {
   "cell_type": "code",
   "execution_count": 9,
   "metadata": {},
   "outputs": [],
   "source": [
    "from docplex.mp.model import Model\n",
    "\n",
    "C = 5 # Number of data centers\n",
    "\n",
    "P = [2.5, 3.5, 3.5, 4, 2] # Price to upgrade the data center\n",
    "N = [50, 80, 40, 90, 20] # Nomral Server increase\n",
    "S = [30, 40, 80, 60, 30] # Super Server increase\n",
    "\n",
    "R = 90 # Required increase in normal servers\n",
    "T = 90 # Required increase in super servers\n",
    "\n",
    "m = Model('CloudServices')\n",
    "\n",
    "X = m.binary_var_list(C) \n",
    "\n",
    "summation = 0\n",
    "for c in range(C):\n",
    "    summation += (X[c] * N[c])\n",
    "m.add_constraint(summation >= R)\n",
    "\n",
    "summation = 0\n",
    "for c in range(C):\n",
    "    summation += (X[c] * S[c])\n",
    "m.add_constraint(summation >= T)\n",
    "\n",
    "summation = 0\n",
    "for c in range(C):\n",
    "    summation += (X[c] * P[c])\n",
    "\n",
    "m.minimize(summation)"
   ]
  },
  {
   "cell_type": "code",
   "execution_count": 10,
   "metadata": {},
   "outputs": [
    {
     "name": "stdout",
     "output_type": "stream",
     "text": [
      "Version identifier: 22.1.1.0 | 2023-02-09 | 22d6266e5\n",
      "CPXPARAM_Read_DataCheck                          1\n",
      "Found incumbent of value 15.500000 after 0.00 sec. (0.00 ticks)\n",
      "Tried aggregator 1 time.\n",
      "MIP Presolve added 1 rows and 1 columns.\n",
      "MIP Presolve modified 9 coefficients.\n",
      "Reduced MIP has 3 rows, 6 columns, and 13 nonzeros.\n",
      "Reduced MIP has 5 binaries, 1 generals, 0 SOSs, and 0 indicators.\n",
      "Presolve time = 0.00 sec. (0.01 ticks)\n",
      "Probing time = 0.00 sec. (0.00 ticks)\n",
      "Tried aggregator 1 time.\n",
      "Detecting symmetries...\n",
      "MIP Presolve eliminated 1 rows and 1 columns.\n",
      "MIP Presolve added 1 rows and 1 columns.\n",
      "Reduced MIP has 3 rows, 6 columns, and 13 nonzeros.\n",
      "Reduced MIP has 5 binaries, 1 generals, 0 SOSs, and 0 indicators.\n",
      "Presolve time = 0.02 sec. (0.01 ticks)\n",
      "Probing time = 0.00 sec. (0.00 ticks)\n",
      "MIP emphasis: balance optimality and feasibility.\n",
      "MIP search method: dynamic search.\n",
      "Parallel mode: deterministic, using up to 6 threads.\n",
      "Root relaxation solution time = 0.00 sec. (0.01 ticks)\n",
      "\n",
      "        Nodes                                         Cuts/\n",
      "   Node  Left     Objective  IInf  Best Integer    Best Bound    ItCnt     Gap\n",
      "\n",
      "*     0+    0                           15.5000        0.0000           100.00%\n",
      "*     0+    0                            6.0000        0.0000           100.00%\n",
      "      0     0        5.5500     3        6.0000        5.5500        2    7.50%\n",
      "      0     0        cutoff              6.0000        5.5500        2    7.50%\n",
      "Elapsed time = 0.02 sec. (0.04 ticks, tree = 0.01 MB, solutions = 2)\n",
      "\n",
      "Root node processing (before b&c):\n",
      "  Real time             =    0.02 sec. (0.04 ticks)\n",
      "Parallel b&c, 6 threads:\n",
      "  Real time             =    0.00 sec. (0.00 ticks)\n",
      "  Sync time (average)   =    0.00 sec.\n",
      "  Wait time (average)   =    0.00 sec.\n",
      "                          ------------\n",
      "Total (root+branch&cut) =    0.02 sec. (0.04 ticks)\n"
     ]
    },
    {
     "data": {
      "text/plain": [
       "docplex.mp.solution.SolveSolution(obj=6,values={x4:1,x5:1})"
      ]
     },
     "execution_count": 10,
     "metadata": {},
     "output_type": "execute_result"
    }
   ],
   "source": [
    "m.solve(log_output=True)"
   ]
  },
  {
   "cell_type": "code",
   "execution_count": 11,
   "metadata": {},
   "outputs": [
    {
     "name": "stdout",
     "output_type": "stream",
     "text": [
      "objective: 6.000\n",
      "status: OPTIMAL_SOLUTION(2)\n",
      "  x4=1\n",
      "  x5=1\n"
     ]
    }
   ],
   "source": [
    "m.print_solution()"
   ]
  }
 ],
 "metadata": {
  "kernelspec": {
   "display_name": "venv",
   "language": "python",
   "name": "python3"
  },
  "language_info": {
   "codemirror_mode": {
    "name": "ipython",
    "version": 3
   },
   "file_extension": ".py",
   "mimetype": "text/x-python",
   "name": "python",
   "nbconvert_exporter": "python",
   "pygments_lexer": "ipython3",
   "version": "3.10.10"
  },
  "orig_nbformat": 4,
  "vscode": {
   "interpreter": {
    "hash": "9682219fa65ec76ab0a712f3cc506ba5eb9451d445ad0b772c7739d17e7a6e46"
   }
  }
 },
 "nbformat": 4,
 "nbformat_minor": 2
}
