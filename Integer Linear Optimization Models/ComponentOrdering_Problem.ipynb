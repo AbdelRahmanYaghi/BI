{
 "cells": [
  {
   "attachments": {},
   "cell_type": "markdown",
   "metadata": {},
   "source": [
    "Morgan Inc. is planning the purchase of one of the component\n",
    "parts it needs for its finished product. The anticipated demands for the component for\n",
    "the next 12 periods are shown in the following table.\n",
    "\n",
    "<table border=\"1\">\n",
    "  <tr>\n",
    "    <th>Period</th>\n",
    "    <th>1</th>\n",
    "    <th>2</th>\n",
    "    <th>3</th>\n",
    "    <th>4</th>\n",
    "    <th>5</th>\n",
    "    <th>6</th>\n",
    "    <th>7</th>\n",
    "    <th>8</th>\n",
    "    <th>9</th>\n",
    "    <th>10</th>\n",
    "    <th>11</th>\n",
    "    <th>12</th>\n",
    "  </tr>\n",
    "  <tr>\n",
    "    <td>Demand</td>\n",
    "    <td>20</td>\n",
    "    <td>20</td>\n",
    "    <td>30</td>\n",
    "    <td>40</td>\n",
    "    <td>140</td>\n",
    "    <td>360</td>\n",
    "    <td>500</td>\n",
    "    <td>540</td>\n",
    "    <td>460</td>\n",
    "    <td>80</td>\n",
    "    <td>0</td>\n",
    "    <td>20</td>\n",
    "  </tr>\n",
    "</table>\n",
    "\n",
    " The cost to order the component\n",
    "(labor, shipping, and paperwork) is $150. The cost to hold these components in inventory is $1 per component per period. The price of the component is expected to remain\n",
    "stable at $12 per unit for the next 12 periods, and no quantity discounts are available.\n",
    "The maximum order size is 1,000 units.\n",
    "Formulate a model to minimize the total cost of satisfying Morgan Inc.’s demand\n",
    "for this component."
   ]
  },
  {
   "cell_type": "code",
   "execution_count": 78,
   "metadata": {},
   "outputs": [],
   "source": [
    "from docplex.mp.model import Model\n",
    "\n",
    "P = 12\n",
    "D = [20, 20, 30, 40, 140, 360, 500, 540, 460, 80, 0, 20]\n",
    "\n",
    "init_amount = 150\n",
    "h = 1\n",
    "c = 12\n",
    "\n",
    "m = Model('ComponentOrdering')\n",
    "\n",
    "X = m.integer_var_list(12, name = 'Amount Bought on period') # How much to purchase\n",
    "XX = m.binary_var_list(12, name = 'Whether Bought on period')\n",
    "Y = m.integer_var_list(12, name = 'Holding') # Holding\n",
    "\n",
    "for i in range(P):\n",
    "    m.add_constraint(XX[i] == (X[i] >= 1))\n",
    "\n",
    "for i in range(P):\n",
    "    old_x_summation = 0\n",
    "    old_d_summation = 0\n",
    "    for u in range(i):\n",
    "        old_x_summation += X[u]\n",
    "        old_d_summation += D[u]\n",
    "    m.add_constraint(Y[i] == old_x_summation - old_d_summation)\n",
    "\n",
    "for i in range(P):\n",
    "    m.add_constraint(X[i] <= 1000)\n",
    "\n",
    "summation = 0\n",
    "for i in range(P):\n",
    "    summation += X[i] * c\n",
    "    summation += Y[i] * h\n",
    "    summation += XX[i] * init_amount\n",
    "\n",
    "m.minimize(summation)"
   ]
  },
  {
   "cell_type": "code",
   "execution_count": 79,
   "metadata": {},
   "outputs": [
    {
     "data": {
      "text/plain": [
       "'Component.lp'"
      ]
     },
     "execution_count": 79,
     "metadata": {},
     "output_type": "execute_result"
    }
   ],
   "source": [
    "m.export_as_lp(\"Component.lp\")"
   ]
  },
  {
   "cell_type": "code",
   "execution_count": 80,
   "metadata": {},
   "outputs": [
    {
     "name": "stdout",
     "output_type": "stream",
     "text": [
      "Version identifier: 22.1.1.0 | 2023-02-09 | 22d6266e5\n",
      "CPXPARAM_Read_DataCheck                          1\n",
      "Tried aggregator 2 times.\n",
      "MIP Presolve eliminated 14 rows and 3 columns.\n",
      "Aggregator did 12 substitutions.\n",
      "Reduced MIP has 32 rows, 33 columns, and 119 nonzeros.\n",
      "Reduced MIP has 11 binaries, 22 generals, 0 SOSs, and 11 indicators.\n",
      "Presolve time = 0.00 sec. (0.07 ticks)\n",
      "Found incumbent of value 189300.000000 after 0.00 sec. (0.11 ticks)\n",
      "Probing time = 0.00 sec. (0.01 ticks)\n",
      "Tried aggregator 1 time.\n",
      "Detecting symmetries...\n",
      "MIP Presolve eliminated 2 rows and 2 columns.\n",
      "Reduced MIP has 30 rows, 31 columns, and 115 nonzeros.\n",
      "Reduced MIP has 10 binaries, 21 generals, 0 SOSs, and 10 indicators.\n",
      "Presolve time = 0.02 sec. (0.07 ticks)\n",
      "Probing time = 0.00 sec. (0.01 ticks)\n",
      "MIP emphasis: balance optimality and feasibility.\n",
      "MIP search method: dynamic search.\n",
      "Parallel mode: deterministic, using up to 6 threads.\n",
      "Root relaxation solution time = 0.00 sec. (0.06 ticks)\n",
      "\n",
      "        Nodes                                         Cuts/\n",
      "   Node  Left     Objective  IInf  Best Integer    Best Bound    ItCnt     Gap\n",
      "\n",
      "*     0+    0                       189300.0000      390.0000            99.79%\n",
      "*     0+    0                       187278.0000      390.0000            99.79%\n",
      "      0     0    26755.5000     9   187278.0000    26755.5000        9   85.71%\n",
      "*     0+    0                        27780.0000    26755.5000             3.69%\n",
      "      0     0    27422.6154    10    27780.0000      Cuts: 24       22    1.29%\n",
      "*     0+    0                        27776.0000    27422.6154             1.27%\n",
      "*     0+    0                        27754.0000    27422.6154             1.19%\n",
      "      0     0    27427.4359    10    27754.0000       Cuts: 5       24    1.18%\n",
      "*     0+    0                        27751.0000    27427.4359             1.17%\n",
      "*     0+    0                        27707.0000    27427.4359             1.01%\n",
      "*     0+    0                        27460.0000    27427.4359             0.12%\n",
      "      0     0        cutoff          27460.0000    27460.0000       24    0.00%\n",
      "Elapsed time = 0.06 sec. (2.50 ticks, tree = 0.01 MB, solutions = 8)\n",
      "\n",
      "Mixed integer rounding cuts applied:  3\n",
      "Lift and project cuts applied:  1\n",
      "Gomory fractional cuts applied:  8\n",
      "\n",
      "Root node processing (before b&c):\n",
      "  Real time             =    0.08 sec. (2.50 ticks)\n",
      "Parallel b&c, 6 threads:\n",
      "  Real time             =    0.00 sec. (0.00 ticks)\n",
      "  Sync time (average)   =    0.00 sec.\n",
      "  Wait time (average)   =    0.00 sec.\n",
      "                          ------------\n",
      "Total (root+branch&cut) =    0.08 sec. (2.50 ticks)\n"
     ]
    },
    {
     "data": {
      "text/plain": [
       "docplex.mp.solution.SolveSolution(obj=27460,values={Amount Bought on per.."
      ]
     },
     "execution_count": 80,
     "metadata": {},
     "output_type": "execute_result"
    }
   ],
   "source": [
    "m.solve(log_output=True)"
   ]
  },
  {
   "cell_type": "code",
   "execution_count": 77,
   "metadata": {},
   "outputs": [
    {
     "name": "stdout",
     "output_type": "stream",
     "text": [
      "objective: 27460\n",
      "status: OPTIMAL_SOLUTION(2)\n",
      "  \"Amount Bought on period_0\"=110\n",
      "  \"Amount Bought on period_4\"=140\n",
      "  \"Amount Bought on period_5\"=360\n",
      "  \"Amount Bought on period_6\"=500\n",
      "  \"Amount Bought on period_7\"=540\n",
      "  \"Amount Bought on period_8\"=540\n",
      "  \"Whether Bought on period_0\"=1\n",
      "  \"Whether Bought on period_4\"=1\n",
      "  \"Whether Bought on period_5\"=1\n",
      "  \"Whether Bought on period_6\"=1\n",
      "  \"Whether Bought on period_7\"=1\n",
      "  \"Whether Bought on period_8\"=1\n",
      "  \"Holding_1\"=90\n",
      "  \"Holding_2\"=70\n",
      "  \"Holding_3\"=40\n",
      "  \"Holding_4\"=0\n",
      "  \"Holding_9\"=80\n"
     ]
    }
   ],
   "source": [
    "m.print_solution()"
   ]
  }
 ],
 "metadata": {
  "kernelspec": {
   "display_name": "venv",
   "language": "python",
   "name": "python3"
  },
  "language_info": {
   "codemirror_mode": {
    "name": "ipython",
    "version": 3
   },
   "file_extension": ".py",
   "mimetype": "text/x-python",
   "name": "python",
   "nbconvert_exporter": "python",
   "pygments_lexer": "ipython3",
   "version": "3.10.10"
  },
  "orig_nbformat": 4,
  "vscode": {
   "interpreter": {
    "hash": "9682219fa65ec76ab0a712f3cc506ba5eb9451d445ad0b772c7739d17e7a6e46"
   }
  }
 },
 "nbformat": 4,
 "nbformat_minor": 2
}
