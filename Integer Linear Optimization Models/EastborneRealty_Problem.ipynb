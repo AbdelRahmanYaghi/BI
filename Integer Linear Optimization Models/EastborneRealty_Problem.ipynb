{
 "cells": [
  {
   "attachments": {},
   "cell_type": "markdown",
   "metadata": {},
   "source": [
    "Eastborne Realty has $2 million available for the purchase of new rental property. After an\n",
    "initial screening, Eastborne reduced the investment alternatives to townhouses and apartment buildings. Each townhouse can be purchased for $282,000, and five are available.\n",
    "Each apartment building can be purchased for $400,000, and the developer will construct\n",
    "as many buildings as Eastborne wants to purchase.\n",
    "Eastborne’s property manager can devote up to 140 hours per month to these new properties; each townhouse is expected to require 4 hours per month, and each apartment building\n",
    "is expected to require 40 hours per month. The annual cash flow, after deducting mortgage\n",
    "payments and operating expenses, is estimated to be $10,000 per townhouse and $15,000\n",
    "per apartment building. Eastborne’s owner would like to determine the number of townhouses and the number of apartment buildings to purchase to maximize annual cash flow."
   ]
  },
  {
   "attachments": {},
   "cell_type": "markdown",
   "metadata": {},
   "source": [
    "#### Sets and Indicies\n",
    "\n",
    "$\\mathcal{T}$: Types of investments <br>\n",
    "$t, t \\in \\mathcal{T}$: An index in set $\\mathcal{T}$ \n",
    "\n",
    "#### Data\n",
    "\n",
    "$q$: Money Budget given <br>\n",
    "$w$: Time Budget given <br>\n",
    "\n",
    "$H$: Column vector representing hours needed per month for each investment type <br>\n",
    "$P$: Column vector representing Purchase price for each investment type <br>\n",
    "$F$: Column vector representing Annual cash flow for each investment type <br>\n",
    "\n",
    "$h_t \\in H, t \\in \\mathcal{T}$: Hours needed per month for each investment type <br>\n",
    "$p_t \\in P, t \\in \\mathcal{T}$: Purchase price for each investment type <br>\n",
    "$f_t \\in F, t \\in \\mathcal{T}$: Annual cash flow for each investment type <br>\n",
    "\n",
    "#### Decision Variables\n",
    "\n",
    "$X$: Column vector representing Number of types of investments to purchase <br>\n",
    "\n",
    "$x_t, t \\in \\mathcal{T}$: Number of types of investments to purchase\n",
    "\n",
    "#### Function\n",
    "\n",
    "\\begin{align*}\n",
    "\\ {\\mathrm{maximize }} & \\; F^T X \\\\\n",
    "\\text{subject to:} \\\\\n",
    "& P^T X \\leq q\\\\ \n",
    "& H^T X \\leq w\\\\ \n",
    "& t_1 \\leq 5\\\\\n",
    "& x_i \\geq 0 \\; \\text{and integer} \\;, \\forall i\\in\\mathcal{T}\n",
    "\\end{align*}\n"
   ]
  },
  {
   "cell_type": "code",
   "execution_count": null,
   "metadata": {},
   "outputs": [],
   "source": [
    "# Sets\n",
    "Types_of_investment = {'townhouses', 'aparments'}\n",
    "\n",
    "\n",
    "budget_money = 2000000\n",
    "budget_time = 140\n",
    "price_cost = [282000, 400000]\n",
    "time_cost = [4, 40]\n",
    "limit_townhouses = 5\n",
    "\n",
    "revenue = [10000, 15000]\n",
    "\n",
    "max_revenue = "
   ]
  },
  {
   "cell_type": "markdown",
   "metadata": {},
   "source": [
    "maximize "
   ]
  }
 ],
 "metadata": {
  "kernelspec": {
   "display_name": "venv",
   "language": "python",
   "name": "python3"
  },
  "language_info": {
   "name": "python",
   "version": "3.10.10"
  },
  "vscode": {
   "interpreter": {
    "hash": "9682219fa65ec76ab0a712f3cc506ba5eb9451d445ad0b772c7739d17e7a6e46"
   }
  }
 },
 "nbformat": 4,
 "nbformat_minor": 2
}
