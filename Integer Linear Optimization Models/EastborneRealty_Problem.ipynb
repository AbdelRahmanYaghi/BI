{
 "cells": [
  {
   "cell_type": "markdown",
   "metadata": {},
   "source": [
    "#### Sets and Indicies\n",
    "\n",
    "$\\mathcal{T}$: Types of investments <br>\n",
    "$t, t \\in \\mathcal{T}$: An index in set $\\mathcal{T}$ \n",
    "\n",
    "#### Data - I got lost here :(\n",
    "$b$: Money Budget given <br>\n",
    "$t$: Time Budget given\n",
    "$$"
   ]
  },
  {
   "cell_type": "code",
   "execution_count": null,
   "metadata": {},
   "outputs": [],
   "source": [
    "# Sets\n",
    "Types_of_investment = {'townhouses', 'aparments'}\n",
    "\n",
    "\n",
    "budget_money = 2000000\n",
    "budget_time = 140\n",
    "price_cost = [282000, 400000]\n",
    "time_cost = [4, 40]\n",
    "limit_townhouses = 5\n",
    "\n",
    "revenue = [10000, 15000]\n",
    "\n",
    "max_revenue = "
   ]
  },
  {
   "cell_type": "markdown",
   "metadata": {},
   "source": [
    "maximize "
   ]
  }
 ],
 "metadata": {
  "language_info": {
   "name": "python"
  }
 },
 "nbformat": 4,
 "nbformat_minor": 2
}
