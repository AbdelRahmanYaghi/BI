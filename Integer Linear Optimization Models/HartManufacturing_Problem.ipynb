{
 "cells": [
  {
   "attachments": {},
   "cell_type": "markdown",
   "metadata": {},
   "source": [
    "## NOT SURE ABOUT THIS ONE'S SOLUTION"
   ]
  },
  {
   "attachments": {},
   "cell_type": "markdown",
   "metadata": {},
   "source": [
    "Hart Manufacturing makes three products.\n",
    "Each product requires manufacturing operations in three departments: A, B, and C. The\n",
    "labor-hour requirements, by department, are as follows:\n",
    "\n",
    "<table>\n",
    "  <tr>\n",
    "    <th>Department</th>\n",
    "    <th>Product 1</th>\n",
    "    <th>Product 2</th>\n",
    "    <th>Product 3</th>\n",
    "  </tr>\n",
    "  <tr>\n",
    "    <td>A</td>\n",
    "    <td>1.50</td>\n",
    "    <td>3.00</td>\n",
    "    <td>2.00</td>\n",
    "  </tr>\n",
    "  <tr>\n",
    "    <td>B</td>\n",
    "    <td>2.00</td>\n",
    "    <td>1.00</td>\n",
    "    <td>2.50</td>\n",
    "  </tr>\n",
    "  <tr>\n",
    "    <td>C</td>\n",
    "    <td>0.25</td>\n",
    "    <td>0.25</td>\n",
    "    <td>0.25</td>\n",
    "  </tr>\n",
    "</table>\n",
    "\n",
    "During the next production period the labor-hours available are 450 in department A,\n",
    "350 in department B, and 50 in department C. The profit contributions per unit are $25\n",
    "for product 1, $28 for product 2, and $30 for product 3.\n",
    "Formulate a linear programming model for maximizing total profit contribution."
   ]
  },
  {
   "attachments": {},
   "cell_type": "markdown",
   "metadata": {},
   "source": [
    "#### Sets and Indicies\n",
    "\n",
    "$\\mathcal{D}$: The Departments <br>\n",
    "$\\mathcal{P}$: The Products <br>\n",
    "\n",
    "$d \\in \\mathcal{D}$: An index in set $\\mathcal{D}$ <br>\n",
    "$p \\in \\mathcal{P}$: An index in set $\\mathcal{P}$ <br>\n",
    "\n",
    "#### Data\n",
    "\n",
    "$R$: Matrix representing the number of hours needed for each Product in $\\mathcal{P}$ for each department in $\\mathcal{D}$. <br>\n",
    "$r_{dp} \\in R, d \\in \\mathcal{D}, p \\in \\mathcal{P}$: An index in set $R$. <br>\n",
    "\n",
    "$H$: Column vector representing the number of hours available for each department in $\\mathcal{D}$. <br>\n",
    "$h_d \\in H, d \\in \\mathcal{D}$: An index in set $H$. <br>\n",
    "\n",
    "$F$: Column vector representing the profit per Product in $\\mathcal{P}$ <br>\n",
    "$f_p \\in F, p \\in \\mathcal{P}$: An index in set $P$. <br>\n",
    "\n",
    "#### Decision Variables\n",
    "\n",
    "$X$: Matrix representing the number of products for each department <br>\n",
    "$x_{dp} \\in X, d \\in \\mathcal{D}, p \\in \\mathcal{P}$: An index in the $X$ <br>\n",
    "\n",
    "#### Function\n",
    "\n",
    "\\begin{align*}\n",
    "\\ {\\mathrm{maximize }} & \\; (1_{||D||} X F^T) - (1_{||D||}  X R^T 1_{||D||}^T )\\\\\n",
    "\\text{subject to:} \\\\\n",
    "& X R^T 1_{||D||}^T \\leq H\\\\ \n",
    "& x_{iu} \\geq 0\\ \\text{and Integer}; \\forall i\\in\\mathcal{D}, \\forall u\\in\\mathcal{P}\n",
    "\\end{align*}\n"
   ]
  },
  {
   "cell_type": "code",
   "execution_count": null,
   "metadata": {},
   "outputs": [],
   "source": []
  }
 ],
 "metadata": {
  "kernelspec": {
   "display_name": "venv",
   "language": "python",
   "name": "python3"
  },
  "language_info": {
   "name": "python",
   "version": "3.10.10"
  },
  "orig_nbformat": 4,
  "vscode": {
   "interpreter": {
    "hash": "9682219fa65ec76ab0a712f3cc506ba5eb9451d445ad0b772c7739d17e7a6e46"
   }
  }
 },
 "nbformat": 4,
 "nbformat_minor": 2
}
