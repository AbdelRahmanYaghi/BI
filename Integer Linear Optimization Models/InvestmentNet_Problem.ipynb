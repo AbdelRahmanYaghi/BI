{
 "cells": [
  {
   "attachments": {},
   "cell_type": "markdown",
   "metadata": {},
   "source": [
    "Spencer Enterprises is attempting to choose among\n",
    "a series of new investment alternatives. The potential investment alternatives, the net\n",
    "present value of the future stream of returns, the capital requirements, and the available\n",
    "capital funds over the next three years are summarized as follows:\n",
    "\n",
    "<table>\n",
    "  <tr>\n",
    "    <th>Alternative</th>\n",
    "    <th>Net Present Value ($)</th>\n",
    "    <th>Year 1</th>\n",
    "    <th>Year 2</th>\n",
    "    <th>Year 3</th>\n",
    "  </tr>\n",
    "  <tr>\n",
    "    <td>Limited warehouse expansion</td>\n",
    "    <td>4,000</td>\n",
    "    <td>3,000</td>\n",
    "    <td>1,000</td>\n",
    "    <td>4,000</td>\n",
    "  </tr>\n",
    "  <tr>\n",
    "    <td>Extensive warehouse expansion</td>\n",
    "    <td>6,000</td>\n",
    "    <td>2,500</td>\n",
    "    <td>3,500</td>\n",
    "    <td>3,500</td>\n",
    "  </tr>\n",
    "  <tr>\n",
    "    <td>Test market new product</td>\n",
    "    <td>10,500</td>\n",
    "    <td>6,000</td>\n",
    "    <td>4,000</td>\n",
    "    <td>5,000</td>\n",
    "  </tr>\n",
    "  <tr>\n",
    "    <td>Advertising campaign</td>\n",
    "    <td>4,000</td>\n",
    "    <td>2,000</td>\n",
    "    <td>1,500</td>\n",
    "    <td>1,800</td>\n",
    "  </tr>\n",
    "  <tr>\n",
    "    <td>Basic research</td>\n",
    "    <td>8,000</td>\n",
    "    <td>5,000</td>\n",
    "    <td>1,000</td>\n",
    "    <td>4,000</td>\n",
    "  </tr>\n",
    "  <tr>\n",
    "    <td>Purchase new equipment</td>\n",
    "    <td>3,000</td>\n",
    "    <td>1,000</td>\n",
    "    <td>500</td>\n",
    "    <td>900</td>\n",
    "  </tr>\n",
    "  <tr>\n",
    "    <td>Capital funds available</td>\n",
    "    <td>-</td>\n",
    "    <td>10,500</td>\n",
    "    <td>7,000</td>\n",
    "    <td>8,750</td>\n",
    "  </tr>\n",
    "</table>\n",
    "\n",
    "Develop and solve an integer programming model for maximizing the net present value."
   ]
  },
  {
   "attachments": {},
   "cell_type": "markdown",
   "metadata": {},
   "source": [
    "<h4>Sets and indicies</h4>\n",
    "\n",
    "$\\mathcal{I}$: Investments, where each investment is denoted as $i$. |$\\mathcal{I}$| = $\\textbf{I}$<br>\n",
    "$\\mathcal{Y}$: Years, where each year is denoted as $y$. |$\\mathcal{Y}$| = $\\textbf{Y}$<br>\n",
    "\n",
    "<h4>Data</h4>\n",
    "\n",
    "$N$: Column vector representing Net present values for each Investment in $\\mathcal{I}$. Where each element is represented as $n_i$. <br>\n",
    "$R$: Matrix representing Capital Funds for each Investment in $\\mathcal{I}$ for each year in $\\mathcal{Y}$. Where each element is denoted as $r_{iy}$. <br>\n",
    "$A$: Column vector representing Available Capital Funds for each year in $\\mathcal{Y}$, where each item is denoted as $a_y$. <br>\n",
    "\n",
    "<h4>Decision Variables</h4>\n",
    "\n",
    "$X$: Which investments in $\\mathcal{I}$ to open, where each item is denoted as $x_i$. <br>\n",
    "\n",
    "<h4>Function</h4>\n",
    "\n",
    "\\begin{align*}\n",
    "\n",
    "\\mathrm{maximize} \\sum_{u=1}^{\\textbf{I}} x_in_i \\\\\n",
    "\\text{subject to} \\\\\n",
    "& \\sum_{u=0}^{\\textbf{I}}{x_ir_{iy}} \\leq a_y ; \\; \\forall y \\in \\mathcal{Y} \\\\\n",
    "& x_i \\in \\{1, 0\\} ; \\; \\forall i \\in \\mathcal{I}\n",
    "\\end{align*}\n",
    "\n",
    "\n",
    "\n"
   ]
  },
  {
   "cell_type": "code",
   "execution_count": 11,
   "metadata": {},
   "outputs": [],
   "source": [
    "from docplex.mp.model import Model\n",
    "\n",
    "I = 6\n",
    "Y = 3\n",
    "\n",
    "N = [4000, 6000, 10500, 4000, 8000, 3000]\n",
    "\n",
    "R = [\n",
    "    [3000, 1000, 4000],\n",
    "    [2500, 3500, 3500],\n",
    "    [6000, 4000, 5000],\n",
    "    [2000, 1500, 1800],\n",
    "    [5000, 1000, 4000],\n",
    "    [1000, 500 ,900]\n",
    "]\n",
    "\n",
    "A = [10500, 7000, 8750]\n",
    "\n",
    "m = Model(name = 'Investment Net')\n",
    "\n",
    "X = m.binary_var_list(len(N))\n",
    "\n",
    "for y in range(Y):\n",
    "    summation = 0\n",
    "    for u in range(I):\n",
    "        summation += (X[u] * R[u][y])\n",
    "    m.add_constraint(summation <= A[y])\n",
    "\n",
    "function_summation = 0\n",
    "for u in range(I):\n",
    "    function_summation += (X[u] * N[u])\n",
    "\n",
    "m.maximize(function_summation)"
   ]
  },
  {
   "cell_type": "code",
   "execution_count": 12,
   "metadata": {},
   "outputs": [
    {
     "name": "stdout",
     "output_type": "stream",
     "text": [
      "Version identifier: 22.1.1.0 | 2023-02-09 | 22d6266e5\n",
      "CPXPARAM_Read_DataCheck                          1\n",
      "Found incumbent of value 0.000000 after 0.00 sec. (0.00 ticks)\n",
      "Tried aggregator 1 time.\n",
      "MIP Presolve modified 13 coefficients.\n",
      "Reduced MIP has 3 rows, 6 columns, and 18 nonzeros.\n",
      "Reduced MIP has 6 binaries, 0 generals, 0 SOSs, and 0 indicators.\n",
      "Presolve time = 0.00 sec. (0.01 ticks)\n",
      "Probing time = 0.00 sec. (0.00 ticks)\n",
      "Tried aggregator 1 time.\n",
      "Detecting symmetries...\n",
      "Reduced MIP has 3 rows, 6 columns, and 18 nonzeros.\n",
      "Reduced MIP has 6 binaries, 0 generals, 0 SOSs, and 0 indicators.\n",
      "Presolve time = 0.00 sec. (0.01 ticks)\n",
      "Probing time = 0.00 sec. (0.00 ticks)\n",
      "Clique table members: 3.\n",
      "MIP emphasis: balance optimality and feasibility.\n",
      "MIP search method: dynamic search.\n",
      "Parallel mode: deterministic, using up to 6 threads.\n",
      "Root relaxation solution time = 0.03 sec. (0.01 ticks)\n",
      "\n",
      "        Nodes                                         Cuts/\n",
      "   Node  Left     Objective  IInf  Best Integer    Best Bound    ItCnt     Gap\n",
      "\n",
      "*     0+    0                            0.0000    35500.0000              --- \n",
      "*     0+    0                        17000.0000    35500.0000           108.82%\n",
      "      0     0    18480.0000     2    17000.0000    18480.0000        2    8.71%\n",
      "*     0     0      integral     0    17500.0000    17500.0000        4    0.00%\n",
      "Elapsed time = 0.11 sec. (0.08 ticks, tree = 0.01 MB, solutions = 3)\n",
      "\n",
      "Root node processing (before b&c):\n",
      "  Real time             =    0.11 sec. (0.08 ticks)\n",
      "Parallel b&c, 6 threads:\n",
      "  Real time             =    0.00 sec. (0.00 ticks)\n",
      "  Sync time (average)   =    0.00 sec.\n",
      "  Wait time (average)   =    0.00 sec.\n",
      "                          ------------\n",
      "Total (root+branch&cut) =    0.11 sec. (0.08 ticks)\n"
     ]
    },
    {
     "data": {
      "text/plain": [
       "docplex.mp.solution.SolveSolution(obj=17500,values={x3:1,x4:1,x6:1})"
      ]
     },
     "execution_count": 12,
     "metadata": {},
     "output_type": "execute_result"
    }
   ],
   "source": [
    "m.solve(log_output = True)"
   ]
  },
  {
   "cell_type": "code",
   "execution_count": 13,
   "metadata": {},
   "outputs": [
    {
     "name": "stdout",
     "output_type": "stream",
     "text": [
      "status  = integer optimal solution\n",
      "time    = 0.125 s.\n",
      "problem = MILP\n",
      "gap     = 0%\n",
      "\n",
      "objective: 17500\n",
      "status: OPTIMAL_SOLUTION(2)\n",
      "  x3=1\n",
      "  x4=1\n",
      "  x6=1\n"
     ]
    }
   ],
   "source": [
    "print(m.solve_details)\n",
    "m.print_solution()"
   ]
  }
 ],
 "metadata": {
  "kernelspec": {
   "display_name": "venv",
   "language": "python",
   "name": "python3"
  },
  "language_info": {
   "codemirror_mode": {
    "name": "ipython",
    "version": 3
   },
   "file_extension": ".py",
   "mimetype": "text/x-python",
   "name": "python",
   "nbconvert_exporter": "python",
   "pygments_lexer": "ipython3",
   "version": "3.10.10"
  },
  "orig_nbformat": 4,
  "vscode": {
   "interpreter": {
    "hash": "9682219fa65ec76ab0a712f3cc506ba5eb9451d445ad0b772c7739d17e7a6e46"
   }
  }
 },
 "nbformat": 4,
 "nbformat_minor": 2
}
