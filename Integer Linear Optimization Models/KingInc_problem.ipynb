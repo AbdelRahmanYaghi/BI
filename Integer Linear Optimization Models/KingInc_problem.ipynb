{
 "cells": [
  {
   "attachments": {},
   "cell_type": "markdown",
   "metadata": {},
   "source": [
    "King City Inc. manufactures machine tools. The\n",
    "production planner who oversees the production of two of King City’s machines needs\n",
    "to determine how many of each to produce this month. The two machines, TopLathe\n",
    "and BigPress, each require a certain common component. Each TopLathe requires 10\n",
    "of these components and each BigPress requires 7. Only 49 components are available\n",
    "this month. The sales department requires that the total number of machines produced\n",
    "in a month must be at least 5 (the number TopLathes plus the number BigPresses must\n",
    "be at least 5). The profit for a TopLathe is $50,000 and $34,000 for a BigPress."
   ]
  },
  {
   "attachments": {},
   "cell_type": "markdown",
   "metadata": {},
   "source": [
    "#### Sets and Indicies\n",
    "\n",
    "$\\mathcal{M}$: Machine types <br>\n",
    "$m, m \\in \\mathcal{M}$: An index in set $\\mathcal{M}$ <br>\n",
    "\n",
    "#### Data \n",
    "\n",
    "$a$: Available components <br>\n",
    "$m$: Minimum Required number of all machines to be created <br>\n",
    "$R$: A column vector representing the required common components for the Machine Types. <br>\n",
    "$r_m \\in R, m \\in \\mathcal{M}$: An index representing the required common components for each Machine Type.<br>\n",
    "$P$: A column vector representing the profit for the Machine Types. <br>\n",
    "$p_m \\in P, m \\in \\mathcal{M}$: An index representing the profit for each Machine Type.<br> \n",
    "\n",
    "#### Decision Variables\n",
    "\n",
    "$X$: A column vector representing the amount of machine to create. <br>\n",
    "$x_m \\in X, m \\in \\mathcal{M}$: An index representing the amount to create for each machine types <br>\n",
    "\n",
    "#### Function\n",
    "\n",
    "\\begin{align*}\n",
    "\\ {\\mathrm{maximize }} & \\; P^T X \\\\\n",
    "\\text{subject to:} \\\\\n",
    "& 1_{||X||}^T X \\leq m\\\\ \n",
    "& R^T X \\leq a\\\\ \n",
    "& x_i \\geq 0 \\; \\text{and integer} \\;, \\forall i\\in\\mathcal{M}\n",
    "\\end{align*}"
   ]
  },
  {
   "cell_type": "code",
   "execution_count": null,
   "metadata": {},
   "outputs": [],
   "source": []
  }
 ],
 "metadata": {
  "kernelspec": {
   "display_name": "venv",
   "language": "python",
   "name": "python3"
  },
  "language_info": {
   "name": "python",
   "version": "3.10.10"
  },
  "orig_nbformat": 4,
  "vscode": {
   "interpreter": {
    "hash": "9682219fa65ec76ab0a712f3cc506ba5eb9451d445ad0b772c7739d17e7a6e46"
   }
  }
 },
 "nbformat": 4,
 "nbformat_minor": 2
}
