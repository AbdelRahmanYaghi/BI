{
 "cells": [
  {
   "cell_type": "markdown",
   "metadata": {},
   "source": [
    "Dave has $100,000 to invest in 10 mutual fund\n",
    "alternatives with the following restrictions. For diversification, no more than $25,000\n",
    "can be invested in any one fund. If a fund is chosen for investment, then at least\n",
    "$10,000 will be invested in it. No more than two of the funds can be pure growth\n",
    "funds, and at least one pure bond fund must be selected. The total amount invested in\n",
    "pure bond funds must be at least as much as the amount invested in pure growth funds.\n",
    "Using the following expected returns, formulate and solve a model that will determine\n",
    "the investment strategy that will maximize expected annual return. What assumptions\n",
    "have you made in your model? How often would you expect to run your model?"
   ]
  },
  {
   "cell_type": "code",
   "execution_count": 32,
   "metadata": {},
   "outputs": [],
   "source": [
    "investment =[1,2,3,4,5,6,7,8,9,10]\n",
    "return_type = [\"Growth\",\"Growth\",\"Growth\",\"Growth\",\"Growth & Income\",\"Growth & Income\",\"Growth & Income\",\"Stock & Bond\",\"Bond\",\"Bond\"]\n",
    "return_pert = [0.0670,0.0765,0.0755,0.0745,0.0750,0.0645,0.0705,0.0690,0.0520,0.0590]\n",
    "return_type_int = [0, 0, 0, 0, 1, 1, 1, 2, 3, 3]\n",
    "\n",
    "import numpy as np\n",
    "def create_dummies(int_list):\n",
    "    dummies = np.zeros((len(int_list), len(np.unique(int_list))))\n",
    "\n",
    "    for i in range(len(int_list)):\n",
    "        dummies[i, int_list[i]] = 1\n",
    "\n",
    "    return dummies\n",
    "\n",
    "dummies = create_dummies(return_type_int)"
   ]
  },
  {
   "cell_type": "code",
   "execution_count": 64,
   "metadata": {},
   "outputs": [],
   "source": [
    "from docplex.mp.model import Model\n",
    "\n",
    "m = Model()\n",
    "X = m.integer_var_list(investment, lb = 0, ub = 25000, name = 'Amount Investment')\n",
    "XX = m.binary_var_list(investment, name = 'Chosen Investment')\n",
    "\n",
    "for i in range(len(X)):\n",
    "    m.add_indicator(XX[i], X[i] >= 1, 1)\n",
    "    m.add_indicator(XX[i], X[i] <= 0, 0)\n",
    "\n",
    "for i in range(len(X)):\n",
    "    m.add_constraint(10000 * XX[i] <= X[i])\n",
    "\n",
    "m.add_constraint(sum([X[i] for i in range(len(X))]) <= 100000)\n",
    "m.add_constraint(sum([XX[i] * dummies[i][0] for i in range(len(X))]) <= 2)\n",
    "m.add_constraint(sum([XX[i] * dummies[i][3] for i in range(len(X))]) >= 1)\n",
    "\n",
    "m.maximize(sum([X[i] * return_pert[i] for i in      range(len(X))]))"
   ]
  },
  {
   "cell_type": "code",
   "execution_count": 65,
   "metadata": {},
   "outputs": [
    {
     "data": {
      "text/plain": [
       "'MutualFunds.lp'"
      ]
     },
     "execution_count": 65,
     "metadata": {},
     "output_type": "execute_result"
    }
   ],
   "source": [
    "m.export_as_lp('MutualFunds.lp')"
   ]
  },
  {
   "cell_type": "code",
   "execution_count": 66,
   "metadata": {},
   "outputs": [
    {
     "name": "stdout",
     "output_type": "stream",
     "text": [
      "Version identifier: 22.1.1.0 | 2023-02-11 | 22d6266e5\n",
      "CPXPARAM_Read_DataCheck                          1\n",
      "Tried aggregator 1 time.\n",
      "Reduced MIP has 23 rows, 20 columns, and 56 nonzeros.\n",
      "Reduced MIP has 10 binaries, 10 generals, 0 SOSs, and 10 indicators.\n",
      "Presolve time = 0.00 sec. (0.03 ticks)\n",
      "Found incumbent of value 590.000000 after 0.01 sec. (0.08 ticks)\n",
      "Probing time = 0.00 sec. (0.00 ticks)\n",
      "Tried aggregator 1 time.\n",
      "Detecting symmetries...\n",
      "MIP Presolve eliminated 10 rows and 0 columns.\n",
      "Reduced MIP has 13 rows, 20 columns, and 36 nonzeros.\n",
      "Reduced MIP has 10 binaries, 10 generals, 0 SOSs, and 10 indicators.\n",
      "Presolve time = 0.01 sec. (0.04 ticks)\n",
      "Probing time = 0.00 sec. (0.00 ticks)\n",
      "Clique table members: 1.\n",
      "MIP emphasis: balance optimality and feasibility.\n",
      "MIP search method: dynamic search.\n",
      "Parallel mode: deterministic, using up to 4 threads.\n",
      "Root relaxation solution time = 0.00 sec. (0.02 ticks)\n",
      "\n",
      "        Nodes                                         Cuts/\n",
      "   Node  Left     Objective  IInf  Best Integer    Best Bound    ItCnt     Gap\n",
      "\n",
      "*     0+    0                          590.0000    17087.5000              --- \n",
      "      0     0     7382.5000     4      590.0000     7382.5000        4     --- \n",
      "      0     0     7322.5000     1      590.0000   Impl Bds: 4        9     --- \n",
      "*     0+    0                         7322.5000     7322.5000             0.00%\n",
      "      0     0        cutoff           7322.5000     7322.5000        9    0.00%\n",
      "Elapsed time = 0.13 sec. (0.24 ticks, tree = 0.01 MB, solutions = 2)\n",
      "\n",
      "Implied bound cuts applied:  4\n",
      "\n",
      "Root node processing (before b&c):\n",
      "  Real time             =    0.14 sec. (0.24 ticks)\n",
      "Parallel b&c, 4 threads:\n",
      "  Real time             =    0.00 sec. (0.00 ticks)\n",
      "  Sync time (average)   =    0.00 sec.\n",
      "  Wait time (average)   =    0.00 sec.\n",
      "                          ------------\n",
      "Total (root+branch&cut) =    0.14 sec. (0.24 ticks)\n"
     ]
    }
   ],
   "source": [
    "solution = m.solve(log_output=True)"
   ]
  },
  {
   "cell_type": "code",
   "execution_count": 67,
   "metadata": {},
   "outputs": [
    {
     "name": "stdout",
     "output_type": "stream",
     "text": [
      "solution for: docplex_model19\n",
      "objective: 7322.5\n",
      "status: OPTIMAL_SOLUTION(2)\n",
      "Amount Investment_2=25000\n",
      "Amount Investment_3=25000\n",
      "Amount Investment_5=25000\n",
      "Amount Investment_7=15000\n",
      "Amount Investment_10=10000\n",
      "Chosen Investment_2=1\n",
      "Chosen Investment_3=1\n",
      "Chosen Investment_5=1\n",
      "Chosen Investment_7=1\n",
      "Chosen Investment_10=1\n",
      "\n"
     ]
    }
   ],
   "source": [
    "print(solution)"
   ]
  }
 ],
 "metadata": {
  "kernelspec": {
   "display_name": "venv",
   "language": "python",
   "name": "python3"
  },
  "language_info": {
   "codemirror_mode": {
    "name": "ipython",
    "version": 3
   },
   "file_extension": ".py",
   "mimetype": "text/x-python",
   "name": "python",
   "nbconvert_exporter": "python",
   "pygments_lexer": "ipython3",
   "version": "3.10.12"
  }
 },
 "nbformat": 4,
 "nbformat_minor": 2
}
