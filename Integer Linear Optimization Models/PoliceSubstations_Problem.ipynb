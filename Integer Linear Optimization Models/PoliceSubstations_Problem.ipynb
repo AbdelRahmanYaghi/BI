{
 "cells": [
  {
   "attachments": {},
   "cell_type": "markdown",
   "metadata": {},
   "source": [
    "Locating Police Substations. Grave City is considering the relocation of several\n",
    "police substations to obtain better enforcement in high-crime areas. The locations\n",
    "under consideration together with the areas that can be covered from these locations\n",
    "are given in the following table:\n",
    "<table>\n",
    "  <thead>\n",
    "    <tr>\n",
    "      <th>Potential Locations <br>\n",
    "      for Substations</th>\n",
    "      <th>Areas Covered</th>\n",
    "    </tr>\n",
    "  </thead>\n",
    "  <tbody>\n",
    "    <tr>\n",
    "      <td>A</td>\n",
    "      <td>1, 5, 7</td>\n",
    "    </tr>\n",
    "    <tr>\n",
    "      <td>B</td>\n",
    "      <td>1, 2, 5, 7</td>\n",
    "    </tr>\n",
    "    <tr>\n",
    "      <td>C</td>\n",
    "      <td>1, 3, 5</td>\n",
    "    </tr>\n",
    "    <tr>\n",
    "      <td>D</td>\n",
    "      <td>2, 4, 5</td>\n",
    "    </tr>\n",
    "    <tr>\n",
    "      <td>E</td>\n",
    "      <td>3, 4, 6</td>\n",
    "    </tr>\n",
    "    <tr>\n",
    "      <td>F</td>\n",
    "      <td>4, 5, 6</td>\n",
    "    </tr>\n",
    "    <tr>\n",
    "      <td>G</td>\n",
    "      <td>1, 5, 6, 7</td>\n",
    "    </tr>\n",
    "  </tbody>\n",
    "</table>\n",
    "\n",
    "Formulate an integer programming model that could be used to find the minimum\n",
    "number of locations necessary to provide coverage to all areas."
   ]
  },
  {
   "attachments": {},
   "cell_type": "markdown",
   "metadata": {},
   "source": [
    "<h4> Sets and Indicies </h4>\n",
    "\n",
    "$\\mathcal{L}$: Locations to open a station in, where each location is represnted as $l$. |$\\mathcal{L}$| = $\\textbf{L}$ <br>\n",
    "$\\mathcal{A}$: Areas to cover, where each area is represnted as $a$. |$\\mathcal{A}$| = $\\textbf{A}$ <br>\n",
    "\n",
    "<h4> Data </h4>\n",
    "\n",
    "$C$: a matrix representing which areas in $\\mathcal{A}$ can be covered by each location in $\\mathcal{L}$, where each element is represented as $c_{la}$.\n",
    "\n",
    "<h4> Decision Variables </h4>\n",
    "\n",
    "$X$: A column vector respresnting which locations to open a station in. <br>\n",
    "\n",
    "<h4> Function </h4>\n",
    "\n",
    "\\begin{align*}\n",
    "\\ \\mathrm{minimize} \\sum_{i=1}^{\\textbf{L}}{x_{i}} \\\\\n",
    "\\ \\text{subject to} \\\\\n",
    "& \\sum_{i=1}^{\\textbf{L}} c_{ia} * x_{i} \\geq 1 ; \\; \\forall a \\in \\mathcal{A} \\\\\n",
    "& x_{l} \\in \\{1, 0\\} ; \\; \\forall l \\in \\mathcal{L}\n",
    "\\end{align*}"
   ]
  },
  {
   "cell_type": "code",
   "execution_count": 37,
   "metadata": {},
   "outputs": [
    {
     "data": {
      "text/plain": [
       "'PoliceSubstation.lp'"
      ]
     },
     "execution_count": 37,
     "metadata": {},
     "output_type": "execute_result"
    }
   ],
   "source": [
    "from docplex.mp.model import Model\n",
    "import numpy as np\n",
    "import json\n",
    "\n",
    "### Numbers too large to solve.\n",
    "L = 7\n",
    "A = 7\n",
    "\n",
    "C = [\n",
    "\t[1, 0, 0, 0, 1, 0, 1],\n",
    "\t[1, 1, 0, 0, 1, 0, 1],\n",
    "\t[1, 0, 1, 0, 1, 0, 0],\n",
    "\t[0, 1, 0, 1, 1, 0, 0],\n",
    "\t[0, 0, 1, 1, 0, 1, 1],\n",
    "\t[0, 0, 0, 1, 1, 1, 0],\n",
    "\t[1, 0, 0, 0, 1, 1, 1]\n",
    "]\n",
    "\n",
    "m = Model(name = 'Assignment')\n",
    "\n",
    "dv = m.integer_var_list(L, name = 'x')\n",
    "\n",
    "for a in range(A):\n",
    "    summation = 0\n",
    "    for i in range(L):\n",
    "        summation += C[i][a] * dv[i] \n",
    "\n",
    "    m.add_constraint(summation >= 1)\n",
    "\n",
    "function_summation = 0\n",
    "\n",
    "for i in range(L):\n",
    "    function_summation += dv[i] \n",
    "\n",
    "m.minimize(function_summation)\n",
    "\n",
    "m.export_as_lp(\"PoliceSubstation.lp\")"
   ]
  },
  {
   "cell_type": "code",
   "execution_count": 38,
   "metadata": {},
   "outputs": [
    {
     "name": "stdout",
     "output_type": "stream",
     "text": [
      "Version identifier: 22.1.1.0 | 2023-02-09 | 22d6266e5\n",
      "CPXPARAM_Read_DataCheck                          1\n",
      "Found incumbent of value 5.000000 after 0.00 sec. (0.00 ticks)\n",
      "Tried aggregator 1 time.\n",
      "MIP Presolve eliminated 2 rows and 2 columns.\n",
      "Reduced MIP has 5 rows, 5 columns, and 11 nonzeros.\n",
      "Reduced MIP has 5 binaries, 0 generals, 0 SOSs, and 0 indicators.\n",
      "Presolve time = 0.00 sec. (0.01 ticks)\n",
      "Probing time = 0.00 sec. (0.00 ticks)\n",
      "Tried aggregator 1 time.\n",
      "Detecting symmetries...\n",
      "Reduced MIP has 5 rows, 5 columns, and 11 nonzeros.\n",
      "Reduced MIP has 5 binaries, 0 generals, 0 SOSs, and 0 indicators.\n",
      "Presolve time = 0.00 sec. (0.01 ticks)\n",
      "Probing time = 0.00 sec. (0.00 ticks)\n",
      "Clique table members: 4.\n",
      "MIP emphasis: balance optimality and feasibility.\n",
      "MIP search method: dynamic search.\n",
      "Parallel mode: deterministic, using up to 6 threads.\n",
      "Root relaxation solution time = 0.00 sec. (0.01 ticks)\n",
      "\n",
      "        Nodes                                         Cuts/\n",
      "   Node  Left     Objective  IInf  Best Integer    Best Bound    ItCnt     Gap\n",
      "\n",
      "*     0+    0                            4.0000        0.0000           100.00%\n",
      "*     0+    0                            3.0000        0.0000           100.00%\n",
      "*     0     0      integral     0        2.0000        2.0000        4    0.00%\n",
      "Elapsed time = 0.02 sec. (0.04 ticks, tree = 0.00 MB, solutions = 3)\n",
      "\n",
      "Root node processing (before b&c):\n",
      "  Real time             =    0.02 sec. (0.04 ticks)\n",
      "Parallel b&c, 6 threads:\n",
      "  Real time             =    0.00 sec. (0.00 ticks)\n",
      "  Sync time (average)   =    0.00 sec.\n",
      "  Wait time (average)   =    0.00 sec.\n",
      "                          ------------\n",
      "Total (root+branch&cut) =    0.02 sec. (0.04 ticks)\n"
     ]
    },
    {
     "data": {
      "text/plain": [
       "docplex.mp.solution.SolveSolution(obj=2,values={x_1:1,x_4:1})"
      ]
     },
     "execution_count": 38,
     "metadata": {},
     "output_type": "execute_result"
    }
   ],
   "source": [
    "m.solve(log_output = True)"
   ]
  },
  {
   "cell_type": "code",
   "execution_count": 39,
   "metadata": {},
   "outputs": [
    {
     "name": "stdout",
     "output_type": "stream",
     "text": [
      "JobSolveStatus.OPTIMAL_SOLUTION\n",
      "objective: 2\n",
      "status: OPTIMAL_SOLUTION(2)\n",
      "  x_1=1\n",
      "  x_4=1\n"
     ]
    }
   ],
   "source": [
    "print(m.solve_status)\n",
    "m.print_solution()"
   ]
  }
 ],
 "metadata": {
  "kernelspec": {
   "display_name": "venv",
   "language": "python",
   "name": "python3"
  },
  "language_info": {
   "codemirror_mode": {
    "name": "ipython",
    "version": 3
   },
   "file_extension": ".py",
   "mimetype": "text/x-python",
   "name": "python",
   "nbconvert_exporter": "python",
   "pygments_lexer": "ipython3",
   "version": "3.10.10"
  },
  "orig_nbformat": 4,
  "vscode": {
   "interpreter": {
    "hash": "9682219fa65ec76ab0a712f3cc506ba5eb9451d445ad0b772c7739d17e7a6e46"
   }
  }
 },
 "nbformat": 4,
 "nbformat_minor": 2
}
