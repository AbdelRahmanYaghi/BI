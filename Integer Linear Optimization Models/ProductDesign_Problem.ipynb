{
 "cells": [
  {
   "cell_type": "markdown",
   "metadata": {},
   "source": [
    "Burnside Marketing Research conducted a study for Barker Foods\n",
    "on several formulations for a new dry cereal. Three attributes were found to be most\n",
    "influential in determining which cereal had the best taste: ratio of wheat to corn\n",
    "in the cereal flake, type of sweetener (sugar, honey, or artificial), and the presence\n",
    "or absence of flavor bits. Seven children participated in taste tests and provided\n",
    "the following part-worths for the attributes (see Section 13.4 for a discussion of\n",
    "part-worths):\n",
    "\n",
    "a. Suppose that the overall utility (sum of part-worths) of the current favorite cereal\n",
    "is 75 for each child. What product design will maximize the number of children in\n",
    "the sample who prefer the new dry cereal? Note that a child will prefer the new dry\n",
    "cereal only if its overall utility is at least 1 part-worth larger than the utility of their\n",
    "current preferred cereal.\n",
    "\n",
    "b. Assume that the overall utility of the current favorite cereal for children 1 to 4\n",
    "is 70, and the overall utility of the current favorite cereal for children 5 to 7 is 80.\n",
    "What product design will maximize the number of children in the sample who\n",
    "prefer the new dry cereal? Note that a child will prefer the new dry cereal only if\n",
    "its overall utility is at least 1 part-worth larger than the utility of their current pre-\n",
    "ferred cereal."
   ]
  },
  {
   "cell_type": "markdown",
   "metadata": {},
   "source": [
    "### Maybe correct?"
   ]
  },
  {
   "cell_type": "code",
   "execution_count": 8,
   "metadata": {},
   "outputs": [],
   "source": [
    "# Child     |       Wheat/Corn  |        Sweetener      |      Flavor Bits\n",
    "#           | Low High          | Sugar Honey Artificial| Present Absent\n",
    "# 1         | 15 35             | 30 40 25              | 15 9\n",
    "# 2         | 30 20             | 40 35 35              | 8 11\n",
    "# 3         | 40 25             | 20 40 10              | 7 14\n",
    "# 4         | 35 30             | 25 20 30              | 15 18\n",
    "# 5         | 25 40             | 40 20 35              | 18 14\n",
    "# 6         | 20 25             | 20 35 30              | 9 16\n",
    "# 7         | 30 15             | 25 40 40              | 20 11\n",
    "\n",
    "Child = [1, 2, 3, 4, 5, 6, 7]\n",
    "Wheat_opts = ['Low', 'High']\n",
    "Sweetener_opts = ['Sugar', 'Honey', 'Artificial']\n",
    "Flavor_opts = ['Present', 'Absent']\n",
    "\n",
    "Wheat = [[15,30,40,35,25,20,30],\n",
    "         [35,20,25,30,40,25,15]]\n",
    "\n",
    "Sweetener = [[30,40,20,25,40,20,25],\n",
    "             [40,35,40,20,20,35,40],\n",
    "             [25,35,10,30,35,30,40]]\n",
    "\n",
    "Flavor = [[15,8,7,15,18,9,20],\n",
    "          [9, 11,14,18,14,16,11]]"
   ]
  },
  {
   "cell_type": "code",
   "execution_count": 12,
   "metadata": {},
   "outputs": [],
   "source": [
    "from docplex.mp.model import Model\n",
    "\n",
    "m = Model()\n",
    "\n",
    "X_Wheat = m.binary_var_list(Wheat_opts)\n",
    "X_Sweetener = m.binary_var_list(Sweetener_opts)\n",
    "X_Flavor = m.binary_var_list(Flavor_opts)\n",
    "\n",
    "# Y_children = m.integer_var_list(len(Child), name = 'Child')\n",
    "YY_children = m.binary_var_list(Child, name = 'Child')\n",
    "\n",
    "m.add_constraint(sum(X_Wheat) == 1)\n",
    "m.add_constraint(sum(X_Sweetener) == 1)\n",
    "m.add_constraint(sum(X_Flavor) == 1)\n",
    "\n",
    "for child in range(len(YY_children)):\n",
    "    summation = 0\n",
    "    for wheet_opt in range(len(Wheat_opts)):\n",
    "        summation += X_Wheat[wheet_opt] * Wheat[wheet_opt][child]\n",
    "\n",
    "    for sweetener_opt in range(len(Sweetener_opts)):\n",
    "        summation += X_Sweetener[sweetener_opt] * Sweetener[sweetener_opt][child]\n",
    "\n",
    "    for flavor_opt in range(len(Flavor_opts)):\n",
    "        summation += X_Flavor[flavor_opt] * Flavor[flavor_opt][child]\n",
    "\n",
    "    m.add_indicator(YY_children[child], summation >= 76)\n",
    "\n",
    "m.export_as_lp('ProductDesign.lp')\n",
    "m.maximize(sum(YY_children))"
   ]
  },
  {
   "cell_type": "code",
   "execution_count": 13,
   "metadata": {},
   "outputs": [
    {
     "name": "stdout",
     "output_type": "stream",
     "text": [
      "Version identifier: 22.1.1.0 | 2023-02-11 | 22d6266e5\n",
      "CPXPARAM_Read_DataCheck                          1\n",
      "Found incumbent of value 0.000000 after 0.00 sec. (0.00 ticks)\n",
      "Tried aggregator 2 times.\n",
      "MIP Presolve modified 3 coefficients.\n",
      "Aggregator did 2 substitutions.\n",
      "Reduced MIP has 15 rows, 19 columns, and 58 nonzeros.\n",
      "Reduced MIP has 12 binaries, 0 generals, 0 SOSs, and 0 indicators.\n",
      "Presolve time = 0.01 sec. (0.08 ticks)\n",
      "Probing time = 0.00 sec. (0.02 ticks)\n",
      "Cover probing fixed 0 vars, tightened 6 bounds.\n",
      "Tried aggregator 1 time.\n",
      "Detecting symmetries...\n",
      "MIP Presolve modified 12 coefficients.\n",
      "Reduced MIP has 15 rows, 19 columns, and 58 nonzeros.\n",
      "Reduced MIP has 12 binaries, 0 generals, 0 SOSs, and 0 indicators.\n",
      "Presolve time = 0.01 sec. (0.04 ticks)\n",
      "Probing time = 0.00 sec. (0.01 ticks)\n",
      "Clique table members: 14.\n",
      "MIP emphasis: balance optimality and feasibility.\n",
      "MIP search method: dynamic search.\n",
      "Parallel mode: deterministic, using up to 4 threads.\n",
      "Root relaxation solution time = 0.00 sec. (0.05 ticks)\n",
      "\n",
      "        Nodes                                         Cuts/\n",
      "   Node  Left     Objective  IInf  Best Integer    Best Bound    ItCnt     Gap\n",
      "\n",
      "*     0+    0                            0.0000        7.0000              --- \n",
      "*     0+    0                            2.0000        7.0000           250.00%\n",
      "      0     0        5.7610     8        2.0000        5.7610       12  188.05%\n",
      "*     0+    0                            3.0000        5.7610            92.03%\n",
      "*     0+    0                            3.0000                            --- \n",
      "      0     0        cutoff              3.0000                     27     --- \n",
      "Elapsed time = 0.16 sec. (0.56 ticks, tree = 0.01 MB, solutions = 3)\n",
      "\n",
      "Clique cuts applied:  4\n",
      "Cover cuts applied:  2\n",
      "Flow cuts applied:  2\n",
      "Mixed integer rounding cuts applied:  1\n",
      "Lift and project cuts applied:  1\n",
      "Gomory fractional cuts applied:  3\n",
      "\n",
      "Root node processing (before b&c):\n",
      "  Real time             =    0.18 sec. (0.56 ticks)\n",
      "Parallel b&c, 4 threads:\n",
      "  Real time             =    0.00 sec. (0.00 ticks)\n",
      "  Sync time (average)   =    0.00 sec.\n",
      "  Wait time (average)   =    0.00 sec.\n",
      "                          ------------\n",
      "Total (root+branch&cut) =    0.18 sec. (0.56 ticks)\n"
     ]
    }
   ],
   "source": [
    "solution = m.solve(log_output = True)"
   ]
  },
  {
   "cell_type": "code",
   "execution_count": 14,
   "metadata": {},
   "outputs": [
    {
     "name": "stdout",
     "output_type": "stream",
     "text": [
      "objective: 3\n",
      "status: OPTIMAL_SOLUTION(2)\n",
      "  Low=1\n",
      "  Honey=1\n",
      "  Absent=1\n",
      "  Child_2=1\n",
      "  Child_3=1\n",
      "  Child_7=1\n"
     ]
    }
   ],
   "source": [
    "m.print_solution()"
   ]
  }
 ],
 "metadata": {
  "kernelspec": {
   "display_name": "venv",
   "language": "python",
   "name": "python3"
  },
  "language_info": {
   "codemirror_mode": {
    "name": "ipython",
    "version": 3
   },
   "file_extension": ".py",
   "mimetype": "text/x-python",
   "name": "python",
   "nbconvert_exporter": "python",
   "pygments_lexer": "ipython3",
   "version": "3.10.12"
  }
 },
 "nbformat": 4,
 "nbformat_minor": 2
}
