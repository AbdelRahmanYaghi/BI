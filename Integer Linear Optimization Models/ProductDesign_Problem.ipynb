{
 "cells": [
  {
   "cell_type": "markdown",
   "metadata": {},
   "source": [
    "Burnside Marketing Research conducted a study for Barker Foods\n",
    "on several formulations for a new dry cereal. Three attributes were found to be most\n",
    "influential in determining which cereal had the best taste: ratio of wheat to corn\n",
    "in the cereal flake, type of sweetener (sugar, honey, or artificial), and the presence\n",
    "or absence of flavor bits. Seven children participated in taste tests and provided\n",
    "the following part-worths for the attributes (see Section 13.4 for a discussion of\n",
    "part-worths):\n",
    "\n",
    "a. Suppose that the overall utility (sum of part-worths) of the current favorite cereal\n",
    "is 75 for each child. What product design will maximize the number of children in\n",
    "the sample who prefer the new dry cereal? Note that a child will prefer the new dry\n",
    "cereal only if its overall utility is at least 1 part-worth larger than the utility of their\n",
    "current preferred cereal.\n",
    "\n",
    "b. Assume that the overall utility of the current favorite cereal for children 1 to 4\n",
    "is 70, and the overall utility of the current favorite cereal for children 5 to 7 is 80.\n",
    "What product design will maximize the number of children in the sample who\n",
    "prefer the new dry cereal? Note that a child will prefer the new dry cereal only if\n",
    "its overall utility is at least 1 part-worth larger than the utility of their current pre-\n",
    "ferred cereal."
   ]
  },
  {
   "cell_type": "code",
   "execution_count": 16,
   "metadata": {},
   "outputs": [],
   "source": [
    "# Child     |       Wheat/Corn  |        Sweetener      |      Flavor Bits\n",
    "#           | Low High          | Sugar Honey Artificial| Present Absent\n",
    "# 1         | 15 35             | 30 40 25              | 15 9\n",
    "# 2         | 30 20             | 40 35 35              | 8 11\n",
    "# 3         | 40 25             | 20 40 10              | 7 14\n",
    "# 4         | 35 30             | 25 20 30              | 15 18\n",
    "# 5         | 25 40             | 40 20 35              | 18 14\n",
    "# 6         | 20 25             | 20 35 30              | 9 16\n",
    "# 7         | 30 15             | 25 40 40              | 20 11\n",
    "\n",
    "Child = [1, 2, 3, 4, 5, 6, 7]\n",
    "Wheat_opts = {'Low', 'High'}\n",
    "Sweetener_opts = {'Sugar', 'Honey', 'Artificial'}\n",
    "Flavor_opts = {'Present', 'Absent'}\n",
    "\n",
    "Wheat = [[15,30,40,35,25,20,30],\n",
    "         [35,20,25,30,40,25,15]]\n",
    "\n",
    "Sweetener = [[30,40,20,25,40,20,25],\n",
    "             [40,35,40,20,20,35,40],\n",
    "             [25,35,10,30,35,30,40]]\n",
    "\n",
    "Flavor = [[15,8,7,15,18,9,20],\n",
    "          [9, 11,14,18,14,16,11]]"
   ]
  },
  {
   "cell_type": "code",
   "execution_count": 26,
   "metadata": {},
   "outputs": [],
   "source": [
    "from docplex.mp.model import Model\n",
    "\n",
    "m = Model()\n",
    "\n",
    "X_Wheat = m.binary_var_list(Wheat_opts)\n",
    "X_Sweetener = m.binary_var_list(Sweetener_opts)\n",
    "X_Flavor = m.binary_var_list(Flavor_opts)\n",
    "\n",
    "# Y_children = m.integer_var_list(len(Child), name = 'Child')\n",
    "YY_children = m.binary_var_list(len(Child), name = 'Child')\n",
    "\n",
    "m.add_constraint(sum(X_Wheat) == 1)\n",
    "m.add_constraint(sum(X_Sweetener) == 1)\n",
    "m.add_constraint(sum(X_Flavor) == 1)\n",
    "\n",
    "for child in range(len(YY_children)):\n",
    "    summation = 0\n",
    "    for wheet_opt in range(len(Wheat_opts)):\n",
    "        summation += X_Wheat[wheet_opt] * Wheat[wheet_opt][child]\n",
    "\n",
    "    for sweetener_opt in range(len(Sweetener_opts)):\n",
    "        summation += X_Sweetener[sweetener_opt] * Sweetener[sweetener_opt][child]\n",
    "\n",
    "    for flavor_opt in range(len(Flavor_opts)):\n",
    "        summation += X_Flavor[flavor_opt] * Flavor[flavor_opt][child]\n",
    "\n",
    "    m.add_constraint(YY_children*76 >= summation)\n",
    "\n",
    "m.export_as_lp('ProductDesign.lp')\n",
    "m.maximize(sum(YY_children))"
   ]
  },
  {
   "cell_type": "code",
   "execution_count": 22,
   "metadata": {},
   "outputs": [
    {
     "name": "stdout",
     "output_type": "stream",
     "text": [
      "Version identifier: 22.1.1.0 | 2023-02-11 | 22d6266e5\n",
      "CPXPARAM_Read_DataCheck                          1\n",
      "\n",
      "Root node processing (before b&c):\n",
      "  Real time             =    0.00 sec. (0.00 ticks)\n",
      "Parallel b&c, 4 threads:\n",
      "  Real time             =    0.00 sec. (0.00 ticks)\n",
      "  Sync time (average)   =    0.00 sec.\n",
      "  Wait time (average)   =    0.00 sec.\n",
      "                          ------------\n",
      "Total (root+branch&cut) =    0.00 sec. (0.00 ticks)\n"
     ]
    }
   ],
   "source": [
    "solution = m.solve(log_output = True)"
   ]
  },
  {
   "cell_type": "code",
   "execution_count": 25,
   "metadata": {},
   "outputs": [
    {
     "ename": "DOcplexException",
     "evalue": "Model<docplex_model15> did not solve successfully",
     "output_type": "error",
     "traceback": [
      "\u001b[0;31m---------------------------------------------------------------------------\u001b[0m",
      "\u001b[0;31mDOcplexException\u001b[0m                          Traceback (most recent call last)",
      "Cell \u001b[0;32mIn[25], line 1\u001b[0m\n\u001b[0;32m----> 1\u001b[0m \u001b[43mm\u001b[49m\u001b[38;5;241;43m.\u001b[39;49m\u001b[43mprint_solution\u001b[49m\u001b[43m(\u001b[49m\u001b[43m)\u001b[49m\n",
      "File \u001b[0;32m~/GithubRepos/BI/venv/lib/python3.10/site-packages/docplex/mp/model.py:6081\u001b[0m, in \u001b[0;36mModel.print_solution\u001b[0;34m(self, print_zeros, solution_header_fmt, var_value_fmt, **kwargs)\u001b[0m\n\u001b[1;32m   6063\u001b[0m \u001b[38;5;28;01mdef\u001b[39;00m \u001b[38;5;21mprint_solution\u001b[39m(\u001b[38;5;28mself\u001b[39m, print_zeros\u001b[38;5;241m=\u001b[39m\u001b[38;5;28;01mFalse\u001b[39;00m,\n\u001b[1;32m   6064\u001b[0m                    solution_header_fmt\u001b[38;5;241m=\u001b[39m\u001b[38;5;28;01mNone\u001b[39;00m,\n\u001b[1;32m   6065\u001b[0m                    var_value_fmt\u001b[38;5;241m=\u001b[39m\u001b[38;5;28;01mNone\u001b[39;00m,\n\u001b[1;32m   6066\u001b[0m                    \u001b[38;5;241m*\u001b[39m\u001b[38;5;241m*\u001b[39mkwargs):\n\u001b[1;32m   6067\u001b[0m \u001b[38;5;250m    \u001b[39m\u001b[38;5;124;03m\"\"\"  Prints the values of the model variables after a solve.\u001b[39;00m\n\u001b[1;32m   6068\u001b[0m \n\u001b[1;32m   6069\u001b[0m \u001b[38;5;124;03m    Only valid after a successful solve. If the model has not been solved successfully, an\u001b[39;00m\n\u001b[0;32m   (...)\u001b[0m\n\u001b[1;32m   6079\u001b[0m \u001b[38;5;124;03m        :func:`docplex.mp.solution.SolveSolution.display`\u001b[39;00m\n\u001b[1;32m   6080\u001b[0m \u001b[38;5;124;03m    \"\"\"\u001b[39;00m\n\u001b[0;32m-> 6081\u001b[0m     \u001b[38;5;28;43mself\u001b[39;49m\u001b[38;5;241;43m.\u001b[39;49m\u001b[43m_check_has_solution\u001b[49m\u001b[43m(\u001b[49m\u001b[43m)\u001b[49m\n\u001b[1;32m   6082\u001b[0m     \u001b[38;5;28;01mif\u001b[39;00m var_value_fmt \u001b[38;5;129;01mis\u001b[39;00m \u001b[38;5;28;01mNone\u001b[39;00m:\n\u001b[1;32m   6083\u001b[0m         \u001b[38;5;28;01mif\u001b[39;00m \u001b[38;5;28mself\u001b[39m\u001b[38;5;241m.\u001b[39m_has_username_with_spaces():\n",
      "File \u001b[0;32m~/GithubRepos/BI/venv/lib/python3.10/site-packages/docplex/mp/model.py:5189\u001b[0m, in \u001b[0;36mModel._check_has_solution\u001b[0;34m(self)\u001b[0m\n\u001b[1;32m   5187\u001b[0m     \u001b[38;5;28mself\u001b[39m\u001b[38;5;241m.\u001b[39mfatal(\u001b[38;5;124m\"\u001b[39m\u001b[38;5;124mModel<\u001b[39m\u001b[38;5;132;01m{0}\u001b[39;00m\u001b[38;5;124m> has not been solved yet\u001b[39m\u001b[38;5;124m\"\u001b[39m, \u001b[38;5;28mself\u001b[39m\u001b[38;5;241m.\u001b[39mname)\n\u001b[1;32m   5188\u001b[0m \u001b[38;5;28;01melse\u001b[39;00m:\n\u001b[0;32m-> 5189\u001b[0m     \u001b[38;5;28;43mself\u001b[39;49m\u001b[38;5;241;43m.\u001b[39;49m\u001b[43mfatal\u001b[49m\u001b[43m(\u001b[49m\u001b[38;5;124;43m\"\u001b[39;49m\u001b[38;5;124;43mModel<\u001b[39;49m\u001b[38;5;132;43;01m{0}\u001b[39;49;00m\u001b[38;5;124;43m> did not solve successfully\u001b[39;49m\u001b[38;5;124;43m\"\u001b[39;49m\u001b[43m,\u001b[49m\u001b[43m \u001b[49m\u001b[38;5;28;43mself\u001b[39;49m\u001b[38;5;241;43m.\u001b[39;49m\u001b[43mname\u001b[49m\u001b[43m)\u001b[49m\n",
      "File \u001b[0;32m~/GithubRepos/BI/venv/lib/python3.10/site-packages/docplex/mp/model.py:1080\u001b[0m, in \u001b[0;36mModel.fatal\u001b[0;34m(self, msg, *args)\u001b[0m\n\u001b[1;32m   1079\u001b[0m \u001b[38;5;28;01mdef\u001b[39;00m \u001b[38;5;21mfatal\u001b[39m(\u001b[38;5;28mself\u001b[39m, msg, \u001b[38;5;241m*\u001b[39margs):\n\u001b[0;32m-> 1080\u001b[0m     \u001b[38;5;28;43mself\u001b[39;49m\u001b[38;5;241;43m.\u001b[39;49m\u001b[43m_error_handler\u001b[49m\u001b[38;5;241;43m.\u001b[39;49m\u001b[43mfatal\u001b[49m\u001b[43m(\u001b[49m\u001b[43mmsg\u001b[49m\u001b[43m,\u001b[49m\u001b[43m \u001b[49m\u001b[43margs\u001b[49m\u001b[43m)\u001b[49m\n",
      "File \u001b[0;32m~/GithubRepos/BI/venv/lib/python3.10/site-packages/docplex/mp/error_handler.py:210\u001b[0m, in \u001b[0;36mAbstractErrorHandler.fatal\u001b[0;34m(self, msg, args)\u001b[0m\n\u001b[1;32m    208\u001b[0m resolved_message \u001b[38;5;241m=\u001b[39m resolve_pattern(msg, args)\n\u001b[1;32m    209\u001b[0m docplex_error_stop_here()\n\u001b[0;32m--> 210\u001b[0m \u001b[38;5;28;01mraise\u001b[39;00m DOcplexException(resolved_message)\n",
      "\u001b[0;31mDOcplexException\u001b[0m: Model<docplex_model15> did not solve successfully"
     ]
    }
   ],
   "source": [
    "m.print_solution()"
   ]
  }
 ],
 "metadata": {
  "kernelspec": {
   "display_name": "venv",
   "language": "python",
   "name": "python3"
  },
  "language_info": {
   "codemirror_mode": {
    "name": "ipython",
    "version": 3
   },
   "file_extension": ".py",
   "mimetype": "text/x-python",
   "name": "python",
   "nbconvert_exporter": "python",
   "pygments_lexer": "ipython3",
   "version": "3.10.12"
  }
 },
 "nbformat": 4,
 "nbformat_minor": 2
}
