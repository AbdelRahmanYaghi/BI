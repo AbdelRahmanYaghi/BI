{
 "cells": [
  {
   "cell_type": "markdown",
   "metadata": {},
   "source": [
    "John White is the program scheduling manager for the\n",
    "television channel CCFO. John would like to plan the schedule of television shows for\n",
    "next Wednesday evening.\n",
    "The table below lists nine shows under consideration. John must select exactly\n",
    "five of these shows for the period from 8:00 p.m. to 10:30 p.m. next Wednesday\n",
    "evening. For each television show, the estimated advertising revenue (in $ millions)\n",
    "is provided. Furthermore, each show has been categorized into one or more of the\n",
    "categories ­“Public Interest,” “Violent,” “Comedy,” and “Drama.” In the following\n",
    "table, a 1 indicates that the show is in the corresponding category and a 0 indicates\n",
    "it is not.\n",
    "\n",
    "John would like to determine a revenue-maximizing schedule of television shows\n",
    "for next Wednesday evening. However, he must be mindful of the following\n",
    "considerations:\n",
    "\n",
    "••The schedule must include at least as many shows that are categorized as public\n",
    "interest as shows that are categorized as violent.\n",
    "\n",
    "••If John schedules “Loving Life,” then he must also schedule either “Jarred” or\n",
    "­“Cincinnati Law” (or both).\n",
    "\n",
    "••John cannot schedule both “Loving Life” and “Urban Sprawl.”\n",
    "\n",
    "••If John schedules more than one show in the “Violent” category, he will lose an\n",
    "­estimated $4 million in advertising revenues from family-oriented sponsors.\n",
    "\n",
    "a. Formulate a binary integer program that models the decisions John faces.\n",
    "\n",
    "b. Solve the model formulated in part (a). What is the optimal revenue?"
   ]
  },
  {
   "cell_type": "code",
   "execution_count": 2,
   "metadata": {},
   "outputs": [],
   "source": [
    "# Show            | Revenue | Public Interest | Violent | Comedy | Drama\n",
    "#                 |         |                 |         |        |\n",
    "# Sam’s Place     | $6      |  0              |    0    |    1   |     1\n",
    "# Texas Oil       | $10     |  0              |    1    |    0   |     1\n",
    "# Cincinnati Law  | $9      |  1              |    0    |    0   |     1\n",
    "# Jarred          | $4      |  0              |    1    |    0   |     1\n",
    "# Bob & Mary      | $5      |  0              |    0    |    1   |     0\n",
    "# Chainsaw        | $2      |  0              |    1    |    0   |     0\n",
    "# Loving Life     | $6      |  1              |    0    |    0   |     1\n",
    "# Islanders       | $7      |  0              |    0    |    1   |     0\n",
    "# Urban Sprawl    | $8      |  1              |    0    |    0   |     0\n",
    "\n",
    "shows = [\"Sam’s Place\", \"Texas Oil\", \"Cincinnati Law\", \"Jarred\", \"Bob & Mary\", \"Chainsaw\", \"Loving Life\", \"Islanders\", \"Urban Sprawl\"]\n",
    "revenue = [6,10,9,4,5,2,6,7,8]\n",
    "public_interest = [0,0,1,0,0,0,1,0,1]\n",
    "violent = [0,1,0,1,0,1,0,0,0]\n",
    "comedy = [1,0,0,0,1,0,0,1,0]\n",
    "drama = [1,1,1,1,0,0,1,0,0]"
   ]
  },
  {
   "cell_type": "code",
   "execution_count": 3,
   "metadata": {},
   "outputs": [],
   "source": [
    "from docplex.mp.model import Model\n",
    "\n",
    "m = Model()\n",
    "\n",
    "X = m.binary_var_list(shows)\n",
    "XX_violent = m.binary_var(name = 'ViolentShowsMoreThanOne')\n",
    "\n",
    "public_interest_count = sum([public_interest[i] * X[i] for i in range(len(X))])\n",
    "violent_count = sum([violent[i] * X[i] for i in range(len(X))])\n",
    "m.add_constraint(public_interest_count >= violent_count)\n",
    "\n",
    "m.add_constraint(X[6] <= X[2] + X[3])\n",
    "m.add_constraint(X[6] * X[8] <= 0)\n",
    "\n",
    "m.add_indicator(XX_violent, violent_count >= 2, 1)\n",
    "m.add_indicator(XX_violent, violent_count <= 1, 0)\n",
    "\n",
    "m.maximize(sum([revenue[i] * X[i] for i in range(len(X))]) - (XX_violent * 4))"
   ]
  },
  {
   "cell_type": "code",
   "execution_count": 4,
   "metadata": {},
   "outputs": [
    {
     "name": "stdout",
     "output_type": "stream",
     "text": [
      "Version identifier: 22.1.1.0 | 2023-02-11 | 22d6266e5\n",
      "CPXPARAM_Read_DataCheck                          1\n"
     ]
    },
    {
     "name": "stdout",
     "output_type": "stream",
     "text": [
      "Tried aggregator 2 times.\n",
      "MIQCP Presolve eliminated 1 rows and 4 columns.\n",
      "MIQCP Presolve modified 1 coefficients.\n",
      "Aggregator did 1 substitutions.\n",
      "Reduced MIQCP has 9 rows, 13 columns, and 27 nonzeros.\n",
      "Reduced MIQCP has 6 binaries, 0 generals, 0 SOSs, and 0 indicators.\n",
      "Reduced MIQCP has 1 quadratic constraints.\n",
      "Presolve time = 0.02 sec. (0.03 ticks)\n",
      "Probing time = 0.00 sec. (0.00 ticks)\n",
      "MIP emphasis: balance optimality and feasibility.\n",
      "MIP search method: dynamic search.\n",
      "Parallel mode: deterministic, using up to 4 threads.\n",
      "Root relaxation solution time = 0.00 sec. (0.01 ticks)\n",
      "\n",
      "        Nodes                                         Cuts/\n",
      "   Node  Left     Objective  IInf  Best Integer    Best Bound    ItCnt     Gap\n",
      "\n",
      "      0     0       49.9443     0                     57.0000        1         \n",
      "      0     0       49.1803     2                     Cone: 1        2         \n",
      "      0     0       48.6679     3                     Cone: 2        3         \n",
      "      0     0       48.5700     3                     Cone: 3        4         \n",
      "      0     0       48.5025     3                     Cone: 4        5         \n",
      "      0     0       48.4856     3                     Cone: 5        6         \n",
      "      0     0       48.4767     3                     Cone: 6        7         \n",
      "      0     0       48.4741     3                     Cone: 9       11         \n",
      "      0     0       48.4741     3                    Cone: 10       12         \n",
      "      0     0       48.4741     3                    Cone: 11       13         \n",
      "      0     0       48.4741     3                     48.4741       13         \n",
      "*     0+    0                           45.0000       48.4741             7.72%\n",
      "      0     0        cutoff             45.0000                     18     --- \n",
      "Elapsed time = 0.10 sec. (0.40 ticks, tree = 0.01 MB, solutions = 1)\n",
      "\n",
      "Cone linearizations applied:  3\n",
      "\n",
      "Root node processing (before b&c):\n",
      "  Real time             =    0.12 sec. (0.40 ticks)\n",
      "Parallel b&c, 4 threads:\n",
      "  Real time             =    0.00 sec. (0.00 ticks)\n",
      "  Sync time (average)   =    0.00 sec.\n",
      "  Wait time (average)   =    0.00 sec.\n",
      "                          ------------\n",
      "Total (root+branch&cut) =    0.12 sec. (0.40 ticks)\n"
     ]
    }
   ],
   "source": [
    "solution = m.solve(log_output = True)"
   ]
  },
  {
   "cell_type": "code",
   "execution_count": 5,
   "metadata": {},
   "outputs": [
    {
     "name": "stdout",
     "output_type": "stream",
     "text": [
      "solution for: docplex_model2\n",
      "objective: 45\n",
      "status: OPTIMAL_SOLUTION(2)\n",
      "Sam’s Place=1\n",
      "Texas Oil=1\n",
      "Cincinnati Law=1\n",
      "Jarred=1\n",
      "Bob & Mary=1\n",
      "Islanders=1\n",
      "Urban Sprawl=1\n",
      "ViolentShowsMoreThanOne=1\n",
      "\n"
     ]
    }
   ],
   "source": [
    "print(solution)"
   ]
  }
 ],
 "metadata": {
  "kernelspec": {
   "display_name": "venv",
   "language": "python",
   "name": "python3"
  },
  "language_info": {
   "codemirror_mode": {
    "name": "ipython",
    "version": 3
   },
   "file_extension": ".py",
   "mimetype": "text/x-python",
   "name": "python",
   "nbconvert_exporter": "python",
   "pygments_lexer": "ipython3",
   "version": "3.10.12"
  }
 },
 "nbformat": 4,
 "nbformat_minor": 2
}
