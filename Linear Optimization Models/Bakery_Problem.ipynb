{
 "cells": [
  {
   "attachments": {},
   "cell_type": "markdown",
   "metadata": {},
   "source": [
    "## Bakery Problem ##\n",
    "\n",
    "\n",
    "<table>\n",
    "  <thead>\n",
    "    <tr>\n",
    "      <th> </th>\n",
    "      <th>Flour</th>\n",
    "      <th>Egg</th>\n",
    "      <th>Sugar</th>\n",
    "    </tr>\n",
    "  </thead>\n",
    "  <tbody>\n",
    "    <tr>\n",
    "      <td>We Have</td>\n",
    "      <td>50</td>\n",
    "      <td>30</td>\n",
    "      <td>20</td>\n",
    "    </tr>\n",
    "    <tr>\n",
    "      <td>Bagels Cost</td>\n",
    "      <td>5</td>\n",
    "      <td>2</td>\n",
    "      <td>1</td>\n",
    "    </tr>\n",
    "    <tr>\n",
    "      <td>Muffins Cost</td>\n",
    "      <td>4</td>\n",
    "      <td>4</td>\n",
    "      <td>2</td>\n",
    "    </tr>\n",
    "  </tbody>\n",
    "</table>\n",
    "<br>\n",
    "<table>\n",
    "  <thead>\n",
    "    <tr>\n",
    "      <th>Product</th>\n",
    "      <th>Revenue</th>\n",
    "    </tr>\n",
    "  </thead>\n",
    "  <tbody>\n",
    "    <tr>\n",
    "      <td>Bagels</td>\n",
    "      <td>10</td>\n",
    "    </tr>\n",
    "    <tr>\n",
    "      <td>Muffins</td>\n",
    "      <td>12</td>\n",
    "    </tr>\n",
    "  </tbody>\n",
    "</table>"
   ]
  },
  {
   "attachments": {},
   "cell_type": "markdown",
   "metadata": {},
   "source": [
    "## Sets\n",
    "\n",
    "$\\mathcal{B}$: Set of bakery choices, aka, Bagels or Muffins.\n",
    "\n",
    "$\\mathcal{I}$: Set of ingredients, aka, Flour, Eggs and Sugar.\n",
    "\n",
    "$\\mathcal{C}$: ???.\n",
    "\n",
    "## Indices\n",
    "\n",
    "$b$: Index for an arbitrary element in $\\mathcal{B}$.\n",
    "\n",
    "$i$: Index for an arbitrary element in $\\mathcal{I}$. \n",
    "\n",
    "## Data\n",
    "\n",
    "$t_i, i \\in \\mathcal{I}$: Amount available for ingredient $i$.\n",
    "\n",
    "$a_{bi}, b \\in \\mathcal{B}, i \\in \\mathcal{I}$: Amonut of ingredient $i$ needed to bake one dozen of $b$. \n",
    "\n",
    "$c_b, b \\in \\mathcal{B}$: Price of a dozen of $b$.\n",
    "\n",
    "## Decsion Variables\n",
    "\n",
    "$x_{b}, b \\in \\mathcal{B}$: Number of dozens to bake of $b$.\n",
    "\n",
    "## Linear Program\n",
    "\n",
    "\\begin{align*}\n",
    "\\underset{\\{x_{b},\\; b \\in \\mathcal{B}\\}} {\\mathrm{maximize }} & \\; \\sum_{b \\in \\mathcal{B}}\\ c_b \\; x_{b} \\\\\n",
    "\\text{subject to:} \\\\\n",
    "& \\sum_{b \\in \\mathcal{B}} a_{bi} x_{b} \\leq t_i, \\forall i \\in \\mathcal{I} \\\\    \n",
    "& x_b \\ge 0, \\forall b \\in \\mathcal{B}.\n",
    "\\end{align*}\n",
    "\n"
   ]
  },
  {
   "cell_type": "code",
   "execution_count": 3,
   "metadata": {},
   "outputs": [],
   "source": [
    "from docplex.mp.model import Model\n",
    "import numpy as np\n",
    "\n",
    "costs = np.array([[5, 2, 1], [4, 4, 2]])\n",
    "\n",
    "ItemToSell = np.array(['Bagels', 'Muffins'])\n",
    "\n",
    "revenue = [10, 12]\n",
    "\n",
    "Have = [50, 30, 20]\n",
    "\n",
    "m = Model(name = 'Bakery_problem')"
   ]
  },
  {
   "cell_type": "code",
   "execution_count": 4,
   "metadata": {},
   "outputs": [],
   "source": [
    "dv = np.array(m.continuous_var_list(ItemToSell, lb=0, ub=None, name = \"Pounds of %s\"))"
   ]
  },
  {
   "cell_type": "code",
   "execution_count": 5,
   "metadata": {},
   "outputs": [
    {
     "data": {
      "text/plain": [
       "[docplex.mp.LinearConstraint[](5Pounds of Bagels+4Pounds of Muffins,LE,50),\n",
       " docplex.mp.LinearConstraint[](2Pounds of Bagels+4Pounds of Muffins,LE,30),\n",
       " docplex.mp.LinearConstraint[](Pounds of Bagels+2Pounds of Muffins,LE,20)]"
      ]
     },
     "execution_count": 5,
     "metadata": {},
     "output_type": "execute_result"
    }
   ],
   "source": [
    "lhs = dv @ costs\n",
    "\n",
    "m.add_constraints([lhs[i] <= Have[i] for i in range(3)])"
   ]
  },
  {
   "cell_type": "code",
   "execution_count": 6,
   "metadata": {},
   "outputs": [],
   "source": [
    "exp = dv @ revenue\n",
    "\n",
    "m.maximize(exp)"
   ]
  },
  {
   "cell_type": "code",
   "execution_count": 7,
   "metadata": {},
   "outputs": [
    {
     "data": {
      "text/plain": [
       "'lp_Files\\\\Bakery_Problem.lp'"
      ]
     },
     "execution_count": 7,
     "metadata": {},
     "output_type": "execute_result"
    }
   ],
   "source": [
    "m.export_as_lp(\"lp_Files\\Bakery_Problem.lp\")"
   ]
  },
  {
   "cell_type": "code",
   "execution_count": 8,
   "metadata": {},
   "outputs": [
    {
     "name": "stdout",
     "output_type": "stream",
     "text": [
      "Version identifier: 22.1.1.0 | 2023-02-09 | 22d6266e5\n",
      "CPXPARAM_Read_DataCheck                          1\n",
      "Tried aggregator 1 time.\n",
      "LP Presolve eliminated 1 rows and 0 columns.\n",
      "Reduced LP has 2 rows, 2 columns, and 4 nonzeros.\n",
      "Presolve time = 0.00 sec. (0.00 ticks)\n",
      "\n",
      "Iteration log . . .\n",
      "Iteration:     1   Dual infeasibility =             0.000000\n",
      "Iteration:     2   Dual objective     =           116.666667\n"
     ]
    },
    {
     "data": {
      "text/plain": [
       "docplex.mp.solution.SolveSolution(obj=116.667,values={Pounds of Bagels:6.."
      ]
     },
     "execution_count": 8,
     "metadata": {},
     "output_type": "execute_result"
    }
   ],
   "source": [
    "m.solve(log_output = True)"
   ]
  },
  {
   "cell_type": "code",
   "execution_count": 9,
   "metadata": {},
   "outputs": [
    {
     "name": "stdout",
     "output_type": "stream",
     "text": [
      "JobSolveStatus.OPTIMAL_SOLUTION\n",
      "\n",
      "objective: 116.667\n",
      "status: OPTIMAL_SOLUTION(2)\n",
      "  \"Pounds of Bagels\"=6.667\n",
      "  \"Pounds of Muffins\"=4.167\n"
     ]
    }
   ],
   "source": [
    "print(m.solve_status)\n",
    "print()\n",
    "m.print_solution()"
   ]
  }
 ],
 "metadata": {
  "kernelspec": {
   "display_name": "venv",
   "language": "python",
   "name": "python3"
  },
  "language_info": {
   "codemirror_mode": {
    "name": "ipython",
    "version": 3
   },
   "file_extension": ".py",
   "mimetype": "text/x-python",
   "name": "python",
   "nbconvert_exporter": "python",
   "pygments_lexer": "ipython3",
   "version": "3.10.10"
  },
  "vscode": {
   "interpreter": {
    "hash": "9682219fa65ec76ab0a712f3cc506ba5eb9451d445ad0b772c7739d17e7a6e46"
   }
  }
 },
 "nbformat": 4,
 "nbformat_minor": 2
}
