{
 "cells": [
  {
   "cell_type": "markdown",
   "metadata": {},
   "source": [
    "Base: \n",
    "\n",
    "Minimize $3x + 2y$ \n",
    "\n",
    "s.t\n",
    "\n",
    "$2x + y = 4$\n",
    "\n",
    "Higher Form\n",
    "\n",
    "1) Set / Inidices:\n",
    "    * $\\mathcal(F)$ = {1, 2}, f\n",
    "2) Data\n",
    "    * $P_f, f ∈ F$\n",
    "    * $C_f, f ∈ F$\n",
    "3) DUs\n",
    "    * $X_f, f ∈ F$\n",
    "\n",
    "___\n",
    "\n",
    "Maximize \n",
    "$\\sum_{f ∈ \\mathcal F}(c_f x_f)$\n",
    "\n",
    "s.t\n",
    "\n",
    "$\\sum_{i\\in \\mathcal I} p_i \\; x_i = d$\n",
    "..."
   ]
  },
  {
   "cell_type": "code",
   "execution_count": 1,
   "metadata": {},
   "outputs": [],
   "source": [
    "from docplex.mp.model import Model\n",
    "m = Model(name = 'Diet_Problem')"
   ]
  },
  {
   "cell_type": "code",
   "execution_count": 2,
   "metadata": {},
   "outputs": [],
   "source": [
    "# Units of protien per pound, Price per pound\n",
    "All_related_to_problem = {'Steak': [4, 3],\n",
    "                          'Peanut_Butter': [1, 1]}\n",
    "\n",
    "Protein_demand = 5"
   ]
  },
  {
   "cell_type": "code",
   "execution_count": 3,
   "metadata": {},
   "outputs": [],
   "source": [
    "# Decision Variables\n",
    "x = m.integer_var_dict(All_related_to_problem.keys(), lb=0, ub=None, name = \"Pounds of %s used\")\n",
    "# If we want half, or part of the pounds, we can change integer_var to continuoues_var"
   ]
  },
  {
   "cell_type": "code",
   "execution_count": 9,
   "metadata": {},
   "outputs": [
    {
     "data": {
      "text/plain": [
       "docplex.mp.LinearConstraint[](6Pounds of Steak used,LE,6)"
      ]
     },
     "execution_count": 9,
     "metadata": {},
     "output_type": "execute_result"
    }
   ],
   "source": [
    "x['Steak']*6 <= 6"
   ]
  },
  {
   "cell_type": "code",
   "execution_count": 72,
   "metadata": {},
   "outputs": [],
   "source": [
    "# Objective function // TRY TO DO MATRIX MULTIPLICATION\n",
    "m.minimize(m.sum(x[i] * All_related_to_problem[i][1] for i in All_related_to_problem.keys()))"
   ]
  },
  {
   "cell_type": "code",
   "execution_count": 73,
   "metadata": {},
   "outputs": [],
   "source": [
    "# Add constraint\n",
    "m.add_constraint_(m.sum(x[i] * All_related_to_problem[i][0] for i in All_related_to_problem.keys()) == Protein_demand)"
   ]
  },
  {
   "cell_type": "code",
   "execution_count": 74,
   "metadata": {},
   "outputs": [
    {
     "data": {
      "text/plain": [
       "'Diet_Problem.lp'"
      ]
     },
     "execution_count": 74,
     "metadata": {},
     "output_type": "execute_result"
    }
   ],
   "source": [
    "# Export the problem as LP\n",
    "m.export_as_lp(\"Diet_Problem.lp\")"
   ]
  },
  {
   "cell_type": "code",
   "execution_count": 75,
   "metadata": {},
   "outputs": [
    {
     "name": "stdout",
     "output_type": "stream",
     "text": [
      "Version identifier: 22.1.1.0 | 2023-06-15 | d64d5bd77\n",
      "CPXPARAM_Read_DataCheck                          1\n",
      "Tried aggregator 2 times.\n",
      "MIP Presolve eliminated 1 rows and 2 columns.\n",
      "MIP Presolve added 1 rows and 1 columns.\n",
      "Aggregator did 1 substitutions.\n",
      "All rows and columns eliminated.\n",
      "Presolve time = 0.03 sec. (0.00 ticks)\n",
      "\n",
      "Root node processing (before b&c):\n",
      "  Real time             =    0.03 sec. (0.00 ticks)\n",
      "Parallel b&c, 4 threads:\n",
      "  Real time             =    0.00 sec. (0.00 ticks)\n",
      "  Sync time (average)   =    0.00 sec.\n",
      "  Wait time (average)   =    0.00 sec.\n",
      "                          ------------\n",
      "Total (root+branch&cut) =    0.03 sec. (0.00 ticks)\n"
     ]
    },
    {
     "data": {
      "text/plain": [
       "docplex.mp.solution.SolveSolution(obj=4,values={Pounds of Steak used:1,P.."
      ]
     },
     "execution_count": 75,
     "metadata": {},
     "output_type": "execute_result"
    }
   ],
   "source": [
    "m.solve(log_output = True)"
   ]
  },
  {
   "cell_type": "code",
   "execution_count": 76,
   "metadata": {},
   "outputs": [
    {
     "name": "stdout",
     "output_type": "stream",
     "text": [
      "JobSolveStatus.OPTIMAL_SOLUTION\n",
      "\n",
      "objective: 4\n",
      "status: OPTIMAL_SOLUTION(2)\n",
      "  \"Pounds of Steak used\"=1\n",
      "  \"Pounds of Peanut_Butter used\"=1\n"
     ]
    }
   ],
   "source": [
    "print(m.solve_status)\n",
    "print()\n",
    "m.print_solution()\n",
    "\n",
    "####\n",
    "# * Optimal Solution: [1, 0] \n",
    "#\n",
    "# * Optimal Objective Function Value: 3\n",
    "#   * Apply the optimal Solution numbers in the OF.\n",
    "###  "
   ]
  }
 ],
 "metadata": {
  "kernelspec": {
   "display_name": "venv",
   "language": "python",
   "name": "python3"
  },
  "language_info": {
   "codemirror_mode": {
    "name": "ipython",
    "version": 3
   },
   "file_extension": ".py",
   "mimetype": "text/x-python",
   "name": "python",
   "nbconvert_exporter": "python",
   "pygments_lexer": "ipython3",
   "version": "3.11.3"
  }
 },
 "nbformat": 4,
 "nbformat_minor": 2
}
