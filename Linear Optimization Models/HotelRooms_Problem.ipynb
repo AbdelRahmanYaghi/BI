{
 "cells": [
  {
   "attachments": {},
   "cell_type": "markdown",
   "metadata": {},
   "source": [
    "Round Tree Manor is a hotel that provides two types of rooms with three rental classes: Super Saver, Deluxe, and Business. The profit per night for each type of room and rental class is as follows:\n",
    "\n",
    "<table>\n",
    "    <tr>\n",
    "        <th>Room</th>\n",
    "        <th>Super saver</th>\n",
    "        <th>Deluxe</th>\n",
    "        <th>Business</th>\n",
    "    </tr>\n",
    "    <tr>\n",
    "        <td>Type I (Mountain View)</td>\n",
    "        <td>30$</td>\n",
    "        <td>35$</td>\n",
    "        <td>--</td>\n",
    "    </tr>\n",
    "    <tr>\n",
    "        <td>Type II (Street View)</td>\n",
    "        <td>20$</td>\n",
    "        <td>30$</td>\n",
    "        <td>40$</td>\n",
    "    </tr>\n",
    "</table>\n",
    "\n",
    "Round Tree’s management makes a forecast of the demand by rental class for each night in the future. A linear programming model developed to maximize profit is used to determine how many reservations to accept for each rental class. The demand forecast for a particular night is 130 rentals in  the Super Saver class, 60 in the Deluxe class, and 50 in the Business class. Since these are the forecasted demands, Round Tree will take no more than these amounts of each reservation for each rental class. Round Tree has a limited number of each type of room. There are 100 Type I rooms and 120 Type II rooms.\n",
    "\n",
    "Formulate and solve a linear program to determine how many reservations to accept\n",
    "in each rental class and how the reservations should be allocated to room types.\n"
   ]
  },
  {
   "attachments": {},
   "cell_type": "markdown",
   "metadata": {},
   "source": [
    "#### Sets & Indicies\n",
    "\n",
    "$\\mathcal{R}, |\\mathcal{R}| = R$: Room types <br>\n",
    "$\\mathcal{V}, |\\mathcal{V}| = V$: View types <br>\n",
    "\n",
    "$r, r \\in \\mathcal{R}$: An index in the set of Room Types <br>\n",
    "$v, v \\in \\mathcal{V}$: An index in the set of View types <br>\n",
    "\n",
    "#### Data\n",
    "\n",
    "$P$: A matrix representing the profit for each room type and for each view type. <br>\n",
    "$F$: A column vector representing the forcasted room for each room type. <br>\n",
    "$A$: A column vector representing the profit for each view type. <br>\n",
    "\n",
    "$p_{rv} \\in P, r \\in \\mathcal{R}, v \\in \\mathcal{V}$: Profit per room type per view type. <br>\n",
    "$f_r \\in F, r \\in \\mathcal{R}$: Forcasted rooms per room types. <br>\n",
    "$a_v \\in A, v \\in \\mathcal{V}$: Available rooms per view types. <br>\n",
    "\n",
    "#### Decision Variables\n",
    "\n",
    "$X$: A matrix representing the number rooms to offer for each type of room and each view type <br>\n",
    "$x_{rv} \\in X, r \\in \\mathcal{R}, v \\in \\mathcal{V}$: Number of rooms to offer per room type and view type <br> \n",
    "\n",
    "#### Linear function\n",
    "\n",
    "\\begin{align*}\n",
    "\\ {\\mathrm{maximize }} \\; {1_R^TXP^T1_R} \\\\\n",
    "\\text{subject to:} \\\\\n",
    "\\ ({X1_V})_i \\leq F_i, \\forall i \\in R; \\\\\n",
    "\\ ({1_R^tX})_i \\leq A_i, \\forall i \\in V \\\\\n",
    "\\end{align*}\n",
    "\n"
   ]
  },
  {
   "cell_type": "code",
   "execution_count": null,
   "metadata": {},
   "outputs": [],
   "source": [
    "\"1xR RxV VxR Rx1\""
   ]
  }
 ],
 "metadata": {
  "kernelspec": {
   "display_name": "venv",
   "language": "python",
   "name": "python3"
  },
  "language_info": {
   "name": "python",
   "version": "3.10.10"
  },
  "orig_nbformat": 4,
  "vscode": {
   "interpreter": {
    "hash": "9682219fa65ec76ab0a712f3cc506ba5eb9451d445ad0b772c7739d17e7a6e46"
   }
  }
 },
 "nbformat": 4,
 "nbformat_minor": 2
}
