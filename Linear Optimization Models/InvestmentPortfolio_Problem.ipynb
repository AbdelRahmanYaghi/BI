{
 "cells": [
  {
   "cell_type": "markdown",
   "metadata": {},
   "source": [
    "<table>\n",
    "    <tr>\n",
    "        <th> Investment </th>\n",
    "        <th> Projected Rate of return</th>\n",
    "    </tr>\n",
    "</table>\n"
   ]
  },
  {
   "cell_type": "markdown",
   "metadata": {},
   "source": [
    "<h4> Sets </h4>\n",
    "\n",
    "$\\mathcal{O}$: Oil Investment <br>\n",
    "$\\mathcal{S}$: Steel Investment <br>\n",
    "$B$: Govermnet Bonds <br>\n",
    "$o, o \\in \\mathcal{O}$: An index in set $\\mathcal{O}$ <br>\n",
    "$s, s \\in \\mathcal{S}$: An index in set $\\mathcal{S}$ <br>\n",
    "\n",
    "<h4> Data </h4>\n",
    "\n",
    "$p, p \\in $ : Project amount<br>\n",
    "\n",
    "\n",
    "Oil industry will recieve <= 50 K <br>\n",
    "Steel industry will recieve <= 50 K <br>\n",
    "Bonds >= 0.25 (Steel Industry) <br>\n",
    " \n",
    "X2 <= 0.6(Oil Industry)\n",
    "\n"
   ]
  },
  {
   "cell_type": "code",
   "execution_count": null,
   "metadata": {},
   "outputs": [],
   "source": []
  }
 ],
 "metadata": {
  "language_info": {
   "name": "python"
  }
 },
 "nbformat": 4,
 "nbformat_minor": 2
}
