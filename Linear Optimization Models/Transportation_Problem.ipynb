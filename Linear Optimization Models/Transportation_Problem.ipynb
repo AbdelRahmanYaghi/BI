{
 "cells": [
  {
   "cell_type": "code",
   "execution_count": null,
   "metadata": {},
   "outputs": [],
   "source": [
    "# Sets\n",
    "set_plant = {'Cleaveland', 'Bedford', 'York'}\n",
    "set_center = {'Boston', 'Chicago', 'St. Louis', 'Lexington'}\n",
    "\n",
    "# Data\n",
    "plant_supplies = [5000, 6000, 2500]\n",
    "distrubution_centers = [6000, 4000, 2000, 1500]\n",
    "transportation_costs = [[3, 2, 7, 6], \n",
    "                        [6, 5, 2, 3],\n",
    "                        [2, 5, 4, 5]]\n",
    "\n",
    "# Decision Variable\n",
    "# X_{s, d}\n",
    "\n",
    "# Maximize_{X_{sd}, s \\in S, d \\in D} Sum_{s \\in S}(Sum_{d \\in D}(C_{sd}X_{sd}))\n",
    "\n",
    "# Subject to\n",
    "\n",
    "# Sum_{d \\in D}(X_{sd}) <= P_s, \\forall s \\in S\n",
    "# Sum_{s\\in S}(X_{sd}) <= m_d, \\forall d \\in D\n",
    "# X_sd >= 0, \\forall\n",
    "# "
   ]
  }
 ],
 "metadata": {
  "language_info": {
   "name": "python"
  }
 },
 "nbformat": 4,
 "nbformat_minor": 2
}
