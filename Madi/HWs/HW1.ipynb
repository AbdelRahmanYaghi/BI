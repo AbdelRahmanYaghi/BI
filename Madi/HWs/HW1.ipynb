{
 "cells": [
  {
   "cell_type": "markdown",
   "metadata": {},
   "source": [
    "Mohammed Madi 20200386"
   ]
  },
  {
   "cell_type": "markdown",
   "metadata": {},
   "source": [
    "## **Problem Statement**\n",
    "\n",
    "A company has ten employees, seven machines, and thirty jobs to be completed. The time required \n",
    "to complete job 𝑗 by employee 𝑒 using machine 𝑚 is given and denoted by $𝑡_{𝑗𝑒𝑚}$. An employee can \n",
    "only perform one job at a time. Similarly, a machine can only execute one job at a time. A job \n",
    "cannot be divided among employees. Also, a job cannot be divided between machines. Develop a \n",
    "mathematical formulation that can be used to obtain the optimal job-employee-machine \n",
    "assignment if the company wants to minimize the total time spent by all machines to complete the \n",
    "seven jobs. Generate different scenarios and, using Cplex, implement and solve your formulation \n",
    "for these scenarios.\n",
    "\n",
    "## **Sets**\n",
    "\n",
    "$\\mathcal{E}$: Set of employees that work at the company.\n",
    "\n",
    "$\\mathcal{M}$: Set of Machines that can be used.\n",
    "\n",
    "$\\mathcal{J}$: Set of Jobs to be completed.\n",
    "\n",
    "## **Indices**\n",
    "\n",
    "$e$: Index for an arbitrary element in $\\mathcal{E}$.\n",
    "\n",
    "$m$: Index for an arbitrary element in $\\mathcal{M}$.\n",
    "\n",
    "$j$: Index for an arbitrary element in $\\mathcal{J}$\n",
    "\n",
    "## **Data**\n",
    "\n",
    "$t_{jem}, j \\in \\mathcal{J}, e \\in \\mathcal{E}, m \\in \\mathcal{M}$, The amount of time needed to completed job $j$ by employee $e$ using machine $m$.\n",
    "\n",
    "\n",
    "## **Decision Variables**\n",
    "\n",
    "$x_{jem}, j \\in \\mathcal{J}, e \\in \\mathcal{E}, m \\in \\mathcal{M}$, Decide which employee should do which job using which machine.\n",
    "\n",
    "## **Linear Program**\n",
    "\n",
    "**Objective Function**\n",
    "\\begin{align*}\n",
    "\\mathrm{minimize} \\sum_{j \\in \\mathcal{J}}\\sum_{e \\in \\mathcal{E}}\\sum_{m \\in \\mathcal{M}} x_{jem}t_{jem}\n",
    "\\end{align*}\n",
    "\n",
    "**S.T.**\n",
    "\\begin{gather}\n",
    "\\sum_{e \\in \\mathcal{E}} \\sum_{m \\in \\mathcal{M}} x_{jem} = 1, \\forall j \\in \\mathcal{J}, \\text{ Each job can only be done by 1 employee and 1 machine.}\\\\\n",
    "x_{jem} \\in \\{0, 1\\}, \\forall j \\in \\mathcal{J}, \\forall e \\in \\mathcal{E}, \\forall m \\in \\mathcal{M}, \\text{Binary constraint.} \\\\\n",
    "\\end{gather}\n",
    "\n",
    "## **Interpertation**\n",
    "\n",
    "The assignment matrix is telling us which employee should use which machine to do the task, since we only care about total time, if the same employee gets multiple jobs he can perform them in any order he can.\n",
    "\n",
    "I wanted to try to write the other objective function in which we care about time to finish, but I didnt have the time to do so.\n",
    "\n",
    "(:"
   ]
  },
  {
   "cell_type": "code",
   "execution_count": 1,
   "metadata": {},
   "outputs": [],
   "source": [
    "from docplex.mp.model import Model\n",
    "model = Model(name = \"HW1\")"
   ]
  },
  {
   "cell_type": "code",
   "execution_count": 2,
   "metadata": {},
   "outputs": [],
   "source": [
    "from random import randint\n",
    "# Generating random data\n",
    "num_employees = 10\n",
    "num_machines = 7\n",
    "num_jobs = 30\n",
    "\n",
    "t = [[[randint(1, 100) for m in range(num_machines)] for e in range(num_employees)] for j in range(num_jobs)]\n",
    "\n"
   ]
  },
  {
   "cell_type": "code",
   "execution_count": 3,
   "metadata": {},
   "outputs": [],
   "source": [
    "# Decision Variable\n",
    "x = model.binary_var_cube(num_jobs, num_employees, num_machines, name = \"x\")"
   ]
  },
  {
   "cell_type": "code",
   "execution_count": 4,
   "metadata": {},
   "outputs": [],
   "source": [
    "# Objective Function\n",
    "model.minimize(model.sum(t[j][e][m] * x[(j, e, m)] for j in range(num_jobs) for e in range(num_employees) for m in range(num_machines)))"
   ]
  },
  {
   "cell_type": "code",
   "execution_count": 5,
   "metadata": {},
   "outputs": [],
   "source": [
    "# Adding constraints\n",
    "for j in range(num_jobs):\n",
    "    model.add_constraint(model.sum(x[(j, e, m)] for e in range(num_employees) for m in range(num_machines)) == 1)"
   ]
  },
  {
   "cell_type": "code",
   "execution_count": 6,
   "metadata": {},
   "outputs": [
    {
     "data": {
      "text/plain": [
       "'HW1.lp'"
      ]
     },
     "execution_count": 6,
     "metadata": {},
     "output_type": "execute_result"
    }
   ],
   "source": [
    "model.export_as_lp(\"HW1.lp\")"
   ]
  },
  {
   "cell_type": "code",
   "execution_count": 7,
   "metadata": {},
   "outputs": [
    {
     "name": "stdout",
     "output_type": "stream",
     "text": [
      "Version identifier: 22.1.1.0 | 2022-11-27 | 9160aff4d\n",
      "CPXPARAM_Read_DataCheck                          1\n",
      "Found incumbent of value 1206.000000 after 0.00 sec. (0.12 ticks)\n",
      "Found incumbent of value 59.000000 after 0.00 sec. (0.18 ticks)\n",
      "Tried aggregator 1 time.\n",
      "MIP Presolve eliminated 30 rows and 2100 columns.\n",
      "All rows and columns eliminated.\n",
      "Presolve time = 0.02 sec. (0.71 ticks)\n",
      "\n",
      "Root node processing (before b&c):\n",
      "  Real time             =    0.02 sec. (0.98 ticks)\n",
      "Parallel b&c, 16 threads:\n",
      "  Real time             =    0.00 sec. (0.00 ticks)\n",
      "  Sync time (average)   =    0.00 sec.\n",
      "  Wait time (average)   =    0.00 sec.\n",
      "                          ------------\n",
      "Total (root+branch&cut) =    0.02 sec. (0.98 ticks)\n"
     ]
    },
    {
     "data": {
      "text/plain": [
       "docplex.mp.solution.SolveSolution(obj=59,values={x_0_0_3:1,x_1_9_3:1,x_2.."
      ]
     },
     "execution_count": 7,
     "metadata": {},
     "output_type": "execute_result"
    }
   ],
   "source": [
    "model.solve(log_output = True)"
   ]
  },
  {
   "cell_type": "code",
   "execution_count": 8,
   "metadata": {},
   "outputs": [
    {
     "name": "stdout",
     "output_type": "stream",
     "text": [
      "Employee 0 is assigned to Job 0 on Machine 3 with time 1\n",
      "Employee 0 is assigned to Job 2 on Machine 6 with time 1\n",
      "Employee 0 is assigned to Job 3 on Machine 3 with time 2\n",
      "Employee 0 is assigned to Job 14 on Machine 0 with time 2\n",
      "Employee 0 is assigned to Job 16 on Machine 0 with time 2\n",
      "Employee 0 is assigned to Job 17 on Machine 4 with time 1\n",
      "Employee 1 is assigned to Job 4 on Machine 5 with time 5\n",
      "Employee 1 is assigned to Job 5 on Machine 2 with time 2\n",
      "Employee 1 is assigned to Job 6 on Machine 5 with time 2\n",
      "Employee 1 is assigned to Job 12 on Machine 2 with time 1\n",
      "Employee 1 is assigned to Job 23 on Machine 4 with time 2\n",
      "Employee 2 is assigned to Job 7 on Machine 0 with time 1\n",
      "Employee 2 is assigned to Job 8 on Machine 3 with time 1\n",
      "Employee 2 is assigned to Job 19 on Machine 1 with time 8\n",
      "Employee 3 is assigned to Job 21 on Machine 5 with time 2\n",
      "Employee 3 is assigned to Job 24 on Machine 0 with time 1\n",
      "Employee 3 is assigned to Job 25 on Machine 2 with time 2\n",
      "Employee 4 is assigned to Job 26 on Machine 2 with time 1\n",
      "Employee 5 is assigned to Job 18 on Machine 6 with time 1\n",
      "Employee 6 is assigned to Job 10 on Machine 1 with time 1\n",
      "Employee 6 is assigned to Job 13 on Machine 4 with time 4\n",
      "Employee 7 is assigned to Job 9 on Machine 0 with time 1\n",
      "Employee 7 is assigned to Job 11 on Machine 5 with time 1\n",
      "Employee 7 is assigned to Job 22 on Machine 6 with time 4\n",
      "Employee 7 is assigned to Job 29 on Machine 3 with time 1\n",
      "Employee 9 is assigned to Job 1 on Machine 3 with time 1\n",
      "Employee 9 is assigned to Job 15 on Machine 1 with time 1\n",
      "Employee 9 is assigned to Job 20 on Machine 1 with time 3\n",
      "Employee 9 is assigned to Job 27 on Machine 0 with time 2\n",
      "Employee 9 is assigned to Job 28 on Machine 5 with time 2\n",
      "Sum of all values in assignment matrix: 30.0\n",
      "Min time: 59.0\n",
      "Solution is correct!\n"
     ]
    }
   ],
   "source": [
    "# verifying the solution\n",
    "obj_value = model.objective_value\n",
    "assignment_matrix = [[[x[(j, e, m)].solution_value for j in range(num_jobs)] for e in range(num_employees)] for m in range(num_machines)]\n",
    "\n",
    "sum_vals = 0\n",
    "for e in range(num_employees):\n",
    "    for j in range(num_jobs):\n",
    "        for m in range(num_machines):\n",
    "            if assignment_matrix[m][e][j] == 1:\n",
    "                print(f\"Employee {e} is assigned to Job {j} on Machine {m} with time {t[j][e][m]}\")\n",
    "                sum_vals += t[j][e][m]\n",
    "                assert t[j][e][m] == min([t[j][e_][m_] for e_ in range(num_employees) for m_ in range(num_machines)])\n",
    "\n",
    "\n",
    "assigned_jobs = sum(sum(sum(row) for row in matrix) for matrix in assignment_matrix)\n",
    "assert assigned_jobs == num_jobs\n",
    "print(\"Sum of all values in assignment matrix:\", assigned_jobs)\n",
    "\n",
    "assert sum_vals == obj_value\n",
    "print(\"Min time:\", obj_value)\n",
    "print(\"Solution is correct!\")"
   ]
  }
 ],
 "metadata": {
  "kernelspec": {
   "display_name": "Python 3",
   "language": "python",
   "name": "python3"
  },
  "language_info": {
   "codemirror_mode": {
    "name": "ipython",
    "version": 3
   },
   "file_extension": ".py",
   "mimetype": "text/x-python",
   "name": "python",
   "nbconvert_exporter": "python",
   "pygments_lexer": "ipython3",
   "version": "3.10.0"
  }
 },
 "nbformat": 4,
 "nbformat_minor": 2
}
