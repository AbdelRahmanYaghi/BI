{
 "cells": [
  {
   "attachments": {},
   "cell_type": "markdown",
   "metadata": {},
   "source": [
    "## **Bank Teller Problem**\n",
    "The Northside Bank is working to develop an efficient work\n",
    "schedule for full-time and part-time tellers. The schedule must provide for efficient\n",
    "operation of the bank, including adequate customer service, employee breaks, and so\n",
    "on. On Fridays, the bank is open from 9:00 a.m. to 7:00 p.m. The number of tellers\n",
    "necessary to provide adequate customer service during each hour of operation is summarized as follows:\n",
    "\n",
    "<table>\n",
    "  <thead>\n",
    "    <tr>\n",
    "      <th>Time</th>\n",
    "      <th>No. of Tellers</th>\n",
    "    </tr>\n",
    "  </thead>\n",
    "  <tbody>\n",
    "    <tr>\n",
    "      <td>9:00 a.m. – 10:00 a.m.</td>\n",
    "      <td>6</td>\n",
    "    </tr>\n",
    "    <tr>\n",
    "      <td>10:00 a.m. – 11:00 a.m.</td>\n",
    "      <td>4</td>\n",
    "    </tr>\n",
    "    <tr>\n",
    "      <td>11:00 a.m. – Noon</td>\n",
    "      <td>8</td>\n",
    "    </tr>\n",
    "    <tr>\n",
    "      <td>Noon – 1:00 p.m.</td>\n",
    "      <td>10</td>\n",
    "    </tr>\n",
    "    <tr>\n",
    "      <td>1:00 p.m. – 2:00 p.m.</td>\n",
    "      <td>9</td>\n",
    "    </tr>\n",
    "    <tr>\n",
    "      <td>2:00 p.m. – 3:00 p.m.</td>\n",
    "      <td>6</td>\n",
    "    </tr>\n",
    "    <tr>\n",
    "      <td>3:00 p.m. – 4:00 p.m.</td>\n",
    "      <td>4</td>\n",
    "    </tr>\n",
    "    <tr>\n",
    "      <td>4:00 p.m. – 5:00 p.m.</td>\n",
    "      <td>7</td>\n",
    "    </tr>\n",
    "    <tr>\n",
    "      <td>5:00 p.m. – 6:00 p.m.</td>\n",
    "      <td>6</td>\n",
    "    </tr>\n",
    "    <tr>\n",
    "      <td>6:00 p.m. – 7:00 p.m.</td>\n",
    "      <td>6</td>\n",
    "    </tr>\n",
    "  </tbody>\n",
    "</table>\n",
    "\n",
    "Each full-time employee starts on the hour and works a 4-hour shift, followed by a\n",
    "1-hour break and then a 3-hour shift. Part-time employees work one 4-hour shift beginning on the hour. Considering salary and fringe benefits, full-time employees cost the\n",
    "bank $15 per hour ($105 a day), and part-time employees cost the bank $8 per hour\n",
    "($32 per day).\n",
    "\n",
    "Formulate an integer programming model that can be used to develop a schedule\n",
    "that will satisfy customer service needs at a minimum employee cost.\n",
    "\n",
    "\n",
    "## **Sets**\n",
    "$\\mathcal{T}$: Set of all shifts.\n",
    "\n",
    "$\\mathcal{F}$: Full time employee start times.\n",
    "\n",
    "$\\mathcal{P}$: Part time employee start times.\n",
    "\n",
    "## **Indecies**\n",
    "\n",
    "$t \\in \\mathcal{T}$: Index of a shit.\n",
    "\n",
    "$f \\in \\mathcal{F}$: Index of full time employee start time.\n",
    "\n",
    "$p \\in \\mathcal{P}$: Index of part time employee start time.\n",
    "\n",
    "## **Data**\n",
    "\n",
    "$n_{t}, t \\in \\mathcal{T}$: Number of tellers that need to be working during shift $t$.\n",
    "\n",
    "$w_{ft}, f \\in \\mathcal{F}, t \\in \\mathcal{T}$ binary number indicating whether full time employee starting at $f$ is working at $t$.\n",
    "\n",
    "$c_{pt}, p \\in \\mathcal{F}, t \\in \\mathcal{T}$ binary number indicating whether part time employee starting at $p$ is working at $t$.\n",
    "\n",
    "$d$: Daily salary for full time employee.\n",
    "\n",
    "$e$: Daily salary for part time employee.\n",
    "\n",
    "## **Decision Variables**\n",
    "$x_{f}, f \\in \\mathcal{F}$: Number of full time employees to start at time $f$.\n",
    "\n",
    "$y_{p}, p \\in \\mathcal{P}$: Number of part time employees to start at time $p$.\n",
    "\n",
    "## **Formulation**\n",
    "**Objective Function**\n",
    "\\begin{align*}\n",
    "\\mathrm{Min}\\sum_{f \\in \\mathcal{F}}x_{f} + \\sum_{p \\in \\mathcal{P}} y_{p}\n",
    "\\end{align*}\n",
    "\n",
    "**S.T.**\n",
    "\\begin{gather}\n",
    "\\sum_{f \\in \\mathcal{F}}x_{f}w_{ft} + \\sum_{p \\in \\mathcal{P}} y_{p}c_{pt} \\ge n_{t}, \\forall t \\in \\mathcal{T}\\\\\n",
    "x_{f} \\ge 0, f \\in \\mathcal{F} \\\\\n",
    "x_{f} \\in \\mathbb{Z}, f \\in \\mathcal{F} \\\\\n",
    "y_{p} \\ge 0, p \\in \\mathcal{P} \\\\\n",
    "y_{p} \\in \\mathbb{Z}, p \\in \\mathcal{P} \\\\\n",
    "\\end{gather}\n"
   ]
  },
  {
   "cell_type": "code",
   "execution_count": 1,
   "metadata": {},
   "outputs": [],
   "source": [
    "from docplex.mp.model import Model\n",
    "model = Model(name = \"BankTellers\")"
   ]
  },
  {
   "cell_type": "code",
   "execution_count": 2,
   "metadata": {},
   "outputs": [],
   "source": [
    "T = list(range(10))\n",
    "F = list(range(3))\n",
    "P = list(range(7))\n",
    "\n",
    "n = [6, 4, 8, 10, 9, 6, 4, 7, 6, 6]\n",
    "\n",
    "w = [\n",
    "    [1, 1, 1, 1, 0, 1, 1, 1, 0, 0],\n",
    "    [0, 1, 1, 1, 1, 0, 1, 1, 1, 0],\n",
    "    [0, 0, 1, 1, 1, 1, 0, 1, 1, 1]\n",
    "]\n",
    "\n",
    "c = [\n",
    "    [1, 1, 1, 1, 0, 0, 0, 0, 0, 0],\n",
    "    [0, 1, 1, 1, 1, 0, 0, 0, 0, 0],\n",
    "    [0, 0, 1, 1, 1, 1, 0, 0, 0, 0],\n",
    "    [0, 0, 0, 1, 1, 1, 1, 0, 0, 0],\n",
    "    [0, 0, 0, 0, 1, 1, 1, 1, 0, 0],\n",
    "    [0, 0, 0, 0, 0, 1, 1, 1, 1, 0],\n",
    "    [0, 0, 0, 0, 0, 0, 1, 1, 1, 1]\n",
    "]"
   ]
  },
  {
   "cell_type": "code",
   "execution_count": 3,
   "metadata": {},
   "outputs": [],
   "source": [
    "x = model.integer_var_list(len(F), lb = 0, name = \"x\")\n",
    "y = model.integer_var_list(len(P), lb = 0, name = \"y\")"
   ]
  },
  {
   "cell_type": "code",
   "execution_count": 4,
   "metadata": {},
   "outputs": [],
   "source": [
    "model.minimize(model.sum(x[f] for f in F) + model.sum(y[p] for p in P))"
   ]
  },
  {
   "cell_type": "code",
   "execution_count": 5,
   "metadata": {},
   "outputs": [],
   "source": [
    "for t in T:\n",
    "    model.add_constraint(model.sum(w[f][t] * x[f] for f in F) + model.sum(c[p][t] * y[p] for p in P) >= n[t])"
   ]
  },
  {
   "cell_type": "code",
   "execution_count": 6,
   "metadata": {},
   "outputs": [
    {
     "data": {
      "text/plain": [
       "'BankTellers.lp'"
      ]
     },
     "execution_count": 6,
     "metadata": {},
     "output_type": "execute_result"
    }
   ],
   "source": [
    "model.export_as_lp(\"BankTellers.lp\")"
   ]
  },
  {
   "cell_type": "code",
   "execution_count": 7,
   "metadata": {},
   "outputs": [
    {
     "name": "stdout",
     "output_type": "stream",
     "text": [
      "Version identifier: 22.1.1.0 | 2022-11-27 | 9160aff4d\n",
      "CPXPARAM_Read_DataCheck                          1\n",
      "Found incumbent of value 25.000000 after 0.00 sec. (0.00 ticks)\n",
      "Tried aggregator 1 time.\n",
      "MIP Presolve eliminated 2 rows and 0 columns.\n",
      "Reduced MIP has 8 rows, 10 columns, and 41 nonzeros.\n",
      "Reduced MIP has 0 binaries, 10 generals, 0 SOSs, and 0 indicators.\n",
      "Presolve time = 0.00 sec. (0.02 ticks)\n",
      "Tried aggregator 1 time.\n",
      "Detecting symmetries...\n",
      "Reduced MIP has 8 rows, 10 columns, and 41 nonzeros.\n",
      "Reduced MIP has 0 binaries, 10 generals, 0 SOSs, and 0 indicators.\n",
      "Presolve time = 0.00 sec. (0.02 ticks)\n",
      "MIP emphasis: balance optimality and feasibility.\n",
      "MIP search method: dynamic search.\n",
      "Parallel mode: deterministic, using up to 16 threads.\n",
      "Root relaxation solution time = 0.00 sec. (0.01 ticks)\n",
      "\n",
      "        Nodes                                         Cuts/\n",
      "   Node  Left     Objective  IInf  Best Integer    Best Bound    ItCnt     Gap\n",
      "\n",
      "*     0+    0                           25.0000        0.0000           100.00%\n",
      "*     0+    0                           15.0000        0.0000           100.00%\n",
      "      0     0        cutoff             15.0000       15.0000        9    0.00%\n",
      "      0     0        cutoff             15.0000       15.0000        9    0.00%\n",
      "Elapsed time = 0.02 sec. (0.07 ticks, tree = 0.01 MB, solutions = 2)\n",
      "\n",
      "Root node processing (before b&c):\n",
      "  Real time             =    0.02 sec. (0.07 ticks)\n",
      "Parallel b&c, 16 threads:\n",
      "  Real time             =    0.00 sec. (0.00 ticks)\n",
      "  Sync time (average)   =    0.00 sec.\n",
      "  Wait time (average)   =    0.00 sec.\n",
      "                          ------------\n",
      "Total (root+branch&cut) =    0.02 sec. (0.07 ticks)\n"
     ]
    },
    {
     "data": {
      "text/plain": [
       "docplex.mp.solution.SolveSolution(obj=15,values={x_0:6,x_1:3,x_2:6})"
      ]
     },
     "execution_count": 7,
     "metadata": {},
     "output_type": "execute_result"
    }
   ],
   "source": [
    "model.solve(log_output = True)"
   ]
  },
  {
   "cell_type": "code",
   "execution_count": 12,
   "metadata": {},
   "outputs": [
    {
     "name": "stdout",
     "output_type": "stream",
     "text": [
      "6.0\n",
      "9.0\n",
      "15.0\n",
      "15.0\n",
      "9.0\n",
      "12.0\n",
      "9.0\n",
      "15.0\n",
      "9.0\n",
      "6.0\n",
      "Objective value:  15.0\n",
      "[6.0, 3.0, 6.0]\n",
      "[0, 0, 0, 0, 0, 0, 0]\n"
     ]
    }
   ],
   "source": [
    "obj = model.objective_value\n",
    "assignmentx = [x[f].solution_value for f in F]\n",
    "assignmenty = [y[p].solution_value for p in P]\n",
    "\n",
    "for t in T:\n",
    "    assert sum(w[f][t] * assignmentx[f] for f in F) + sum(c[p][t] * assignmenty[p] for p in P) >= n[t]\n",
    "\n",
    "# turns out part timers are uselss (:\n",
    "print(\"Objective value: \", obj)\n",
    "print(assignmentx)\n",
    "print(assignmenty)"
   ]
  }
 ],
 "metadata": {
  "kernelspec": {
   "display_name": "venv",
   "language": "python",
   "name": "python3"
  },
  "language_info": {
   "codemirror_mode": {
    "name": "ipython",
    "version": 3
   },
   "file_extension": ".py",
   "mimetype": "text/x-python",
   "name": "python",
   "nbconvert_exporter": "python",
   "pygments_lexer": "ipython3",
   "version": "3.10.0"
  },
  "orig_nbformat": 4,
  "vscode": {
   "interpreter": {
    "hash": "9682219fa65ec76ab0a712f3cc506ba5eb9451d445ad0b772c7739d17e7a6e46"
   }
  }
 },
 "nbformat": 4,
 "nbformat_minor": 2
}
