{
 "cells": [
  {
   "attachments": {},
   "cell_type": "markdown",
   "metadata": {},
   "source": [
    "Morgan Inc. is planning the purchase of one of the component\n",
    "parts it needs for its finished product. The anticipated demands for the component for\n",
    "the next 12 periods are shown in the following table.\n",
    "\n",
    "<table border=\"1\">\n",
    "  <tr>\n",
    "    <th>Period</th>\n",
    "    <th>1</th>\n",
    "    <th>2</th>\n",
    "    <th>3</th>\n",
    "    <th>4</th>\n",
    "    <th>5</th>\n",
    "    <th>6</th>\n",
    "    <th>7</th>\n",
    "    <th>8</th>\n",
    "    <th>9</th>\n",
    "    <th>10</th>\n",
    "    <th>11</th>\n",
    "    <th>12</th>\n",
    "  </tr>\n",
    "  <tr>\n",
    "    <td>Demand</td>\n",
    "    <td>20</td>\n",
    "    <td>20</td>\n",
    "    <td>30</td>\n",
    "    <td>40</td>\n",
    "    <td>140</td>\n",
    "    <td>360</td>\n",
    "    <td>500</td>\n",
    "    <td>540</td>\n",
    "    <td>460</td>\n",
    "    <td>80</td>\n",
    "    <td>0</td>\n",
    "    <td>20</td>\n",
    "  </tr>\n",
    "</table>\n",
    "\n",
    " The cost to order the component\n",
    "(labor, shipping, and paperwork) is $150. The cost to hold these components in inventory is $1 per component per period. The price of the component is expected to remain\n",
    "stable at $12 per unit for the next 12 periods, and no quantity discounts are available.\n",
    "The maximum order size is 1,000 units.\n",
    "Formulate a model to minimize the total cost of satisfying Morgan Inc.’s demand\n",
    "for this component."
   ]
  }
 ],
 "metadata": {
  "kernelspec": {
   "display_name": "venv",
   "language": "python",
   "name": "python3"
  },
  "language_info": {
   "codemirror_mode": {
    "name": "ipython",
    "version": 3
   },
   "file_extension": ".py",
   "mimetype": "text/x-python",
   "name": "python",
   "nbconvert_exporter": "python",
   "pygments_lexer": "ipython3",
   "version": "3.10.10"
  },
  "orig_nbformat": 4,
  "vscode": {
   "interpreter": {
    "hash": "9682219fa65ec76ab0a712f3cc506ba5eb9451d445ad0b772c7739d17e7a6e46"
   }
  }
 },
 "nbformat": 4,
 "nbformat_minor": 2
}
