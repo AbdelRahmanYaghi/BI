{
 "cells": [
  {
   "cell_type": "markdown",
   "metadata": {},
   "source": [
    "### **Locating Police Substations**\n",
    "Grave City is considering the relocation of several police substations to obtain better enforcement in high-crime areas. The locations under consideration together with the areas that can be covered from these locations are given in the following table:\n",
    "\n",
    "<table>\n",
    "  <tr>\n",
    "    <th>Potential Locations for Substations</th>\n",
    "    <th>Areas Covered</th>\n",
    "  </tr>\n",
    "  <tr>\n",
    "    <td>A</td>\n",
    "    <td>1, 5, 7</td>\n",
    "  </tr>\n",
    "  <tr>\n",
    "    <td>B</td>\n",
    "    <td>1, 2, 5, 7</td>\n",
    "  </tr>\n",
    "  <tr>\n",
    "    <td>C</td>\n",
    "    <td>1, 3, 5</td>\n",
    "  </tr>\n",
    "  <tr>\n",
    "    <td>D</td>\n",
    "    <td>2, 4, 5</td>\n",
    "  </tr>\n",
    "  <tr>\n",
    "    <td>E</td>\n",
    "    <td>3, 4, 6</td>\n",
    "  </tr>\n",
    "  <tr>\n",
    "    <td>F</td>\n",
    "    <td>4, 5, 6</td>\n",
    "  </tr>\n",
    "  <tr>\n",
    "    <td>G</td>\n",
    "    <td>1, 5, 6, 7</td>\n",
    "  </tr>\n",
    "</table>\n",
    "\n",
    "### **Sets**\n",
    "$\\mathcal{P}$: Set of police substations.\n",
    "\n",
    "$\\mathcal{A}$: Set of Areas to cover.\n",
    "\n",
    "### **Indecies**\n",
    "$p \\in \\mathcal{P}$: index of police substation.\n",
    "\n",
    "$a \\in \\mathcal{A}$: index of area to cover.\n",
    "\n",
    "### **Data**\n",
    "$c_{ap}, a \\in \\mathcal{A}, p \\in \\mathcal{P}$: a binary value indicating whether area $a$ is covered by substation $p$.\n",
    "\n",
    "### **Decision Vars**\n",
    "$x_{p}, p \\in \\mathcal{P}$, Binary variable indicating whether to use location $p$ or not. \n",
    "\n",
    "### **Formulation**\n",
    "**Objective function**\n",
    "\\begin{align*}\n",
    "\\mathrm{Min} \\sum_{p \\in \\mathcal{P}} x_{p}\n",
    "\\end{align*}\n",
    "\n",
    "**S.T.**\n",
    "\\begin{gather}\n",
    "\\sum_{p \\in \\mathcal{P}} c_{ap}x_{p} \\ge 1, \\forall a \\in \\mathcal{A} \\\\\n",
    "x_{p} \\in \\{1, 0\\}, \\forall p \\in \\mathcal{P}\n",
    "\\end{gather}"
   ]
  },
  {
   "cell_type": "code",
   "execution_count": 1,
   "metadata": {},
   "outputs": [],
   "source": [
    "from docplex.mp.model import Model\n",
    "model = Model(name='Substations')"
   ]
  },
  {
   "cell_type": "code",
   "execution_count": 2,
   "metadata": {},
   "outputs": [],
   "source": [
    "P = list(range(7))\n",
    "A = list(range(7))\n",
    "\n",
    "c = [\n",
    "    [1, 0, 0, 0, 1, 0, 1],\n",
    "    [1, 1, 0, 0, 1, 0, 1],\n",
    "    [1, 0, 1, 0, 1, 0, 0],\n",
    "    [0, 1, 0, 1, 1, 0, 0],\n",
    "    [0, 0, 1, 1, 0, 1, 0],\n",
    "    [0, 0, 0, 1, 1, 1, 0],\n",
    "    [1, 0, 0, 0, 1, 1, 1]\n",
    "]"
   ]
  },
  {
   "cell_type": "code",
   "execution_count": 3,
   "metadata": {},
   "outputs": [],
   "source": [
    "x = model.binary_var_list(len(P), name = \"x\")"
   ]
  },
  {
   "cell_type": "code",
   "execution_count": 4,
   "metadata": {},
   "outputs": [],
   "source": [
    "model.minimize(model.sum(x[p] for p in P))"
   ]
  },
  {
   "cell_type": "code",
   "execution_count": 5,
   "metadata": {},
   "outputs": [],
   "source": [
    "for a in A:\n",
    "    model.add_constraint(model.sum(c[p][a] * x[p] for p in P) >= 1)"
   ]
  },
  {
   "cell_type": "code",
   "execution_count": 6,
   "metadata": {},
   "outputs": [
    {
     "data": {
      "text/plain": [
       "'substation.lp'"
      ]
     },
     "execution_count": 6,
     "metadata": {},
     "output_type": "execute_result"
    }
   ],
   "source": [
    "model.export_as_lp(\"substation.lp\")"
   ]
  },
  {
   "cell_type": "code",
   "execution_count": 7,
   "metadata": {},
   "outputs": [
    {
     "name": "stdout",
     "output_type": "stream",
     "text": [
      "Version identifier: 22.1.1.0 | 2022-11-27 | 9160aff4d\n",
      "CPXPARAM_Read_DataCheck                          1\n",
      "Found incumbent of value 7.000000 after 0.00 sec. (0.00 ticks)\n",
      "Tried aggregator 1 time.\n",
      "MIP Presolve eliminated 7 rows and 6 columns.\n",
      "All rows and columns eliminated.\n",
      "Presolve time = 0.00 sec. (0.01 ticks)\n",
      "\n",
      "Root node processing (before b&c):\n",
      "  Real time             =    0.00 sec. (0.01 ticks)\n",
      "Parallel b&c, 16 threads:\n",
      "  Real time             =    0.00 sec. (0.00 ticks)\n",
      "  Sync time (average)   =    0.00 sec.\n",
      "  Wait time (average)   =    0.00 sec.\n",
      "                          ------------\n",
      "Total (root+branch&cut) =    0.00 sec. (0.01 ticks)\n"
     ]
    },
    {
     "data": {
      "text/plain": [
       "docplex.mp.solution.SolveSolution(obj=2,values={x_1:1,x_4:1})"
      ]
     },
     "execution_count": 7,
     "metadata": {},
     "output_type": "execute_result"
    }
   ],
   "source": [
    "model.solve(log_output = True)"
   ]
  },
  {
   "cell_type": "code",
   "execution_count": 8,
   "metadata": {},
   "outputs": [
    {
     "name": "stdout",
     "output_type": "stream",
     "text": [
      "Objective value:  2.0\n",
      "[0, 1.0, 0, 0, 1.0, 0, 0]\n"
     ]
    }
   ],
   "source": [
    "obj = model.objective_value\n",
    "assignment = [x[p].solution_value for p in P]\n",
    "\n",
    "print(\"Objective value: \", obj)\n",
    "print(assignment)"
   ]
  }
 ],
 "metadata": {
  "kernelspec": {
   "display_name": "Python 3",
   "language": "python",
   "name": "python3"
  },
  "language_info": {
   "codemirror_mode": {
    "name": "ipython",
    "version": 3
   },
   "file_extension": ".py",
   "mimetype": "text/x-python",
   "name": "python",
   "nbconvert_exporter": "python",
   "pygments_lexer": "ipython3",
   "version": "3.10.0"
  }
 },
 "nbformat": 4,
 "nbformat_minor": 2
}
