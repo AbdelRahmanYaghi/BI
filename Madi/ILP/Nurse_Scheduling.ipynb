{
 "cells": [
  {
   "cell_type": "markdown",
   "metadata": {},
   "source": [
    "### **Nurse Scheduling**\n",
    "Hospital administrators must schedule nurses so that the hospital’s patients are provided adequate care. At the same time, careful attention must be paid to keeping costs down. From historical records, administrators can project the minimum number of nurses required to be on hand for various times of day and days of the week. \n",
    "\n",
    "The objective is to find the minimum total number of nurses required to provide adequate care.Nurses start work at the beginning of one of the four-hour shifts given below (except for shift 6) and work for 8 consecutive hours. Hence, possible start times are the start of shifts 1 through 5. Also, assume that the projected required number of nurses factors in time for each nurse to have a meal break.\n",
    "\n",
    "Formulate and solve the nurse scheduling problem as an integer program for one day for the data given below.\n",
    "Hint: Note that exceeding the minimum number of needed nurses in each shift is acceptable so long as the total number of nurses over all shifts is minimized.\n",
    "\n",
    "<table>\n",
    "    <thead>\n",
    "        <tr>\n",
    "            <th> Time </th>\n",
    "            <th> No. of Nurses </th>\n",
    "        </tr>\n",
    "    </thead>\n",
    "    <tbody>\n",
    "      <tr>\n",
    "        <td>12:00 a.m. – 4:00 a.m.</td>\n",
    "        <td>10</td>\n",
    "      </tr>\n",
    "      <tr>\n",
    "        <td>4:00 a.m. – 8:00 a.m.</td>\n",
    "        <td>24</td>\n",
    "      </tr>\n",
    "      <tr>\n",
    "        <td>8:00 a.m. – 12:00 p.m.</td>\n",
    "        <td>18</td>\n",
    "      </tr>\n",
    "      <tr>\n",
    "        <td>12:00 p.m. – 4:00 p.m.</td>\n",
    "        <td>10</td>\n",
    "      </tr>\n",
    "      <tr>\n",
    "        <td>4:00 p.m. – 8:00 p.m.</td>\n",
    "        <td>23</td>\n",
    "      </tr>\n",
    "      <tr>\n",
    "        <td>8:00 p.m. – 12:00 a.m.</td>\n",
    "        <td>17</td>\n",
    "      </tr>\n",
    "    </tbody>\n",
    "</table>\n",
    "\n",
    "## **Sets**\n",
    "$\\mathcal{T}$: Set of shifts.\n",
    "\n",
    "$\\mathcal{S}$: Set of nurse start times.\n",
    "\n",
    "## **Indecies**\n",
    "$t \\in \\mathcal{T}$: index of shift in shifts.\n",
    "\n",
    "$s \\in \\mathcal{S}$ index of start time in possible nurse start times.\n",
    "\n",
    "## **Data**\n",
    "$n_{t}, t \\in \\mathcal{T}$, Amount of needed nurses at each time step.\n",
    "\n",
    "$w_{st}, t \\in \\mathcal{T}, s \\in \\mathcal{S}$ binary value indicating whether the nurses who started at shift $s$ is working during shift $t$.\n",
    "## **Decision Variables**\n",
    "$x_s, s \\in \\mathcal{S}$ Number of nurses starting at time $s$.\n",
    "## **Formulation**\n",
    "**Objective function**\n",
    "\\begin{align*}\n",
    "\\mathrm{Min} \\sum_{s \\in \\mathcal{S}} x_{s}\n",
    "\\end{align*}\n",
    "\n",
    "**S.T.**\n",
    "\\begin{gather}\n",
    "\\sum_{s \\in \\mathcal{S}}x_{s} w_{st} \\ge n_{t}, \\forall t \\in \\mathcal{T} \\\\\n",
    "x_{s} \\ge 0, \\forall s \\in \\mathcal{S} \\\\\n",
    "x_{s} \\in \\mathbb{Z}, \\forall s \\in \\mathcal{S}\\\\\n",
    "\\end{gather}\n"
   ]
  },
  {
   "cell_type": "code",
   "execution_count": 1,
   "metadata": {},
   "outputs": [],
   "source": [
    "from docplex.mp.model import Model\n",
    "model = Model(name = \"Nurse Scheduling\")"
   ]
  },
  {
   "cell_type": "code",
   "execution_count": 2,
   "metadata": {},
   "outputs": [],
   "source": [
    "# Data\n",
    "T = list(range(6))\n",
    "S = list(range(5))\n",
    "\n",
    "n = [10, 24, 28, 10, 23, 17]\n",
    "w = [\n",
    "    [1, 1, 0, 0, 0, 0],\n",
    "    [0, 1, 1, 0, 0, 0],\n",
    "    [0, 0, 1, 1, 0, 0],\n",
    "    [0, 0, 0, 1, 1, 0],\n",
    "    [0, 0, 0, 0, 1, 1]\n",
    "]\n"
   ]
  },
  {
   "cell_type": "code",
   "execution_count": 3,
   "metadata": {},
   "outputs": [],
   "source": [
    "x = model.integer_var_list(len(S), name = \"x\", lb = 0)"
   ]
  },
  {
   "cell_type": "code",
   "execution_count": 4,
   "metadata": {},
   "outputs": [],
   "source": [
    "model.minimize(model.sum(x[s] for s in S))"
   ]
  },
  {
   "cell_type": "code",
   "execution_count": 5,
   "metadata": {},
   "outputs": [],
   "source": [
    "for t in T:\n",
    "    model.add_constraint(model.sum(w[s][t] * x[s] for s in S) >= n[t])"
   ]
  },
  {
   "cell_type": "code",
   "execution_count": 6,
   "metadata": {},
   "outputs": [
    {
     "data": {
      "text/plain": [
       "'Nurse_Scheduling.lp'"
      ]
     },
     "execution_count": 6,
     "metadata": {},
     "output_type": "execute_result"
    }
   ],
   "source": [
    "model.export_as_lp(\"Nurse_Scheduling.lp\")"
   ]
  },
  {
   "cell_type": "code",
   "execution_count": 7,
   "metadata": {},
   "outputs": [
    {
     "name": "stdout",
     "output_type": "stream",
     "text": [
      "Version identifier: 22.1.1.0 | 2022-11-27 | 9160aff4d\n",
      "CPXPARAM_Read_DataCheck                          1\n",
      "Found incumbent of value 102.000000 after 0.02 sec. (0.00 ticks)\n",
      "Tried aggregator 1 time.\n",
      "MIP Presolve eliminated 2 rows and 0 columns.\n",
      "Reduced MIP has 4 rows, 5 columns, and 8 nonzeros.\n",
      "Reduced MIP has 0 binaries, 5 generals, 0 SOSs, and 0 indicators.\n",
      "Presolve time = 0.01 sec. (0.00 ticks)\n",
      "Tried aggregator 1 time.\n",
      "Detecting symmetries...\n",
      "Reduced MIP has 4 rows, 5 columns, and 8 nonzeros.\n",
      "Reduced MIP has 0 binaries, 5 generals, 0 SOSs, and 0 indicators.\n",
      "Presolve time = 0.02 sec. (0.01 ticks)\n",
      "MIP emphasis: balance optimality and feasibility.\n",
      "MIP search method: dynamic search.\n",
      "Parallel mode: deterministic, using up to 16 threads.\n",
      "Root relaxation solution time = 0.00 sec. (0.00 ticks)\n",
      "\n",
      "        Nodes                                         Cuts/\n",
      "   Node  Left     Objective  IInf  Best Integer    Best Bound    ItCnt     Gap\n",
      "\n",
      "*     0+    0                          102.0000       27.0000            73.53%\n",
      "*     0     0      integral     0       61.0000       61.0000        3    0.00%\n",
      "Elapsed time = 0.06 sec. (0.02 ticks, tree = 0.00 MB, solutions = 1)\n",
      "\n",
      "Root node processing (before b&c):\n",
      "  Real time             =    0.08 sec. (0.02 ticks)\n",
      "Parallel b&c, 16 threads:\n",
      "  Real time             =    0.00 sec. (0.00 ticks)\n",
      "  Sync time (average)   =    0.00 sec.\n",
      "  Wait time (average)   =    0.00 sec.\n",
      "                          ------------\n",
      "Total (root+branch&cut) =    0.08 sec. (0.02 ticks)\n"
     ]
    },
    {
     "data": {
      "text/plain": [
       "docplex.mp.solution.SolveSolution(obj=61,values={x_0:10,x_1:14,x_2:14,x_.."
      ]
     },
     "execution_count": 7,
     "metadata": {},
     "output_type": "execute_result"
    }
   ],
   "source": [
    "model.solve(log_output = True)"
   ]
  },
  {
   "cell_type": "code",
   "execution_count": 10,
   "metadata": {},
   "outputs": [
    {
     "name": "stdout",
     "output_type": "stream",
     "text": [
      "Day 1, will have 10.0\n",
      "Day 2, will have 24.0\n",
      "Day 3, will have 28.0\n",
      "Day 4, will have 14.0\n",
      "Day 5, will have 23.0\n",
      "Day 6, will have 23.0\n"
     ]
    }
   ],
   "source": [
    "obj = model.objective_value\n",
    "assignment = [x[s].solution_value for s in S]\n",
    "\n",
    "for t in T:\n",
    "    print(f\"Day {t + 1}, will have {sum(w[s][t] * assignment[s] for s in S)}\")\n",
    "    assert sum(w[s][t] * assignment[s] for s in S) >= n[t]"
   ]
  }
 ],
 "metadata": {
  "kernelspec": {
   "display_name": "Python 3",
   "language": "python",
   "name": "python3"
  },
  "language_info": {
   "codemirror_mode": {
    "name": "ipython",
    "version": 3
   },
   "file_extension": ".py",
   "mimetype": "text/x-python",
   "name": "python",
   "nbconvert_exporter": "python",
   "pygments_lexer": "ipython3",
   "version": "3.10.0"
  }
 },
 "nbformat": 4,
 "nbformat_minor": 2
}
