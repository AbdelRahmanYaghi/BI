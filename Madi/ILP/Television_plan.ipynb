{
 "cells": [
  {
   "cell_type": "markdown",
   "metadata": {},
   "source": [
    "### **Television Show Planning**\n",
    "John White is the program scheduling manager for the \n",
    "television channel CCFO. John would like to plan the schedule of television shows for \n",
    "next Wednesday evening.\n",
    "The table below lists nine shows under consideration. John must select exactly \n",
    "five of these shows for the period from 8:00 p.m. to 10:30 p.m. next Wednesday \n",
    "evening. For each television show, the estimated advertising revenue (in $ millions) \n",
    "is provided. Furthermore, each show has been categorized into one or more of the \n",
    "categories “Public Interest,” “Violent,” “Comedy,” and “Drama.” In the following \n",
    "table, a 1 indicates that the show is in the corresponding category and a 0 indicates \n",
    "it is not\n",
    "\n",
    "<table>\n",
    "  <tr>\n",
    "    <th>Show</th>\n",
    "    <th>Revenue ($ Millions)</th>\n",
    "    <th>Public Interest</th>\n",
    "    <th>Violent</th>\n",
    "    <th>Comedy</th>\n",
    "    <th>Drama</th>\n",
    "  </tr>\n",
    "  <tr>\n",
    "    <td>Sam's Place</td>\n",
    "    <td>$6</td>\n",
    "    <td>0</td>\n",
    "    <td>0</td>\n",
    "    <td>1</td>\n",
    "    <td>1</td>\n",
    "  </tr>\n",
    "  <tr>\n",
    "    <td>Texas Oil</td>\n",
    "    <td>$10</td>\n",
    "    <td>0</td>\n",
    "    <td>1</td>\n",
    "    <td>0</td>\n",
    "    <td>1</td>\n",
    "  </tr>\n",
    "  <tr>\n",
    "    <td>Cincinnati Law</td>\n",
    "    <td>$9</td>\n",
    "    <td>1</td>\n",
    "    <td>0</td>\n",
    "    <td>0</td>\n",
    "    <td>1</td>\n",
    "  </tr>\n",
    "  <tr>\n",
    "    <td>Jarred</td>\n",
    "    <td>$4</td>\n",
    "    <td>0</td>\n",
    "    <td>1</td>\n",
    "    <td>0</td>\n",
    "    <td>1</td>\n",
    "  </tr>\n",
    "  <tr>\n",
    "    <td>Bob & Mary</td>\n",
    "    <td>$5</td>\n",
    "    <td>0</td>\n",
    "    <td>0</td>\n",
    "    <td>1</td>\n",
    "    <td>0</td>\n",
    "  </tr>\n",
    "  <tr>\n",
    "    <td>Chainsaw</td>\n",
    "    <td>$2</td>\n",
    "    <td>0</td>\n",
    "    <td>1</td>\n",
    "    <td>0</td>\n",
    "    <td>0</td>\n",
    "  </tr>\n",
    "  <tr>\n",
    "    <td>Loving Life</td>\n",
    "    <td>$6</td>\n",
    "    <td>1</td>\n",
    "    <td>0</td>\n",
    "    <td>0</td>\n",
    "    <td>1</td>\n",
    "  </tr>\n",
    "  <tr>\n",
    "    <td>Islanders</td>\n",
    "    <td>$7</td>\n",
    "    <td>0</td>\n",
    "    <td>0</td>\n",
    "    <td>1</td>\n",
    "    <td>0</td>\n",
    "  </tr>\n",
    "  <tr>\n",
    "    <td>Urban Sprawl</td>\n",
    "    <td>$8</td>\n",
    "    <td>1</td>\n",
    "    <td>0</td>\n",
    "    <td>0</td>\n",
    "    <td>0</td>\n",
    "  </tr>\n",
    "</table>\n",
    "\n",
    "John would like to determine a revenue-maximizing schedule of television shows \n",
    "for next Wednesday evening. However, he must be mindful of the following \n",
    "considerations:\n",
    "\n",
    "• The schedule must include at least as many shows that are categorized as public \n",
    "interest as shows that are categorized as violent.\n",
    "\n",
    "• If John schedules “Loving Life,” then he must also schedule either “Jarred” or \n",
    "“Cincinnati Law” (or both).\n",
    "\n",
    "• John cannot schedule both “Loving Life” and “Urban Sprawl.”\n",
    "\n",
    "• If John schedules more than one show in the “Violent” category, he will lose an \n",
    "estimated $4 million in advertising revenues from family-oriented sponsors.\n",
    "\n",
    "## **Sets**\n",
    "$\\mathcal{I}$: Set of shows.\n",
    "\n",
    "## **Indecies**\n",
    "$i \\in \\mathcal{I}$: Index of arbitrary show.\n",
    "\n",
    "## **Data**\n",
    "$r_{i}, i \\in \\mathcal{I}$: Revenue gain for each show.\n",
    "\n",
    "$p_{i}, i \\in \\mathcal{I}$: Binary value indicating whether show $t$ was in public interest category.\n",
    "\n",
    "$v_{i}, i \\in \\mathcal{I}$: Binary value indicating whether show $t$ was in violent category.\n",
    "\n",
    "$c_{i}, i \\in \\mathcal{I}$: Binary value indicating whether show $t$ was in comedy category.\n",
    "\n",
    "$d_{i}, i \\in \\mathcal{I}$: Binary value indicating whether show $t$ was in drama category.\n",
    "\n",
    "$a$: Violent penalty.\n",
    "\n",
    "$n$: number of shows.\n",
    "\n",
    "## **Decision Vars**\n",
    "$x_{i}, i \\in \\mathcal{I}$ Binary variable indicating whether to schedule show $i$ or not.\n",
    "\n",
    "$y$ Binary variable indicating whether the violent penalty applies or not.\n",
    "\n",
    "## **Formulation**\n",
    "**Objective function**\n",
    "\\begin{align*}\n",
    "\\mathrm{Max}\\sum_{i \\in \\mathcal{I}}x_{i}r_{i} - ya\n",
    "\\end{align*}\n",
    "\n",
    "**S.T.**\n",
    "\\begin{gather}\n",
    "\\sum_{i \\in \\mathcal{I}} x_{i}p_{i} = \\sum_{i \\in \\mathcal{I}} x_{i}v_{i}\\\\\n",
    "x_{7} \\le x_{3} + x_{4}\\\\\n",
    "x_{7} \\ge x_{3}\\\\\n",
    "x_{7} \\ge x_{4}\\\\\n",
    "x_{7} = 1 - x_{9}\\\\\n",
    "yn \\ge \\sum_{i \\in \\mathcal{I}} x_{i}v_{i} \\\\\n",
    "x_{i} \\in \\{0, 1\\}, \\forall i \\in \\mathcal{I} \\\\\n",
    "y \\in \\{0, 1\\}\n",
    "\\end{gather}\n",
    "\n",
    "Helpfull link https://cs.stackexchange.com/questions/12102/express-boolean-logic-operations-in-zero-one-integer-linear-programming-ilp\n",
    "\n",
    "I think this can be generalized further, but its too much work, also not entirly sure about if statements."
   ]
  },
  {
   "cell_type": "code",
   "execution_count": 1,
   "metadata": {},
   "outputs": [],
   "source": [
    "from docplex.mp.model import Model\n",
    "model = Model(name = \"Television Schedule\")"
   ]
  },
  {
   "cell_type": "code",
   "execution_count": 2,
   "metadata": {},
   "outputs": [],
   "source": [
    "I = list(range(9))\n",
    "\n",
    "r = [6, 10, 9, 4, 5, 2, 6, 7, 8]\n",
    "p = [0, 0, 1, 0, 0, 0, 1, 0, 1]\n",
    "v = [0, 1, 0, 1, 0, 1, 0, 0, 0]\n",
    "c = [1, 0, 0, 0, 1, 0, 0, 1, 0]\n",
    "d = [1, 1, 1, 1, 0, 0, 1, 0, 0]\n",
    "\n",
    "a = 4\n",
    "n = len(I)"
   ]
  },
  {
   "cell_type": "code",
   "execution_count": 3,
   "metadata": {},
   "outputs": [],
   "source": [
    "x = model.binary_var_list(I, name = \"x\")\n",
    "y = model.binary_var(name = \"y\")"
   ]
  },
  {
   "cell_type": "code",
   "execution_count": 4,
   "metadata": {},
   "outputs": [],
   "source": [
    "model.maximize(model.sum(r[i] * x[i] for i in I) - a * y)"
   ]
  },
  {
   "cell_type": "code",
   "execution_count": 5,
   "metadata": {},
   "outputs": [
    {
     "data": {
      "text/plain": [
       "docplex.mp.LinearConstraint[](9y,GE,x_1+x_3+x_5)"
      ]
     },
     "execution_count": 5,
     "metadata": {},
     "output_type": "execute_result"
    }
   ],
   "source": [
    "model.add_constraint(model.sum(x[i] * p[i] for i in I) == model.sum(v[i] * x[i] for i in I))\n",
    "model.add_constraint(x[6] <= x[2] + x[3])\n",
    "model.add_constraint(x[6] >= x[2])\n",
    "model.add_constraint(x[6] >= x[3])\n",
    "model.add_constraint(x[6] == 1 - x[8])\n",
    "model.add_constraint(y * n >= model.sum(v[i] * x[i] for i in I))"
   ]
  },
  {
   "cell_type": "code",
   "execution_count": 6,
   "metadata": {},
   "outputs": [
    {
     "data": {
      "text/plain": [
       "'Television.lp'"
      ]
     },
     "execution_count": 6,
     "metadata": {},
     "output_type": "execute_result"
    }
   ],
   "source": [
    "model.export_as_lp(\"Television.lp\")"
   ]
  },
  {
   "cell_type": "code",
   "execution_count": 7,
   "metadata": {},
   "outputs": [
    {
     "name": "stdout",
     "output_type": "stream",
     "text": [
      "Version identifier: 22.1.1.0 | 2022-11-27 | 9160aff4d\n",
      "CPXPARAM_Read_DataCheck                          1\n",
      "Tried aggregator 2 times.\n",
      "MIP Presolve eliminated 0 rows and 3 columns.\n",
      "MIP Presolve modified 1 coefficients.\n",
      "Aggregator did 1 substitutions.\n",
      "Reduced MIP has 5 rows, 6 columns, and 15 nonzeros.\n",
      "Reduced MIP has 6 binaries, 0 generals, 0 SOSs, and 0 indicators.\n",
      "Presolve time = 0.00 sec. (0.02 ticks)\n",
      "Found incumbent of value 43.000000 after 0.02 sec. (0.02 ticks)\n",
      "Probing fixed 1 vars, tightened 0 bounds.\n",
      "Probing time = 0.00 sec. (0.00 ticks)\n",
      "Cover probing fixed 0 vars, tightened 6 bounds.\n",
      "Tried aggregator 1 time.\n",
      "MIP Presolve eliminated 5 rows and 6 columns.\n",
      "All rows and columns eliminated.\n",
      "Presolve time = 0.02 sec. (0.00 ticks)\n",
      "\n",
      "Root node processing (before b&c):\n",
      "  Real time             =    0.03 sec. (0.03 ticks)\n",
      "Parallel b&c, 16 threads:\n",
      "  Real time             =    0.00 sec. (0.00 ticks)\n",
      "  Sync time (average)   =    0.00 sec.\n",
      "  Wait time (average)   =    0.00 sec.\n",
      "                          ------------\n",
      "Total (root+branch&cut) =    0.03 sec. (0.03 ticks)\n"
     ]
    },
    {
     "data": {
      "text/plain": [
       "docplex.mp.solution.SolveSolution(obj=43,values={x_0:1,x_1:1,x_2:1,x_3:1.."
      ]
     },
     "execution_count": 7,
     "metadata": {},
     "output_type": "execute_result"
    }
   ],
   "source": [
    "model.solve(log_output = True)"
   ]
  },
  {
   "cell_type": "code",
   "execution_count": 9,
   "metadata": {},
   "outputs": [
    {
     "name": "stdout",
     "output_type": "stream",
     "text": [
      "43.0\n",
      "[1.0, 1.0, 1.0, 1.0, 1.0, 0, 1.0, 1.0, 0]\n",
      "1.0\n"
     ]
    }
   ],
   "source": [
    "obj = model.objective_value\n",
    "assignment = [x[i].solution_value for i in I]\n",
    "assigny = y.solution_value\n",
    "\n",
    "\n",
    "print(obj)\n",
    "print(assignment)\n",
    "print(assigny)"
   ]
  }
 ],
 "metadata": {
  "kernelspec": {
   "display_name": "Python 3",
   "language": "python",
   "name": "python3"
  },
  "language_info": {
   "codemirror_mode": {
    "name": "ipython",
    "version": 3
   },
   "file_extension": ".py",
   "mimetype": "text/x-python",
   "name": "python",
   "nbconvert_exporter": "python",
   "pygments_lexer": "ipython3",
   "version": "3.10.0"
  }
 },
 "nbformat": 4,
 "nbformat_minor": 2
}
