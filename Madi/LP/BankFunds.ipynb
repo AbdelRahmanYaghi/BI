{
 "cells": [
  {
   "cell_type": "markdown",
   "metadata": {},
   "source": [
    "## **Bank Loan Funds Allocation**\n",
    "\n",
    "Adirondack Savings Bank (ASB) has $1 million in new funds that must be allocated to home loans, personal loans, and automobile loans. The annual rates of return for the three types of loans are 7% for home loans, 12% for personal loans, and 9% for automobile loans. The bank’s planning committee has decided that at least 40% of the new funds must be allocated to home loans. In addition, the planning committee has specified that the amount allocated to personal loans cannot exceed 60% of the amount allocated to automobile loans.\n",
    "\n",
    "a. Formulate a linear programming model that can be used to determine the amount of funds ASB should allocate to each type of loan to maximize the total annual return for the new funds.\n",
    "\n",
    "b. How much should be allocated to each type of loan? What is the total annual return? What is the annual percentage return?\n",
    "\n",
    "c. If the interest rate on home loans increases to 9%, would the amount allocated to each type of loan change? Explain.\n",
    "\n",
    "d. Suppose the total amount of new funds available is increased by $10,000. What effect would this have on the total annual return? Explain.\n",
    "\n",
    "e. Assume that ASB has the original $1 million in new funds available and that the planning committee has agreed to relax the requirement that at least 40% of the new funds must be allocated to home loans by 1%. How much would the annual return change? How much would the annual percentage return change?\n",
    "\n",
    "\n",
    "## **Sets**\n",
    "\n",
    "$\\mathcal{R}$: Set of loan types.\n",
    "\n",
    "## **Indecies**\n",
    "$r$: Index for element in $\\mathcal{R}$\n",
    "\n",
    "## **Data**\n",
    "$l_{r}, r \\in \\mathcal{R}$ Return percentages for each loan type.\n",
    "\n",
    "$f$, Total availble funds/\n",
    "\n",
    "\n",
    "## **Decision Variables**\n",
    "$x_{r}, r \\in \\mathcal{R}$ Amount to allocate to each loan type.\n",
    "\n",
    "## **Formulation**\n",
    "**Objective Function**\n",
    "\\begin{align*}\n",
    "\\mathrm{Max} \\sum_{r \\in \\mathcal{R}} x_{r} l_{r}\n",
    "\\end{align*}\n",
    "\n",
    "**S.T.**\n",
    "\\begin{gather}\n",
    "\\sum_{r \\in \\mathcal{R}} x_{r} = f\\\\\n",
    "x_{1} \\ge 0.4f\\\\\n",
    "x_2 \\le 0.6x_{3}\\\\\n",
    "x_{r} \\ge 0,  \\forall r \\in \\mathcal{R}\n",
    "\\end{gather}\n",
    "\n"
   ]
  },
  {
   "cell_type": "code",
   "execution_count": 1,
   "metadata": {},
   "outputs": [],
   "source": [
    "from docplex.mp.model import Model\n",
    "model = Model(name = \"Bank_Funds\")"
   ]
  },
  {
   "cell_type": "code",
   "execution_count": 2,
   "metadata": {},
   "outputs": [],
   "source": [
    "returns = [0.07, 0.12, 0.09]\n",
    "f = 1000000\n",
    "R = [0, 1, 2]"
   ]
  },
  {
   "cell_type": "code",
   "execution_count": 3,
   "metadata": {},
   "outputs": [],
   "source": [
    "x = model.continuous_var_list(len(returns), name = \"x\", lb = 0)"
   ]
  },
  {
   "cell_type": "code",
   "execution_count": 4,
   "metadata": {},
   "outputs": [],
   "source": [
    "model.maximize(model.sum(returns[r] * x[r] for r in R))"
   ]
  },
  {
   "cell_type": "code",
   "execution_count": 5,
   "metadata": {},
   "outputs": [],
   "source": [
    "model.add_constraint(model.sum(x[r] for r in R) <= f)\n",
    "model.add_constraint(x[0] >= 0.4 * f)\n",
    "model.add_constraint(x[1] <= 0.6 * x[2])\n",
    "for r in R:\n",
    "    model.add_constraint(x[r] >= 0)"
   ]
  },
  {
   "cell_type": "code",
   "execution_count": 6,
   "metadata": {},
   "outputs": [
    {
     "data": {
      "text/plain": [
       "'Bank_Funds.lp'"
      ]
     },
     "execution_count": 6,
     "metadata": {},
     "output_type": "execute_result"
    }
   ],
   "source": [
    "model.export_as_lp(\"Bank_Funds.lp\")"
   ]
  },
  {
   "cell_type": "code",
   "execution_count": 7,
   "metadata": {},
   "outputs": [
    {
     "name": "stdout",
     "output_type": "stream",
     "text": [
      "Version identifier: 22.1.1.0 | 2022-11-27 | 9160aff4d\n",
      "CPXPARAM_Read_DataCheck                          1\n",
      "Tried aggregator 1 time.\n",
      "LP Presolve eliminated 5 rows and 2 columns.\n",
      "Aggregator did 1 substitutions.\n",
      "All rows and columns eliminated.\n",
      "Presolve time = 0.00 sec. (0.00 ticks)\n"
     ]
    },
    {
     "data": {
      "text/plain": [
       "docplex.mp.solution.SolveSolution(obj=88750,values={x_0:400000,x_1:22500.."
      ]
     },
     "execution_count": 7,
     "metadata": {},
     "output_type": "execute_result"
    }
   ],
   "source": [
    "model.solve(log_output = True)"
   ]
  },
  {
   "cell_type": "code",
   "execution_count": 10,
   "metadata": {},
   "outputs": [
    {
     "name": "stdout",
     "output_type": "stream",
     "text": [
      "88750.0\n"
     ]
    },
    {
     "data": {
      "text/plain": [
       "[400000.0, 225000.0, 375000.0]"
      ]
     },
     "execution_count": 10,
     "metadata": {},
     "output_type": "execute_result"
    }
   ],
   "source": [
    "obj = model.objective_value\n",
    "assignment = [x[r].solution_value for r in R]\n",
    "\n",
    "\n",
    "print(obj)\n",
    "assignment"
   ]
  },
  {
   "cell_type": "code",
   "execution_count": 9,
   "metadata": {},
   "outputs": [
    {
     "name": "stdout",
     "output_type": "stream",
     "text": [
      "x_0+x_1+x_2 <= 1000000 0.10124999999999999\n",
      "x_0 >= 400000.0 -0.031249999999999986\n",
      "x_1 <= 0.600x_2 0.01875\n",
      "x_0 >= 0 0\n",
      "x_1 >= 0 0\n",
      "x_2 >= 0 0\n"
     ]
    }
   ],
   "source": [
    "for ct in model.iter_constraints():\n",
    "    print(ct, ct.dual_value)"
   ]
  }
 ],
 "metadata": {
  "kernelspec": {
   "display_name": "Python 3",
   "language": "python",
   "name": "python3"
  },
  "language_info": {
   "codemirror_mode": {
    "name": "ipython",
    "version": 3
   },
   "file_extension": ".py",
   "mimetype": "text/x-python",
   "name": "python",
   "nbconvert_exporter": "python",
   "pygments_lexer": "ipython3",
   "version": "3.10.0"
  }
 },
 "nbformat": 4,
 "nbformat_minor": 2
}
