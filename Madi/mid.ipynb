{
 "cells": [
  {
   "cell_type": "code",
   "execution_count": 1,
   "id": "a4c714ba-b84a-431a-866f-784ad95f5ab4",
   "metadata": {},
   "outputs": [],
   "source": [
    "from docplex.mp.model import Model"
   ]
  },
  {
   "cell_type": "code",
   "execution_count": 2,
   "id": "c638f2fb-72e0-4c6f-878b-8338d983951d",
   "metadata": {},
   "outputs": [],
   "source": [
    "model = Model()"
   ]
  },
  {
   "cell_type": "code",
   "execution_count": 3,
   "id": "89221321",
   "metadata": {},
   "outputs": [],
   "source": [
    "R1 = list(range(12)) # num of regions\n",
    "R2 = list(range(12)) # decision vars\n",
    "cover = [\n",
    "    [1, 1, 1, 0, 0, 0, 0, 0, 0, 0, 0, 0],\n",
    "    [1, 1, 1, 1, 1, 1, 0, 0, 0, 0, 0, 0],\n",
    "    [1, 1, 1, 1, 1, 1, 1, 0, 0, 0, 0, 0],\n",
    "    [0, 1, 1, 1, 1, 1, 1, 0, 0, 0, 0, 0],\n",
    "    [0, 1, 1, 1, 1, 1, 1, 0, 0, 0, 0, 0],\n",
    "    [0, 1, 1, 1, 1, 1, 1, 1, 0, 0, 0, 0],\n",
    "    [0, 0, 1, 1, 1, 1, 1, 1, 1, 0, 0, 0],\n",
    "    [0, 0, 0, 0, 0, 1, 1, 1, 1, 1, 0, 0],\n",
    "    [0, 0, 0, 0, 0, 0, 1, 1, 1, 1, 1, 0],\n",
    "    [0, 0, 0, 0, 0, 0, 0, 1, 1, 1, 1, 0],\n",
    "    [0, 0, 0, 0, 0, 0, 0, 0, 1, 1, 1, 1],\n",
    "    [0, 0, 0, 0, 0, 0, 0, 0, 0, 0, 1, 1]\n",
    "]"
   ]
  },
  {
   "cell_type": "code",
   "execution_count": 4,
   "id": "240cfb29-f1df-4d5f-84d8-db59023b410e",
   "metadata": {},
   "outputs": [],
   "source": [
    "x = model.binary_var_list(R2, name = \"x\")"
   ]
  },
  {
   "cell_type": "code",
   "execution_count": 5,
   "id": "a0b2e3c5-8c88-4674-bb96-d2e00c618108",
   "metadata": {},
   "outputs": [],
   "source": [
    "model.minimize(model.sum(x[r] for r in R2))"
   ]
  },
  {
   "cell_type": "code",
   "execution_count": 6,
   "id": "66b4a1de",
   "metadata": {},
   "outputs": [],
   "source": [
    "for r1 in R1:\n",
    "    model.add_constraint(model.sum(cover[r1][r2] * x[r2] for r2 in R2) >= 1)"
   ]
  },
  {
   "cell_type": "code",
   "execution_count": 7,
   "id": "2e55e1bc-8b49-48aa-b13f-d4d2326b8509",
   "metadata": {},
   "outputs": [
    {
     "data": {
      "text/plain": [
       "docplex.mp.solution.SolveSolution(obj=3,values={x_2:1,x_6:1,x_10:1})"
      ]
     },
     "execution_count": 7,
     "metadata": {},
     "output_type": "execute_result"
    }
   ],
   "source": [
    "model.solve()"
   ]
  },
  {
   "cell_type": "code",
   "execution_count": 8,
   "id": "5a61a107-0178-47e7-9d23-770dc9506d9f",
   "metadata": {},
   "outputs": [
    {
     "name": "stdout",
     "output_type": "stream",
     "text": [
      "[0, 0, 1.0, 0, 0, 0, 1.0, 0, 0, 0, 1.0, 0]\n"
     ]
    }
   ],
   "source": [
    "model.objective_value\n",
    "assignments = [x[r].solution_value for r in R2]\n",
    "print(assignments)"
   ]
  }
 ],
 "metadata": {
  "kernelspec": {
   "display_name": "Python 3 (ipykernel)",
   "language": "python",
   "name": "python3"
  },
  "language_info": {
   "codemirror_mode": {
    "name": "ipython",
    "version": 3
   },
   "file_extension": ".py",
   "mimetype": "text/x-python",
   "name": "python",
   "nbconvert_exporter": "python",
   "pygments_lexer": "ipython3",
   "version": "3.10.0"
  }
 },
 "nbformat": 4,
 "nbformat_minor": 5
}
