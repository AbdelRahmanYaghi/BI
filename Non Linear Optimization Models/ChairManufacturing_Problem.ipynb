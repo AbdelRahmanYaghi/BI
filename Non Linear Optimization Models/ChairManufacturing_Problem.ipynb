{
 "cells": [
  {
   "cell_type": "markdown",
   "metadata": {},
   "source": [
    "Andalus Furniture Company has two manufacturing plants,\n",
    "one at Aynor and another at Spartanburg. The cost in dollars of producing a kitchen\n",
    "chair at each of the two plants is given here. The cost of producing Q1 chairs at Aynor is\n",
    "\n",
    "$75*Q_1 + 5Q_1^2 + 100$\n",
    "\n",
    "and the cost of producing Q2 kitchen chairs at Spartanburg is\n",
    "\n",
    "$25Q_2 + 2.5Q_2^2 + 150$\n",
    "\n",
    "Andalus needs to manufacture a total of 40 kitchen chairs to meet an order just\n",
    "received. How many chairs should be made at Aynor, and how many should be made at\n",
    "Spartanburg in order to minimize total production cost?"
   ]
  },
  {
   "cell_type": "code",
   "execution_count": 3,
   "metadata": {},
   "outputs": [
    {
     "name": "stdout",
     "output_type": "stream",
     "text": [
      "Version identifier: 22.1.1.0 | 2023-02-11 | 22d6266e5\n",
      "CPXPARAM_Read_DataCheck                          1\n",
      "Found incumbent of value 11250.000000 after 0.00 sec. (0.00 ticks)\n",
      "Tried aggregator 1 time.\n",
      "Reduced MIQP has 1 rows, 2 columns, and 2 nonzeros.\n",
      "Reduced MIQP has 0 binaries, 2 generals, 0 SOSs, and 0 indicators.\n",
      "Reduced MIQP objective Q matrix has 2 nonzeros.\n",
      "Presolve time = 0.01 sec. (0.00 ticks)\n"
     ]
    },
    {
     "name": "stdout",
     "output_type": "stream",
     "text": [
      "Tried aggregator 1 time.\n",
      "Reduced MIQP has 1 rows, 2 columns, and 2 nonzeros.\n",
      "Reduced MIQP has 0 binaries, 2 generals, 0 SOSs, and 0 indicators.\n",
      "Reduced MIQP objective Q matrix has 2 nonzeros.\n",
      "Presolve time = 0.01 sec. (0.00 ticks)\n",
      "Classifier predicts products in MIQP should be linearized.\n",
      "MIP emphasis: balance optimality and feasibility.\n",
      "MIP search method: dynamic search.\n",
      "Parallel mode: deterministic, using up to 4 threads.\n",
      "Root relaxation solution time = 0.01 sec. (0.01 ticks)\n",
      "\n",
      "        Nodes                                         Cuts/\n",
      "   Node  Left     Objective  IInf  Best Integer    Best Bound    ItCnt     Gap\n",
      "\n",
      "*     0+    0                        11250.0000      250.0000            97.78%\n",
      "*     0     0      integral     0     4500.0000     4500.0000       15    0.00%\n",
      "Elapsed time = 0.05 sec. (0.02 ticks, tree = 0.00 MB, solutions = 2)\n",
      "\n",
      "Root node processing (before b&c):\n",
      "  Real time             =    0.05 sec. (0.02 ticks)\n",
      "Parallel b&c, 4 threads:\n",
      "  Real time             =    0.00 sec. (0.00 ticks)\n",
      "  Sync time (average)   =    0.00 sec.\n",
      "  Wait time (average)   =    0.00 sec.\n",
      "                          ------------\n",
      "Total (root+branch&cut) =    0.05 sec. (0.02 ticks)\n"
     ]
    }
   ],
   "source": [
    "from docplex.mp.model import Model\n",
    "\n",
    "m = Model()\n",
    "\n",
    "Q1 = m.integer_var(name='Chairs at Anyor')\n",
    "Q2 = m.integer_var(name='Chairs at Spartanburg')\n",
    "\n",
    "m.add_constraint(Q1+Q2 >= 40)\n",
    "\n",
    "m.minimize(75*Q1 + 25*Q2 + 5*Q1**2 + 100 + 2.5*Q2**2 + 150) \n",
    "solution = m.solve(log_output=True)"
   ]
  },
  {
   "cell_type": "code",
   "execution_count": 4,
   "metadata": {},
   "outputs": [
    {
     "name": "stdout",
     "output_type": "stream",
     "text": [
      "solution for: docplex_model2\n",
      "objective: 4500\n",
      "status: OPTIMAL_SOLUTION(2)\n",
      "Chairs at Anyor=10\n",
      "Chairs at Spartanburg=30\n",
      "\n"
     ]
    }
   ],
   "source": [
    "print(solution)"
   ]
  }
 ],
 "metadata": {
  "kernelspec": {
   "display_name": "venv",
   "language": "python",
   "name": "python3"
  },
  "language_info": {
   "codemirror_mode": {
    "name": "ipython",
    "version": 3
   },
   "file_extension": ".py",
   "mimetype": "text/x-python",
   "name": "python",
   "nbconvert_exporter": "python",
   "pygments_lexer": "ipython3",
   "version": "3.10.12"
  }
 },
 "nbformat": 4,
 "nbformat_minor": 2
}
