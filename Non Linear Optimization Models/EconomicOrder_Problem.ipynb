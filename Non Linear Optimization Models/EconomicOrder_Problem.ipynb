{
 "cells": [
  {
   "cell_type": "markdown",
   "metadata": {},
   "source": [
    "The economic order quantity (EOQ) model is a clas-\n",
    "sical model used for controlling inventory and satisfying demand. Costs included in\n",
    "the model are holding cost per unit, ordering cost, and the cost of goods ordered. The\n",
    "assumptions for that model are that only a single item is considered, that the entire\n",
    "quantity ordered arrives at one time, that the demand for the item is constant over time,\n",
    "and that no shortages are allowed.\n",
    "Suppose we relax the first assumption and allow for multiple items that are\n",
    "­independent except for a restriction on the amount of space available to store the\n",
    "­products. The following model describes this situation:\n",
    "Let\n",
    "\n",
    "\n",
    "$D_j$ = annual demand for item j \n",
    "\n",
    "$C_j$ = unit cost of item j \n",
    "\n",
    "$S_j$ = cost per order placed for item j\n",
    "\n",
    "$w_j$ = space required for item j\n",
    "\n",
    "$W$  = the maximum amount of space available for all goods\n",
    "\n",
    "$i$  = inventory carrying charge as a percentage of the cost per unit\n",
    "\n",
    "\n",
    "The decision variables are Qj, the amount of item j to order. The model is\n",
    "\n",
    "\n",
    "\\begin{align*} \\text{Minimize} \\quad & \\sum_{j=1}^{n} \\left( C_j D_j + \\frac{S_jD_j}{Q_j}  + i C_j\\frac{Q_j}{2}  \\right) \\ \\text{s.t.} \\\\ \\quad & \\sum_{j=1}^{n} w_j Q_j \\leq W \\ \\\\ & Q_j \\geq 0 \\quad j = 1,2,…,N \\end{align*}\n",
    "\n",
    "In the objective function, the first term is the annual cost of goods, the second is the\n",
    "annual ordering cost (Dj /Qj is the number of orders), and the last term is the annual\n",
    "inventory holding cost (Qi /2 is the average amount of inventory).\n",
    "Construct and solve a nonlinear optimization model for the following data:"
   ]
  },
  {
   "cell_type": "code",
   "execution_count": 5,
   "metadata": {},
   "outputs": [],
   "source": [
    "#                   Item 1    Item 2     Item 3\n",
    "#\n",
    "# Annual Demand     2,000     2,000       1,000\n",
    "# Item Cost ($)     100        50          80\n",
    "# Order Cost ($)    150        135         125\n",
    "# Space Required    50         25          40 \n",
    "#    (sq. feet)\n",
    "#\n",
    "# W = 5000\n",
    "# i = 0.20\n",
    "\n",
    "data = {'Item': ['Item 1', 'Item 2', 'Item 3'],\n",
    "        'Annual Demand': [2000, 2000, 1000],\n",
    "        'Item Cost ($)': [100, 50, 80],\n",
    "        'Order Cost ($)': [150, 135, 125],\n",
    "        'Space Required (sq. feet)': [50, 25, 40]}\n",
    "\n",
    "W = 5000\n",
    "i_const = 0.2"
   ]
  },
  {
   "cell_type": "markdown",
   "metadata": {},
   "source": [
    "<H1> Cplex isn't cplexing here, idk </H1>"
   ]
  },
  {
   "cell_type": "code",
   "execution_count": 11,
   "metadata": {},
   "outputs": [
    {
     "ename": "AssertionError",
     "evalue": "Argument 'exprs' should be a float expression",
     "output_type": "error",
     "traceback": [
      "\u001b[0;31m---------------------------------------------------------------------------\u001b[0m",
      "\u001b[0;31mAssertionError\u001b[0m                            Traceback (most recent call last)",
      "Cell \u001b[0;32mIn[11], line 23\u001b[0m\n\u001b[1;32m     17\u001b[0m \u001b[38;5;28;01mfor\u001b[39;00m i \u001b[38;5;129;01min\u001b[39;00m \u001b[38;5;28mrange\u001b[39m(\u001b[38;5;28mlen\u001b[39m(data[\u001b[38;5;124m'\u001b[39m\u001b[38;5;124mItem\u001b[39m\u001b[38;5;124m'\u001b[39m])):\n\u001b[1;32m     18\u001b[0m     summation\u001b[38;5;241m.\u001b[39mappend(data[\u001b[38;5;124m'\u001b[39m\u001b[38;5;124mItem Cost ($)\u001b[39m\u001b[38;5;124m'\u001b[39m][i] \u001b[38;5;241m*\u001b[39m data[\u001b[38;5;124m'\u001b[39m\u001b[38;5;124mAnnual Demand\u001b[39m\u001b[38;5;124m'\u001b[39m][i] \u001b[38;5;241m+\u001b[39m \\\n\u001b[1;32m     19\u001b[0m                      (data[\u001b[38;5;124m'\u001b[39m\u001b[38;5;124mOrder Cost ($)\u001b[39m\u001b[38;5;124m'\u001b[39m][i] \u001b[38;5;241m*\u001b[39m data[\u001b[38;5;124m'\u001b[39m\u001b[38;5;124mAnnual Demand\u001b[39m\u001b[38;5;124m'\u001b[39m][i])\u001b[38;5;241m/\u001b[39mQ_floated[i] \u001b[38;5;241m+\u001b[39m \\\n\u001b[1;32m     20\u001b[0m                       i_const \u001b[38;5;241m*\u001b[39m data[\u001b[38;5;124m'\u001b[39m\u001b[38;5;124mItem Cost ($)\u001b[39m\u001b[38;5;124m'\u001b[39m][i] \u001b[38;5;241m*\u001b[39m Q_floated[i]\u001b[38;5;241m/\u001b[39m\u001b[38;5;241m2\u001b[39m)\n\u001b[0;32m---> 23\u001b[0m \u001b[43mm\u001b[49m\u001b[38;5;241;43m.\u001b[39;49m\u001b[43mminimize\u001b[49m\u001b[43m(\u001b[49m\u001b[43msummation\u001b[49m\u001b[43m)\u001b[49m\n\u001b[1;32m     25\u001b[0m m\u001b[38;5;241m.\u001b[39mexport_as_cpo\n\u001b[1;32m     27\u001b[0m solution \u001b[38;5;241m=\u001b[39m m\u001b[38;5;241m.\u001b[39msolve(log_output\u001b[38;5;241m=\u001b[39m\u001b[38;5;28;01mTrue\u001b[39;00m)\n",
      "File \u001b[0;32m~/GithubRepos/BI/venv/lib/python3.10/site-packages/docplex/cp/model.py:558\u001b[0m, in \u001b[0;36mCpoModel.minimize\u001b[0;34m(self, expr)\u001b[0m\n\u001b[1;32m    548\u001b[0m \u001b[38;5;250m\u001b[39m\u001b[38;5;124;03m\"\"\" Add an objective expression to minimize.\u001b[39;00m\n\u001b[1;32m    549\u001b[0m \n\u001b[1;32m    550\u001b[0m \u001b[38;5;124;03mDEPRECATED: use *add(minimize())* instead.\u001b[39;00m\n\u001b[0;32m   (...)\u001b[0m\n\u001b[1;32m    555\u001b[0m \u001b[38;5;124;03m    Minimization expression that has been added\u001b[39;00m\n\u001b[1;32m    556\u001b[0m \u001b[38;5;124;03m\"\"\"\u001b[39;00m\n\u001b[1;32m    557\u001b[0m \u001b[38;5;66;03m# Add new minimization expression\u001b[39;00m\n\u001b[0;32m--> 558\u001b[0m res \u001b[38;5;241m=\u001b[39m \u001b[43mminimize\u001b[49m\u001b[43m(\u001b[49m\u001b[43mexpr\u001b[49m\u001b[43m)\u001b[49m\n\u001b[1;32m    559\u001b[0m \u001b[38;5;28mself\u001b[39m\u001b[38;5;241m.\u001b[39madd(res)\n\u001b[1;32m    560\u001b[0m \u001b[38;5;28;01mreturn\u001b[39;00m res\n",
      "File \u001b[0;32m~/GithubRepos/BI/venv/lib/python3.10/site-packages/docplex/cp/modeler.py:1961\u001b[0m, in \u001b[0;36mminimize\u001b[0;34m(expr)\u001b[0m\n\u001b[1;32m   1945\u001b[0m \u001b[38;5;28;01mdef\u001b[39;00m \u001b[38;5;21mminimize\u001b[39m(expr):\n\u001b[1;32m   1946\u001b[0m \u001b[38;5;250m    \u001b[39m\u001b[38;5;124;03m\"\"\" This function asks CP Optimizer to seek to minimize the value of an expressions.\u001b[39;00m\n\u001b[1;32m   1947\u001b[0m \n\u001b[1;32m   1948\u001b[0m \u001b[38;5;124;03m    The function *minimize* specifies to CP Optimizer a floating-point expression\u001b[39;00m\n\u001b[0;32m   (...)\u001b[0m\n\u001b[1;32m   1959\u001b[0m \u001b[38;5;124;03m        An objective expression\u001b[39;00m\n\u001b[1;32m   1960\u001b[0m \u001b[38;5;124;03m    \"\"\"\u001b[39;00m\n\u001b[0;32m-> 1961\u001b[0m     \u001b[38;5;28;01mreturn\u001b[39;00m CpoFunctionCall(Oper_minimize, Type_Objective, (\u001b[43m_convert_arg\u001b[49m\u001b[43m(\u001b[49m\u001b[43mexpr\u001b[49m\u001b[43m,\u001b[49m\u001b[43m \u001b[49m\u001b[38;5;124;43m\"\u001b[39;49m\u001b[38;5;124;43mexprs\u001b[39;49m\u001b[38;5;124;43m\"\u001b[39;49m\u001b[43m,\u001b[49m\u001b[43m \u001b[49m\u001b[43mType_FloatExpr\u001b[49m\u001b[43m)\u001b[49m, ))\n",
      "File \u001b[0;32m~/GithubRepos/BI/venv/lib/python3.10/site-packages/docplex/cp/modeler.py:334\u001b[0m, in \u001b[0;36m_convert_arg\u001b[0;34m(val, name, type, errmsg)\u001b[0m\n\u001b[1;32m    326\u001b[0m \u001b[38;5;250m\u001b[39m\u001b[38;5;124;03m\"\"\" Convert a Python value in CPO and check its value\u001b[39;00m\n\u001b[1;32m    327\u001b[0m \u001b[38;5;124;03mArgs:\u001b[39;00m\n\u001b[1;32m    328\u001b[0m \u001b[38;5;124;03m    val:  Value to convert\u001b[39;00m\n\u001b[0;32m   (...)\u001b[0m\n\u001b[1;32m    331\u001b[0m \u001b[38;5;124;03m    errmsg: Optional error message\u001b[39;00m\n\u001b[1;32m    332\u001b[0m \u001b[38;5;124;03m\"\"\"\u001b[39;00m\n\u001b[1;32m    333\u001b[0m val \u001b[38;5;241m=\u001b[39m build_cpo_expr(val)\n\u001b[0;32m--> 334\u001b[0m \u001b[38;5;28;01massert\u001b[39;00m val\u001b[38;5;241m.\u001b[39mis_kind_of(\u001b[38;5;28mtype\u001b[39m), errmsg \u001b[38;5;28;01mif\u001b[39;00m errmsg \u001b[38;5;129;01mis\u001b[39;00m \u001b[38;5;129;01mnot\u001b[39;00m \u001b[38;5;28;01mNone\u001b[39;00m \u001b[38;5;28;01melse\u001b[39;00m \u001b[38;5;124m\"\u001b[39m\u001b[38;5;124mArgument \u001b[39m\u001b[38;5;124m'\u001b[39m\u001b[38;5;132;01m{}\u001b[39;00m\u001b[38;5;124m'\u001b[39m\u001b[38;5;124m should be a \u001b[39m\u001b[38;5;132;01m{}\u001b[39;00m\u001b[38;5;124m\"\u001b[39m\u001b[38;5;241m.\u001b[39mformat(name, \u001b[38;5;28mtype\u001b[39m\u001b[38;5;241m.\u001b[39mget_public_name())\n\u001b[1;32m    335\u001b[0m \u001b[38;5;28;01mreturn\u001b[39;00m val\n",
      "\u001b[0;31mAssertionError\u001b[0m: Argument 'exprs' should be a float expression"
     ]
    }
   ],
   "source": [
    "from docplex.cp.model import CpoModel as Model\n",
    "\n",
    "m = Model() \n",
    "\n",
    "Q = m.integer_var_list(len(data['Item']))\n",
    "Q_floated = [i for i in Q]\n",
    "\n",
    "for i in range(len(data['Item'])):\n",
    "    m.add_constraint(Q_floated[i] >= 0)\n",
    "\n",
    "items = sum(Q_floated[i] * data['Space Required (sq. feet)'][i] for i in range(len(data['Item'])))\n",
    "\n",
    "\n",
    "m.add_constraint(items <= W)\n",
    "\n",
    "summation = []\n",
    "for i in range(len(data['Item'])):\n",
    "    summation.append(data['Item Cost ($)'][i] * data['Annual Demand'][i] + \\\n",
    "                     (data['Order Cost ($)'][i] * data['Annual Demand'][i])/Q_floated[i] + \\\n",
    "                      i_const * data['Item Cost ($)'][i] * Q_floated[i]/2)\n",
    "\n",
    "\n",
    "m.minimize(summation)\n",
    "\n",
    "m.export_as_cpo\n",
    "\n",
    "solution = m.solve(log_output=True)\n",
    "\n"
   ]
  }
 ],
 "metadata": {
  "kernelspec": {
   "display_name": "venv",
   "language": "python",
   "name": "python3"
  },
  "language_info": {
   "codemirror_mode": {
    "name": "ipython",
    "version": 3
   },
   "file_extension": ".py",
   "mimetype": "text/x-python",
   "name": "python",
   "nbconvert_exporter": "python",
   "pygments_lexer": "ipython3",
   "version": "3.10.12"
  }
 },
 "nbformat": 4,
 "nbformat_minor": 2
}
