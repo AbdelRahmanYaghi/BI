{
 "cells": [
  {
   "cell_type": "markdown",
   "metadata": {},
   "source": [
    "The Cobb-Douglas production function is a classic model\n",
    "from economics used to model output as a function of capital and labor. It has the form:\n",
    "\n",
    "$\\mathcal{f}(L, C) = c_0 L^{c_1} C^{c_2}$\n",
    "\n",
    "where c0, c1, and c2 are constants. <br>\n",
    "The variable L represents the units of input of labor, <br>\n",
    "and the variable C represents the units of input of capital. <br>\n",
    "\n",
    "\n",
    "a. In this example, assume c0 = 5, c1 = 0.25, and c2 = 0.75. Assume each unit of labor\n",
    "costs $25 and each unit of capital costs $75. With $75,000 available in the budget,\n",
    "develop an optimization model to determine how the budgeted amount should be\n",
    "allocated between capital and labor in order to maximize output.\n",
    "\n",
    "b. Find the optimal solution to the model you formulated in part (a). (Hint: When\n",
    "using Excel Solver, use the Multistart option with bounds 0 <= L <= 3,000 and\n",
    "0 <= C <= 1,000.)"
   ]
  },
  {
   "cell_type": "markdown",
   "metadata": {},
   "source": [
    "<h1> Not sure about this one because mp model doesn't solve this </h1>"
   ]
  },
  {
   "cell_type": "code",
   "execution_count": 26,
   "metadata": {},
   "outputs": [
    {
     "name": "stdout",
     "output_type": "stream",
     "text": [
      " ! --------------------------------------------------- CP Optimizer 22.1.1.0 --\n",
      " ! Maximization problem - 2 variables, 1 constraint\n",
      " ! Initial process time : 0.01s (0.01s extraction + 0.00s propagation)\n",
      " !  . Log search space  : 34.8 (before), 34.8 (after)\n",
      " !  . Memory usage      : 267.0 kB (before), 267.0 kB (after)\n",
      " ! Using parallel search with 4 workers.\n",
      " ! ----------------------------------------------------------------------------\n",
      " !          Best Branches  Non-fixed    W       Branch decision\n",
      "                        0          2                 -\n",
      " + New bound is 6.580370e+07\n",
      "                        0          2    1   F        -\n",
      " + New bound is 3.750228e+07\n"
     ]
    },
    {
     "name": "stdout",
     "output_type": "stream",
     "text": [
      " *             0        2  0.08s        1      (gap  > 10000%)\n",
      " *  3.053527e+07        6  0.08s        1      (gap is 22.82%)\n",
      " *  3.429332e+07       17  0.08s        1      (gap is 9.36%)\n",
      " *  3.429696e+07       20  0.08s        1      (gap is 9.35%)\n",
      " *  3.430058e+07       21  0.08s        1      (gap is 9.33%)\n",
      " *  3.430406e+07       23  0.08s        1      (gap is 9.32%)\n",
      " *  3.655943e+07       25  0.08s        1      (gap is 2.58%)\n",
      " *  3.678016e+07       27  0.08s        1      (gap is 1.96%)\n",
      " *  3.695594e+07       29  0.08s        1      (gap is 1.48%)\n",
      " *  3.695978e+07       30  0.08s        1      (gap is 1.47%)\n",
      " *  3.696352e+07       31  0.08s        1      (gap is 1.46%)\n",
      " *  3.696730e+07       32  0.08s        1      (gap is 1.45%)\n",
      " *  3.711001e+07       34  0.08s        1      (gap is 1.06%)\n",
      " *  3.747341e+07       36  0.08s        1      (gap is 0.08%)\n",
      " *  3.748005e+07       38  0.08s        1      (gap is 0.06%)\n",
      " *  3.748380e+07       39  0.08s        1      (gap is 0.05%)\n",
      " *  3.748756e+07       40  0.08s        1      (gap is 0.04%)\n",
      " *  3.749132e+07       41  0.08s        1      (gap is 0.03%)\n",
      " ! Time = 0.08s, Average fail depth = 3, Memory usage = 1.2 MB\n",
      " ! Current bound is 3.750228e+07 (gap is 0.03%)\n",
      " !          Best Branches  Non-fixed    W       Branch decision\n",
      " *  3.749512e+07       43  0.08s        1      (gap is 0.02%)\n",
      " *  3.749918e+07       45  0.08s        1      (gap is 0.01%)\n",
      " ! ----------------------------------------------------------------------------\n",
      " ! Search completed, 20 solutions found.\n",
      " ! Best objective         : 3.749918e+07 (optimal - effective tol. is 3749.92)\n",
      " ! Best bound             : 3.750228e+07\n",
      " ! ----------------------------------------------------------------------------\n",
      " ! Number of branches     : 649\n",
      " ! Number of fails        : 349\n",
      " ! Total memory usage     : 3.0 MB (2.9 MB CP Optimizer + 0.0 MB Concert)\n",
      " ! Time spent in solve    : 0.08s (0.07s engine + 0.01s extraction)\n",
      " ! Search speed (br. / s) : 10816.7\n",
      " ! ----------------------------------------------------------------------------\n"
     ]
    }
   ],
   "source": [
    "from docplex.cp.model import CpoModel as Model\n",
    "\n",
    "m = Model() \n",
    "\n",
    "c0 = 5\n",
    "c1 = 0.25\n",
    "c2 = 0.75\n",
    "\n",
    "L = m.integer_var(name='Labor')\n",
    "C = m.integer_var(name='Capital')\n",
    "\n",
    "L_float = L / 100\n",
    "C_float = C / 100\n",
    "\n",
    "m.add_constraint(25*L_float + 75*C_float <= 75000)\n",
    "\n",
    "m.maximize(c0 * 100*L_float**c1 * 100*C_float**c2)\n",
    "\n",
    "solution = m.solve(log_output=True)"
   ]
  },
  {
   "cell_type": "code",
   "execution_count": 28,
   "metadata": {},
   "outputs": [
    {
     "name": "stdout",
     "output_type": "stream",
     "text": [
      "742.16  Labor\n",
      "752.61  Capital\n"
     ]
    }
   ],
   "source": [
    "print(solution[L]/100,\" Labor\")\n",
    "print(solution[C]/100,\" Capital\")"
   ]
  },
  {
   "cell_type": "code",
   "execution_count": 29,
   "metadata": {},
   "outputs": [
    {
     "data": {
      "text/plain": [
       "74999.75"
      ]
     },
     "execution_count": 29,
     "metadata": {},
     "output_type": "execute_result"
    }
   ],
   "source": [
    "solution[L]/100 * 25 + solution[C]/100 * 75"
   ]
  },
  {
   "cell_type": "code",
   "execution_count": 22,
   "metadata": {},
   "outputs": [
    {
     "name": "stdout",
     "output_type": "stream",
     "text": [
      "3749.9189289224228\n"
     ]
    }
   ],
   "source": [
    "print(solution.get_objective_value())"
   ]
  }
 ],
 "metadata": {
  "kernelspec": {
   "display_name": "venv",
   "language": "python",
   "name": "python3"
  },
  "language_info": {
   "codemirror_mode": {
    "name": "ipython",
    "version": 3
   },
   "file_extension": ".py",
   "mimetype": "text/x-python",
   "name": "python",
   "nbconvert_exporter": "python",
   "pygments_lexer": "ipython3",
   "version": "3.10.12"
  }
 },
 "nbformat": 4,
 "nbformat_minor": 2
}
