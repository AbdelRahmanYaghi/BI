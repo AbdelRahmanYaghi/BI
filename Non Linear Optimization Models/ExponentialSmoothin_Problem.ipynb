{
 "cells": [
  {
   "cell_type": "markdown",
   "metadata": {},
   "source": [
    "Exponential Smoothing. Many forecasting models use parameters that are estimated\n",
    "using nonlinear optimization. A good example is the Bass model introduced in this chapter.\n",
    "Another example is the exponential smoothing forecasting model which is a common fore-\n",
    "casting model used in practice. For instance, the basic exponential smoothing model for fore-\n",
    "casting sales is\n",
    "\n",
    "$\\hat{y}_{t+1} = ay_t + (1 - a) \\hat{y}_t$\n",
    "\n",
    "where\n",
    "\n",
    "$\\hat{y}_{t+1}$ = forecast of sales for period t + 1\n",
    "\n",
    "$y_t$ = actual sales for period t\n",
    "\n",
    "$\\hat{y}_t$ = forecast of sales for period t\n",
    "\n",
    "$\\alpha{}$ = smoothing constant, 0 <= a <= 1\n",
    "\n",
    "This model is used recursively; the forecast for time period t + 1 is based on the\n",
    "forecast for period t, $ŷ_t$ , the observed value of sales in period t, $y_t$ , and the smoothing\n",
    "parameter a . The use of this model to forecast sales for 12 months is illustrated in the\n",
    "following table with the smoothing constant $\\alpha$ = 0.3. The forecast errors, $y_t - \\hat{y}_t$ , are\n",
    "calculated in the fourth column. The value of a is often chosen by minimizing the sum\n",
    "of squared forecast errors. The last column of the table shows the square of the forecast\n",
    "error and the sum of squared forecast errors.\n",
    "\n",
    "The file ExpSmooth contains the observed data shown here. Construct this table\n",
    "using the formula above. Note that we set the forecast in period 1 to the observed\n",
    "in period 1 to get started ( $\\hat{y}_1$ = $y_1$ = 17 ), then the formula above for $\\hat{y}_{t+1}$  is used\n",
    "starting in period 2. Make sure to have a single cell corresponding to a in your\n",
    "spreadsheet model. After confirming the values in the table below with $\\alpha$ = 0.3, try\n",
    "different values of a to see if you can get a smaller sum of squared forecast errors."
   ]
  },
  {
   "cell_type": "code",
   "execution_count": 2,
   "metadata": {},
   "outputs": [],
   "source": [
    "# Week  |   Observed Value |  Forecast Value |   Error      |   Squared Error\n",
    "# (t)   |  (y_t)           |  (y^_t)         |   (yt - y^t) |   (yt - y^t)^2\n",
    "# 1     |  17              |  17.00          |   0.00       |   0.00\n",
    "# 2     |  21              |  17.00          |   4.00       |   16.00\n",
    "# 3     |  19              |  18.20          |   0.80       |   0.64\n",
    "# 4     |  23              |  18.44          |   4.56       |   20.79\n",
    "# 5     |  18              |  19.81          |  -1.8        |   13.27\n",
    "# 6     |  16              |  19.27          |  -3.2        |   710.66\n",
    "# 7     |  20              |  18.29          |   1.71       |   2.94\n",
    "# 8     |  18              |  18.80          |  -0.80       |   0.64\n",
    "# 9     |  22              |  18.56          |   3.44       |   11.83\n",
    "# 10    |  20              |  19.59          |   0.41       |   0.17\n",
    "# 11    |  15              |  19.71          |  -4.71       |   22.23\n",
    "# 12    |  22              |  18.30          |   3.70       |   13.69\n",
    "# SUM   |  --              |  --             |   --         |   102.86\n",
    "\n",
    "data = {'week': [1, 2, 3, 4, 5, 6, 7, 8, 9, 10, 11, 12],\n",
    "        'true': [17, 21, 19, 23, 18, 16, 20, 18, 22, 20, 15, 22],\n",
    "        'predicted': [17.00, 17.00, 18.20, 18.44, 19.81, 19.27, 18.29, 18.80, 18.56, 19.59, 19.71, 18.30],\n",
    "        'error': [0.00, 4.00, 0.80, 4.56, -1.8, -3.2, 1.71, -0.80, 3.44, 0.41, -4.71, 3.70],\n",
    "        'error_squared': [0.00, 16.00, 0.64, 20.79, 13.27, 710.66, 2.94, 0.64, 11.83, 0.17, 22.23, 13.69]}\n"
   ]
  },
  {
   "cell_type": "code",
   "execution_count": 41,
   "metadata": {},
   "outputs": [
    {
     "name": "stdout",
     "output_type": "stream",
     "text": [
      " ! --------------------------------------------------- CP Optimizer 22.1.1.0 --\n",
      " ! Minimization problem - 1 variable, 2 constraints\n",
      " ! Initial process time : 0.00s (0.00s extraction + 0.00s propagation)\n",
      " !  . Log search space  : 10.0 (before), 10.0 (after)\n",
      " !  . Memory usage      : 299.7 kB (before), 299.7 kB (after)\n",
      " ! Using parallel search with 4 workers.\n",
      " ! ----------------------------------------------------------------------------\n",
      " !          Best Branches  Non-fixed    W       Branch decision\n",
      "                        0          1                 -\n",
      " + New bound is 16\n",
      "                        0          1    1            -\n",
      " + New bound is 35.16110\n",
      " *           131        1  0.08s        1      (gap is 73.16%)\n",
      " *      130.5318        3  0.08s        1      (gap is 73.06%)\n",
      " *      114.6853        4  0.08s        1      (gap is 69.34%)\n",
      " *      106.5805       13  0.08s        1      (gap is 67.01%)\n",
      " *      106.4031      151  0.08s        1      (gap is 66.95%)\n",
      " *      105.3095        2  0.08s        2      (gap is 66.61%)\n",
      " *      102.0352        4  0.08s        2      (gap is 65.54%)\n"
     ]
    },
    {
     "name": "stdout",
     "output_type": "stream",
     "text": [
      " *      98.74611       16  0.08s        2      (gap is 64.39%)\n",
      " *      98.59555      765  0.08s        3      (gap is 64.34%)\n",
      "        98.59555     1000          1    3   F    11  = alpha\n",
      " *      98.56407       18  0.08s        4      (gap is 64.33%)\n",
      "        98.56407     2000          1    3   F     7  = alpha\n",
      "        98.56407     3000          1    3   F        -\n",
      "        98.56407     1000          1    1   F   836  = alpha\n",
      " *      98.55956      698  0.18s        2      (gap is 64.33%)\n",
      "        98.55956     4000          1    3   F   659  = alpha\n",
      "        98.55956     1000          1    2       850 != alpha\n",
      "        98.55956     5000          1    3   F   193  = alpha\n",
      " ! Time = 0.25s, Average fail depth = 8, Memory usage = 3.2 MB\n",
      " ! Current bound is 35.16110 (gap is 64.33%)\n",
      " !          Best Branches  Non-fixed    W       Branch decision\n",
      "        98.55956     1000          1    4       300 != alpha\n",
      "        98.55956     6000          1    3   F   320  = alpha\n",
      "        98.55956     7000          1    3            -\n",
      "        98.55956     8000          1    3   F   900  = alpha\n",
      "        98.55956     9000          1    3            -\n",
      "        98.55956     2000          1    1       682 != alpha\n",
      "        98.55956     2000          1    2       507 != alpha\n",
      "        98.55956     1706          1    4            -\n",
      " + New bound is 98.55422 (gap is 0.01%)\n",
      " ! ----------------------------------------------------------------------------\n",
      " ! Search completed, 11 solutions found.\n",
      " ! Best objective         : 98.55956 (optimal - effective tol. is 0.00985596)\n",
      " ! Best bound             : 98.55422\n",
      " ! ----------------------------------------------------------------------------\n",
      " ! Number of branches     : 15759\n",
      " ! Number of fails        : 8003\n",
      " ! Total memory usage     : 3.6 MB (3.6 MB CP Optimizer + 0.0 MB Concert)\n",
      " ! Time spent in solve    : 0.43s (0.43s engine + 0.00s extraction)\n",
      " ! Search speed (br. / s) : 37521.4\n",
      " ! ----------------------------------------------------------------------------\n"
     ]
    }
   ],
   "source": [
    "from docplex.cp.model import CpoModel as Model\n",
    "\n",
    "\n",
    "m = Model()\n",
    "\n",
    "alpha = m.integer_var(name = 'alpha')\n",
    "\n",
    "m.add_constraint(alpha >= 0)\n",
    "m.add_constraint(alpha <=1000)\n",
    "\n",
    "alpha_float = alpha/1000\n",
    "\n",
    "start_value = 17\n",
    "\n",
    "predicted = [17]\n",
    "\n",
    "for i in range(1, len(data['week'])):\n",
    "    predicted.append(alpha_float * data['true'][i-1] + (1 - alpha_float) * predicted[i-1])\n",
    "\n",
    "error = [(pred - tru)**2 for pred, tru in zip(predicted, data['true'])]\n",
    "\n",
    "m.minimize(m.sum(error))\n",
    "solution = m.solve(log_output = True)"
   ]
  },
  {
   "cell_type": "code",
   "execution_count": 31,
   "metadata": {},
   "outputs": [],
   "source": [
    "m.export_as_cpo('alpha.cpo')"
   ]
  },
  {
   "cell_type": "code",
   "execution_count": 42,
   "metadata": {},
   "outputs": [
    {
     "name": "stdout",
     "output_type": "stream",
     "text": [
      "0.173  alpha\n",
      "98.55956125237986\n"
     ]
    }
   ],
   "source": [
    "print(solution[alpha]/1000,\" alpha\")\n",
    "print(solution.get_objective_value())"
   ]
  },
  {
   "cell_type": "code",
   "execution_count": 40,
   "metadata": {},
   "outputs": [
    {
     "data": {
      "text/plain": [
       "98.57150185864782"
      ]
     },
     "execution_count": 40,
     "metadata": {},
     "output_type": "execute_result"
    }
   ],
   "source": [
    "other_pred =  [17]\n",
    "\n",
    "thing_alpha = 0.18\n",
    "\n",
    "for i in range(1, len(data['week'])):\n",
    "    other_pred.append(thing_alpha * data['true'][i-1] + (1 - thing_alpha) * other_pred[i-1])\n",
    "\n",
    "error = [(pred - tru)**2 for pred, tru in zip(other_pred, data['true'])]\n",
    "sum(error)"
   ]
  }
 ],
 "metadata": {
  "kernelspec": {
   "display_name": "venv",
   "language": "python",
   "name": "python3"
  },
  "language_info": {
   "codemirror_mode": {
    "name": "ipython",
    "version": 3
   },
   "file_extension": ".py",
   "mimetype": "text/x-python",
   "name": "python",
   "nbconvert_exporter": "python",
   "pygments_lexer": "ipython3",
   "version": "3.10.12"
  }
 },
 "nbformat": 4,
 "nbformat_minor": 2
}
