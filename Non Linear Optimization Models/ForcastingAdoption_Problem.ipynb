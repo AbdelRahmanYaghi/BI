{
 "cells": [
  {
   "cell_type": "markdown",
   "metadata": {},
   "source": []
  },
  {
   "cell_type": "markdown",
   "metadata": {},
   "source": [
    "\\begin{align*}\n",
    "\\mathrm{minimize} \\sum_{i=2}^{|T|}{((P+Q(C_{i-1}/M)) (M-C_{i-1}) - S_i)} +  PM \\\\\n",
    "\\\\\n",
    "\\text{or} \\\\\n",
    "\\\\\n",
    "\\mathrm{minimize} \\sum_{i=2}^{|T|}{E_t^2} \\\\\n",
    "\\text{st} \\\\\n",
    "E_i = F_i - C_i \\forall i \\in X \\\\\n",
    "F_i = \\text{In the slides} \\\\\n",
    "\n",
    "\\end{align*}"
   ]
  },
  {
   "cell_type": "code",
   "execution_count": null,
   "metadata": {},
   "outputs": [],
   "source": []
  }
 ],
 "metadata": {
  "language_info": {
   "name": "python"
  }
 },
 "nbformat": 4,
 "nbformat_minor": 2
}
