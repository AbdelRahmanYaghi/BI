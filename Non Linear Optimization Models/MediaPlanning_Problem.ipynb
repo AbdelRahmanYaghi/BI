{
 "cells": [
  {
   "cell_type": "markdown",
   "metadata": {},
   "source": [
    "GreenLawns provides a lawn fertilizing and weed control service.\n",
    "The company is adding a special aeration treatment as a low-cost extra service option\n",
    "that it hopes will help attract new customers. Management is planning to promote this \n",
    "new service in two media: radio and direct-mail advertising. A media budget of $3,000\n",
    "is available for this promotional campaign. Based on past experience in promoting its\n",
    "other services, GreenLawns has obtained the following estimate of the relationship\n",
    "between sales and the amount spent on promotion in these two media:\n",
    "\n",
    "$S = -2R^2 - 10M^2 -8RM + 18R + 34M$\n",
    "\n",
    "where\n",
    "\n",
    "$S = \\text{total sales in thousands of dollars} \\\\\n",
    "R  = \\text{thousands of dollars spent on radio advertising} \\\\\n",
    "M  = \\text{thousands of dollars spent on direct-mail advertising}$\n",
    "\n",
    "GreenLawns would like to develop a promotional strategy that will lead to maximum\n",
    "sales subject to the restriction provided by the media budget.\n",
    "\n",
    "Formulate an optimization problem that can be solved to maximize sales subject to\n",
    "the media budget of spending no more than $3,000 on total advertising."
   ]
  },
  {
   "cell_type": "code",
   "execution_count": 11,
   "metadata": {},
   "outputs": [],
   "source": [
    "from docplex.mp.model import Model\n",
    "\n",
    "m = Model()\n",
    "\n",
    "R = m.continuous_var(name= 'Radio ads')\n",
    "M = m.continuous_var(name= 'Mail ads')\n",
    "\n",
    "m.add_constraint(R+M <= 3)\n",
    "\n",
    "m.maximize(-2*(R**2) - 10*(M**2) - 8*R*M + 18*R + 34*M)"
   ]
  },
  {
   "cell_type": "code",
   "execution_count": 12,
   "metadata": {},
   "outputs": [
    {
     "name": "stdout",
     "output_type": "stream",
     "text": [
      "Version identifier: 22.1.1.0 | 2023-02-11 | 22d6266e5\n",
      "CPXPARAM_Read_DataCheck                          1\n",
      "Number of nonzeros in lower triangle of Q = 1\n",
      "Using Approximate Minimum Degree ordering\n",
      "Total time for automatic ordering = 0.01 sec. (0.00 ticks)\n",
      "Summary statistics for factor of Q:\n",
      "  Rows in Factor            = 2\n",
      "  Integer space required    = 2\n",
      "  Total non-zeros in factor = 3\n",
      "  Total FP ops to factor    = 5\n",
      "Tried aggregator 1 time.\n",
      "QP Presolve added 0 rows and 2 columns.\n",
      "Reduced QP has 3 rows, 4 columns, and 7 nonzeros.\n",
      "Reduced QP objective Q matrix has 2 nonzeros.\n",
      "Presolve time = 0.07 sec. (0.00 ticks)\n",
      "Parallel mode: using up to 4 threads for barrier.\n",
      "Number of nonzeros in lower triangle of A*A' = 3\n",
      "Using Approximate Minimum Degree ordering\n",
      "Total time for automatic ordering = 0.01 sec. (0.00 ticks)\n",
      "Summary statistics for Cholesky factor:\n",
      "  Threads                   = 4\n",
      "  Rows in Factor            = 3\n",
      "  Integer space required    = 3\n",
      "  Total non-zeros in factor = 6\n",
      "  Total FP ops to factor    = 14\n",
      " Itn      Primal Obj        Dual Obj  Prim Inf Upper Inf  Dual Inf          \n",
      "   0   5.1598616e+01   4.0138408e-01  7.30e+00  0.00e+00  3.05e+03\n",
      "   1   2.6468801e+01   3.6432950e+02  8.88e-16  0.00e+00  9.95e-14\n",
      "   2   2.8124631e+01   5.0442672e+01  8.88e-16  0.00e+00  5.68e-14\n",
      "   3   3.2749451e+01   3.8079631e+01  4.00e-15  0.00e+00  9.99e-15\n",
      "   4   3.6672627e+01   3.7797116e+01  1.33e-14  0.00e+00  1.12e-14\n",
      "   5   3.6884712e+01   3.7253412e+01  0.00e+00  0.00e+00  2.28e-15\n",
      "   6   3.6959582e+01   3.7080335e+01  1.33e-15  0.00e+00  6.03e-15\n",
      "   7   3.6986608e+01   3.7026541e+01  0.00e+00  0.00e+00  3.15e-15\n",
      "   8   3.6995563e+01   3.7008834e+01  8.88e-16  0.00e+00  2.05e-15\n",
      "   9   3.6998525e+01   3.7002944e+01  0.00e+00  0.00e+00  2.67e-15\n",
      "  10   3.6999509e+01   3.7000981e+01  2.22e-15  0.00e+00  3.67e-15\n",
      "  11   3.6999836e+01   3.7000327e+01  0.00e+00  0.00e+00  5.07e-15\n",
      "  12   3.6999945e+01   3.7000109e+01  8.88e-16  0.00e+00  3.46e-15\n",
      "  13   3.6999982e+01   3.7000036e+01  2.66e-15  0.00e+00  8.48e-16\n",
      "  14   3.6999994e+01   3.7000012e+01  4.00e-15  0.00e+00  3.12e-15\n",
      "  15   3.6999998e+01   3.7000004e+01  8.88e-16  0.00e+00  7.49e-15\n",
      "  16   3.6999999e+01   3.7000001e+01  2.22e-15  0.00e+00  6.14e-15\n",
      "  17   3.7000000e+01   3.7000000e+01  1.78e-15  0.00e+00  1.47e-15\n",
      "  18   3.7000000e+01   3.7000000e+01  3.11e-15  0.00e+00  4.42e-15\n",
      "Barrier time = 0.16 sec. (0.02 ticks)\n",
      "\n",
      "Total time on 4 threads = 0.16 sec. (0.02 ticks)\n"
     ]
    }
   ],
   "source": [
    "solution = m.solve(log_output=True)"
   ]
  },
  {
   "cell_type": "code",
   "execution_count": 13,
   "metadata": {},
   "outputs": [
    {
     "name": "stdout",
     "output_type": "stream",
     "text": [
      "solution for: docplex_model4\n",
      "objective: 37\n",
      "status: OPTIMAL_SOLUTION(2)\n",
      "Radio ads=2.500\n",
      "Mail ads=0.500\n",
      "\n"
     ]
    }
   ],
   "source": [
    "print(solution)"
   ]
  }
 ],
 "metadata": {
  "kernelspec": {
   "display_name": "venv",
   "language": "python",
   "name": "python3"
  },
  "language_info": {
   "codemirror_mode": {
    "name": "ipython",
    "version": 3
   },
   "file_extension": ".py",
   "mimetype": "text/x-python",
   "name": "python",
   "nbconvert_exporter": "python",
   "pygments_lexer": "ipython3",
   "version": "3.10.12"
  }
 },
 "nbformat": 4,
 "nbformat_minor": 2
}
