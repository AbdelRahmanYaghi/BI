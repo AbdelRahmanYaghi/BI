{
 "cells": [
  {
   "cell_type": "markdown",
   "metadata": {},
   "source": [
    "Phillips Inc. produces two distinct products, A and B. The products\n",
    "do not compete with each other in the marketplace; that is, neither cost, price, nor\n",
    "demand for one product will impact the demand for the other. Phillips’ analysts have\n",
    "collected data on the effects of advertising on profits. These data suggest that, although\n",
    "higher advertising correlates with higher profits, the marginal increase in profits dimin-\n",
    "ishes at higher advertising levels, particularly for product B. Analysts have estimated\n",
    "the following functions:\n",
    "\n",
    "Annual profit for product A = $1.2712LN(X_A) + 17.414$\n",
    "\n",
    "Annual profit for product B = $0.3970LN(X_B) + 16.109$\n",
    "\n",
    "where XA and XB are the advertising amount allocated to products A and B, respec-\n",
    "tively, in thousands of dollars, profit is in millions of dollars, and LN is the natural log-\n",
    "arithm function. The advertising budget is $500,000, and management has dictated that\n",
    "at least $50,000 must be allocated to each of the two products.\n",
    "(Hint: To compute a natural logarithm for the value X in Excel, use the formula =LN(X).\n",
    "For Solver to find an answer, you also need to start with decision variable values\n",
    "greater than 0 in this problem.)\n",
    "\n",
    "a. Build an optimization model that will prescribe how Phillips should allocate its\n",
    "marketing budget to maximize profit.\n",
    "\n",
    "b. Solve the model you constructed in part (a) using Excel Solver."
   ]
  },
  {
   "cell_type": "code",
   "execution_count": 21,
   "metadata": {},
   "outputs": [
    {
     "name": "stdout",
     "output_type": "stream",
     "text": [
      " ! --------------------------------------------------- CP Optimizer 22.1.1.0 --\n",
      " ! Maximization problem - 2 variables, 3 constraints\n",
      " ! Initial process time : 0.00s (0.00s extraction + 0.00s propagation)\n",
      " !  . Log search space  : 37.2 (before), 37.2 (after)\n",
      " !  . Memory usage      : 267.0 kB (before), 267.0 kB (after)\n",
      " ! Using parallel search with 4 workers.\n",
      " ! ----------------------------------------------------------------------------\n",
      " !          Best Branches  Non-fixed    W       Branch decision\n",
      "                        0          2                 -\n",
      " + New bound is 55.23796\n",
      "                        0          2    1            -\n",
      " + New bound is 54.64008\n",
      " *      51.57255      802  0.04s        1      (gap is 5.95%)\n",
      " *      53.40427      804  0.04s        1      (gap is 2.31%)\n",
      " *      53.42670      806  0.04s        1      (gap is 2.27%)\n",
      " *      53.76813      815  0.04s        1      (gap is 1.62%)\n",
      " *      54.25430      817  0.04s        1      (gap is 0.71%)\n",
      " *      54.25973      821  0.04s        1      (gap is 0.70%)\n",
      " *      54.36566      822  0.04s        1      (gap is 0.50%)\n",
      "        54.36566     1000          1    1     50778 != B Ads\n",
      " *      54.37372      804  0.04s        2      (gap is 0.49%)\n",
      " *      54.43548      815  0.04s        2      (gap is 0.38%)\n",
      "        54.43548     1000          1    2   F 60527  = B Ads\n",
      " *      54.44091      210  0.04s        3      (gap is 0.37%)\n",
      " *      54.47656      232  0.04s        3      (gap is 0.30%)\n",
      " *      54.48201      253  0.04s        3      (gap is 0.29%)\n",
      " *      54.48746      274  0.04s        3      (gap is 0.28%)\n",
      " *      54.49291      295  0.04s        3      (gap is 0.27%)\n",
      " ! ----------------------------------------------------------------------------\n",
      " ! Search completed, 14 solutions found.\n",
      " ! Best objective         : 54.49291 (optimal - effective tol. is 0.00544929)\n",
      " ! Best bound             : 54.64008\n",
      " ! ----------------------------------------------------------------------------\n",
      " ! Number of branches     : 3299\n",
      " ! Number of fails        : 1635\n",
      " ! Total memory usage     : 2.8 MB (2.8 MB CP Optimizer + 0.0 MB Concert)\n",
      " ! Time spent in solve    : 0.04s (0.04s engine + 0.00s extraction)\n",
      " ! Search speed (br. / s) : 109966.7\n",
      " ! ----------------------------------------------------------------------------\n"
     ]
    }
   ],
   "source": [
    "from docplex.cp.model import CpoModel as Model\n",
    "import numpy as np\n",
    "\n",
    "m = Model(name='buses')\n",
    "\n",
    "XA = m.integer_var(name='A Ads')\n",
    "XB = m.integer_var(name='B Ads')\n",
    "\n",
    "m.add_constraint(XA >= 50000)\n",
    "m.add_constraint(XB >= 50000)\n",
    "m.add_constraint(XA + XB <= 500000)\n",
    "\n",
    "A_profit = 1.2712 * m.log(XA) + 17.414\n",
    "B_profit = 0.3970 * m.log(XB) + 16.109\n",
    "\n",
    "m.maximize(A_profit + B_profit)\n",
    "\n",
    "solution = m.solve(log_output=True)"
   ]
  },
  {
   "cell_type": "code",
   "execution_count": 20,
   "metadata": {},
   "outputs": [
    {
     "name": "stdout",
     "output_type": "stream",
     "text": [
      "397558  A ads\n",
      "102442  B ads\n",
      "54.492913449909864  profit\n"
     ]
    }
   ],
   "source": [
    "print(solution[XA],\" A ads\")\n",
    "print(solution[XB],\" B ads\") \n",
    "print(solution.get_objective_value(),\" profit\") # Not as close, but good enough"
   ]
  }
 ],
 "metadata": {
  "kernelspec": {
   "display_name": "venv",
   "language": "python",
   "name": "python3"
  },
  "language_info": {
   "codemirror_mode": {
    "name": "ipython",
    "version": 3
   },
   "file_extension": ".py",
   "mimetype": "text/x-python",
   "name": "python",
   "nbconvert_exporter": "python",
   "pygments_lexer": "ipython3",
   "version": "3.10.12"
  }
 },
 "nbformat": 4,
 "nbformat_minor": 2
}
