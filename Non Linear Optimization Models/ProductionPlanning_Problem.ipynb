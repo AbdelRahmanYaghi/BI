{
 "cells": [
  {
   "cell_type": "markdown",
   "metadata": {},
   "source": [
    "The profit function for two products is\n",
    "\n",
    "$Profit = -3 x^2_1 + 42 x_1 - 3 x^2_2 + 48x_2 + 700$\n",
    "\n",
    "where x1 represents units of production of product 1 and x 2 represents units of produc-\n",
    "tion of product 2. \n",
    "\n",
    "Producing one unit of product 1 requires 4 labor-hours and producing\n",
    "one unit of product 2 requires 6 labor-hours. Currently, 24 labor-hours are available.\n",
    "\n",
    "The cost of labor-hours is already factored into the profit function, but it is possible to\n",
    "schedule overtime at a premium of $5 per hour.\n",
    "\n",
    "a. Formulate an optimization problem that can be used to find the optimal produc-\n",
    "tion quantity of products 1 and 2 and the optimal number of overtime hours to schedule.\n",
    "\n",
    "b. Solve the optimization model you formulated in part (a). How much should be\n",
    "­produced and how many overtime hours should be scheduled?"
   ]
  },
  {
   "cell_type": "code",
   "execution_count": 11,
   "metadata": {},
   "outputs": [],
   "source": [
    "from docplex.mp.model import Model\n",
    "\n",
    "m = Model()\n",
    "\n",
    "x1 = m.integer_var(name='x1')\n",
    "x2 = m.integer_var(name='x2')\n",
    "\n",
    "xtra_time = m.continuous_var(name='extra_time')\n",
    "\n",
    "m.add_constraint(4*x1 + 6*x2 <= 24 + xtra_time)\n",
    "\n",
    "Profit = -3 * x1**2 + 42 * x1 - 3 * x2**2 + 48 * x2 + 700 - xtra_time * 5\n",
    "\n",
    "m.maximize(Profit)"
   ]
  },
  {
   "cell_type": "code",
   "execution_count": 12,
   "metadata": {},
   "outputs": [
    {
     "name": "stdout",
     "output_type": "stream",
     "text": [
      "Version identifier: 22.1.1.0 | 2023-02-11 | 22d6266e5\n",
      "CPXPARAM_Read_DataCheck                          1\n",
      "Found incumbent of value 700.000000 after 0.00 sec. (0.00 ticks)\n",
      "Tried aggregator 1 time.\n",
      "Reduced MIQP has 1 rows, 3 columns, and 3 nonzeros.\n",
      "Reduced MIQP has 0 binaries, 2 generals, 0 SOSs, and 0 indicators.\n",
      "Reduced MIQP objective Q matrix has 2 nonzeros.\n",
      "Presolve time = 0.01 sec. (0.00 ticks)\n",
      "Tried aggregator 1 time.\n",
      "Reduced MIQP has 1 rows, 3 columns, and 3 nonzeros.\n",
      "Reduced MIQP has 0 binaries, 2 generals, 0 SOSs, and 0 indicators.\n",
      "Reduced MIQP objective Q matrix has 2 nonzeros.\n",
      "Presolve time = 0.01 sec. (0.00 ticks)\n",
      "Classifier predicts products in MIQP should be linearized.\n",
      "MIP emphasis: balance optimality and feasibility.\n",
      "MIP search method: dynamic search.\n",
      "Parallel mode: deterministic, using up to 4 threads.\n",
      "Root relaxation solution time = 0.01 sec. (0.02 ticks)\n",
      "\n",
      "        Nodes                                         Cuts/\n",
      "   Node  Left     Objective  IInf  Best Integer    Best Bound    ItCnt     Gap\n",
      "\n",
      "*     0+    0                          700.0000                           0.00%\n",
      "      0     0      887.3333     1      700.0000      887.3333       16   26.76%\n",
      "*     0+    0                          886.0000      887.3333             0.15%\n",
      "*     0+    0                          887.0000      887.3333             0.04%\n",
      "      0     0        cutoff            887.0000      887.3333       16    0.04%\n",
      "Elapsed time = 0.08 sec. (0.04 ticks, tree = 0.01 MB, solutions = 3)\n",
      "\n",
      "Root node processing (before b&c):\n",
      "  Real time             =    0.08 sec. (0.04 ticks)\n",
      "Parallel b&c, 4 threads:\n",
      "  Real time             =    0.00 sec. (0.00 ticks)\n",
      "  Sync time (average)   =    0.00 sec.\n",
      "  Wait time (average)   =    0.00 sec.\n",
      "                          ------------\n",
      "Total (root+branch&cut) =    0.08 sec. (0.04 ticks)\n"
     ]
    }
   ],
   "source": [
    "solution = m.solve(log_output=True)"
   ]
  },
  {
   "cell_type": "code",
   "execution_count": 13,
   "metadata": {},
   "outputs": [
    {
     "name": "stdout",
     "output_type": "stream",
     "text": [
      "solution for: docplex_model5\n",
      "objective: 887\n",
      "status: OPTIMAL_SOLUTION(2)\n",
      "x1=4\n",
      "x2=3\n",
      "extra_time=10.000\n",
      "\n"
     ]
    }
   ],
   "source": [
    "print(solution) ### SOlution is almost right, Good enough in my book. However, the formlualtion is correct, just not integer."
   ]
  }
 ],
 "metadata": {
  "kernelspec": {
   "display_name": "venv",
   "language": "python",
   "name": "python3"
  },
  "language_info": {
   "codemirror_mode": {
    "name": "ipython",
    "version": 3
   },
   "file_extension": ".py",
   "mimetype": "text/x-python",
   "name": "python",
   "nbconvert_exporter": "python",
   "pygments_lexer": "ipython3",
   "version": "3.10.12"
  }
 },
 "nbformat": 4,
 "nbformat_minor": 2
}
