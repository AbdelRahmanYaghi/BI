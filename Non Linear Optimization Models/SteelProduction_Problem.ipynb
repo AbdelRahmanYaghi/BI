{
 "cells": [
  {
   "cell_type": "markdown",
   "metadata": {},
   "source": [
    "Let S represent the amount of steel produced (in tons).\n",
    "Steel production is related to the amount of labor used (L) and the amount of capital\n",
    "used (C) by the following function:\n",
    "\n",
    "$S = 20 L^{0.30}C^{0.70}$\n",
    "\n",
    "In this formula L represents the units of labor input and C the units of capital input.\n",
    "Each unit of labor costs $50, and each unit of capital costs $100.\n",
    "\n",
    "a. Formulate an optimization problem that will determine how much labor and capital\n",
    "are needed to produce 50,000 tons of steel at minimum cost.\n",
    "\n",
    "b. Solve the optimization problem you formulated in part (a). (Hint: When using Excel\n",
    "Solver, start with an initial L . 0 and C . 0.)"
   ]
  },
  {
   "cell_type": "code",
   "execution_count": 11,
   "metadata": {},
   "outputs": [
    {
     "name": "stdout",
     "output_type": "stream",
     "text": [
      " ! --------------------------------------------------- CP Optimizer 22.1.1.0 --\n",
      " ! Minimization problem - 2 variables, 1 constraint\n",
      " ! Initial process time : 0.00s (0.00s extraction + 0.00s propagation)\n",
      " !  . Log search space  : 106.0 (before), 106.0 (after)\n",
      " !  . Memory usage      : 267.0 kB (before), 267.0 kB (after)\n",
      " ! Using parallel search with 4 workers.\n",
      " ! ----------------------------------------------------------------------------\n",
      " !          Best Branches  Non-fixed    W       Branch decision\n",
      "                        0          2                 -\n",
      " + New bound is 0\n"
     ]
    },
    {
     "name": "stdout",
     "output_type": "stream",
     "text": [
      "                        0          2    1   F        -\n",
      " + New bound is 374035\n",
      "                        0          2    1   F        -\n",
      " + New bound is 374036\n",
      " *   1.06032e+13        4  0.04s        1      (gap is 100.00%)\n",
      " *       7148350       18  0.04s        1      (gap is 94.77%)\n",
      " *       5311300       30  0.04s        1      (gap is 92.96%)\n",
      " *       5310750       31  0.04s        1      (gap is 92.96%)\n",
      " *       5295650       33  0.04s        1      (gap is 92.94%)\n",
      " *       4014750       35  0.04s        1      (gap is 90.68%)\n",
      " *       2922550       37  0.04s        1      (gap is 87.20%)\n",
      " *       2840700       39  0.04s        1      (gap is 86.83%)\n",
      " *       2788150       41  0.04s        1      (gap is 86.58%)\n",
      " *       2787850       42  0.04s        1      (gap is 86.58%)\n",
      " *       2785100       44  0.04s        1      (gap is 86.57%)\n",
      " *       2667650       46  0.04s        1      (gap is 85.98%)\n",
      " *       2419300       48  0.04s        1      (gap is 84.54%)\n",
      " *       2220450       50  0.04s        1      (gap is 83.15%)\n",
      " *       2179300       52  0.04s        1      (gap is 82.84%)\n",
      " *       2179050       53  0.04s        1      (gap is 82.83%)\n",
      " *       2175400       55  0.04s        1      (gap is 82.81%)\n",
      " ! Time = 0.04s, Average fail depth = 3, Memory usage = 1.2 MB\n",
      " ! Current bound is 374036 (gap is 82.81%)\n",
      " !          Best Branches  Non-fixed    W       Branch decision\n",
      " *       2051200       57  0.04s        1      (gap is 81.77%)\n",
      " *       1892900       59  0.04s        1      (gap is 80.24%)\n",
      " *       1753000       61  0.04s        1      (gap is 78.66%)\n",
      " *       1742250       63  0.04s        1      (gap is 78.53%)\n",
      " *       1742050       64  0.04s        1      (gap is 78.53%)\n",
      " *       1738950       66  0.04s        1      (gap is 78.49%)\n",
      " *       1050650       68  0.04s        1      (gap is 64.40%)\n",
      " *        862650       70  0.04s        1      (gap is 56.64%)\n",
      " *        823900       72  0.04s        1      (gap is 54.60%)\n",
      " *        822250       74  0.04s        1      (gap is 54.51%)\n",
      " *        822150       75  0.04s        1      (gap is 54.51%)\n",
      " *        821750       77  0.04s        1      (gap is 54.48%)\n",
      " *        738400       79  0.04s        1      (gap is 49.35%)\n",
      " *        573000       81  0.04s        1      (gap is 34.72%)\n",
      " *        429700       83  0.04s        1      (gap is 12.95%)\n",
      " *        429650       84  0.04s        1      (gap is 12.94%)\n",
      " *        429600       85  0.04s        1      (gap is 12.93%)\n",
      " *        429500       87  0.04s        1      (gap is 12.91%)\n",
      " *        417950       89  0.04s        1      (gap is 10.51%)\n",
      " *        416400       91  0.04s        1      (gap is 10.17%)\n",
      " ! Time = 0.04s, Average fail depth = 3, Memory usage = 1.4 MB\n",
      " ! Current bound is 374036 (gap is 10.17%)\n",
      " !          Best Branches  Non-fixed    W       Branch decision\n",
      " *        376900       93  0.04s        1      (gap is 0.76%)\n",
      " *        376850       94  0.04s        1      (gap is 0.75%)\n",
      " *        376800       95  0.04s        1      (gap is 0.73%)\n",
      " *        376750       96  0.04s        1      (gap is 0.72%)\n",
      " *        376500       98  0.04s        1      (gap is 0.65%)\n",
      " *        376300      100  0.04s        1      (gap is 0.60%)\n",
      " *        374250      102  0.04s        1      (gap is 0.06%)\n",
      " *        374200      103  0.04s        1      (gap is 0.04%)\n",
      " *        374150      104  0.04s        1      (gap is 0.03%)\n",
      " *        374100      105  0.04s        1      (gap is 0.02%)\n",
      " *        374050      106  0.04s        1      (gap is 0.00%)\n",
      " ! ----------------------------------------------------------------------------\n",
      " ! Search completed, 48 solutions found.\n",
      " ! Best objective         : 374050 (optimal - effective tol. is 37)\n",
      " ! Best bound             : 374036\n",
      " ! ----------------------------------------------------------------------------\n",
      " ! Number of branches     : 1274\n",
      " ! Number of fails        : 639\n",
      " ! Total memory usage     : 3.1 MB (3.1 MB CP Optimizer + 0.0 MB Concert)\n",
      " ! Time spent in solve    : 0.04s (0.04s engine + 0.00s extraction)\n",
      " ! Search speed (br. / s) : 31850.0\n",
      " ! ----------------------------------------------------------------------------\n"
     ]
    }
   ],
   "source": [
    "from docplex.cp.model import CpoModel as Model\n",
    "\n",
    "m = Model() \n",
    "\n",
    "c0 = 5\n",
    "c1 = 0.25\n",
    "c2 = 0.75\n",
    "\n",
    "L = m.integer_var(name='Labor')\n",
    "C = m.integer_var(name='Capital')\n",
    "\n",
    "m.add_constraint(20*L**0.3*C**0.7 >= 50000)\n",
    "\n",
    "m.minimize(50*L + 100*C)\n",
    "\n",
    "solution = m.solve(log_output=True)"
   ]
  },
  {
   "cell_type": "code",
   "execution_count": 12,
   "metadata": {},
   "outputs": [
    {
     "name": "stdout",
     "output_type": "stream",
     "text": [
      "2245  Labor\n",
      "2618  Capital\n"
     ]
    }
   ],
   "source": [
    "print(solution[L],\" Labor\")\n",
    "print(solution[C],\" Capital\")"
   ]
  },
  {
   "cell_type": "code",
   "execution_count": 13,
   "metadata": {},
   "outputs": [
    {
     "data": {
      "text/plain": [
       "50000.41958803582"
      ]
     },
     "execution_count": 13,
     "metadata": {},
     "output_type": "execute_result"
    }
   ],
   "source": [
    "20*solution[L]**0.3*solution[C]**0.7"
   ]
  },
  {
   "cell_type": "code",
   "execution_count": 9,
   "metadata": {},
   "outputs": [
    {
     "name": "stdout",
     "output_type": "stream",
     "text": [
      "374050\n"
     ]
    }
   ],
   "source": [
    "print(solution.get_objective_value())"
   ]
  }
 ],
 "metadata": {
  "kernelspec": {
   "display_name": "venv",
   "language": "python",
   "name": "python3"
  },
  "language_info": {
   "codemirror_mode": {
    "name": "ipython",
    "version": 3
   },
   "file_extension": ".py",
   "mimetype": "text/x-python",
   "name": "python",
   "nbconvert_exporter": "python",
   "pygments_lexer": "ipython3",
   "version": "3.10.12"
  }
 },
 "nbformat": 4,
 "nbformat_minor": 2
}
