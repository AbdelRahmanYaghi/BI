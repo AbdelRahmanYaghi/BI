{
 "cells": [
  {
   "attachments": {},
   "cell_type": "markdown",
   "metadata": {},
   "source": [
    "<h5>Advertising Budget Allocation.</h5>\n",
    "<p>    The Sea Wharf Restaurant would like to determine the best way to allocate a\n",
    "     monthly advertising budget of $1,000 between newspaper advertising and radio\n",
    "     advertising. Management decided that at least 25% of the budget must be spent\n",
    "     on each type of media and that the amount of money spent on local newspaper\n",
    "     advertising must be at least twice the amount spent on radio advertising. A\n",
    "     marketing consultant developed an index that measures audience exposure per dollar\n",
    "     of advertising on a scale from 0 to 100, with higher values implying greater audience\n",
    "     exposure. If the value of the index for local newspaper advertising is 50 and the value\n",
    "     of the index for spot radio advertising is 80, how should the restaurant allocate its\n",
    "     advertising budget to maximize the value of total audience exposure? </p>"
   ]
  },
  {
   "attachments": {},
   "cell_type": "markdown",
   "metadata": {},
   "source": [
    "<H4>Sets and Indicies</H4>\n",
    "\n",
    "$\\mathcal{A}$: Ad types <br>\n",
    "$a, a \\in \\mathcal{A}$: An index in set $\\mathcal{A}$ <br>\n",
    "\n",
    "<H4>Data</H4>\n",
    "\n",
    "$b$: Budget <br>\n",
    "$e_a, a \\in \\mathcal{A}$: Exposure for each Ad type <br>\n",
    "\n",
    "<h4> Decision Variables </h4>\n",
    "\n",
    "$x_a, a \\in \\mathcal{A}$: Budget per Ad type <br>\n",
    "\n",
    "<h4>Linear Function</h4>\n",
    "\n",
    "\\begin{align*}\n",
    "\\ {\\mathrm{maximize }} & \\; e^T x \\\\\n",
    "\\text{subject to:} \\\\\n",
    "& 1_nx^T \\leq b, n = ||x||\\\\ \n",
    "& x_i \\geq 0.25b, \\forall i \\in \\mathcal{A}\\\\   \n",
    "& 2x_{newspaper} \\geq x_{radio}\n",
    "\\end{align*}\n"
   ]
  },
  {
   "cell_type": "code",
   "execution_count": null,
   "metadata": {},
   "outputs": [],
   "source": []
  }
 ],
 "metadata": {
  "kernelspec": {
   "display_name": "venv",
   "language": "python",
   "name": "python3"
  },
  "language_info": {
   "codemirror_mode": {
    "name": "ipython",
    "version": 3
   },
   "file_extension": ".py",
   "mimetype": "text/x-python",
   "name": "python",
   "nbconvert_exporter": "python",
   "pygments_lexer": "ipython3",
   "version": "3.10.10"
  },
  "orig_nbformat": 4,
  "vscode": {
   "interpreter": {
    "hash": "9682219fa65ec76ab0a712f3cc506ba5eb9451d445ad0b772c7739d17e7a6e46"
   }
  }
 },
 "nbformat": 4,
 "nbformat_minor": 2
}
