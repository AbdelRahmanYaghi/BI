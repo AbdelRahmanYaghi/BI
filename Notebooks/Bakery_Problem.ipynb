{
 "cells": [
  {
   "cell_type": "markdown",
   "metadata": {},
   "source": [
    "<h1>Bakery Problem</h1>\n",
    "\n",
    "\n",
    "<table>\n",
    "  <thead>\n",
    "    <tr>\n",
    "      <th> </th>\n",
    "      <th>Flour</th>\n",
    "      <th>Egg</th>\n",
    "      <th>Sugar</th>\n",
    "    </tr>\n",
    "  </thead>\n",
    "  <tbody>\n",
    "    <tr>\n",
    "      <td>We Have</td>\n",
    "      <td>50</td>\n",
    "      <td>30</td>\n",
    "      <td>20</td>\n",
    "    </tr>\n",
    "    <tr>\n",
    "      <td>Bagels Cost</td>\n",
    "      <td>5</td>\n",
    "      <td>2</td>\n",
    "      <td>1</td>\n",
    "    </tr>\n",
    "    <tr>\n",
    "      <td>Muffins Cost</td>\n",
    "      <td>4</td>\n",
    "      <td>4</td>\n",
    "      <td>2</td>\n",
    "    </tr>\n",
    "  </tbody>\n",
    "</table>\n",
    "<br>\n",
    "<table>\n",
    "  <thead>\n",
    "    <tr>\n",
    "      <th>Product</th>\n",
    "      <th>Revenue</th>\n",
    "    </tr>\n",
    "  </thead>\n",
    "  <tbody>\n",
    "    <tr>\n",
    "      <td>Bagels</td>\n",
    "      <td>10</td>\n",
    "    </tr>\n",
    "    <tr>\n",
    "      <td>Muffins</td>\n",
    "      <td>12</td>\n",
    "    </tr>\n",
    "  </tbody>\n",
    "</table>"
   ]
  },
  {
   "cell_type": "code",
   "execution_count": 218,
   "metadata": {},
   "outputs": [],
   "source": [
    "from docplex.mp.model import Model\n",
    "import numpy as np\n",
    "\n",
    "costs = np.array([[5, 2, 1], [4, 4, 2]])\n",
    "\n",
    "ItemToSell = np.array(['Bagels', 'Muffins'])\n",
    "\n",
    "revenue = [10, 12]\n",
    "\n",
    "Have = [50, 30, 20]\n",
    "\n",
    "m = Model(name = 'Bakery_problem')"
   ]
  },
  {
   "cell_type": "code",
   "execution_count": 219,
   "metadata": {},
   "outputs": [],
   "source": [
    "dv = np.array(m.continuous_var_list(ItemToSell, lb=0, ub=None, name = \"Pounds of %s\"))"
   ]
  },
  {
   "cell_type": "code",
   "execution_count": 220,
   "metadata": {},
   "outputs": [
    {
     "data": {
      "text/plain": [
       "[docplex.mp.LinearConstraint[](5Pounds of Bagels+4Pounds of Muffins,LE,50),\n",
       " docplex.mp.LinearConstraint[](2Pounds of Bagels+4Pounds of Muffins,LE,30),\n",
       " docplex.mp.LinearConstraint[](Pounds of Bagels+2Pounds of Muffins,LE,20)]"
      ]
     },
     "execution_count": 220,
     "metadata": {},
     "output_type": "execute_result"
    }
   ],
   "source": [
    "lhs = dv @ costs\n",
    "\n",
    "m.add_constraints([lhs[i] <= Have[i] for i in range(3)])"
   ]
  },
  {
   "cell_type": "code",
   "execution_count": 221,
   "metadata": {},
   "outputs": [],
   "source": [
    "exp = dv @ revenue\n",
    "\n",
    "m.maximize(exp)"
   ]
  },
  {
   "cell_type": "code",
   "execution_count": 222,
   "metadata": {},
   "outputs": [
    {
     "data": {
      "text/plain": [
       "'lp_Files\\\\Bakery_Problem.lp'"
      ]
     },
     "execution_count": 222,
     "metadata": {},
     "output_type": "execute_result"
    }
   ],
   "source": [
    "m.export_as_lp(\"lp_Files\\Bakery_Problem.lp\")"
   ]
  },
  {
   "cell_type": "code",
   "execution_count": 223,
   "metadata": {},
   "outputs": [
    {
     "name": "stdout",
     "output_type": "stream",
     "text": [
      "Version identifier: 22.1.1.0 | 2023-06-15 | d64d5bd77\n",
      "CPXPARAM_Read_DataCheck                          1\n",
      "Tried aggregator 1 time.\n",
      "LP Presolve eliminated 1 rows and 0 columns.\n",
      "Reduced LP has 2 rows, 2 columns, and 4 nonzeros.\n",
      "Presolve time = 0.02 sec. (0.00 ticks)\n",
      "\n",
      "Iteration log . . .\n",
      "Iteration:     1   Dual infeasibility =             0.000000\n",
      "Iteration:     2   Dual objective     =           116.666667\n"
     ]
    },
    {
     "data": {
      "text/plain": [
       "docplex.mp.solution.SolveSolution(obj=116.667,values={Pounds of Bagels:6.."
      ]
     },
     "execution_count": 223,
     "metadata": {},
     "output_type": "execute_result"
    }
   ],
   "source": [
    "m.solve(log_output = True)"
   ]
  },
  {
   "cell_type": "code",
   "execution_count": 224,
   "metadata": {},
   "outputs": [
    {
     "name": "stdout",
     "output_type": "stream",
     "text": [
      "JobSolveStatus.OPTIMAL_SOLUTION\n",
      "\n",
      "objective: 116.667\n",
      "status: OPTIMAL_SOLUTION(2)\n",
      "  \"Pounds of Bagels\"=6.667\n",
      "  \"Pounds of Muffins\"=4.167\n"
     ]
    }
   ],
   "source": [
    "print(m.solve_status)\n",
    "print()\n",
    "m.print_solution()"
   ]
  }
 ],
 "metadata": {
  "kernelspec": {
   "display_name": "venv",
   "language": "python",
   "name": "python3"
  },
  "language_info": {
   "codemirror_mode": {
    "name": "ipython",
    "version": 3
   },
   "file_extension": ".py",
   "mimetype": "text/x-python",
   "name": "python",
   "nbconvert_exporter": "python",
   "pygments_lexer": "ipython3",
   "version": "3.11.3"
  }
 },
 "nbformat": 4,
 "nbformat_minor": 2
}
