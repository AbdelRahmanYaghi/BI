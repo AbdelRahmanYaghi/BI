{
 "cells": [
  {
   "attachments": {},
   "cell_type": "markdown",
   "metadata": {},
   "source": [
    "M&D Chemicals produces two products that are sold as raw materials to companies that\n",
    "manufacture bath soaps and laundry detergents. Based on an analysis of current inventory\n",
    "levels and potential demand for the coming month, M&D’s management specified that\n",
    "the combined production for products A and B must total at least 350 gallons. Separately,\n",
    "a major customer’s order for 125 gallons of product A must also be satisfied. Product A\n",
    "requires 2 hours of processing time per gallon, and product B requires 1 hour of processing\n",
    "time per gallon. For the coming month, 600 hours of processing time are available. M&D’s\n",
    "objective is to satisfy these requirements at a minimum total production cost. Production\n",
    "costs are $2 per gallon for product A and $3 per gallon for product B.\n",
    "___"
   ]
  },
  {
   "attachments": {},
   "cell_type": "markdown",
   "metadata": {},
   "source": [
    "<table>\n",
    "    <tr>\n",
    "        <th> </th>\n",
    "        <th>Product A</th>\n",
    "        <th>product B</th>\n",
    "    </tr>\n",
    "    <tr>\n",
    "        <td>Time Cost</td>\n",
    "        <td>2</td>\n",
    "        <td>1</td>\n",
    "    </tr>\n",
    "    <tr>\n",
    "        <td>Money Cost</td>\n",
    "        <td>2</td>\n",
    "        <td>3</td>\n",
    "    </tr>\n",
    "</table>\n",
    "\n",
    "We have: 600 hours <br>\n",
    "We want: Minimize Money Cost <br>\n",
    "Given That:\n",
    "* A + B atleast 350\n",
    "* A Atleast 125\n",
    "___"
   ]
  },
  {
   "attachments": {},
   "cell_type": "markdown",
   "metadata": {},
   "source": [
    "<h4> Sets and Indicies </h4>\n",
    "\n",
    "$\\mathcal{P}$: Products\n",
    "\n",
    "<h4> Indicies </h4>\n",
    "\n",
    "$p$: an index of the set $\\mathcal{P}$\n",
    "\n",
    "<h4> Data </h4>\n",
    "\n",
    "$t_p, p \\in P$: Time Cost per product. <br>\n",
    "$m_p, p \\in P$: Money Cost per product. <br>\n",
    "$x$ : The least number of products $\\mathcal{P}$ to create. <br>\n",
    "$y$ : The least number of product $\\mathcal{P}_1$ to create. <br>\n",
    "\n",
    "<h4> Decision Variables </h4>\n",
    "\n",
    "$g_p, p \\in P$: Gallons to create\n",
    "\n",
    "<h4> Linear Function </h4>\n",
    "\n",
    "\n",
    "\\begin{align*}\n",
    "\\ {\\mathrm{minimize }} \\; {m^Tg} \\\\\n",
    "\\text{subject to:} \\\\\n",
    "\\ {\\sum{g_i} \\geq x, {\\forall i \\in \\mathcal{I}}}, \\\\\n",
    "\\ g_1 \\geq y \\\\\n",
    "\\end{align*}\n",
    "\n"
   ]
  }
 ],
 "metadata": {
  "kernelspec": {
   "display_name": "venv",
   "language": "python",
   "name": "python3"
  },
  "language_info": {
   "name": "python",
   "version": "3.10.10"
  },
  "orig_nbformat": 4,
  "vscode": {
   "interpreter": {
    "hash": "9682219fa65ec76ab0a712f3cc506ba5eb9451d445ad0b772c7739d17e7a6e46"
   }
  }
 },
 "nbformat": 4,
 "nbformat_minor": 2
}
