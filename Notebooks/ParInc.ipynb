{
 "cells": [
  {
   "attachments": {},
   "cell_type": "markdown",
   "metadata": {},
   "source": [
    "<table>\n",
    "  <thead>\n",
    "    <tr>\n",
    "      <th>Department</th>\n",
    "      <th>Standard</th>\n",
    "      <th>Deluxe</th>\n",
    "    </tr>\n",
    "  </thead>\n",
    "  <tbody>\n",
    "    <tr>\n",
    "      <td>Cutting and Dyeing</td>\n",
    "      <td>7/10</td>\n",
    "      <td>1</td>\n",
    "    </tr>\n",
    "    <tr>\n",
    "      <td>Sewing</td>\n",
    "      <td>1/2</td>\n",
    "      <td>5/6</td>\n",
    "    </tr>\n",
    "    <tr>\n",
    "      <td>Finishing</td>\n",
    "      <td>1</td>\n",
    "      <td>2/3</td>\n",
    "    </tr>\n",
    "    <tr>\n",
    "      <td>Packaging</td>\n",
    "      <td>1/10</td>\n",
    "      <td>1/4</td>\n",
    "    </tr>\n",
    "  </tbody>\n",
    "</table>\n",
    "<br>\n",
    "\n",
    "<table>\n",
    "  <thead>\n",
    "    <tr>\n",
    "      <th>Department</th>\n",
    "      <th>Number of Hours</th>\n",
    "    </tr>\n",
    "  </thead>\n",
    "  <tbody>\n",
    "    <tr>\n",
    "      <td>Cutting and Dyeing</td>\n",
    "      <td>630</td>\n",
    "    </tr>\n",
    "    <tr>\n",
    "      <td>Sewing</td>\n",
    "      <td>600</td>\n",
    "    </tr>\n",
    "    <tr>\n",
    "      <td>Finishing</td>\n",
    "      <td>708</td>\n",
    "    </tr>\n",
    "    <tr>\n",
    "      <td>Inspection</td>\n",
    "      <td>135</td>\n",
    "    </tr>\n",
    "  </tbody>\n",
    "</table>\n"
   ]
  },
  {
   "attachments": {},
   "cell_type": "markdown",
   "metadata": {},
   "source": [
    "<h4>Sets & Matricies:</h4>\n",
    "\n",
    "$\\mathcal{D}$: The departments. <br>\n",
    "$\\mathcal{B}$: Types of bags. <br>\n",
    "\n",
    "<h4>Indicies</h4>\n",
    "\n",
    "$\\mathcal{d}$: An index in the set $\\mathcal{D}$ <br>\n",
    "$\\mathcal{b}$: An index in the set $\\mathcal{B}$ <br>\n",
    "\n",
    "<h4>Data</h4>\n",
    "\n",
    "$a_d, d \\in \\mathcal{D} $: Hours available for each department. <br>\n",
    "$n_{db}, d \\in \\mathcal{D}, b \\in \\mathcal{B}$: Hours needed for each type of bag in each department. <br>\n",
    "$r_b, b \\in \\mathcal{B}$: Revenue for each type of bag. <br>\n",
    "\n",
    "<h4>Decision Variables</h4>\n",
    "\n",
    "$t_b, b \\in \\mathcal{B}$: Number of bags to create. <br>\n",
    "\n",
    "<h4>Linear Program</h4>\n",
    "\n",
    "\\begin{align*}\n",
    "\\ {\\mathrm{maximize }} \\; {t^Tr} \\\\\n",
    "\\text{subject to:} \\\\\n",
    "\\ {nt} \\leq a \\\\\n",
    "\\ t_b \\geq 0 ,\\; \\forall b \\in \\mathcal{B}\n",
    "\\end{align*}"
   ]
  },
  {
   "cell_type": "code",
   "execution_count": 1,
   "metadata": {},
   "outputs": [],
   "source": [
    "from docplex.mp.model import Model\n",
    "import numpy as np\n",
    "\n",
    "m = Model (name = 'ParInc')"
   ]
  },
  {
   "cell_type": "code",
   "execution_count": 3,
   "metadata": {},
   "outputs": [],
   "source": [
    "B = np.array(['Standard', 'Deluxe'])\n",
    "a = np.array([630, 600, 708, 135])\n",
    "n = np.array([[7/10, 1  ],\n",
    "              [1/2,  5/6],\n",
    "              [1,    2/3],\n",
    "              [1/10, 1/4]])\n",
    "r = np.array([10, 12])"
   ]
  },
  {
   "cell_type": "code",
   "execution_count": 4,
   "metadata": {},
   "outputs": [],
   "source": [
    "t = np.array(m.continuous_var_list(B, lb = 0, ub = None))"
   ]
  },
  {
   "cell_type": "code",
   "execution_count": 5,
   "metadata": {},
   "outputs": [
    {
     "data": {
      "text/plain": [
       "[docplex.mp.LinearConstraint[](0.700Standard+Deluxe,LE,630),\n",
       " docplex.mp.LinearConstraint[](0.500Standard+0.833Deluxe,LE,600),\n",
       " docplex.mp.LinearConstraint[](Standard+0.667Deluxe,LE,708),\n",
       " docplex.mp.LinearConstraint[](0.100Standard+0.250Deluxe,LE,135)]"
      ]
     },
     "execution_count": 5,
     "metadata": {},
     "output_type": "execute_result"
    }
   ],
   "source": [
    "m.add_constraints([(nt_item <= a_item) for nt_item, a_item in zip(n@t, a)])"
   ]
  },
  {
   "cell_type": "code",
   "execution_count": 6,
   "metadata": {},
   "outputs": [],
   "source": [
    "m.maximize(t.T @ r)"
   ]
  },
  {
   "cell_type": "code",
   "execution_count": 7,
   "metadata": {},
   "outputs": [
    {
     "name": "stdout",
     "output_type": "stream",
     "text": [
      "Version identifier: 22.1.1.0 | 2023-06-15 | d64d5bd77\n",
      "CPXPARAM_Read_DataCheck                          1\n",
      "Tried aggregator 1 time.\n",
      "No LP presolve or aggregator reductions.\n",
      "Presolve time = 0.00 sec. (0.00 ticks)\n",
      "\n",
      "Iteration log . . .\n",
      "Iteration:     1   Dual infeasibility =             0.000000\n",
      "Iteration:     2   Dual objective     =          8424.000000\n"
     ]
    },
    {
     "data": {
      "text/plain": [
       "docplex.mp.solution.SolveSolution(obj=8424,values={Standard:540,Deluxe:2.."
      ]
     },
     "execution_count": 7,
     "metadata": {},
     "output_type": "execute_result"
    }
   ],
   "source": [
    "m.solve(log_output = True)"
   ]
  },
  {
   "cell_type": "code",
   "execution_count": 8,
   "metadata": {},
   "outputs": [
    {
     "name": "stdout",
     "output_type": "stream",
     "text": [
      "JobSolveStatus.OPTIMAL_SOLUTION\n",
      "\n",
      "objective: 8424.000\n",
      "status: OPTIMAL_SOLUTION(2)\n",
      "  Standard=540.000\n",
      "  Deluxe=252.000\n"
     ]
    }
   ],
   "source": [
    "print(m.solve_status)\n",
    "print()\n",
    "m.print_solution()"
   ]
  }
 ],
 "metadata": {
  "kernelspec": {
   "display_name": "venv",
   "language": "python",
   "name": "python3"
  },
  "language_info": {
   "codemirror_mode": {
    "name": "ipython",
    "version": 3
   },
   "file_extension": ".py",
   "mimetype": "text/x-python",
   "name": "python",
   "nbconvert_exporter": "python",
   "pygments_lexer": "ipython3",
   "version": "3.11.3"
  },
  "vscode": {
   "interpreter": {
    "hash": "9682219fa65ec76ab0a712f3cc506ba5eb9451d445ad0b772c7739d17e7a6e46"
   }
  }
 },
 "nbformat": 4,
 "nbformat_minor": 2
}
