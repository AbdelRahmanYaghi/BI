{
 "cells": [
  {
   "cell_type": "markdown",
   "metadata": {},
   "source": [
    "The Seneca Children’s Fund (SCF) is a local charity\n",
    "that runs a summer camp for disadvantaged children. The fund’s board of directors\n",
    "has been working very hard over recent years to decrease the amount of overhead\n",
    "expenses, a major factor in how charities are rated by independent agencies. The\n",
    "following data show the percentage of the money SCF has raised that was spent on\n",
    "administrative and fund-raising expenses over the past seven years:\n",
    "\n",
    "a. Construct a time series plot. What type of pattern exists in the data?\n",
    "\n",
    "b. Use simple linear regression analysis to find the parameters for the line that mini-\n",
    "mizes MSE for this time series.\n",
    "\n",
    "c. Forecast the percentage of administrative expenses for year 8.\n",
    "\n",
    "d. If SCF can maintain its current trend in reducing administrative expenses, how long\n",
    "will it take for SCF to achieve a level of 5% or less?"
   ]
  },
  {
   "cell_type": "code",
   "execution_count": 42,
   "metadata": {},
   "outputs": [
    {
     "data": {
      "text/plain": [
       "[<matplotlib.lines.Line2D at 0x78d4f0375660>]"
      ]
     },
     "execution_count": 42,
     "metadata": {},
     "output_type": "execute_result"
    },
    {
     "data": {
      "image/png": "[encoded data removed]",
      "text/plain": [
       "<Figure size 640x480 with 1 Axes>"
      ]
     },
     "metadata": {},
     "output_type": "display_data"
    }
   ],
   "source": [
    "period = [1,2,3,4,5,6,7]\n",
    "data = [13.9,12.2,10.5,10.4,11.5,10.0,8.5]\n",
    "\n",
    "import matplotlib.pyplot as plt\n",
    "\n",
    "plt.ylim(bottom = 0, top = max(data)*1.5)\n",
    "plt.plot(data)"
   ]
  },
  {
   "cell_type": "code",
   "execution_count": 43,
   "metadata": {},
   "outputs": [
    {
     "data": {
      "text/plain": [
       "'Expenses.lp'"
      ]
     },
     "execution_count": 43,
     "metadata": {},
     "output_type": "execute_result"
    }
   ],
   "source": [
    "from docplex.mp.model import Model\n",
    "\n",
    "m = Model()\n",
    "\n",
    "b_0 = m.continuous_var(name = 'Intercept', lb = -10e9) # THE LOWER BOUND IS IMPORTANT\n",
    "b_1 = m.continuous_var(name = 'Slope', lb = -10e9)\n",
    "\n",
    "mse = []\n",
    "for i in range(len(period)):\n",
    "    mse.append((b_0 + b_1 * period[i] - data[i])**2)\n",
    "\n",
    "m.minimize(sum(mse))\n",
    "m.export_as_lp('Expenses.lp')"
   ]
  },
  {
   "cell_type": "code",
   "execution_count": 44,
   "metadata": {},
   "outputs": [
    {
     "name": "stdout",
     "output_type": "stream",
     "text": [
      "Version identifier: 22.1.1.0 | 2023-02-11 | 22d6266e5\n",
      "CPXPARAM_Read_DataCheck                          1\n",
      "Number of nonzeros in lower triangle of Q = 1\n",
      "Using Approximate Minimum Degree ordering\n",
      "Total time for automatic ordering = 0.00 sec. (0.00 ticks)\n",
      "Summary statistics for factor of Q:\n",
      "  Rows in Factor            = 2\n",
      "  Integer space required    = 2\n",
      "  Total non-zeros in factor = 3\n",
      "  Total FP ops to factor    = 5\n",
      "Tried aggregator 1 time.\n",
      "QP Presolve added 0 rows and 2 columns.\n",
      "Reduced QP has 2 rows, 4 columns, and 5 nonzeros.\n",
      "Reduced QP objective Q matrix has 2 nonzeros.\n",
      "Presolve time = 0.01 sec. (0.00 ticks)\n",
      "Parallel mode: using up to 4 threads for barrier.\n",
      "Number of nonzeros in lower triangle of A*A' = 1\n",
      "Using Approximate Minimum Degree ordering\n",
      "Total time for automatic ordering = 0.00 sec. (0.00 ticks)\n",
      "Summary statistics for Cholesky factor:\n",
      "  Threads                   = 4\n",
      "  Rows in Factor            = 2\n",
      "  Integer space required    = 2\n",
      "  Total non-zeros in factor = 3\n",
      "  Total FP ops to factor    = 5\n",
      " Itn      Primal Obj        Dual Obj  Prim Inf Upper Inf  Dual Inf          \n",
      "   0   3.9308415e+21  -3.9308415e+21  2.86e-06  0.00e+00  1.43e+12\n",
      "   1   2.0545615e+05  -1.7195938e+13  1.42e-06  0.00e+00  9.78e-05\n",
      "   2   9.3767044e+00  -8.5979689e+10  9.06e-07  0.00e+00  4.89e-07\n",
      "   3   4.2403102e+00  -4.2989844e+08  9.16e-07  0.00e+00  2.44e-09\n",
      "   4   4.2398816e+00  -2.1494880e+06  3.48e-07  0.00e+00  1.24e-11\n",
      "   5   4.2397377e+00  -1.0743221e+04  7.16e-07  0.00e+00  1.33e-13\n",
      "   6   4.2397278e+00  -4.9497305e+01  9.17e-07  0.00e+00  1.89e-14\n",
      "   7   4.2397278e+00   4.2400000e+00  9.18e-07  0.00e+00  1.24e-24\n",
      "Barrier time = 0.04 sec. (0.01 ticks)\n",
      "\n",
      "Total time on 4 threads = 0.04 sec. (0.01 ticks)\n"
     ]
    }
   ],
   "source": [
    "pp = m.solve(log_output = True)"
   ]
  },
  {
   "cell_type": "code",
   "execution_count": 45,
   "metadata": {},
   "outputs": [
    {
     "name": "stdout",
     "output_type": "stream",
     "text": [
      "solution for: docplex_model11\n",
      "objective: 4.24\n",
      "status: OPTIMAL_SOLUTION(2)\n",
      "Intercept=13.800\n",
      "Slope=-0.700\n",
      "\n"
     ]
    }
   ],
   "source": [
    "print(pp)"
   ]
  },
  {
   "cell_type": "code",
   "execution_count": 46,
   "metadata": {},
   "outputs": [
    {
     "name": "stdout",
     "output_type": "stream",
     "text": [
      "objective: 4.240\n",
      "status: OPTIMAL_SOLUTION(2)\n",
      "  Intercept=13.800\n",
      "  Slope=-0.700\n"
     ]
    }
   ],
   "source": [
    "m.print_solution()"
   ]
  }
 ],
 "metadata": {
  "kernelspec": {
   "display_name": "venv",
   "language": "python",
   "name": "python3"
  },
  "language_info": {
   "codemirror_mode": {
    "name": "ipython",
    "version": 3
   },
   "file_extension": ".py",
   "mimetype": "text/x-python",
   "name": "python",
   "nbconvert_exporter": "python",
   "pygments_lexer": "ipython3",
   "version": "3.10.12"
  }
 },
 "nbformat": 4,
 "nbformat_minor": 2
}
