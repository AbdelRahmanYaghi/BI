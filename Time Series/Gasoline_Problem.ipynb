{
 "cells": [
  {
   "cell_type": "markdown",
   "metadata": {},
   "source": [
    "#### Moving Average"
   ]
  },
  {
   "cell_type": "markdown",
   "metadata": {},
   "source": [
    "Refer to the gasoline sales time\n",
    "series data in Table 8.1.\n",
    "\n",
    "a. Compute four-week and five-week moving averages for the time series. <br>\n",
    "b. Compute the MSE for the four-week and five-week moving average forecasts. <br>\n",
    "c. What appears to be the best number of weeks of past data (three, four, or five) to use\n",
    "in the moving average computation? Recall that the MSE for the three-week moving\n",
    "average is 10.22."
   ]
  },
  {
   "cell_type": "code",
   "execution_count": 5,
   "metadata": {},
   "outputs": [],
   "source": [
    "week= [1, 2, 3, 4, 5, 6, 7, 8, 9, 10, 11, 12]\n",
    "sales= [17, 21, 19, 23, 18, 16, 20, 18, 22, 20, 15, 22]"
   ]
  },
  {
   "cell_type": "code",
   "execution_count": 67,
   "metadata": {},
   "outputs": [],
   "source": [
    "def calc_moving_avg(data, k):\n",
    "    moving_avg = []\n",
    "    for i in range(len(data)):\n",
    "        if i+k > len(data):\n",
    "            break\n",
    "        # print(data[i:i+k])\n",
    "        moving_avg.append(sum(data[i:i+k])/k)\n",
    "        # print(chunk)    \n",
    "    return moving_avg\n",
    "\n",
    "three_week_avg = calc_moving_avg(sales, 3)[:-1]\n",
    "four_week_avg = calc_moving_avg(sales, 4)[:-1]\n",
    "five_week_avg = calc_moving_avg(sales, 5)[:-1]\n",
    "six_week_avg = calc_moving_avg(sales, 6)[:-1]"
   ]
  },
  {
   "cell_type": "code",
   "execution_count": 69,
   "metadata": {},
   "outputs": [
    {
     "name": "stdout",
     "output_type": "stream",
     "text": [
      "10.222222222222221\n",
      "9.6484375\n",
      "7.405714285714287\n",
      "6.791666666666667\n"
     ]
    }
   ],
   "source": [
    "three_mse = sum([(i-u)**2 for i, u in zip(sales[3:], three_week_avg)])/ len(three_week_avg)\n",
    "four_mse = sum([(i-u)**2 for i, u in zip(sales[4:], four_week_avg)])/ len(four_week_avg)\n",
    "five_mse = sum([(i-u)**2 for i, u in zip(sales[5:], five_week_avg)])/ len(five_week_avg)\n",
    "six_mse = sum([(i-u)**2 for i, u in zip(sales[6:], six_week_avg)])/ len(six_week_avg)\n",
    "\n",
    "print(three_mse)\n",
    "print(four_mse)\n",
    "print(five_mse)\n",
    "print(six_mse)"
   ]
  },
  {
   "cell_type": "markdown",
   "metadata": {},
   "source": [
    "#### Exponential Smoothing"
   ]
  },
  {
   "cell_type": "code",
   "execution_count": 70,
   "metadata": {},
   "outputs": [],
   "source": [
    "week= [1, 2, 3, 4, 5, 6, 7, 8, 9, 10, 11, 12]\n",
    "sales= [17, 21, 19, 23, 18, 16, 20, 18, 22, 20, 15, 22]"
   ]
  },
  {
   "cell_type": "markdown",
   "metadata": {},
   "source": [
    "$S_t = (a-1) S_{t-1} + f(a, S_{t-1})$ <br>\n",
    "$S_{t-1} = (a-1) S_{t-2} + f(a, S_{t-2})$ <br>\n",
    "$S_{t-2} = (a-1) S_{t-3} + f(a, S_{t-3})$ <br>\n"
   ]
  },
  {
   "cell_type": "code",
   "execution_count": 109,
   "metadata": {},
   "outputs": [
    {
     "data": {
      "text/plain": [
       "[17,\n",
       " 19.8,\n",
       " 19.240000000000002,\n",
       " 21.872,\n",
       " 19.1616,\n",
       " 16.94848,\n",
       " 19.084544,\n",
       " 18.3253632,\n",
       " 20.89760896,\n",
       " 20.269282688,\n",
       " 16.5807848064,\n",
       " 20.37423544192]"
      ]
     },
     "execution_count": 109,
     "metadata": {},
     "output_type": "execute_result"
    }
   ],
   "source": [
    "# calc_something = lambda x, a: x*a + \n",
    "\n",
    "\n",
    "def calc_exponential_smoothing(data, alpha):\n",
    "    preds = [data[0]]\n",
    "    length = len(data)\n",
    "    for period in range(1, length):\n",
    "        preds.append(((1-alpha)*preds[period-1]) + alpha * data[period])\n",
    "\n",
    "    return preds\n",
    "calc_exponential_smoothing(sales, 0.7) \n",
    "    "
   ]
  }
 ],
 "metadata": {
  "kernelspec": {
   "display_name": "venv",
   "language": "python",
   "name": "python3"
  },
  "language_info": {
   "codemirror_mode": {
    "name": "ipython",
    "version": 3
   },
   "file_extension": ".py",
   "mimetype": "text/x-python",
   "name": "python",
   "nbconvert_exporter": "python",
   "pygments_lexer": "ipython3",
   "version": "3.10.12"
  }
 },
 "nbformat": 4,
 "nbformat_minor": 2
}
