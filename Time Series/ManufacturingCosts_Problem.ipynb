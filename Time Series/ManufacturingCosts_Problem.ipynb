{
 "cells": [
  {
   "cell_type": "markdown",
   "metadata": {},
   "source": [
    "The president of a small manufacturing firm is concerned\n",
    "about the continual increase in manufacturing costs over the past several years. The fol-\n",
    "lowing figures provide a time series of the cost per unit for the firm’s leading product\n",
    "over the past eight years:\n",
    "\n",
    "a. Construct a time series plot. What type of pattern exists in the data?\n",
    "\n",
    "b. Use simple linear regression analysis to find the parameters for the line that mini-\n",
    "mizes MSE for this time series.\n",
    "\n",
    "c. What is the average cost increase that the firm has been realizing per year?\n",
    "\n",
    "d. Compute an estimate of the cost/unit for the next year."
   ]
  },
  {
   "cell_type": "code",
   "execution_count": 8,
   "metadata": {},
   "outputs": [
    {
     "data": {
      "text/plain": [
       "[<matplotlib.lines.Line2D at 0x780a459cbc10>]"
      ]
     },
     "execution_count": 8,
     "metadata": {},
     "output_type": "execute_result"
    },
    {
     "data": {
      "image/png": "[encoded data removed]",
      "text/plain": [
       "<Figure size 640x480 with 1 Axes>"
      ]
     },
     "metadata": {},
     "output_type": "display_data"
    }
   ],
   "source": [
    "year = [1,2,3,4,5,6,7,8]\n",
    "data = [20.00,24.50,28.20,27.50,26.60,30.00,31.00,36.00]\n",
    "\n",
    "import matplotlib.pyplot as plt\n",
    "plt.ylim(bottom = 0, top = max(data)*1.5)\n",
    "plt.plot(data)"
   ]
  },
  {
   "cell_type": "code",
   "execution_count": 9,
   "metadata": {},
   "outputs": [],
   "source": [
    "from docplex.mp.model import Model\n",
    "\n",
    "m = Model()\n",
    "\n",
    "b_0 = m.continuous_var(name = 'Intercept')\n",
    "b_1 = m.continuous_var(name = 'Slope')\n",
    "\n",
    "mse = []\n",
    "for i in range(len(year)):\n",
    "    mse.append((b_0 + b_1 * year[i] - data[i])**2)\n",
    "\n",
    "m.minimize(sum(mse))"
   ]
  },
  {
   "cell_type": "code",
   "execution_count": 10,
   "metadata": {},
   "outputs": [
    {
     "name": "stdout",
     "output_type": "stream",
     "text": [
      "Version identifier: 22.1.1.0 | 2023-02-11 | 22d6266e5\n",
      "CPXPARAM_Read_DataCheck                          1\n",
      "Number of nonzeros in lower triangle of Q = 1\n",
      "Using Approximate Minimum Degree ordering\n",
      "Total time for automatic ordering = 0.01 sec. (0.00 ticks)\n",
      "Summary statistics for factor of Q:\n",
      "  Rows in Factor            = 2\n",
      "  Integer space required    = 2\n",
      "  Total non-zeros in factor = 3\n",
      "  Total FP ops to factor    = 5\n",
      "Tried aggregator 1 time.\n",
      "QP Presolve added 0 rows and 2 columns.\n",
      "Reduced QP has 2 rows, 4 columns, and 5 nonzeros.\n",
      "Reduced QP objective Q matrix has 2 nonzeros.\n",
      "Presolve time = 0.05 sec. (0.00 ticks)\n",
      "Parallel mode: using up to 4 threads for barrier.\n",
      "Number of nonzeros in lower triangle of A*A' = 1\n",
      "Using Approximate Minimum Degree ordering\n",
      "Total time for automatic ordering = 0.00 sec. (0.00 ticks)\n",
      "Summary statistics for Cholesky factor:\n",
      "  Threads                   = 4\n",
      "  Rows in Factor            = 2\n",
      "  Integer space required    = 2\n",
      "  Total non-zeros in factor = 3\n",
      "  Total FP ops to factor    = 5\n",
      " Itn      Primal Obj        Dual Obj  Prim Inf Upper Inf  Dual Inf          \n",
      "   0   3.8055000e+03   6.4163000e+03  2.39e+00  0.00e+00  6.08e+03\n",
      "   1   2.1409229e+03   5.6826884e+03  7.75e-01  0.00e+00  1.97e+03\n",
      "   2   4.7175047e+02   1.7525819e+03  1.35e-01  0.00e+00  3.42e+02\n",
      "   3   9.9267661e+01  -5.9577420e+02  3.93e-02  0.00e+00  9.99e+01\n",
      "   4   3.7922865e+01  -5.8277290e+02  0.00e+00  0.00e+00  1.29e-12\n",
      "   5   2.3408803e+01   1.4755809e+01  3.55e-15  0.00e+00  3.20e-14\n",
      "   6   2.3346193e+01   2.3296668e+01  3.46e-14  0.00e+00  4.66e-14\n",
      "   7   2.3346191e+01   2.3321430e+01  1.87e-14  0.00e+00  4.50e-14\n",
      "   8   2.3346191e+01   2.3333810e+01  5.33e-15  0.00e+00  8.36e-14\n",
      "   9   2.3346190e+01   2.3340001e+01  4.44e-15  0.00e+00  8.64e-14\n",
      "  10   2.3346190e+01   2.3343095e+01  8.88e-16  0.00e+00  3.42e-13\n",
      "  11   2.3346190e+01   2.3344643e+01  7.99e-15  0.00e+00  1.73e-13\n",
      "  12   2.3346190e+01   2.3345417e+01  3.55e-15  0.00e+00  1.72e-14\n",
      "  13   2.3346190e+01   2.3345804e+01  3.55e-15  0.00e+00  6.01e-14\n",
      "  14   2.3346190e+01   2.3345997e+01  0.00e+00  0.00e+00  7.00e-14\n",
      "  15   2.3346190e+01   2.3346094e+01  0.00e+00  0.00e+00  2.79e-13\n"
     ]
    },
    {
     "name": "stdout",
     "output_type": "stream",
     "text": [
      "  16   2.3346190e+01   2.3346142e+01  1.78e-15  0.00e+00  2.22e-13\n",
      "Barrier time = 0.11 sec. (0.02 ticks)\n",
      "\n",
      "Total time on 4 threads = 0.11 sec. (0.02 ticks)\n"
     ]
    }
   ],
   "source": [
    "solution = m.solve(log_output = True)"
   ]
  },
  {
   "cell_type": "code",
   "execution_count": 11,
   "metadata": {},
   "outputs": [
    {
     "name": "stdout",
     "output_type": "stream",
     "text": [
      "solution for: docplex_model2\n",
      "objective: 23.3462\n",
      "status: OPTIMAL_SOLUTION(2)\n",
      "Intercept=19.993\n",
      "Slope=1.774\n",
      "\n"
     ]
    }
   ],
   "source": [
    "print(solution)"
   ]
  }
 ],
 "metadata": {
  "kernelspec": {
   "display_name": "venv",
   "language": "python",
   "name": "python3"
  },
  "language_info": {
   "codemirror_mode": {
    "name": "ipython",
    "version": 3
   },
   "file_extension": ".py",
   "mimetype": "text/x-python",
   "name": "python",
   "nbconvert_exporter": "python",
   "pygments_lexer": "ipython3",
   "version": "3.10.12"
  }
 },
 "nbformat": 4,
 "nbformat_minor": 2
}
