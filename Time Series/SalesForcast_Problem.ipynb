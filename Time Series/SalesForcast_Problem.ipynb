{
 "cells": [
  {
   "cell_type": "markdown",
   "metadata": {},
   "source": [
    "The following time series shows the sales of a particular product over\n",
    "the past 12 months.\n",
    "\n",
    "a. Construct a time series plot. What type of pattern exists in the data?\n",
    "\n",
    "b. Use a 5 0.3 to compute the exponential smoothing values for the time series.\n",
    "\n",
    "c. Use trial and error to find a value of the exponential smoothing coefficient a that\n",
    "results in a relatively small MSE."
   ]
  },
  {
   "cell_type": "code",
   "execution_count": null,
   "metadata": {},
   "outputs": [],
   "source": [
    "data = [105, 135,120,105,90,120,145,140,100,80,100,110]"
   ]
  }
 ],
 "metadata": {
  "language_info": {
   "name": "python"
  }
 },
 "nbformat": 4,
 "nbformat_minor": 2
}
