{
 "cells": [
  {
   "cell_type": "markdown",
   "metadata": {},
   "source": [
    "a. Construct a time series plot. What type of pattern exists in the data? Is there an indi-\n",
    "cation of a seasonal pattern?\n",
    "\n",
    "b. Use a multiple linear regression model with dummy variables as follows to develop\n",
    "an equation to account for seasonal effects in the data: Qtr1 5 1 if quarter 1, 0 other-\n",
    "wise; Qtr2 5 1 if quarter 2, 0 otherwise; Qtr3 5 1 if quarter 3, 0 otherwise.\n",
    "\n",
    "c. Compute the quarterly forecasts for the next year."
   ]
  },
  {
   "cell_type": "code",
   "execution_count": 13,
   "metadata": {},
   "outputs": [
    {
     "data": {
      "text/plain": [
       "[<matplotlib.lines.Line2D at 0x76409e4601f0>]"
      ]
     },
     "execution_count": 13,
     "metadata": {},
     "output_type": "execute_result"
    },
    {
     "data": {
      "image/png": "[encoded data removed]",
      "text/plain": [
       "<Figure size 640x480 with 1 Axes>"
      ]
     },
     "metadata": {},
     "output_type": "display_data"
    }
   ],
   "source": [
    "year = [1, 2, 3]\n",
    "quarter = [1, 2, 3, 4] \n",
    "data = [[71, 68, 62],\n",
    "        [49, 41, 51],\n",
    "        [58, 60, 53],\n",
    "        [78, 81, 72],]\n",
    "\n",
    "flatten_data = lambda x: [data[i][idx] for idx in range(len(data[0])) for i in range(len(data))  ]\n",
    "\n",
    "data_flat = flatten_data(data)\n",
    "\n",
    "import matplotlib.pyplot as plt\n",
    "plt.ylim(bottom = 0,top = max(data_flat)*1.1)\n",
    "plt.plot(data_flat)"
   ]
  },
  {
   "cell_type": "code",
   "execution_count": 116,
   "metadata": {},
   "outputs": [],
   "source": [
    "import numpy as np\n",
    "\n",
    "def create_dummies(data, quarter):\n",
    "    data = np.array(data).T.flatten()\n",
    "    dummies = np.zeros((len(data), len(quarter)))\n",
    "\n",
    "    for i in range(len(dummies)):\n",
    "        dummies[i][i%(len(quarter))] = 1\n",
    "\n",
    "    dummies = dummies[:, :-1]\n",
    "        \n",
    "    return dummies\n",
    "\n",
    "\n",
    "data_dummied = create_dummies(data, quarter)"
   ]
  },
  {
   "cell_type": "code",
   "execution_count": 130,
   "metadata": {},
   "outputs": [],
   "source": [
    "from docplex.mp.model import Model\n",
    "\n",
    "m = Model()\n",
    "\n",
    "b_0 = m.continuous_var(name = 'Intercept', lb = -10e6)\n",
    "b_x = m.continuous_var_list(range(len(quarter) - 1), name = 'Slope', lb = -10e6)\n",
    "\n",
    "mse = []\n",
    "for i in range(len(data_dummied)):\n",
    "    mse.append((b_0 + b_x @ data_dummied[i] - data_flat[i])**2)\n",
    "\n",
    "m.minimize(sum(mse))\n"
   ]
  },
  {
   "cell_type": "code",
   "execution_count": 131,
   "metadata": {},
   "outputs": [
    {
     "name": "stdout",
     "output_type": "stream",
     "text": [
      "Version identifier: 22.1.1.0 | 2023-02-11 | 22d6266e5\n",
      "CPXPARAM_Read_DataCheck                          1\n",
      "Number of nonzeros in lower triangle of Q = 3\n",
      "Using Approximate Minimum Degree ordering\n",
      "Total time for automatic ordering = 0.00 sec. (0.00 ticks)\n",
      "Summary statistics for factor of Q:\n",
      "  Rows in Factor            = 4\n",
      "  Integer space required    = 4\n",
      "  Total non-zeros in factor = 10\n",
      "  Total FP ops to factor    = 30\n",
      "Tried aggregator 1 time.\n",
      "QP Presolve added 0 rows and 4 columns.\n",
      "Reduced QP has 4 rows, 8 columns, and 11 nonzeros.\n",
      "Reduced QP objective Q matrix has 4 nonzeros.\n",
      "Presolve time = 0.03 sec. (0.00 ticks)\n",
      "Parallel mode: using up to 4 threads for barrier.\n",
      "Number of nonzeros in lower triangle of A*A' = 4\n",
      "Using Approximate Minimum Degree ordering\n",
      "Total time for automatic ordering = 0.00 sec. (0.00 ticks)\n",
      "Summary statistics for Cholesky factor:\n",
      "  Threads                   = 4\n",
      "  Rows in Factor            = 4\n",
      "  Integer space required    = 4\n",
      "  Total non-zeros in factor = 10\n",
      "  Total FP ops to factor    = 30\n",
      " Itn      Primal Obj        Dual Obj  Prim Inf Upper Inf  Dual Inf          \n",
      "   0   2.0918266e+13  -2.0962679e+13  1.51e-08  0.00e+00  1.15e+07\n",
      "   1   2.3719024e+04  -5.1739053e+09  1.64e-08  0.00e+00  4.43e-10\n",
      "   2   1.6658884e+02  -2.5869245e+07  8.92e-08  0.00e+00  2.49e-12\n",
      "   3   1.6600003e+02  -1.2918105e+05  7.37e-08  0.00e+00  4.32e-13\n",
      "   4   1.6600000e+02  -4.8073526e+02  6.94e-08  0.00e+00  3.80e-13\n",
      "   5   1.6600002e+02   1.6276632e+02  1.21e-07  0.00e+00  1.31e-13\n",
      "   6   1.6599999e+02   1.6519158e+02  5.37e-08  0.00e+00  6.59e-14\n",
      "   7   1.6600001e+02   1.6599596e+02  4.04e-08  0.00e+00  2.58e-13\n",
      "   8   1.6600000e+02   1.6599899e+02  1.33e-08  0.00e+00  3.26e-13\n",
      "   9   1.6600000e+02   1.6599975e+02  1.33e-08  0.00e+00  1.71e-13\n",
      "Barrier time = 0.07 sec. (0.02 ticks)\n",
      "\n",
      "Total time on 4 threads = 0.07 sec. (0.02 ticks)\n"
     ]
    }
   ],
   "source": [
    "solution = m.solve(log_output = True)"
   ]
  },
  {
   "cell_type": "code",
   "execution_count": 132,
   "metadata": {},
   "outputs": [
    {
     "name": "stdout",
     "output_type": "stream",
     "text": [
      "solution for: docplex_model28\n",
      "objective: 166\n",
      "status: OPTIMAL_SOLUTION(2)\n",
      "Intercept=77.000\n",
      "Slope_0=-10.000\n",
      "Slope_1=-30.000\n",
      "Slope_2=-20.000\n",
      "\n"
     ]
    }
   ],
   "source": [
    "print(solution)"
   ]
  }
 ],
 "metadata": {
  "kernelspec": {
   "display_name": "venv",
   "language": "python",
   "name": "python3"
  },
  "language_info": {
   "codemirror_mode": {
    "name": "ipython",
    "version": 3
   },
   "file_extension": ".py",
   "mimetype": "text/x-python",
   "name": "python",
   "nbconvert_exporter": "python",
   "pygments_lexer": "ipython3",
   "version": "3.10.12"
  }
 },
 "nbformat": 4,
 "nbformat_minor": 2
}
