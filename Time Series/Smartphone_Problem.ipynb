{
 "cells": [
  {
   "cell_type": "code",
   "execution_count": 1,
   "metadata": {},
   "outputs": [],
   "source": [
    "Year = [1,2,3,4]\n",
    "Quarter = [1, 2, 3, 4]\n",
    "period = range(1, 17)\n",
    "data = [4.8,4.1,6.0,6.5,5.8,5.2,6.8,7.4,6.0,5.6,7.5,7.8,6.3,5.9,8.0,8.4]"
   ]
  },
  {
   "cell_type": "code",
   "execution_count": 3,
   "metadata": {},
   "outputs": [
    {
     "data": {
      "text/plain": [
       "[<matplotlib.lines.Line2D at 0x79f7f15ca410>]"
      ]
     },
     "execution_count": 3,
     "metadata": {},
     "output_type": "execute_result"
    },
    {
     "data": {
      "image/png": "[encoded data removed]",
      "text/plain": [
       "<Figure size 640x480 with 1 Axes>"
      ]
     },
     "metadata": {},
     "output_type": "display_data"
    }
   ],
   "source": [
    "import matplotlib.pyplot as plt\n",
    "plt.ylim(bottom = 0, top = max(data)*1.4)\n",
    "plt.plot(data)"
   ]
  },
  {
   "cell_type": "code",
   "execution_count": 8,
   "metadata": {},
   "outputs": [],
   "source": [
    "import numpy as np\n",
    "def create_dummies(data, quarters):\n",
    "    dummies = np.zeros((len(data), len(quarters)))\n",
    "    \n",
    "    for i in range(len(dummies)):\n",
    "        dummies[i][i%len(quarters)] = 1\n",
    "\n",
    "    return dummies[:,:-1]\n",
    "\n",
    "dummies = create_dummies(data, Quarter)"
   ]
  },
  {
   "cell_type": "code",
   "execution_count": 24,
   "metadata": {},
   "outputs": [],
   "source": [
    "from docplex.mp.model import Model\n",
    "\n",
    "m = Model()\n",
    "b_0 = m.continuous_var(name = 'Intercept', lb = -10e6)\n",
    "b_1 = m.continuous_var(name = 'Trend', lb = -10e6)\n",
    "b_x = m.continuous_var_list(len(Quarter)-1, lb = -10e6, name = 'Slope')\n",
    "\n",
    "mse = []\n",
    "for i in range(len(data)):\n",
    "    mse.append((b_0 + b_1 * Year[i%len(Year)] + b_x @ dummies[i] - data[i])**2)\n",
    "\n",
    "m.minimize(sum(mse))"
   ]
  },
  {
   "cell_type": "code",
   "execution_count": 25,
   "metadata": {},
   "outputs": [
    {
     "name": "stdout",
     "output_type": "stream",
     "text": [
      "Version identifier: 22.1.1.0 | 2023-02-11 | 22d6266e5\n",
      "CPXPARAM_Read_DataCheck                          1\n",
      "Number of nonzeros in lower triangle of Q = 7\n",
      "Using Approximate Minimum Degree ordering\n",
      "Total time for automatic ordering = 0.00 sec. (0.00 ticks)\n",
      "Summary statistics for factor of Q:\n",
      "  Rows in Factor            = 5\n",
      "  Integer space required    = 5\n",
      "  Total non-zeros in factor = 15\n",
      "  Total FP ops to factor    = 55\n",
      "Tried aggregator 1 time.\n",
      "QP Presolve eliminated 1 rows and 1 columns.\n",
      "QP Presolve added 0 rows and 5 columns.\n",
      "Reduced QP has 4 rows, 9 columns, and 16 nonzeros.\n",
      "Reduced QP objective Q matrix has 4 nonzeros.\n",
      "Presolve time = 0.02 sec. (0.00 ticks)\n",
      "Parallel mode: using up to 4 threads for barrier.\n",
      "Number of nonzeros in lower triangle of A*A' = 5\n",
      "Using Approximate Minimum Degree ordering\n",
      "Total time for automatic ordering = 0.00 sec. (0.00 ticks)\n",
      "Summary statistics for Cholesky factor:\n",
      "  Threads                   = 4\n",
      "  Rows in Factor            = 4\n",
      "  Integer space required    = 4\n",
      "  Total non-zeros in factor = 10\n",
      "  Total FP ops to factor    = 30\n",
      " Itn      Primal Obj        Dual Obj  Prim Inf Upper Inf  Dual Inf          \n",
      "   0   3.2103893e+15  -3.2104192e+15  2.71e+06  0.00e+00  1.41e+09\n",
      "   1   5.0913834e+13  -5.0976514e+13  3.41e+05  0.00e+00  1.77e+08\n",
      "   2   1.3292638e+09  -1.8127584e+09  1.74e+03  0.00e+00  9.06e+05\n",
      "   3   3.2901991e+04  -2.4504107e+06  8.72e+00  0.00e+00  4.53e+03\n",
      "   4   6.4394786e+00  -1.2079451e+04  4.36e-02  0.00e+00  2.27e+01\n",
      "   5   7.2940343e+00  -5.3127135e+01  2.18e-04  0.00e+00  1.13e-01\n",
      "   6   7.3024547e+00   7.0003519e+00  1.13e-06  0.00e+00  5.66e-04\n",
      "   7   7.3025155e+00   7.2651676e+00  1.42e-07  0.00e+00  1.05e-05\n",
      "   8   7.3025017e+00   7.2911072e+00  2.01e-08  0.00e+00  1.76e-06\n",
      "   9   7.3024982e+00   7.3002799e+00  8.38e-08  0.00e+00  7.64e-14\n",
      "  10   7.3024980e+00   7.3020560e+00  1.40e-08  0.00e+00  1.59e-13\n",
      "  11   7.3025000e+00   7.3024112e+00  3.27e-09  0.00e+00  1.70e-13\n",
      "  12   7.3025000e+00   7.3024822e+00  9.59e-09  0.00e+00  1.14e-13\n",
      "  13   7.3024989e+00   7.3024964e+00  1.12e-08  0.00e+00  1.59e-13\n",
      "Barrier time = 0.06 sec. (0.03 ticks)\n",
      "\n",
      "Total time on 4 threads = 0.06 sec. (0.03 ticks)\n"
     ]
    }
   ],
   "source": [
    "solution = m.solve(log_output = True)"
   ]
  },
  {
   "cell_type": "code",
   "execution_count": 26,
   "metadata": {},
   "outputs": [
    {
     "name": "stdout",
     "output_type": "stream",
     "text": [
      "solution for: docplex_model10\n",
      "objective: 7.30251\n",
      "status: OPTIMAL_SOLUTION(2)\n",
      "Intercept=-168630.578\n",
      "Trend=42159.526\n",
      "Slope_0=126476.777\n",
      "Slope_1=84316.727\n",
      "Slope_2=42159.076\n",
      "\n"
     ]
    }
   ],
   "source": [
    "print(solution) # The numbers seem way to dumb. But I will trust it."
   ]
  }
 ],
 "metadata": {
  "kernelspec": {
   "display_name": "venv",
   "language": "python",
   "name": "python3"
  },
  "language_info": {
   "codemirror_mode": {
    "name": "ipython",
    "version": 3
   },
   "file_extension": ".py",
   "mimetype": "text/x-python",
   "name": "python",
   "nbconvert_exporter": "python",
   "pygments_lexer": "ipython3",
   "version": "3.10.12"
  }
 },
 "nbformat": 4,
 "nbformat_minor": 2
}
