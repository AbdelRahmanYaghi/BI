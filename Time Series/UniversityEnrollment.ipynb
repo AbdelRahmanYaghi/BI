{
 "cells": [
  {
   "cell_type": "markdown",
   "metadata": {},
   "source": [
    "Because of high tuition costs at state and private universities,\n",
    "enrollments at community colleges have increased dramatically in recent years. The\n",
    "following data show the enrollment for Jefferson Community College for the nine most\n",
    "recent years:\n",
    "\n",
    "a. Construct a time series plot. What type of pattern exists in the data?\n",
    "\n",
    "b. Use simple linear regression analysis to find the parameters for the line that mini-\n",
    "mizes MSE for this time series.\n",
    "\n",
    "c. What is the forecast for year 10?"
   ]
  },
  {
   "cell_type": "code",
   "execution_count": 19,
   "metadata": {},
   "outputs": [
    {
     "data": {
      "text/plain": [
       "[<matplotlib.lines.Line2D at 0x79e5bc4c58d0>]"
      ]
     },
     "execution_count": 19,
     "metadata": {},
     "output_type": "execute_result"
    },
    {
     "data": {
      "image/png": "[encoded data removed]",
      "text/plain": [
       "<Figure size 640x480 with 1 Axes>"
      ]
     },
     "metadata": {},
     "output_type": "display_data"
    }
   ],
   "source": [
    "year = [2001,2002,2003,2004,2005,2006,2007,2008,2009 ]\n",
    "period = [1,2,3,4,5,6,7,8,9]\n",
    "data = [6.5,8.1,8.4,10.2,12.5,13.3,13.7,17.2,18.1]\n",
    "\n",
    "import matplotlib.pyplot as plt\n",
    "\n",
    "plt.ylim(bottom = 0, top = max(data)*1.5)\n",
    "plt.plot(data)"
   ]
  },
  {
   "cell_type": "markdown",
   "metadata": {},
   "source": [
    "$eq = B_0 + B_1 * Period$"
   ]
  },
  {
   "cell_type": "code",
   "execution_count": 20,
   "metadata": {},
   "outputs": [],
   "source": [
    "from docplex.mp.model import Model\n",
    "\n",
    "m = Model()\n",
    "\n",
    "b_0 = m.continuous_var(name = 'Intercept')\n",
    "b_1 = m.continuous_var(name = 'Slope')\n",
    "\n",
    "# for i in period:\n",
    "#     m.add_constraint(b_0 + b_1 * i == data[i-1])\n",
    "    \n",
    "\n",
    "mse = []\n",
    "for i in period:\n",
    "    mse.append(((b_0 + b_1 * i) - data[i-1])**2)\n",
    "\n",
    "m.minimize(sum(mse))"
   ]
  },
  {
   "cell_type": "code",
   "execution_count": 21,
   "metadata": {},
   "outputs": [
    {
     "name": "stdout",
     "output_type": "stream",
     "text": [
      "Version identifier: 22.1.1.0 | 2023-02-11 | 22d6266e5\n",
      "CPXPARAM_Read_DataCheck                          1\n",
      "Number of nonzeros in lower triangle of Q = 1\n",
      "Using Approximate Minimum Degree ordering\n",
      "Total time for automatic ordering = 0.00 sec. (0.00 ticks)\n",
      "Summary statistics for factor of Q:\n",
      "  Rows in Factor            = 2\n",
      "  Integer space required    = 2\n",
      "  Total non-zeros in factor = 3\n",
      "  Total FP ops to factor    = 5\n",
      "Tried aggregator 1 time.\n",
      "QP Presolve added 0 rows and 2 columns.\n",
      "Reduced QP has 2 rows, 4 columns, and 5 nonzeros.\n",
      "Reduced QP objective Q matrix has 2 nonzeros.\n",
      "Presolve time = 0.01 sec. (0.00 ticks)\n",
      "Parallel mode: using up to 4 threads for barrier.\n",
      "Number of nonzeros in lower triangle of A*A' = 1\n",
      "Using Approximate Minimum Degree ordering\n",
      "Total time for automatic ordering = 0.00 sec. (0.00 ticks)\n",
      "Summary statistics for Cholesky factor:\n",
      "  Threads                   = 4\n",
      "  Rows in Factor            = 2\n",
      "  Integer space required    = 2\n",
      "  Total non-zeros in factor = 3\n",
      "  Total FP ops to factor    = 5\n",
      " Itn      Primal Obj        Dual Obj  Prim Inf Upper Inf  Dual Inf          \n",
      "   0  -4.4060000e+01   1.4267400e+03  2.70e+00  0.00e+00  3.73e+03\n",
      "   1  -6.7695967e+01   7.8113354e+02  4.35e-01  0.00e+00  6.00e+02\n",
      "   2   2.7976023e+00   1.2661955e+02  4.35e-02  0.00e+00  6.00e+01\n",
      "   3   4.3568739e+00  -1.0789225e+01  2.66e-15  0.00e+00  6.77e-14\n",
      "   4   3.4279666e+00   3.0598962e+00  8.88e-16  0.00e+00  3.18e-14\n",
      "   5   3.4273485e+00   3.2436204e+00  4.44e-16  0.00e+00  1.32e-13\n",
      "   6   3.4273372e+00   3.3354960e+00  1.33e-15  0.00e+00  4.55e-14\n",
      "   7   3.4273343e+00   3.3814195e+00  8.88e-16  0.00e+00  1.99e-14\n",
      "   8   3.4273336e+00   3.4043776e+00  1.33e-15  0.00e+00  6.34e-14\n",
      "   9   3.4273334e+00   3.4158558e+00  4.44e-16  0.00e+00  1.01e-13\n",
      "  10   3.4273333e+00   3.4215946e+00  1.78e-15  0.00e+00  1.07e-13\n",
      "  11   3.4273333e+00   3.4244640e+00  0.00e+00  0.00e+00  1.04e-13\n",
      "  12   3.4273333e+00   3.4258987e+00  1.33e-15  0.00e+00  2.38e-13\n",
      "  13   3.4273333e+00   3.4266160e+00  0.00e+00  0.00e+00  1.03e-13\n",
      "  14   3.4273333e+00   3.4269747e+00  4.44e-16  0.00e+00  1.31e-13\n",
      "  15   3.4273333e+00   3.4271540e+00  1.78e-15  0.00e+00  1.81e-13\n",
      "  16   3.4273333e+00   3.4272437e+00  4.44e-16  0.00e+00  1.09e-13\n",
      "  17   3.4273333e+00   3.4272885e+00  1.78e-15  0.00e+00  1.65e-13\n",
      "  18   3.4273333e+00   3.4273109e+00  0.00e+00  0.00e+00  1.03e-13\n",
      "  19   3.4273333e+00   3.4273221e+00  0.00e+00  0.00e+00  3.26e-14\n",
      "Barrier time = 0.06 sec. (0.02 ticks)\n",
      "\n",
      "Total time on 4 threads = 0.06 sec. (0.02 ticks)\n"
     ]
    },
    {
     "data": {
      "text/plain": [
       "docplex.mp.solution.SolveSolution(obj=3.42733,values={Intercept:4.71667,.."
      ]
     },
     "execution_count": 21,
     "metadata": {},
     "output_type": "execute_result"
    }
   ],
   "source": [
    "m.solve(log_output = True)"
   ]
  },
  {
   "cell_type": "code",
   "execution_count": 22,
   "metadata": {},
   "outputs": [
    {
     "name": "stdout",
     "output_type": "stream",
     "text": [
      "objective: 3.427\n",
      "status: OPTIMAL_SOLUTION(2)\n",
      "  Intercept=4.717\n",
      "  Slope=1.457\n"
     ]
    }
   ],
   "source": [
    "m.print_solution()"
   ]
  }
 ],
 "metadata": {
  "kernelspec": {
   "display_name": "venv",
   "language": "python",
   "name": "python3"
  },
  "language_info": {
   "codemirror_mode": {
    "name": "ipython",
    "version": 3
   },
   "file_extension": ".py",
   "mimetype": "text/x-python",
   "name": "python",
   "nbconvert_exporter": "python",
   "pygments_lexer": "ipython3",
   "version": "3.10.12"
  }
 },
 "nbformat": 4,
 "nbformat_minor": 2
}
